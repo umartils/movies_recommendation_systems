{
  "cells": [
    {
      "cell_type": "markdown",
      "metadata": {
        "id": "FLyV7sVkHz96"
      },
      "source": [
        "# Import Library"
      ]
    },
    {
      "cell_type": "code",
      "execution_count": 1,
      "metadata": {
        "colab": {
          "base_uri": "https://localhost:8080/"
        },
        "id": "-ZdBZDpxAHM-",
        "outputId": "fadda76c-c23f-4c69-a9ef-80771e55dcce"
      },
      "outputs": [],
      "source": [
        "import pandas as pd\n",
        "import numpy as np\n",
        "# from google.colab import drive\n",
        "# drive.mount(\"/content/drive/\")\n",
        "\n",
        "import matplotlib.pyplot as plt\n",
        "import seaborn as sns\n",
        "palette = sns.color_palette(\"Set2\")\n",
        "import warnings\n",
        "warnings.filterwarnings('ignore')\n",
        "\n",
        "from sklearn.feature_extraction.text import TfidfVectorizer\n",
        "from sklearn.metrics.pairwise import cosine_similarity\n",
        "\n",
        "import tensorflow as tf\n",
        "from tensorflow import keras\n",
        "from tensorflow.keras import layers"
      ]
    },
    {
      "cell_type": "markdown",
      "metadata": {
        "id": "wp3fByL-H3F0"
      },
      "source": [
        "# Data Loading"
      ]
    },
    {
      "cell_type": "code",
      "execution_count": 3,
      "metadata": {
        "id": "LnMOQX7SDltD"
      },
      "outputs": [],
      "source": [
        "# movies = pd.read_csv(\"/content/drive/MyDrive/movies-dataset/movies.csv\")\n",
        "# ratings = pd.read_csv(\"/content/drive/MyDrive/movies-dataset/ratings.csv\")"
      ]
    },
    {
      "cell_type": "code",
      "execution_count": 16,
      "metadata": {},
      "outputs": [],
      "source": [
        "movies = pd.read_csv(\"../ml-latest/movies.csv\")\n",
        "ratings = pd.read_csv(\"../ml-latest/ratings.csv\")"
      ]
    },
    {
      "cell_type": "markdown",
      "metadata": {
        "id": "wd8GPA-cH928"
      },
      "source": [
        "# EDA"
      ]
    },
    {
      "cell_type": "markdown",
      "metadata": {
        "id": "OLBj7zbezdOE"
      },
      "source": [
        "## Menganalisis Rincian Dataset"
      ]
    },
    {
      "cell_type": "markdown",
      "metadata": {
        "id": "M_rqbYYuITUx"
      },
      "source": [
        "Melihat rincian dari dataset movies"
      ]
    },
    {
      "cell_type": "code",
      "execution_count": 3,
      "metadata": {
        "colab": {
          "base_uri": "https://localhost:8080/"
        },
        "id": "JpZpVEaPISB4",
        "outputId": "25c6606c-b1c9-46c0-a7b8-a0668032b0f7"
      },
      "outputs": [
        {
          "name": "stdout",
          "output_type": "stream",
          "text": [
            "<class 'pandas.core.frame.DataFrame'>\n",
            "RangeIndex: 86537 entries, 0 to 86536\n",
            "Data columns (total 3 columns):\n",
            " #   Column   Non-Null Count  Dtype \n",
            "---  ------   --------------  ----- \n",
            " 0   movieId  86537 non-null  int64 \n",
            " 1   title    86537 non-null  object\n",
            " 2   genres   86537 non-null  object\n",
            "dtypes: int64(1), object(2)\n",
            "memory usage: 2.0+ MB\n"
          ]
        }
      ],
      "source": [
        "movies.info()"
      ]
    },
    {
      "cell_type": "markdown",
      "metadata": {
        "id": "cZF78dlrxs6r"
      },
      "source": [
        "**Insight**\n",
        "- Terdapat 3 kolom pada dataset yang terdiri dari:\n",
        "  - `movieId` : identitas dari film yang memiliki tipe data int64 (numerikal)\n",
        "  - `title` : judul dari film yang memiliki tipe data object (kategorikal)\n",
        "  - `genres` : genre dari film yang memiliki tipe data object (kategorikal)\n",
        "- Semua kolom pada data memiliki jumlah baris yang sama yaitu **86537** baris data."
      ]
    },
    {
      "cell_type": "markdown",
      "metadata": {
        "id": "7Wpej1mqIdWw"
      },
      "source": [
        "Melihat rincian dari dataset movies"
      ]
    },
    {
      "cell_type": "code",
      "execution_count": 4,
      "metadata": {
        "colab": {
          "base_uri": "https://localhost:8080/"
        },
        "id": "OXmatvUxIgHZ",
        "outputId": "a71a333f-b706-4097-8a42-ecb77263325d"
      },
      "outputs": [
        {
          "name": "stdout",
          "output_type": "stream",
          "text": [
            "<class 'pandas.core.frame.DataFrame'>\n",
            "RangeIndex: 33832162 entries, 0 to 33832161\n",
            "Data columns (total 4 columns):\n",
            " #   Column     Dtype  \n",
            "---  ------     -----  \n",
            " 0   userId     int64  \n",
            " 1   movieId    int64  \n",
            " 2   rating     float64\n",
            " 3   timestamp  int64  \n",
            "dtypes: float64(1), int64(3)\n",
            "memory usage: 1.0 GB\n"
          ]
        }
      ],
      "source": [
        "ratings.info()"
      ]
    },
    {
      "cell_type": "markdown",
      "metadata": {
        "id": "xflLbCbwyTZm"
      },
      "source": [
        "**Insight**\n",
        "- Terdapat 4 kolom pada dataset yang terdiri dari:\n",
        "  - `userId` : identitas dari pengguna yang memiliki tipe data int64 (numerikal)\n",
        "  - `movieId` : identitas dari film yang memiliki tipe data int64 (numerikal)\n",
        "  - `rating` : rating atau penilaian pengguna terhadap film yang memiliki tipe data float64 (numerikal)\n",
        "  - `timestamp` : waktu pengguna memberi rating pada film yang memiliki tipe data int64 (numerikal)\n",
        "- Semua kolom pada data memiliki jumlah baris yang sama yaitu **33832162** baris data."
      ]
    },
    {
      "cell_type": "markdown",
      "metadata": {
        "id": "hVLLKn1I3DgO"
      },
      "source": [
        "## Melihat Ringkasan Data"
      ]
    },
    {
      "cell_type": "markdown",
      "metadata": {
        "id": "i4yLLObM3Q-w"
      },
      "source": [
        "Melihat dataset movies"
      ]
    },
    {
      "cell_type": "code",
      "execution_count": 5,
      "metadata": {
        "colab": {
          "base_uri": "https://localhost:8080/",
          "height": 206
        },
        "id": "rqcoG2uxELGD",
        "outputId": "8db1fde8-9c72-4754-be8e-f33e6c9bd6ee"
      },
      "outputs": [
        {
          "data": {
            "text/html": [
              "<div>\n",
              "<style scoped>\n",
              "    .dataframe tbody tr th:only-of-type {\n",
              "        vertical-align: middle;\n",
              "    }\n",
              "\n",
              "    .dataframe tbody tr th {\n",
              "        vertical-align: top;\n",
              "    }\n",
              "\n",
              "    .dataframe thead th {\n",
              "        text-align: right;\n",
              "    }\n",
              "</style>\n",
              "<table border=\"1\" class=\"dataframe\">\n",
              "  <thead>\n",
              "    <tr style=\"text-align: right;\">\n",
              "      <th></th>\n",
              "      <th>movieId</th>\n",
              "      <th>title</th>\n",
              "      <th>genres</th>\n",
              "    </tr>\n",
              "  </thead>\n",
              "  <tbody>\n",
              "    <tr>\n",
              "      <th>0</th>\n",
              "      <td>1</td>\n",
              "      <td>Toy Story (1995)</td>\n",
              "      <td>Adventure|Animation|Children|Comedy|Fantasy</td>\n",
              "    </tr>\n",
              "    <tr>\n",
              "      <th>1</th>\n",
              "      <td>2</td>\n",
              "      <td>Jumanji (1995)</td>\n",
              "      <td>Adventure|Children|Fantasy</td>\n",
              "    </tr>\n",
              "    <tr>\n",
              "      <th>2</th>\n",
              "      <td>3</td>\n",
              "      <td>Grumpier Old Men (1995)</td>\n",
              "      <td>Comedy|Romance</td>\n",
              "    </tr>\n",
              "    <tr>\n",
              "      <th>3</th>\n",
              "      <td>4</td>\n",
              "      <td>Waiting to Exhale (1995)</td>\n",
              "      <td>Comedy|Drama|Romance</td>\n",
              "    </tr>\n",
              "    <tr>\n",
              "      <th>4</th>\n",
              "      <td>5</td>\n",
              "      <td>Father of the Bride Part II (1995)</td>\n",
              "      <td>Comedy</td>\n",
              "    </tr>\n",
              "  </tbody>\n",
              "</table>\n",
              "</div>"
            ],
            "text/plain": [
              "   movieId                               title  \\\n",
              "0        1                    Toy Story (1995)   \n",
              "1        2                      Jumanji (1995)   \n",
              "2        3             Grumpier Old Men (1995)   \n",
              "3        4            Waiting to Exhale (1995)   \n",
              "4        5  Father of the Bride Part II (1995)   \n",
              "\n",
              "                                        genres  \n",
              "0  Adventure|Animation|Children|Comedy|Fantasy  \n",
              "1                   Adventure|Children|Fantasy  \n",
              "2                               Comedy|Romance  \n",
              "3                         Comedy|Drama|Romance  \n",
              "4                                       Comedy  "
            ]
          },
          "execution_count": 5,
          "metadata": {},
          "output_type": "execute_result"
        }
      ],
      "source": [
        "movies.head()"
      ]
    },
    {
      "cell_type": "markdown",
      "metadata": {
        "id": "N6glMN0m3WOA"
      },
      "source": [
        "**Insight**\n",
        "- Kolom movie id berisi data numerik increment berurutan dari angka 1\n",
        "- Kolom title berisi judul dari film beserta tahun rilisnya\n",
        "- Kolom genres berisi beberapa genre yang dipisahkan oleh karakter '|' dari film tersebut.\n",
        "- Data pada kolom genres perlu dibersihkan untuk mengambil genre utamanya saja"
      ]
    },
    {
      "cell_type": "markdown",
      "metadata": {
        "id": "WGJ_eu5G3LnL"
      },
      "source": [
        "Melihat dataset ratings"
      ]
    },
    {
      "cell_type": "code",
      "execution_count": 6,
      "metadata": {
        "colab": {
          "base_uri": "https://localhost:8080/",
          "height": 206
        },
        "id": "yVfo6P4J3MsI",
        "outputId": "ad8b83e4-6334-4bd1-8f4b-83a752bc9f43"
      },
      "outputs": [
        {
          "data": {
            "text/html": [
              "<div>\n",
              "<style scoped>\n",
              "    .dataframe tbody tr th:only-of-type {\n",
              "        vertical-align: middle;\n",
              "    }\n",
              "\n",
              "    .dataframe tbody tr th {\n",
              "        vertical-align: top;\n",
              "    }\n",
              "\n",
              "    .dataframe thead th {\n",
              "        text-align: right;\n",
              "    }\n",
              "</style>\n",
              "<table border=\"1\" class=\"dataframe\">\n",
              "  <thead>\n",
              "    <tr style=\"text-align: right;\">\n",
              "      <th></th>\n",
              "      <th>userId</th>\n",
              "      <th>movieId</th>\n",
              "      <th>rating</th>\n",
              "      <th>timestamp</th>\n",
              "    </tr>\n",
              "  </thead>\n",
              "  <tbody>\n",
              "    <tr>\n",
              "      <th>0</th>\n",
              "      <td>1</td>\n",
              "      <td>1</td>\n",
              "      <td>4.0</td>\n",
              "      <td>1225734739</td>\n",
              "    </tr>\n",
              "    <tr>\n",
              "      <th>1</th>\n",
              "      <td>1</td>\n",
              "      <td>110</td>\n",
              "      <td>4.0</td>\n",
              "      <td>1225865086</td>\n",
              "    </tr>\n",
              "    <tr>\n",
              "      <th>2</th>\n",
              "      <td>1</td>\n",
              "      <td>158</td>\n",
              "      <td>4.0</td>\n",
              "      <td>1225733503</td>\n",
              "    </tr>\n",
              "    <tr>\n",
              "      <th>3</th>\n",
              "      <td>1</td>\n",
              "      <td>260</td>\n",
              "      <td>4.5</td>\n",
              "      <td>1225735204</td>\n",
              "    </tr>\n",
              "    <tr>\n",
              "      <th>4</th>\n",
              "      <td>1</td>\n",
              "      <td>356</td>\n",
              "      <td>5.0</td>\n",
              "      <td>1225735119</td>\n",
              "    </tr>\n",
              "  </tbody>\n",
              "</table>\n",
              "</div>"
            ],
            "text/plain": [
              "   userId  movieId  rating   timestamp\n",
              "0       1        1     4.0  1225734739\n",
              "1       1      110     4.0  1225865086\n",
              "2       1      158     4.0  1225733503\n",
              "3       1      260     4.5  1225735204\n",
              "4       1      356     5.0  1225735119"
            ]
          },
          "execution_count": 6,
          "metadata": {},
          "output_type": "execute_result"
        }
      ],
      "source": [
        "ratings.head()"
      ]
    },
    {
      "cell_type": "markdown",
      "metadata": {
        "id": "VXudZQ9J42GK"
      },
      "source": [
        "**Insight**\n",
        "- Data berurutan dimulai dari user id 1\n",
        "- Kolom rating berisi rating pengguna yang memiliki tipe data float kemungkinan terdapat rating dengan nilai pecahan atau koma\n",
        "  "
      ]
    },
    {
      "cell_type": "markdown",
      "metadata": {
        "id": "kDzm5rMOJh88"
      },
      "source": [
        "## Memeriksa Missing Values dan Data Duplikat"
      ]
    },
    {
      "cell_type": "markdown",
      "metadata": {
        "id": "FIeB-8zBJnnG"
      },
      "source": [
        "Memeriksa dataset movies"
      ]
    },
    {
      "cell_type": "code",
      "execution_count": 7,
      "metadata": {
        "colab": {
          "base_uri": "https://localhost:8080/"
        },
        "id": "KEpSIrxEJnNd",
        "outputId": "bd1a957a-8425-47f2-c6d9-a0d095952c66"
      },
      "outputs": [
        {
          "name": "stdout",
          "output_type": "stream",
          "text": [
            "=============================================\n",
            "Jumlah Missing Values Pada Dataset Movies: \n",
            "movieId    0\n",
            "title      0\n",
            "genres     0\n",
            "dtype: int64\n",
            "Jumlah Data Duplikat Pada Dataset Movies: 0\n",
            "=============================================\n"
          ]
        }
      ],
      "source": [
        "null_val = movies.isna().sum()\n",
        "duplicated_data = movies.duplicated().sum()\n",
        "print(\"=============================================\")\n",
        "print(f\"Jumlah Missing Values Pada Dataset Movies: \\n{null_val}\")\n",
        "print(f\"Jumlah Data Duplikat Pada Dataset Movies: {duplicated_data}\")\n",
        "print(\"=============================================\")"
      ]
    },
    {
      "cell_type": "markdown",
      "metadata": {
        "id": "Nv55f59CJqTM"
      },
      "source": [
        "Memeriksa dataset ratings"
      ]
    },
    {
      "cell_type": "code",
      "execution_count": 8,
      "metadata": {
        "colab": {
          "base_uri": "https://localhost:8080/"
        },
        "id": "Qik_g74UJldW",
        "outputId": "40dbdd16-6161-4cb8-9d53-31908430ecde"
      },
      "outputs": [
        {
          "name": "stdout",
          "output_type": "stream",
          "text": [
            "=============================================\n",
            "Jumlah Missing Values Pada Dataset Ratings: \n",
            "userId       0\n",
            "movieId      0\n",
            "rating       0\n",
            "timestamp    0\n",
            "dtype: int64\n",
            "Jumlah Data Duplikat Pada Dataset Ratings: 0\n",
            "=============================================\n"
          ]
        }
      ],
      "source": [
        "null_val = ratings.isna().sum()\n",
        "duplicated_data = ratings.duplicated().sum()\n",
        "print(\"=============================================\")\n",
        "print(f\"Jumlah Missing Values Pada Dataset Ratings: \\n{null_val}\")\n",
        "print(f\"Jumlah Data Duplikat Pada Dataset Ratings: {duplicated_data}\")\n",
        "print(\"=============================================\")"
      ]
    },
    {
      "cell_type": "markdown",
      "metadata": {
        "id": "B5K1NkCjJy66"
      },
      "source": [
        "**Insight**\n",
        "- Tidak ada nilai yang hilang atau missing values pada dataset movies dan ratings\n",
        "- Tidak ada data yang duplikat pada dataset movies dan ratings"
      ]
    },
    {
      "cell_type": "markdown",
      "metadata": {
        "id": "fB1ObV1DzJ6h"
      },
      "source": [
        "## Analisis Distribusi Data"
      ]
    },
    {
      "cell_type": "markdown",
      "metadata": {},
      "source": [
        "Membersihkan data genres dengan mengambil genre utamanya saja"
      ]
    },
    {
      "cell_type": "code",
      "execution_count": 36,
      "metadata": {},
      "outputs": [
        {
          "data": {
            "text/plain": [
              "genres\n",
              "Drama                 20375\n",
              "Comedy                18239\n",
              "Action                 9563\n",
              "Documentary            8691\n",
              "(no genres listed)     7060\n",
              "Horror                 4962\n",
              "Crime                  4013\n",
              "Animation              3329\n",
              "Adventure              3270\n",
              "Children               2080\n",
              "Thriller               1421\n",
              "Romance                 772\n",
              "Sci-Fi                  742\n",
              "Western                 683\n",
              "Mystery                 559\n",
              "Fantasy                 507\n",
              "War                     130\n",
              "Musical                 103\n",
              "Film-Noir                37\n",
              "IMAX                      1\n",
              "Name: count, dtype: int64"
            ]
          },
          "execution_count": 36,
          "metadata": {},
          "output_type": "execute_result"
        }
      ],
      "source": [
        "movies['genres'] = movies['genres'].str.split('|').str[0]\n",
        "movies['genres'].value_counts()"
      ]
    },
    {
      "cell_type": "markdown",
      "metadata": {},
      "source": [
        "Membuat fungsi untuk menampilkan distribusi setiap data"
      ]
    },
    {
      "cell_type": "code",
      "execution_count": 18,
      "metadata": {
        "id": "sgD1s-nI2hSl"
      },
      "outputs": [],
      "source": [
        "def cekDistribusi(dataframe, kolom):\n",
        "    df = dataframe.copy()\n",
        "    fitur = df[kolom].value_counts().sort_values(ascending=False).index\n",
        "    total = len(df)\n",
        "\n",
        "    plt.figure(figsize=(8, 5))\n",
        "    ax = sns.countplot(data=df, x=kolom, order=fitur, palette=palette)\n",
        "\n",
        "    # Menambahkan nilai aktual dan persentase di atas setiap bar\n",
        "    for p in ax.patches:\n",
        "        nilai = int(p.get_height())\n",
        "        # persentase = 100 * nilai / total\n",
        "        ax.annotate(f'{nilai}',\n",
        "                    (p.get_x() + p.get_width() / 2, p.get_height()),\n",
        "                    ha='center', va='bottom', fontsize=8)\n",
        "\n",
        "    plt.title(f'Distribusi Kolom {kolom}')\n",
        "    plt.xlabel(kolom)\n",
        "    plt.ylabel('Jumlah')\n",
        "    plt.xticks(rotation=90)\n",
        "    plt.tight_layout()\n",
        "    plt.show()"
      ]
    },
    {
      "cell_type": "markdown",
      "metadata": {},
      "source": [
        "Menampilkan distribusi data genres pada dataset movies"
      ]
    },
    {
      "cell_type": "code",
      "execution_count": 37,
      "metadata": {
        "id": "PjBf7DsW9MHl"
      },
      "outputs": [
        {
          "data": {
            "image/png": "[encoded data removed]",
            "text/plain": [
              "<Figure size 800x500 with 1 Axes>"
            ]
          },
          "metadata": {},
          "output_type": "display_data"
        }
      ],
      "source": [
        "cekDistribusi(movies, 'genres')"
      ]
    },
    {
      "cell_type": "markdown",
      "metadata": {},
      "source": [
        "Menampilkan distribusi data rating pada dataset ratings"
      ]
    },
    {
      "cell_type": "code",
      "execution_count": 12,
      "metadata": {},
      "outputs": [
        {
          "data": {
            "image/png": "[encoded data removed]",
            "text/plain": [
              "<Figure size 800x500 with 1 Axes>"
            ]
          },
          "metadata": {},
          "output_type": "display_data"
        }
      ],
      "source": [
        "cekDistribusi(ratings, 'rating')"
      ]
    },
    {
      "cell_type": "markdown",
      "metadata": {},
      "source": [
        "# Data Preparation"
      ]
    },
    {
      "cell_type": "markdown",
      "metadata": {},
      "source": [
        "## Data Cleaning"
      ]
    },
    {
      "cell_type": "markdown",
      "metadata": {},
      "source": [
        "Menangani Missing Values dan Duplicated Data pada Dataset Movies"
      ]
    },
    {
      "cell_type": "code",
      "execution_count": 38,
      "metadata": {},
      "outputs": [
        {
          "name": "stdout",
          "output_type": "stream",
          "text": [
            "<class 'pandas.core.frame.DataFrame'>\n",
            "RangeIndex: 86537 entries, 0 to 86536\n",
            "Data columns (total 3 columns):\n",
            " #   Column   Non-Null Count  Dtype \n",
            "---  ------   --------------  ----- \n",
            " 0   movieId  86537 non-null  int64 \n",
            " 1   title    86537 non-null  object\n",
            " 2   genres   86537 non-null  object\n",
            "dtypes: int64(1), object(2)\n",
            "memory usage: 2.0+ MB\n"
          ]
        }
      ],
      "source": [
        "clean_movies = movies.dropna().drop_duplicates()\n",
        "clean_movies.info()"
      ]
    },
    {
      "cell_type": "markdown",
      "metadata": {},
      "source": [
        "Menangani Missing Values dan Duplicated Data pada Dataset Ratings"
      ]
    },
    {
      "cell_type": "code",
      "execution_count": 39,
      "metadata": {},
      "outputs": [
        {
          "name": "stdout",
          "output_type": "stream",
          "text": [
            "<class 'pandas.core.frame.DataFrame'>\n",
            "RangeIndex: 33832162 entries, 0 to 33832161\n",
            "Data columns (total 4 columns):\n",
            " #   Column     Dtype  \n",
            "---  ------     -----  \n",
            " 0   userId     int64  \n",
            " 1   movieId    int64  \n",
            " 2   rating     float64\n",
            " 3   timestamp  int64  \n",
            "dtypes: float64(1), int64(3)\n",
            "memory usage: 1.0 GB\n"
          ]
        }
      ],
      "source": [
        "clean_ratings = ratings.dropna().drop_duplicates()\n",
        "clean_ratings.info()"
      ]
    },
    {
      "cell_type": "markdown",
      "metadata": {},
      "source": [
        "## Pemilihan Fitur"
      ]
    },
    {
      "cell_type": "markdown",
      "metadata": {},
      "source": [
        "### Dataset Movies"
      ]
    },
    {
      "cell_type": "markdown",
      "metadata": {},
      "source": [
        "Menghapus nilai **(no_genres_listed)** pada kolom genres"
      ]
    },
    {
      "cell_type": "code",
      "execution_count": 40,
      "metadata": {},
      "outputs": [
        {
          "data": {
            "text/plain": [
              "array(['Adventure', 'Comedy', 'Action', 'Drama', 'Crime', 'Children',\n",
              "       'Mystery', 'Documentary', 'Animation', 'Thriller', 'Horror',\n",
              "       'Fantasy', 'Western', 'Film-Noir', 'Romance', 'War', 'Sci-Fi',\n",
              "       'Musical'], dtype=object)"
            ]
          },
          "execution_count": 40,
          "metadata": {},
          "output_type": "execute_result"
        }
      ],
      "source": [
        "clean_movies = clean_movies[(clean_movies['genres'] != '(no genres listed)') & (clean_movies['genres'] != 'IMAX')] \n",
        "clean_movies['genres'].unique()"
      ]
    },
    {
      "cell_type": "markdown",
      "metadata": {},
      "source": [
        "### Dataset Ratings"
      ]
    },
    {
      "cell_type": "markdown",
      "metadata": {},
      "source": [
        "Menghapus fitur atau kolom `timestamp` karena fitur tersebut tidak relevan untuk melakukan pemodelan"
      ]
    },
    {
      "cell_type": "code",
      "execution_count": 41,
      "metadata": {},
      "outputs": [
        {
          "data": {
            "text/html": [
              "<div>\n",
              "<style scoped>\n",
              "    .dataframe tbody tr th:only-of-type {\n",
              "        vertical-align: middle;\n",
              "    }\n",
              "\n",
              "    .dataframe tbody tr th {\n",
              "        vertical-align: top;\n",
              "    }\n",
              "\n",
              "    .dataframe thead th {\n",
              "        text-align: right;\n",
              "    }\n",
              "</style>\n",
              "<table border=\"1\" class=\"dataframe\">\n",
              "  <thead>\n",
              "    <tr style=\"text-align: right;\">\n",
              "      <th></th>\n",
              "      <th>userId</th>\n",
              "      <th>movieId</th>\n",
              "      <th>rating</th>\n",
              "    </tr>\n",
              "  </thead>\n",
              "  <tbody>\n",
              "    <tr>\n",
              "      <th>0</th>\n",
              "      <td>1</td>\n",
              "      <td>1</td>\n",
              "      <td>4.0</td>\n",
              "    </tr>\n",
              "    <tr>\n",
              "      <th>1</th>\n",
              "      <td>1</td>\n",
              "      <td>110</td>\n",
              "      <td>4.0</td>\n",
              "    </tr>\n",
              "    <tr>\n",
              "      <th>2</th>\n",
              "      <td>1</td>\n",
              "      <td>158</td>\n",
              "      <td>4.0</td>\n",
              "    </tr>\n",
              "    <tr>\n",
              "      <th>3</th>\n",
              "      <td>1</td>\n",
              "      <td>260</td>\n",
              "      <td>4.5</td>\n",
              "    </tr>\n",
              "    <tr>\n",
              "      <th>4</th>\n",
              "      <td>1</td>\n",
              "      <td>356</td>\n",
              "      <td>5.0</td>\n",
              "    </tr>\n",
              "    <tr>\n",
              "      <th>...</th>\n",
              "      <td>...</td>\n",
              "      <td>...</td>\n",
              "      <td>...</td>\n",
              "    </tr>\n",
              "    <tr>\n",
              "      <th>33832157</th>\n",
              "      <td>330975</td>\n",
              "      <td>8340</td>\n",
              "      <td>2.0</td>\n",
              "    </tr>\n",
              "    <tr>\n",
              "      <th>33832158</th>\n",
              "      <td>330975</td>\n",
              "      <td>8493</td>\n",
              "      <td>2.5</td>\n",
              "    </tr>\n",
              "    <tr>\n",
              "      <th>33832159</th>\n",
              "      <td>330975</td>\n",
              "      <td>8622</td>\n",
              "      <td>4.0</td>\n",
              "    </tr>\n",
              "    <tr>\n",
              "      <th>33832160</th>\n",
              "      <td>330975</td>\n",
              "      <td>8665</td>\n",
              "      <td>3.0</td>\n",
              "    </tr>\n",
              "    <tr>\n",
              "      <th>33832161</th>\n",
              "      <td>330975</td>\n",
              "      <td>8783</td>\n",
              "      <td>2.5</td>\n",
              "    </tr>\n",
              "  </tbody>\n",
              "</table>\n",
              "<p>33832162 rows × 3 columns</p>\n",
              "</div>"
            ],
            "text/plain": [
              "          userId  movieId  rating\n",
              "0              1        1     4.0\n",
              "1              1      110     4.0\n",
              "2              1      158     4.0\n",
              "3              1      260     4.5\n",
              "4              1      356     5.0\n",
              "...          ...      ...     ...\n",
              "33832157  330975     8340     2.0\n",
              "33832158  330975     8493     2.5\n",
              "33832159  330975     8622     4.0\n",
              "33832160  330975     8665     3.0\n",
              "33832161  330975     8783     2.5\n",
              "\n",
              "[33832162 rows x 3 columns]"
            ]
          },
          "execution_count": 41,
          "metadata": {},
          "output_type": "execute_result"
        }
      ],
      "source": [
        "clean_ratings = clean_ratings.drop(columns=['timestamp'], axis=1)\n",
        "clean_ratings"
      ]
    },
    {
      "cell_type": "markdown",
      "metadata": {},
      "source": [
        "Menghapus data film pada dataset `ratings.csv` yang tidak ada di dataset `movies.csv` "
      ]
    },
    {
      "cell_type": "code",
      "execution_count": 42,
      "metadata": {},
      "outputs": [
        {
          "name": "stdout",
          "output_type": "stream",
          "text": [
            "Jumlah data rating setelah menghapus film tidak relevan: 33776068\n"
          ]
        }
      ],
      "source": [
        "clean_ratings = clean_ratings[clean_ratings['movieId'].isin(clean_movies['movieId'])]\n",
        "print(\"Jumlah data rating setelah menghapus film tidak relevan:\", len(clean_ratings))\n"
      ]
    },
    {
      "cell_type": "markdown",
      "metadata": {},
      "source": [
        "## Text Processing"
      ]
    },
    {
      "cell_type": "code",
      "execution_count": 43,
      "metadata": {},
      "outputs": [
        {
          "data": {
            "text/plain": [
              "array(['Adventure', 'Comedy', 'Action', 'Drama', 'Crime', 'Children',\n",
              "       'Mystery', 'Documentary', 'Animation', 'Thriller', 'Horror',\n",
              "       'Fantasy', 'Western', 'Film-Noir', 'Romance', 'War', 'Sci-Fi',\n",
              "       'Musical'], dtype=object)"
            ]
          },
          "execution_count": 43,
          "metadata": {},
          "output_type": "execute_result"
        }
      ],
      "source": [
        "clean_movies['genres'].unique()"
      ]
    },
    {
      "cell_type": "code",
      "execution_count": 44,
      "metadata": {},
      "outputs": [
        {
          "name": "stdout",
          "output_type": "stream",
          "text": [
            "      movieId                                  title genres\n",
            "861       880       Island of Dr. Moreau, The (1996)  Scifi\n",
            "1702     1779                          Sphere (1998)  Scifi\n",
            "2220     2311  2010: The Year We Make Contact (1984)  Scifi\n",
            "2435     2526                          Meteor (1979)  Scifi\n",
            "2487     2578     Sticky Fingers of Time, The (1997)  Scifi\n",
            "      movieId                       title    genres\n",
            "316       320               Suture (1993)  Filmnoir\n",
            "730       746        Force of Evil (1948)  Filmnoir\n",
            "892       913  Maltese Falcon, The (1941)  Filmnoir\n",
            "909       930            Notorious (1946)  Filmnoir\n",
            "1125     1153             Raw Deal (1948)  Filmnoir\n"
          ]
        }
      ],
      "source": [
        "clean_movies['genres'] = clean_movies['genres'].replace({'Sci-Fi':'Scifi', 'Film-Noir':'Filmnoir'})\n",
        "print(clean_movies[clean_movies['genres'] == 'Scifi'].head())\n",
        "print(clean_movies[clean_movies['genres'] == 'Filmnoir'].head())"
      ]
    },
    {
      "cell_type": "code",
      "execution_count": 15,
      "metadata": {},
      "outputs": [
        {
          "data": {
            "text/plain": [
              "<pandas.core.groupby.generic.DataFrameGroupBy object at 0x0000023687FCE980>"
            ]
          },
          "execution_count": 15,
          "metadata": {},
          "output_type": "execute_result"
        }
      ],
      "source": [
        "groupped_ratings = clean_ratings.groupby('movieId')\n",
        "groupped_ratings"
      ]
    },
    {
      "cell_type": "markdown",
      "metadata": {},
      "source": [
        "## Data Transformation"
      ]
    },
    {
      "cell_type": "markdown",
      "metadata": {},
      "source": [
        "### TF-IDF Vectorizer"
      ]
    },
    {
      "cell_type": "code",
      "execution_count": 45,
      "metadata": {},
      "outputs": [
        {
          "data": {
            "text/plain": [
              "array(['action', 'adventure', 'animation', 'children', 'comedy', 'crime',\n",
              "       'documentary', 'drama', 'fantasy', 'filmnoir', 'horror', 'musical',\n",
              "       'mystery', 'romance', 'scifi', 'thriller', 'war', 'western'],\n",
              "      dtype=object)"
            ]
          },
          "execution_count": 45,
          "metadata": {},
          "output_type": "execute_result"
        }
      ],
      "source": [
        "tfidf = TfidfVectorizer()\n",
        "\n",
        "tfidf.fit(clean_movies['genres'])\n",
        "tfidf.get_feature_names_out()"
      ]
    },
    {
      "cell_type": "code",
      "execution_count": 46,
      "metadata": {},
      "outputs": [
        {
          "data": {
            "text/plain": [
              "(79476, 18)"
            ]
          },
          "execution_count": 46,
          "metadata": {},
          "output_type": "execute_result"
        }
      ],
      "source": [
        "genre_tfid_cbf = tfidf.fit_transform(clean_movies['genres']) \n",
        "genre_tfid_cbf.shape"
      ]
    },
    {
      "cell_type": "code",
      "execution_count": 49,
      "metadata": {},
      "outputs": [
        {
          "data": {
            "text/plain": [
              "matrix([[0., 1., 0., ..., 0., 0., 0.],\n",
              "        [0., 1., 0., ..., 0., 0., 0.],\n",
              "        [0., 0., 0., ..., 0., 0., 0.],\n",
              "        ...,\n",
              "        [0., 0., 0., ..., 0., 0., 0.],\n",
              "        [0., 0., 0., ..., 0., 0., 0.],\n",
              "        [0., 0., 0., ..., 0., 0., 0.]])"
            ]
          },
          "execution_count": 49,
          "metadata": {},
          "output_type": "execute_result"
        }
      ],
      "source": [
        "genre_tfid_cbf.todense()"
      ]
    },
    {
      "cell_type": "markdown",
      "metadata": {},
      "source": [
        "### Cosine Simmilarity"
      ]
    },
    {
      "cell_type": "code",
      "execution_count": 50,
      "metadata": {},
      "outputs": [
        {
          "ename": "MemoryError",
          "evalue": "Unable to allocate 7.35 GiB for an array with shape (985844036,) and data type float64",
          "output_type": "error",
          "traceback": [
            "\u001b[1;31m---------------------------------------------------------------------------\u001b[0m",
            "\u001b[1;31mMemoryError\u001b[0m                               Traceback (most recent call last)",
            "Cell \u001b[1;32mIn[50], line 1\u001b[0m\n\u001b[1;32m----> 1\u001b[0m genre_cosin_cbf \u001b[38;5;241m=\u001b[39m \u001b[43mcosine_similarity\u001b[49m\u001b[43m(\u001b[49m\u001b[43mgenre_tfid_cbf\u001b[49m\u001b[43m)\u001b[49m\n\u001b[0;32m      2\u001b[0m genre_cosin_cbf\n",
            "File \u001b[1;32mc:\\Users\\umar_\\anaconda3\\envs\\keras_venv\\lib\\site-packages\\sklearn\\utils\\_param_validation.py:216\u001b[0m, in \u001b[0;36mvalidate_params.<locals>.decorator.<locals>.wrapper\u001b[1;34m(*args, **kwargs)\u001b[0m\n\u001b[0;32m    210\u001b[0m \u001b[38;5;28;01mtry\u001b[39;00m:\n\u001b[0;32m    211\u001b[0m     \u001b[38;5;28;01mwith\u001b[39;00m config_context(\n\u001b[0;32m    212\u001b[0m         skip_parameter_validation\u001b[38;5;241m=\u001b[39m(\n\u001b[0;32m    213\u001b[0m             prefer_skip_nested_validation \u001b[38;5;129;01mor\u001b[39;00m global_skip_validation\n\u001b[0;32m    214\u001b[0m         )\n\u001b[0;32m    215\u001b[0m     ):\n\u001b[1;32m--> 216\u001b[0m         \u001b[38;5;28;01mreturn\u001b[39;00m func(\u001b[38;5;241m*\u001b[39margs, \u001b[38;5;241m*\u001b[39m\u001b[38;5;241m*\u001b[39mkwargs)\n\u001b[0;32m    217\u001b[0m \u001b[38;5;28;01mexcept\u001b[39;00m InvalidParameterError \u001b[38;5;28;01mas\u001b[39;00m e:\n\u001b[0;32m    218\u001b[0m     \u001b[38;5;66;03m# When the function is just a wrapper around an estimator, we allow\u001b[39;00m\n\u001b[0;32m    219\u001b[0m     \u001b[38;5;66;03m# the function to delegate validation to the estimator, but we replace\u001b[39;00m\n\u001b[0;32m    220\u001b[0m     \u001b[38;5;66;03m# the name of the estimator by the name of the function in the error\u001b[39;00m\n\u001b[0;32m    221\u001b[0m     \u001b[38;5;66;03m# message to avoid confusion.\u001b[39;00m\n\u001b[0;32m    222\u001b[0m     msg \u001b[38;5;241m=\u001b[39m re\u001b[38;5;241m.\u001b[39msub(\n\u001b[0;32m    223\u001b[0m         \u001b[38;5;124mr\u001b[39m\u001b[38;5;124m\"\u001b[39m\u001b[38;5;124mparameter of \u001b[39m\u001b[38;5;124m\\\u001b[39m\u001b[38;5;124mw+ must be\u001b[39m\u001b[38;5;124m\"\u001b[39m,\n\u001b[0;32m    224\u001b[0m         \u001b[38;5;124mf\u001b[39m\u001b[38;5;124m\"\u001b[39m\u001b[38;5;124mparameter of \u001b[39m\u001b[38;5;132;01m{\u001b[39;00mfunc\u001b[38;5;241m.\u001b[39m\u001b[38;5;18m__qualname__\u001b[39m\u001b[38;5;132;01m}\u001b[39;00m\u001b[38;5;124m must be\u001b[39m\u001b[38;5;124m\"\u001b[39m,\n\u001b[0;32m    225\u001b[0m         \u001b[38;5;28mstr\u001b[39m(e),\n\u001b[0;32m    226\u001b[0m     )\n",
            "File \u001b[1;32mc:\\Users\\umar_\\anaconda3\\envs\\keras_venv\\lib\\site-packages\\sklearn\\metrics\\pairwise.py:1749\u001b[0m, in \u001b[0;36mcosine_similarity\u001b[1;34m(X, Y, dense_output)\u001b[0m\n\u001b[0;32m   1746\u001b[0m \u001b[38;5;28;01melse\u001b[39;00m:\n\u001b[0;32m   1747\u001b[0m     Y_normalized \u001b[38;5;241m=\u001b[39m normalize(Y, copy\u001b[38;5;241m=\u001b[39m\u001b[38;5;28;01mTrue\u001b[39;00m)\n\u001b[1;32m-> 1749\u001b[0m K \u001b[38;5;241m=\u001b[39m \u001b[43msafe_sparse_dot\u001b[49m\u001b[43m(\u001b[49m\u001b[43mX_normalized\u001b[49m\u001b[43m,\u001b[49m\u001b[43m \u001b[49m\u001b[43mY_normalized\u001b[49m\u001b[38;5;241;43m.\u001b[39;49m\u001b[43mT\u001b[49m\u001b[43m,\u001b[49m\u001b[43m \u001b[49m\u001b[43mdense_output\u001b[49m\u001b[38;5;241;43m=\u001b[39;49m\u001b[43mdense_output\u001b[49m\u001b[43m)\u001b[49m\n\u001b[0;32m   1751\u001b[0m \u001b[38;5;28;01mreturn\u001b[39;00m K\n",
            "File \u001b[1;32mc:\\Users\\umar_\\anaconda3\\envs\\keras_venv\\lib\\site-packages\\sklearn\\utils\\extmath.py:203\u001b[0m, in \u001b[0;36msafe_sparse_dot\u001b[1;34m(a, b, dense_output)\u001b[0m\n\u001b[0;32m    201\u001b[0m         ret \u001b[38;5;241m=\u001b[39m xp\u001b[38;5;241m.\u001b[39mtensordot(a, b, axes\u001b[38;5;241m=\u001b[39m[\u001b[38;5;241m-\u001b[39m\u001b[38;5;241m1\u001b[39m, b_axis])\n\u001b[0;32m    202\u001b[0m \u001b[38;5;28;01melse\u001b[39;00m:\n\u001b[1;32m--> 203\u001b[0m     ret \u001b[38;5;241m=\u001b[39m \u001b[43ma\u001b[49m\u001b[43m \u001b[49m\u001b[38;5;241;43m@\u001b[39;49m\u001b[43m \u001b[49m\u001b[43mb\u001b[49m\n\u001b[0;32m    205\u001b[0m \u001b[38;5;28;01mif\u001b[39;00m (\n\u001b[0;32m    206\u001b[0m     sparse\u001b[38;5;241m.\u001b[39missparse(a)\n\u001b[0;32m    207\u001b[0m     \u001b[38;5;129;01mand\u001b[39;00m sparse\u001b[38;5;241m.\u001b[39missparse(b)\n\u001b[0;32m    208\u001b[0m     \u001b[38;5;129;01mand\u001b[39;00m dense_output\n\u001b[0;32m    209\u001b[0m     \u001b[38;5;129;01mand\u001b[39;00m \u001b[38;5;28mhasattr\u001b[39m(ret, \u001b[38;5;124m\"\u001b[39m\u001b[38;5;124mtoarray\u001b[39m\u001b[38;5;124m\"\u001b[39m)\n\u001b[0;32m    210\u001b[0m ):\n\u001b[0;32m    211\u001b[0m     \u001b[38;5;28;01mreturn\u001b[39;00m ret\u001b[38;5;241m.\u001b[39mtoarray()\n",
            "File \u001b[1;32mc:\\Users\\umar_\\anaconda3\\envs\\keras_venv\\lib\\site-packages\\scipy\\sparse\\_base.py:732\u001b[0m, in \u001b[0;36m_spbase.__matmul__\u001b[1;34m(self, other)\u001b[0m\n\u001b[0;32m    729\u001b[0m \u001b[38;5;28;01mif\u001b[39;00m isscalarlike(other):\n\u001b[0;32m    730\u001b[0m     \u001b[38;5;28;01mraise\u001b[39;00m \u001b[38;5;167;01mValueError\u001b[39;00m(\u001b[38;5;124m\"\u001b[39m\u001b[38;5;124mScalar operands are not allowed, \u001b[39m\u001b[38;5;124m\"\u001b[39m\n\u001b[0;32m    731\u001b[0m                      \u001b[38;5;124m\"\u001b[39m\u001b[38;5;124muse \u001b[39m\u001b[38;5;124m'\u001b[39m\u001b[38;5;124m*\u001b[39m\u001b[38;5;124m'\u001b[39m\u001b[38;5;124m instead\u001b[39m\u001b[38;5;124m\"\u001b[39m)\n\u001b[1;32m--> 732\u001b[0m \u001b[38;5;28;01mreturn\u001b[39;00m \u001b[38;5;28;43mself\u001b[39;49m\u001b[38;5;241;43m.\u001b[39;49m\u001b[43m_matmul_dispatch\u001b[49m\u001b[43m(\u001b[49m\u001b[43mother\u001b[49m\u001b[43m)\u001b[49m\n",
            "File \u001b[1;32mc:\\Users\\umar_\\anaconda3\\envs\\keras_venv\\lib\\site-packages\\scipy\\sparse\\_base.py:636\u001b[0m, in \u001b[0;36m_spbase._matmul_dispatch\u001b[1;34m(self, other)\u001b[0m\n\u001b[0;32m    632\u001b[0m     \u001b[38;5;28;01mif\u001b[39;00m N \u001b[38;5;241m!=\u001b[39m other\u001b[38;5;241m.\u001b[39mshape[\u001b[38;5;241m0\u001b[39m]:\n\u001b[0;32m    633\u001b[0m         \u001b[38;5;28;01mraise\u001b[39;00m \u001b[38;5;167;01mValueError\u001b[39;00m(\n\u001b[0;32m    634\u001b[0m             \u001b[38;5;124mf\u001b[39m\u001b[38;5;124m\"\u001b[39m\u001b[38;5;132;01m{\u001b[39;00merr_prefix\u001b[38;5;132;01m}\u001b[39;00m\u001b[38;5;124m (n,k=\u001b[39m\u001b[38;5;132;01m{\u001b[39;00mN\u001b[38;5;132;01m}\u001b[39;00m\u001b[38;5;124m),(k=\u001b[39m\u001b[38;5;132;01m{\u001b[39;00mother\u001b[38;5;241m.\u001b[39mshape[\u001b[38;5;241m0\u001b[39m]\u001b[38;5;132;01m}\u001b[39;00m\u001b[38;5;124m,m)->(n,m)\u001b[39m\u001b[38;5;124m\"\u001b[39m\n\u001b[0;32m    635\u001b[0m         )\n\u001b[1;32m--> 636\u001b[0m     \u001b[38;5;28;01mreturn\u001b[39;00m \u001b[38;5;28;43mself\u001b[39;49m\u001b[38;5;241;43m.\u001b[39;49m\u001b[43m_matmul_sparse\u001b[49m\u001b[43m(\u001b[49m\u001b[43mother\u001b[49m\u001b[43m)\u001b[49m\n\u001b[0;32m    638\u001b[0m \u001b[38;5;66;03m# If it's a list or whatever, treat it like an array\u001b[39;00m\n\u001b[0;32m    639\u001b[0m other_a \u001b[38;5;241m=\u001b[39m np\u001b[38;5;241m.\u001b[39masanyarray(other)\n",
            "File \u001b[1;32mc:\\Users\\umar_\\anaconda3\\envs\\keras_venv\\lib\\site-packages\\scipy\\sparse\\_compressed.py:586\u001b[0m, in \u001b[0;36m_cs_matrix._matmul_sparse\u001b[1;34m(self, other)\u001b[0m\n\u001b[0;32m    584\u001b[0m indptr \u001b[38;5;241m=\u001b[39m np\u001b[38;5;241m.\u001b[39mempty(major_dim \u001b[38;5;241m+\u001b[39m \u001b[38;5;241m1\u001b[39m, dtype\u001b[38;5;241m=\u001b[39midx_dtype)\n\u001b[0;32m    585\u001b[0m indices \u001b[38;5;241m=\u001b[39m np\u001b[38;5;241m.\u001b[39mempty(nnz, dtype\u001b[38;5;241m=\u001b[39midx_dtype)\n\u001b[1;32m--> 586\u001b[0m data \u001b[38;5;241m=\u001b[39m \u001b[43mnp\u001b[49m\u001b[38;5;241;43m.\u001b[39;49m\u001b[43mempty\u001b[49m\u001b[43m(\u001b[49m\u001b[43mnnz\u001b[49m\u001b[43m,\u001b[49m\u001b[43m \u001b[49m\u001b[43mdtype\u001b[49m\u001b[38;5;241;43m=\u001b[39;49m\u001b[43mupcast\u001b[49m\u001b[43m(\u001b[49m\u001b[38;5;28;43mself\u001b[39;49m\u001b[38;5;241;43m.\u001b[39;49m\u001b[43mdtype\u001b[49m\u001b[43m,\u001b[49m\u001b[43m \u001b[49m\u001b[43mother\u001b[49m\u001b[38;5;241;43m.\u001b[39;49m\u001b[43mdtype\u001b[49m\u001b[43m)\u001b[49m\u001b[43m)\u001b[49m\n\u001b[0;32m    588\u001b[0m fn \u001b[38;5;241m=\u001b[39m \u001b[38;5;28mgetattr\u001b[39m(_sparsetools, \u001b[38;5;28mself\u001b[39m\u001b[38;5;241m.\u001b[39mformat \u001b[38;5;241m+\u001b[39m \u001b[38;5;124m'\u001b[39m\u001b[38;5;124m_matmat\u001b[39m\u001b[38;5;124m'\u001b[39m)\n\u001b[0;32m    589\u001b[0m fn(M, N, np\u001b[38;5;241m.\u001b[39masarray(\u001b[38;5;28mself\u001b[39m\u001b[38;5;241m.\u001b[39mindptr, dtype\u001b[38;5;241m=\u001b[39midx_dtype),\n\u001b[0;32m    590\u001b[0m    np\u001b[38;5;241m.\u001b[39masarray(\u001b[38;5;28mself\u001b[39m\u001b[38;5;241m.\u001b[39mindices, dtype\u001b[38;5;241m=\u001b[39midx_dtype),\n\u001b[0;32m    591\u001b[0m    \u001b[38;5;28mself\u001b[39m\u001b[38;5;241m.\u001b[39mdata,\n\u001b[1;32m   (...)\u001b[0m\n\u001b[0;32m    594\u001b[0m    other\u001b[38;5;241m.\u001b[39mdata,\n\u001b[0;32m    595\u001b[0m    indptr, indices, data)\n",
            "\u001b[1;31mMemoryError\u001b[0m: Unable to allocate 7.35 GiB for an array with shape (985844036,) and data type float64"
          ]
        }
      ],
      "source": [
        "genre_cosin_cbf = cosine_similarity(genre_tfid_cbf)\n",
        "genre_cosin_cbf"
      ]
    },
    {
      "cell_type": "code",
      "execution_count": null,
      "metadata": {},
      "outputs": [
        {
          "data": {
            "text/html": [
              "<div>\n",
              "<style scoped>\n",
              "    .dataframe tbody tr th:only-of-type {\n",
              "        vertical-align: middle;\n",
              "    }\n",
              "\n",
              "    .dataframe tbody tr th {\n",
              "        vertical-align: top;\n",
              "    }\n",
              "\n",
              "    .dataframe thead th {\n",
              "        text-align: right;\n",
              "    }\n",
              "</style>\n",
              "<table border=\"1\" class=\"dataframe\">\n",
              "  <thead>\n",
              "    <tr style=\"text-align: right;\">\n",
              "      <th>title</th>\n",
              "      <th>Wrong Turn (2003)</th>\n",
              "      <th>Jewel of the Nile, The (1985)</th>\n",
              "      <th>Major Dundee (1965)</th>\n",
              "      <th>Vigilante Diaries (2016)</th>\n",
              "      <th>We Own the Night (2007)</th>\n",
              "    </tr>\n",
              "    <tr>\n",
              "      <th>title</th>\n",
              "      <th></th>\n",
              "      <th></th>\n",
              "      <th></th>\n",
              "      <th></th>\n",
              "      <th></th>\n",
              "    </tr>\n",
              "  </thead>\n",
              "  <tbody>\n",
              "    <tr>\n",
              "      <th>Wrong Turn (2003)</th>\n",
              "      <td>1.0</td>\n",
              "      <td>0.0</td>\n",
              "      <td>0.0</td>\n",
              "      <td>0.0</td>\n",
              "      <td>0.0</td>\n",
              "    </tr>\n",
              "    <tr>\n",
              "      <th>Jewel of the Nile, The (1985)</th>\n",
              "      <td>0.0</td>\n",
              "      <td>1.0</td>\n",
              "      <td>0.0</td>\n",
              "      <td>1.0</td>\n",
              "      <td>0.0</td>\n",
              "    </tr>\n",
              "    <tr>\n",
              "      <th>Major Dundee (1965)</th>\n",
              "      <td>0.0</td>\n",
              "      <td>0.0</td>\n",
              "      <td>1.0</td>\n",
              "      <td>0.0</td>\n",
              "      <td>0.0</td>\n",
              "    </tr>\n",
              "    <tr>\n",
              "      <th>Vigilante Diaries (2016)</th>\n",
              "      <td>0.0</td>\n",
              "      <td>1.0</td>\n",
              "      <td>0.0</td>\n",
              "      <td>1.0</td>\n",
              "      <td>0.0</td>\n",
              "    </tr>\n",
              "    <tr>\n",
              "      <th>We Own the Night (2007)</th>\n",
              "      <td>0.0</td>\n",
              "      <td>0.0</td>\n",
              "      <td>0.0</td>\n",
              "      <td>0.0</td>\n",
              "      <td>1.0</td>\n",
              "    </tr>\n",
              "  </tbody>\n",
              "</table>\n",
              "</div>"
            ],
            "text/plain": [
              "title                          Wrong Turn (2003)  \\\n",
              "title                                              \n",
              "Wrong Turn (2003)                            1.0   \n",
              "Jewel of the Nile, The (1985)                0.0   \n",
              "Major Dundee (1965)                          0.0   \n",
              "Vigilante Diaries (2016)                     0.0   \n",
              "We Own the Night (2007)                      0.0   \n",
              "\n",
              "title                          Jewel of the Nile, The (1985)  \\\n",
              "title                                                          \n",
              "Wrong Turn (2003)                                        0.0   \n",
              "Jewel of the Nile, The (1985)                            1.0   \n",
              "Major Dundee (1965)                                      0.0   \n",
              "Vigilante Diaries (2016)                                 1.0   \n",
              "We Own the Night (2007)                                  0.0   \n",
              "\n",
              "title                          Major Dundee (1965)  Vigilante Diaries (2016)  \\\n",
              "title                                                                          \n",
              "Wrong Turn (2003)                              0.0                       0.0   \n",
              "Jewel of the Nile, The (1985)                  0.0                       1.0   \n",
              "Major Dundee (1965)                            1.0                       0.0   \n",
              "Vigilante Diaries (2016)                       0.0                       1.0   \n",
              "We Own the Night (2007)                        0.0                       0.0   \n",
              "\n",
              "title                          We Own the Night (2007)  \n",
              "title                                                   \n",
              "Wrong Turn (2003)                                  0.0  \n",
              "Jewel of the Nile, The (1985)                      0.0  \n",
              "Major Dundee (1965)                                0.0  \n",
              "Vigilante Diaries (2016)                           0.0  \n",
              "We Own the Night (2007)                            1.0  "
            ]
          },
          "execution_count": 23,
          "metadata": {},
          "output_type": "execute_result"
        }
      ],
      "source": [
        "genre_cosin_df = pd.DataFrame(genre_cosin_cbf, index=clean_movies['title'], columns=clean_movies['title'])\n",
        "genre_cosin_df.sample(5, axis=1, random_state=42).sample(5, axis=0, random_state=42)"
      ]
    },
    {
      "cell_type": "markdown",
      "metadata": {},
      "source": [
        "### Data Encoding"
      ]
    },
    {
      "cell_type": "code",
      "execution_count": 24,
      "metadata": {},
      "outputs": [],
      "source": [
        "clean_ratings_encode = clean_ratings.copy()"
      ]
    },
    {
      "cell_type": "code",
      "execution_count": 25,
      "metadata": {},
      "outputs": [
        {
          "name": "stdout",
          "output_type": "stream",
          "text": [
            "list userID:  [1, 2, 3, 4, 5, 6, 7, 8, 9, 10, 11, 12, 13, 14, 15, 16, 17, 18, 19, 20, 21, 22, 23, 24, 25, 26, 27, 28, 29, 30, 31, 32, 33, 34, 35, 36, 37, 38, 39, 40, 41, 42, 43, 44, 45, 46, 47, 48, 49, 50, 51, 52, 53, 54, 55, 56, 57, 58, 59, 60, 61, 62, 63, 64, 65, 66, 67, 68, 69, 70, 71, 72, 73, 74, 75, 76, 77, 78, 79, 80, 81, 82, 83, 84, 85, 86, 87, 88, 89, 90, 91, 92, 93, 94, 95, 96, 97, 98, 99, 100, 101, 102, 103, 104, 105, 106, 107, 108, 109, 110, 111, 112, 113, 114, 115, 116, 117, 118, 119, 120, 121, 122, 123, 124, 125, 126, 127, 128, 129, 130, 131, 132, 133, 134, 135, 136, 137, 138, 139, 140, 141, 142, 143, 144, 145, 146, 147, 148, 149, 150, 151, 152, 153, 154, 155, 156, 157, 158, 159, 160, 161, 162, 163, 164, 165, 166, 167, 168, 169, 170, 171, 172, 173, 174, 175, 176, 177, 178, 179, 180, 181, 182, 183, 184, 185, 186, 187, 188, 189, 190, 191, 192, 193, 194, 195, 196, 197, 198, 199, 200, 201, 202, 203, 204, 205, 206, 207, 208, 209, 210, 211, 212, 213, 214, 215, 216, 217, 218, 219, 220, 221, 222, 223, 224, 225, 226, 227, 228, 229, 230, 231, 232, 233, 234, 235, 236, 237, 238, 239, 240, 241, 242, 243, 244, 245, 246, 247, 248, 249, 250, 251, 252, 253, 254, 255, 256, 257, 258, 259, 260, 261, 262, 263, 264, 265, 266, 267, 268, 269, 270, 271, 272, 273, 274, 275, 276, 277, 278, 279, 280, 281, 282, 283, 284, 285, 286, 287, 288, 289, 290, 291, 292, 293, 294, 295, 296, 297, 298, 299, 300, 301, 302, 303, 304, 305, 306, 307, 308, 309, 310, 311, 312, 313, 314, 315, 316, 317, 318, 319, 320, 321, 322, 323, 324, 325, 326, 327, 328, 329, 330, 331, 332, 333, 334, 335, 336, 337, 338, 339, 340, 341, 342, 343, 344, 345, 346, 347, 348, 349, 350, 351, 352, 353, 354, 355, 356, 357, 358, 359, 360, 361, 362, 363, 364, 365, 366, 367, 368, 369, 370, 371, 372, 373, 374, 375, 376, 377, 378, 379, 380, 381, 382, 383, 384, 385, 386, 387, 388, 389, 390, 391, 392, 393, 394, 395, 396, 397, 398, 399, 400, 401, 402, 403, 404, 405, 406, 407, 408, 409, 410, 411, 412, 413, 414, 415, 416, 417, 418, 419, 420, 421, 422, 423, 424, 425, 426, 427, 428, 429, 430, 431, 432, 433, 434, 435, 436, 437, 438, 439, 440, 441, 442, 443, 444, 445, 446, 447, 448, 449, 450, 451, 452, 453, 454, 455, 456, 457, 458, 459, 460, 461, 462, 463, 464, 465, 466, 467, 468, 469, 470, 471, 472, 473, 474, 475, 476, 477, 478, 479, 480, 481, 482, 483, 484, 485, 486, 487, 488, 489, 490, 491, 492, 493, 494, 495, 496, 497, 498, 499, 500, 501, 502, 503, 504, 505, 506, 507, 508, 509, 510, 511, 512, 513, 514, 515, 516, 517, 518, 519, 520, 521, 522, 523, 524, 525, 526, 527, 528, 529, 530, 531, 532, 533, 534, 535, 536, 537, 538, 539, 540, 541, 542, 543, 544, 545, 546, 547, 548, 549, 550, 551, 552, 553, 554, 555, 556, 557, 558, 559, 560, 561, 562, 563, 564, 565, 566, 567, 568, 569, 570, 571, 572, 573, 574, 575, 576, 577, 578, 579, 580, 581, 582, 583, 584, 585, 586, 587, 588, 589, 590, 591, 592, 593, 594, 595, 596, 597, 598, 599, 600, 601, 602, 603, 604, 605, 606, 607, 608, 609, 610]\n",
            "encoded userID :  {1: 0, 2: 1, 3: 2, 4: 3, 5: 4, 6: 5, 7: 6, 8: 7, 9: 8, 10: 9, 11: 10, 12: 11, 13: 12, 14: 13, 15: 14, 16: 15, 17: 16, 18: 17, 19: 18, 20: 19, 21: 20, 22: 21, 23: 22, 24: 23, 25: 24, 26: 25, 27: 26, 28: 27, 29: 28, 30: 29, 31: 30, 32: 31, 33: 32, 34: 33, 35: 34, 36: 35, 37: 36, 38: 37, 39: 38, 40: 39, 41: 40, 42: 41, 43: 42, 44: 43, 45: 44, 46: 45, 47: 46, 48: 47, 49: 48, 50: 49, 51: 50, 52: 51, 53: 52, 54: 53, 55: 54, 56: 55, 57: 56, 58: 57, 59: 58, 60: 59, 61: 60, 62: 61, 63: 62, 64: 63, 65: 64, 66: 65, 67: 66, 68: 67, 69: 68, 70: 69, 71: 70, 72: 71, 73: 72, 74: 73, 75: 74, 76: 75, 77: 76, 78: 77, 79: 78, 80: 79, 81: 80, 82: 81, 83: 82, 84: 83, 85: 84, 86: 85, 87: 86, 88: 87, 89: 88, 90: 89, 91: 90, 92: 91, 93: 92, 94: 93, 95: 94, 96: 95, 97: 96, 98: 97, 99: 98, 100: 99, 101: 100, 102: 101, 103: 102, 104: 103, 105: 104, 106: 105, 107: 106, 108: 107, 109: 108, 110: 109, 111: 110, 112: 111, 113: 112, 114: 113, 115: 114, 116: 115, 117: 116, 118: 117, 119: 118, 120: 119, 121: 120, 122: 121, 123: 122, 124: 123, 125: 124, 126: 125, 127: 126, 128: 127, 129: 128, 130: 129, 131: 130, 132: 131, 133: 132, 134: 133, 135: 134, 136: 135, 137: 136, 138: 137, 139: 138, 140: 139, 141: 140, 142: 141, 143: 142, 144: 143, 145: 144, 146: 145, 147: 146, 148: 147, 149: 148, 150: 149, 151: 150, 152: 151, 153: 152, 154: 153, 155: 154, 156: 155, 157: 156, 158: 157, 159: 158, 160: 159, 161: 160, 162: 161, 163: 162, 164: 163, 165: 164, 166: 165, 167: 166, 168: 167, 169: 168, 170: 169, 171: 170, 172: 171, 173: 172, 174: 173, 175: 174, 176: 175, 177: 176, 178: 177, 179: 178, 180: 179, 181: 180, 182: 181, 183: 182, 184: 183, 185: 184, 186: 185, 187: 186, 188: 187, 189: 188, 190: 189, 191: 190, 192: 191, 193: 192, 194: 193, 195: 194, 196: 195, 197: 196, 198: 197, 199: 198, 200: 199, 201: 200, 202: 201, 203: 202, 204: 203, 205: 204, 206: 205, 207: 206, 208: 207, 209: 208, 210: 209, 211: 210, 212: 211, 213: 212, 214: 213, 215: 214, 216: 215, 217: 216, 218: 217, 219: 218, 220: 219, 221: 220, 222: 221, 223: 222, 224: 223, 225: 224, 226: 225, 227: 226, 228: 227, 229: 228, 230: 229, 231: 230, 232: 231, 233: 232, 234: 233, 235: 234, 236: 235, 237: 236, 238: 237, 239: 238, 240: 239, 241: 240, 242: 241, 243: 242, 244: 243, 245: 244, 246: 245, 247: 246, 248: 247, 249: 248, 250: 249, 251: 250, 252: 251, 253: 252, 254: 253, 255: 254, 256: 255, 257: 256, 258: 257, 259: 258, 260: 259, 261: 260, 262: 261, 263: 262, 264: 263, 265: 264, 266: 265, 267: 266, 268: 267, 269: 268, 270: 269, 271: 270, 272: 271, 273: 272, 274: 273, 275: 274, 276: 275, 277: 276, 278: 277, 279: 278, 280: 279, 281: 280, 282: 281, 283: 282, 284: 283, 285: 284, 286: 285, 287: 286, 288: 287, 289: 288, 290: 289, 291: 290, 292: 291, 293: 292, 294: 293, 295: 294, 296: 295, 297: 296, 298: 297, 299: 298, 300: 299, 301: 300, 302: 301, 303: 302, 304: 303, 305: 304, 306: 305, 307: 306, 308: 307, 309: 308, 310: 309, 311: 310, 312: 311, 313: 312, 314: 313, 315: 314, 316: 315, 317: 316, 318: 317, 319: 318, 320: 319, 321: 320, 322: 321, 323: 322, 324: 323, 325: 324, 326: 325, 327: 326, 328: 327, 329: 328, 330: 329, 331: 330, 332: 331, 333: 332, 334: 333, 335: 334, 336: 335, 337: 336, 338: 337, 339: 338, 340: 339, 341: 340, 342: 341, 343: 342, 344: 343, 345: 344, 346: 345, 347: 346, 348: 347, 349: 348, 350: 349, 351: 350, 352: 351, 353: 352, 354: 353, 355: 354, 356: 355, 357: 356, 358: 357, 359: 358, 360: 359, 361: 360, 362: 361, 363: 362, 364: 363, 365: 364, 366: 365, 367: 366, 368: 367, 369: 368, 370: 369, 371: 370, 372: 371, 373: 372, 374: 373, 375: 374, 376: 375, 377: 376, 378: 377, 379: 378, 380: 379, 381: 380, 382: 381, 383: 382, 384: 383, 385: 384, 386: 385, 387: 386, 388: 387, 389: 388, 390: 389, 391: 390, 392: 391, 393: 392, 394: 393, 395: 394, 396: 395, 397: 396, 398: 397, 399: 398, 400: 399, 401: 400, 402: 401, 403: 402, 404: 403, 405: 404, 406: 405, 407: 406, 408: 407, 409: 408, 410: 409, 411: 410, 412: 411, 413: 412, 414: 413, 415: 414, 416: 415, 417: 416, 418: 417, 419: 418, 420: 419, 421: 420, 422: 421, 423: 422, 424: 423, 425: 424, 426: 425, 427: 426, 428: 427, 429: 428, 430: 429, 431: 430, 432: 431, 433: 432, 434: 433, 435: 434, 436: 435, 437: 436, 438: 437, 439: 438, 440: 439, 441: 440, 442: 441, 443: 442, 444: 443, 445: 444, 446: 445, 447: 446, 448: 447, 449: 448, 450: 449, 451: 450, 452: 451, 453: 452, 454: 453, 455: 454, 456: 455, 457: 456, 458: 457, 459: 458, 460: 459, 461: 460, 462: 461, 463: 462, 464: 463, 465: 464, 466: 465, 467: 466, 468: 467, 469: 468, 470: 469, 471: 470, 472: 471, 473: 472, 474: 473, 475: 474, 476: 475, 477: 476, 478: 477, 479: 478, 480: 479, 481: 480, 482: 481, 483: 482, 484: 483, 485: 484, 486: 485, 487: 486, 488: 487, 489: 488, 490: 489, 491: 490, 492: 491, 493: 492, 494: 493, 495: 494, 496: 495, 497: 496, 498: 497, 499: 498, 500: 499, 501: 500, 502: 501, 503: 502, 504: 503, 505: 504, 506: 505, 507: 506, 508: 507, 509: 508, 510: 509, 511: 510, 512: 511, 513: 512, 514: 513, 515: 514, 516: 515, 517: 516, 518: 517, 519: 518, 520: 519, 521: 520, 522: 521, 523: 522, 524: 523, 525: 524, 526: 525, 527: 526, 528: 527, 529: 528, 530: 529, 531: 530, 532: 531, 533: 532, 534: 533, 535: 534, 536: 535, 537: 536, 538: 537, 539: 538, 540: 539, 541: 540, 542: 541, 543: 542, 544: 543, 545: 544, 546: 545, 547: 546, 548: 547, 549: 548, 550: 549, 551: 550, 552: 551, 553: 552, 554: 553, 555: 554, 556: 555, 557: 556, 558: 557, 559: 558, 560: 559, 561: 560, 562: 561, 563: 562, 564: 563, 565: 564, 566: 565, 567: 566, 568: 567, 569: 568, 570: 569, 571: 570, 572: 571, 573: 572, 574: 573, 575: 574, 576: 575, 577: 576, 578: 577, 579: 578, 580: 579, 581: 580, 582: 581, 583: 582, 584: 583, 585: 584, 586: 585, 587: 586, 588: 587, 589: 588, 590: 589, 591: 590, 592: 591, 593: 592, 594: 593, 595: 594, 596: 595, 597: 596, 598: 597, 599: 598, 600: 599, 601: 600, 602: 601, 603: 602, 604: 603, 605: 604, 606: 605, 607: 606, 608: 607, 609: 608, 610: 609}\n",
            "encoded angka ke userID:  {0: 1, 1: 2, 2: 3, 3: 4, 4: 5, 5: 6, 6: 7, 7: 8, 8: 9, 9: 10, 10: 11, 11: 12, 12: 13, 13: 14, 14: 15, 15: 16, 16: 17, 17: 18, 18: 19, 19: 20, 20: 21, 21: 22, 22: 23, 23: 24, 24: 25, 25: 26, 26: 27, 27: 28, 28: 29, 29: 30, 30: 31, 31: 32, 32: 33, 33: 34, 34: 35, 35: 36, 36: 37, 37: 38, 38: 39, 39: 40, 40: 41, 41: 42, 42: 43, 43: 44, 44: 45, 45: 46, 46: 47, 47: 48, 48: 49, 49: 50, 50: 51, 51: 52, 52: 53, 53: 54, 54: 55, 55: 56, 56: 57, 57: 58, 58: 59, 59: 60, 60: 61, 61: 62, 62: 63, 63: 64, 64: 65, 65: 66, 66: 67, 67: 68, 68: 69, 69: 70, 70: 71, 71: 72, 72: 73, 73: 74, 74: 75, 75: 76, 76: 77, 77: 78, 78: 79, 79: 80, 80: 81, 81: 82, 82: 83, 83: 84, 84: 85, 85: 86, 86: 87, 87: 88, 88: 89, 89: 90, 90: 91, 91: 92, 92: 93, 93: 94, 94: 95, 95: 96, 96: 97, 97: 98, 98: 99, 99: 100, 100: 101, 101: 102, 102: 103, 103: 104, 104: 105, 105: 106, 106: 107, 107: 108, 108: 109, 109: 110, 110: 111, 111: 112, 112: 113, 113: 114, 114: 115, 115: 116, 116: 117, 117: 118, 118: 119, 119: 120, 120: 121, 121: 122, 122: 123, 123: 124, 124: 125, 125: 126, 126: 127, 127: 128, 128: 129, 129: 130, 130: 131, 131: 132, 132: 133, 133: 134, 134: 135, 135: 136, 136: 137, 137: 138, 138: 139, 139: 140, 140: 141, 141: 142, 142: 143, 143: 144, 144: 145, 145: 146, 146: 147, 147: 148, 148: 149, 149: 150, 150: 151, 151: 152, 152: 153, 153: 154, 154: 155, 155: 156, 156: 157, 157: 158, 158: 159, 159: 160, 160: 161, 161: 162, 162: 163, 163: 164, 164: 165, 165: 166, 166: 167, 167: 168, 168: 169, 169: 170, 170: 171, 171: 172, 172: 173, 173: 174, 174: 175, 175: 176, 176: 177, 177: 178, 178: 179, 179: 180, 180: 181, 181: 182, 182: 183, 183: 184, 184: 185, 185: 186, 186: 187, 187: 188, 188: 189, 189: 190, 190: 191, 191: 192, 192: 193, 193: 194, 194: 195, 195: 196, 196: 197, 197: 198, 198: 199, 199: 200, 200: 201, 201: 202, 202: 203, 203: 204, 204: 205, 205: 206, 206: 207, 207: 208, 208: 209, 209: 210, 210: 211, 211: 212, 212: 213, 213: 214, 214: 215, 215: 216, 216: 217, 217: 218, 218: 219, 219: 220, 220: 221, 221: 222, 222: 223, 223: 224, 224: 225, 225: 226, 226: 227, 227: 228, 228: 229, 229: 230, 230: 231, 231: 232, 232: 233, 233: 234, 234: 235, 235: 236, 236: 237, 237: 238, 238: 239, 239: 240, 240: 241, 241: 242, 242: 243, 243: 244, 244: 245, 245: 246, 246: 247, 247: 248, 248: 249, 249: 250, 250: 251, 251: 252, 252: 253, 253: 254, 254: 255, 255: 256, 256: 257, 257: 258, 258: 259, 259: 260, 260: 261, 261: 262, 262: 263, 263: 264, 264: 265, 265: 266, 266: 267, 267: 268, 268: 269, 269: 270, 270: 271, 271: 272, 272: 273, 273: 274, 274: 275, 275: 276, 276: 277, 277: 278, 278: 279, 279: 280, 280: 281, 281: 282, 282: 283, 283: 284, 284: 285, 285: 286, 286: 287, 287: 288, 288: 289, 289: 290, 290: 291, 291: 292, 292: 293, 293: 294, 294: 295, 295: 296, 296: 297, 297: 298, 298: 299, 299: 300, 300: 301, 301: 302, 302: 303, 303: 304, 304: 305, 305: 306, 306: 307, 307: 308, 308: 309, 309: 310, 310: 311, 311: 312, 312: 313, 313: 314, 314: 315, 315: 316, 316: 317, 317: 318, 318: 319, 319: 320, 320: 321, 321: 322, 322: 323, 323: 324, 324: 325, 325: 326, 326: 327, 327: 328, 328: 329, 329: 330, 330: 331, 331: 332, 332: 333, 333: 334, 334: 335, 335: 336, 336: 337, 337: 338, 338: 339, 339: 340, 340: 341, 341: 342, 342: 343, 343: 344, 344: 345, 345: 346, 346: 347, 347: 348, 348: 349, 349: 350, 350: 351, 351: 352, 352: 353, 353: 354, 354: 355, 355: 356, 356: 357, 357: 358, 358: 359, 359: 360, 360: 361, 361: 362, 362: 363, 363: 364, 364: 365, 365: 366, 366: 367, 367: 368, 368: 369, 369: 370, 370: 371, 371: 372, 372: 373, 373: 374, 374: 375, 375: 376, 376: 377, 377: 378, 378: 379, 379: 380, 380: 381, 381: 382, 382: 383, 383: 384, 384: 385, 385: 386, 386: 387, 387: 388, 388: 389, 389: 390, 390: 391, 391: 392, 392: 393, 393: 394, 394: 395, 395: 396, 396: 397, 397: 398, 398: 399, 399: 400, 400: 401, 401: 402, 402: 403, 403: 404, 404: 405, 405: 406, 406: 407, 407: 408, 408: 409, 409: 410, 410: 411, 411: 412, 412: 413, 413: 414, 414: 415, 415: 416, 416: 417, 417: 418, 418: 419, 419: 420, 420: 421, 421: 422, 422: 423, 423: 424, 424: 425, 425: 426, 426: 427, 427: 428, 428: 429, 429: 430, 430: 431, 431: 432, 432: 433, 433: 434, 434: 435, 435: 436, 436: 437, 437: 438, 438: 439, 439: 440, 440: 441, 441: 442, 442: 443, 443: 444, 444: 445, 445: 446, 446: 447, 447: 448, 448: 449, 449: 450, 450: 451, 451: 452, 452: 453, 453: 454, 454: 455, 455: 456, 456: 457, 457: 458, 458: 459, 459: 460, 460: 461, 461: 462, 462: 463, 463: 464, 464: 465, 465: 466, 466: 467, 467: 468, 468: 469, 469: 470, 470: 471, 471: 472, 472: 473, 473: 474, 474: 475, 475: 476, 476: 477, 477: 478, 478: 479, 479: 480, 480: 481, 481: 482, 482: 483, 483: 484, 484: 485, 485: 486, 486: 487, 487: 488, 488: 489, 489: 490, 490: 491, 491: 492, 492: 493, 493: 494, 494: 495, 495: 496, 496: 497, 497: 498, 498: 499, 499: 500, 500: 501, 501: 502, 502: 503, 503: 504, 504: 505, 505: 506, 506: 507, 507: 508, 508: 509, 509: 510, 510: 511, 511: 512, 512: 513, 513: 514, 514: 515, 515: 516, 516: 517, 517: 518, 518: 519, 519: 520, 520: 521, 521: 522, 522: 523, 523: 524, 524: 525, 525: 526, 526: 527, 527: 528, 528: 529, 529: 530, 530: 531, 531: 532, 532: 533, 533: 534, 534: 535, 535: 536, 536: 537, 537: 538, 538: 539, 539: 540, 540: 541, 541: 542, 542: 543, 543: 544, 544: 545, 545: 546, 546: 547, 547: 548, 548: 549, 549: 550, 550: 551, 551: 552, 552: 553, 553: 554, 554: 555, 555: 556, 556: 557, 557: 558, 558: 559, 559: 560, 560: 561, 561: 562, 562: 563, 563: 564, 564: 565, 565: 566, 566: 567, 567: 568, 568: 569, 569: 570, 570: 571, 571: 572, 572: 573, 573: 574, 574: 575, 575: 576, 576: 577, 577: 578, 578: 579, 579: 580, 580: 581, 581: 582, 582: 583, 583: 584, 584: 585, 585: 586, 586: 587, 587: 588, 588: 589, 589: 590, 590: 591, 591: 592, 592: 593, 593: 594, 594: 595, 595: 596, 596: 597, 597: 598, 598: 599, 599: 600, 600: 601, 601: 602, 602: 603, 603: 604, 604: 605, 605: 606, 606: 607, 607: 608, 608: 609, 609: 610}\n"
          ]
        }
      ],
      "source": [
        "# Mengubah userID menjadi list tanpa nilai yang sama\n",
        "user_ids = clean_ratings_encode['userId'].unique().tolist()\n",
        "print('list userID: ', user_ids)\n",
        "\n",
        "# Melakukan encoding userID\n",
        "user_to_user_encoded = {x: i for i, x in enumerate(user_ids)}\n",
        "print('encoded userID : ', user_to_user_encoded)\n",
        "\n",
        "# Melakukan proses encoding angka ke ke userID\n",
        "user_encoded_to_user = {i: x for i, x in enumerate(user_ids)}\n",
        "print('encoded angka ke userID: ', user_encoded_to_user)"
      ]
    },
    {
      "cell_type": "code",
      "execution_count": 26,
      "metadata": {},
      "outputs": [],
      "source": [
        "# Mengubah placeID menjadi list tanpa nilai yang sama\n",
        "movies_ids = clean_ratings_encode['movieId'].unique().tolist()\n",
        "\n",
        "# Melakukan proses encoding placeID\n",
        "movies_to_movies_encoded = {x: i for i, x in enumerate(movies_ids)}\n",
        "\n",
        "# Melakukan proses encoding angka ke placeID\n",
        "movies_encoded_to_movies = {i: x for i, x in enumerate(movies_ids)}"
      ]
    },
    {
      "cell_type": "code",
      "execution_count": 27,
      "metadata": {},
      "outputs": [
        {
          "data": {
            "text/html": [
              "<div>\n",
              "<style scoped>\n",
              "    .dataframe tbody tr th:only-of-type {\n",
              "        vertical-align: middle;\n",
              "    }\n",
              "\n",
              "    .dataframe tbody tr th {\n",
              "        vertical-align: top;\n",
              "    }\n",
              "\n",
              "    .dataframe thead th {\n",
              "        text-align: right;\n",
              "    }\n",
              "</style>\n",
              "<table border=\"1\" class=\"dataframe\">\n",
              "  <thead>\n",
              "    <tr style=\"text-align: right;\">\n",
              "      <th></th>\n",
              "      <th>userId</th>\n",
              "      <th>movieId</th>\n",
              "      <th>rating</th>\n",
              "      <th>user</th>\n",
              "      <th>movies</th>\n",
              "    </tr>\n",
              "  </thead>\n",
              "  <tbody>\n",
              "    <tr>\n",
              "      <th>0</th>\n",
              "      <td>1</td>\n",
              "      <td>1</td>\n",
              "      <td>4.0</td>\n",
              "      <td>0</td>\n",
              "      <td>0</td>\n",
              "    </tr>\n",
              "    <tr>\n",
              "      <th>1</th>\n",
              "      <td>1</td>\n",
              "      <td>3</td>\n",
              "      <td>4.0</td>\n",
              "      <td>0</td>\n",
              "      <td>1</td>\n",
              "    </tr>\n",
              "    <tr>\n",
              "      <th>2</th>\n",
              "      <td>1</td>\n",
              "      <td>6</td>\n",
              "      <td>4.0</td>\n",
              "      <td>0</td>\n",
              "      <td>2</td>\n",
              "    </tr>\n",
              "    <tr>\n",
              "      <th>3</th>\n",
              "      <td>1</td>\n",
              "      <td>47</td>\n",
              "      <td>5.0</td>\n",
              "      <td>0</td>\n",
              "      <td>3</td>\n",
              "    </tr>\n",
              "    <tr>\n",
              "      <th>4</th>\n",
              "      <td>1</td>\n",
              "      <td>50</td>\n",
              "      <td>5.0</td>\n",
              "      <td>0</td>\n",
              "      <td>4</td>\n",
              "    </tr>\n",
              "  </tbody>\n",
              "</table>\n",
              "</div>"
            ],
            "text/plain": [
              "   userId  movieId  rating  user  movies\n",
              "0       1        1     4.0     0       0\n",
              "1       1        3     4.0     0       1\n",
              "2       1        6     4.0     0       2\n",
              "3       1       47     5.0     0       3\n",
              "4       1       50     5.0     0       4"
            ]
          },
          "execution_count": 27,
          "metadata": {},
          "output_type": "execute_result"
        }
      ],
      "source": [
        "# Mapping userID ke dataframe user\n",
        "clean_ratings_encode['user'] = clean_ratings_encode['userId'].map(user_to_user_encoded)\n",
        "\n",
        "# Mapping placeID ke dataframe resto\n",
        "clean_ratings_encode['movies'] = clean_ratings_encode['movieId'].map(movies_to_movies_encoded)\n",
        "clean_ratings_encode.head()"
      ]
    },
    {
      "cell_type": "code",
      "execution_count": 28,
      "metadata": {},
      "outputs": [
        {
          "name": "stdout",
          "output_type": "stream",
          "text": [
            "610\n",
            "9724\n",
            "Number of User: 610, Number of movies: 9724, Min Rating: 0.5, Max Rating: 5.0\n"
          ]
        }
      ],
      "source": [
        "# Mendapatkan jumlah user\n",
        "jumlah_users = len(user_to_user_encoded)\n",
        "print(jumlah_users)\n",
        "\n",
        "# Mendapatkan jumlah resto\n",
        "jumlah_movies = len(movies_encoded_to_movies)\n",
        "print(jumlah_movies)\n",
        "\n",
        "# Mengubah rating menjadi nilai float\n",
        "clean_ratings_encode['rating'] = clean_ratings_encode['rating'].values.astype(np.float32)\n",
        "\n",
        "# Nilai minimum rating\n",
        "min_rating = min(clean_ratings_encode['rating'])\n",
        "\n",
        "# Nilai maksimal rating\n",
        "max_rating = max(clean_ratings_encode['rating'])\n",
        "\n",
        "print('Number of User: {}, Number of movies: {}, Min Rating: {}, Max Rating: {}'.format(\n",
        "    jumlah_users, jumlah_movies, min_rating, max_rating\n",
        "))"
      ]
    },
    {
      "cell_type": "markdown",
      "metadata": {},
      "source": [
        "## Data Splitting"
      ]
    },
    {
      "cell_type": "markdown",
      "metadata": {},
      "source": [
        "Mengacak data ratings terlebih dahulu agar distribusinya menjadi random"
      ]
    },
    {
      "cell_type": "code",
      "execution_count": 29,
      "metadata": {},
      "outputs": [
        {
          "data": {
            "text/html": [
              "<div>\n",
              "<style scoped>\n",
              "    .dataframe tbody tr th:only-of-type {\n",
              "        vertical-align: middle;\n",
              "    }\n",
              "\n",
              "    .dataframe tbody tr th {\n",
              "        vertical-align: top;\n",
              "    }\n",
              "\n",
              "    .dataframe thead th {\n",
              "        text-align: right;\n",
              "    }\n",
              "</style>\n",
              "<table border=\"1\" class=\"dataframe\">\n",
              "  <thead>\n",
              "    <tr style=\"text-align: right;\">\n",
              "      <th></th>\n",
              "      <th>userId</th>\n",
              "      <th>movieId</th>\n",
              "      <th>rating</th>\n",
              "      <th>user</th>\n",
              "      <th>movies</th>\n",
              "    </tr>\n",
              "  </thead>\n",
              "  <tbody>\n",
              "    <tr>\n",
              "      <th>67037</th>\n",
              "      <td>432</td>\n",
              "      <td>77866</td>\n",
              "      <td>4.5</td>\n",
              "      <td>431</td>\n",
              "      <td>4730</td>\n",
              "    </tr>\n",
              "    <tr>\n",
              "      <th>42175</th>\n",
              "      <td>288</td>\n",
              "      <td>474</td>\n",
              "      <td>3.0</td>\n",
              "      <td>287</td>\n",
              "      <td>474</td>\n",
              "    </tr>\n",
              "    <tr>\n",
              "      <th>93850</th>\n",
              "      <td>599</td>\n",
              "      <td>4351</td>\n",
              "      <td>3.0</td>\n",
              "      <td>598</td>\n",
              "      <td>2631</td>\n",
              "    </tr>\n",
              "    <tr>\n",
              "      <th>6187</th>\n",
              "      <td>42</td>\n",
              "      <td>2987</td>\n",
              "      <td>4.0</td>\n",
              "      <td>41</td>\n",
              "      <td>194</td>\n",
              "    </tr>\n",
              "    <tr>\n",
              "      <th>12229</th>\n",
              "      <td>75</td>\n",
              "      <td>1610</td>\n",
              "      <td>4.0</td>\n",
              "      <td>74</td>\n",
              "      <td>727</td>\n",
              "    </tr>\n",
              "    <tr>\n",
              "      <th>...</th>\n",
              "      <td>...</td>\n",
              "      <td>...</td>\n",
              "      <td>...</td>\n",
              "      <td>...</td>\n",
              "      <td>...</td>\n",
              "    </tr>\n",
              "    <tr>\n",
              "      <th>52065</th>\n",
              "      <td>339</td>\n",
              "      <td>1580</td>\n",
              "      <td>2.0</td>\n",
              "      <td>338</td>\n",
              "      <td>101</td>\n",
              "    </tr>\n",
              "    <tr>\n",
              "      <th>92269</th>\n",
              "      <td>597</td>\n",
              "      <td>1090</td>\n",
              "      <td>5.0</td>\n",
              "      <td>596</td>\n",
              "      <td>63</td>\n",
              "    </tr>\n",
              "    <tr>\n",
              "      <th>18346</th>\n",
              "      <td>116</td>\n",
              "      <td>30749</td>\n",
              "      <td>4.5</td>\n",
              "      <td>115</td>\n",
              "      <td>890</td>\n",
              "    </tr>\n",
              "    <tr>\n",
              "      <th>17425</th>\n",
              "      <td>111</td>\n",
              "      <td>5025</td>\n",
              "      <td>3.0</td>\n",
              "      <td>110</td>\n",
              "      <td>4497</td>\n",
              "    </tr>\n",
              "    <tr>\n",
              "      <th>76059</th>\n",
              "      <td>479</td>\n",
              "      <td>351</td>\n",
              "      <td>2.0</td>\n",
              "      <td>478</td>\n",
              "      <td>312</td>\n",
              "    </tr>\n",
              "  </tbody>\n",
              "</table>\n",
              "<p>10084 rows × 5 columns</p>\n",
              "</div>"
            ],
            "text/plain": [
              "       userId  movieId  rating  user  movies\n",
              "67037     432    77866     4.5   431    4730\n",
              "42175     288      474     3.0   287     474\n",
              "93850     599     4351     3.0   598    2631\n",
              "6187       42     2987     4.0    41     194\n",
              "12229      75     1610     4.0    74     727\n",
              "...       ...      ...     ...   ...     ...\n",
              "52065     339     1580     2.0   338     101\n",
              "92269     597     1090     5.0   596      63\n",
              "18346     116    30749     4.5   115     890\n",
              "17425     111     5025     3.0   110    4497\n",
              "76059     479      351     2.0   478     312\n",
              "\n",
              "[10084 rows x 5 columns]"
            ]
          },
          "execution_count": 29,
          "metadata": {},
          "output_type": "execute_result"
        }
      ],
      "source": [
        "clean_ratings_random = clean_ratings_encode.sample(frac=0.1, random_state=42)\n",
        "clean_ratings_random"
      ]
    },
    {
      "cell_type": "markdown",
      "metadata": {},
      "source": [
        "Membagi data menjadi variabel X dan y dan menerapkan normalisasi untuk data rating"
      ]
    },
    {
      "cell_type": "code",
      "execution_count": 30,
      "metadata": {},
      "outputs": [],
      "source": [
        "X = clean_ratings_random[['user', 'movies']].values\n",
        "\n",
        "y = clean_ratings_random['rating'].apply(lambda x: (x - min_rating) / (max_rating - min_rating)).values"
      ]
    },
    {
      "cell_type": "code",
      "execution_count": 31,
      "metadata": {},
      "outputs": [
        {
          "name": "stdout",
          "output_type": "stream",
          "text": [
            "[[ 431 4730]\n",
            " [ 287  474]\n",
            " [ 598 2631]\n",
            " ...\n",
            " [ 115  890]\n",
            " [ 110 4497]\n",
            " [ 478  312]] [0.88888889 0.55555556 0.55555556 ... 0.88888889 0.55555556 0.33333333]\n"
          ]
        }
      ],
      "source": [
        "train_indices = int(0.8 * clean_ratings_random.shape[0])\n",
        "x_train, x_val, y_train, y_val = (\n",
        "    X[:train_indices],\n",
        "    X[train_indices:],\n",
        "    y[:train_indices],\n",
        "    y[train_indices:]\n",
        ")\n",
        "\n",
        "print(X, y)"
      ]
    },
    {
      "cell_type": "code",
      "execution_count": null,
      "metadata": {},
      "outputs": [],
      "source": []
    },
    {
      "cell_type": "markdown",
      "metadata": {},
      "source": [
        "# Modelling"
      ]
    },
    {
      "cell_type": "markdown",
      "metadata": {},
      "source": [
        "## Content-Based Filtering Model"
      ]
    },
    {
      "cell_type": "code",
      "execution_count": 32,
      "metadata": {},
      "outputs": [],
      "source": [
        "def movies_recommendations(nama_movies, similarity_data=genre_cosin_df, items=clean_movies[['title', 'genres']], k=5):\n",
        "    \"\"\"\n",
        "    Rekomendasi movies berdasarkan kemiripan dataframe\n",
        "\n",
        "    Parameter:\n",
        "    ---\n",
        "    nama_movies : tipe data string (str)\n",
        "                Nama movies (index kemiripan dataframe)\n",
        "    similarity_data : tipe data pd.DataFrame (object)\n",
        "                      Kesamaan dataframe, simetrik, dengan movies sebagai\n",
        "                      indeks dan kolom\n",
        "    items : tipe data pd.DataFrame (object)\n",
        "            Mengandung kedua nama dan fitur lainnya yang digunakan untuk mendefinisikan kemiripan\n",
        "    k : tipe data integer (int)\n",
        "        Banyaknya jumlah rekomendasi yang diberikan\n",
        "    ---\n",
        "\n",
        "\n",
        "    Pada index ini, kita mengambil k dengan nilai similarity terbesar\n",
        "    pada index matrix yang diberikan (i).\n",
        "    \"\"\"\n",
        "\n",
        "\n",
        "    # Mengambil data dengan menggunakan argpartition untuk melakukan partisi secara tidak langsung sepanjang sumbu yang diberikan\n",
        "    # Dataframe diubah menjadi numpy\n",
        "    # Range(start, stop, step)\n",
        "    index = similarity_data.loc[:,nama_movies].to_numpy().argpartition(\n",
        "        range(-1, -k, -1))\n",
        "\n",
        "    # Mengambil data dengan similarity terbesar dari index yang ada\n",
        "    closest = similarity_data.columns[index[-1:-(k+2):-1]]\n",
        "\n",
        "    # Drop nama_movies agar nama movies yang dicari tidak muncul dalam daftar rekomendasi\n",
        "    closest = closest.drop(nama_movies, errors='ignore')\n",
        "\n",
        "    return pd.DataFrame(closest).merge(items).head(k)"
      ]
    },
    {
      "cell_type": "code",
      "execution_count": 33,
      "metadata": {},
      "outputs": [
        {
          "data": {
            "text/html": [
              "<div>\n",
              "<style scoped>\n",
              "    .dataframe tbody tr th:only-of-type {\n",
              "        vertical-align: middle;\n",
              "    }\n",
              "\n",
              "    .dataframe tbody tr th {\n",
              "        vertical-align: top;\n",
              "    }\n",
              "\n",
              "    .dataframe thead th {\n",
              "        text-align: right;\n",
              "    }\n",
              "</style>\n",
              "<table border=\"1\" class=\"dataframe\">\n",
              "  <thead>\n",
              "    <tr style=\"text-align: right;\">\n",
              "      <th></th>\n",
              "      <th>movieId</th>\n",
              "      <th>title</th>\n",
              "      <th>genres</th>\n",
              "    </tr>\n",
              "  </thead>\n",
              "  <tbody>\n",
              "    <tr>\n",
              "      <th>0</th>\n",
              "      <td>1</td>\n",
              "      <td>Toy Story (1995)</td>\n",
              "      <td>Adventure</td>\n",
              "    </tr>\n",
              "  </tbody>\n",
              "</table>\n",
              "</div>"
            ],
            "text/plain": [
              "   movieId             title     genres\n",
              "0        1  Toy Story (1995)  Adventure"
            ]
          },
          "execution_count": 33,
          "metadata": {},
          "output_type": "execute_result"
        }
      ],
      "source": [
        "clean_movies[clean_movies['title'] == 'Toy Story (1995)']"
      ]
    },
    {
      "cell_type": "code",
      "execution_count": 34,
      "metadata": {},
      "outputs": [
        {
          "data": {
            "text/html": [
              "<div>\n",
              "<style scoped>\n",
              "    .dataframe tbody tr th:only-of-type {\n",
              "        vertical-align: middle;\n",
              "    }\n",
              "\n",
              "    .dataframe tbody tr th {\n",
              "        vertical-align: top;\n",
              "    }\n",
              "\n",
              "    .dataframe thead th {\n",
              "        text-align: right;\n",
              "    }\n",
              "</style>\n",
              "<table border=\"1\" class=\"dataframe\">\n",
              "  <thead>\n",
              "    <tr style=\"text-align: right;\">\n",
              "      <th></th>\n",
              "      <th>title</th>\n",
              "      <th>genres</th>\n",
              "    </tr>\n",
              "  </thead>\n",
              "  <tbody>\n",
              "    <tr>\n",
              "      <th>0</th>\n",
              "      <td>Touching the Void (2003)</td>\n",
              "      <td>Adventure</td>\n",
              "    </tr>\n",
              "    <tr>\n",
              "      <th>1</th>\n",
              "      <td>Over the Hedge (2006)</td>\n",
              "      <td>Adventure</td>\n",
              "    </tr>\n",
              "    <tr>\n",
              "      <th>2</th>\n",
              "      <td>RV (2006)</td>\n",
              "      <td>Adventure</td>\n",
              "    </tr>\n",
              "    <tr>\n",
              "      <th>3</th>\n",
              "      <td>Shaggy Dog, The (2006)</td>\n",
              "      <td>Adventure</td>\n",
              "    </tr>\n",
              "    <tr>\n",
              "      <th>4</th>\n",
              "      <td>Pink Panther, The (2006)</td>\n",
              "      <td>Adventure</td>\n",
              "    </tr>\n",
              "  </tbody>\n",
              "</table>\n",
              "</div>"
            ],
            "text/plain": [
              "                      title     genres\n",
              "0  Touching the Void (2003)  Adventure\n",
              "1     Over the Hedge (2006)  Adventure\n",
              "2                 RV (2006)  Adventure\n",
              "3    Shaggy Dog, The (2006)  Adventure\n",
              "4  Pink Panther, The (2006)  Adventure"
            ]
          },
          "execution_count": 34,
          "metadata": {},
          "output_type": "execute_result"
        }
      ],
      "source": [
        "movies_recommendations('Toy Story (1995)')"
      ]
    },
    {
      "cell_type": "markdown",
      "metadata": {},
      "source": [
        "## Collaborative Filtering Model"
      ]
    },
    {
      "cell_type": "code",
      "execution_count": 35,
      "metadata": {},
      "outputs": [],
      "source": [
        "class RecommenderNet(tf.keras.Model):\n",
        "\n",
        "  # Insialisasi fungsi\n",
        "  def __init__(self, num_users, num_movies, embedding_size, **kwargs):\n",
        "    super(RecommenderNet, self).__init__(**kwargs)\n",
        "    self.num_users = num_users\n",
        "    self.num_movies = num_movies\n",
        "    self.embedding_size = embedding_size\n",
        "    self.user_embedding = layers.Embedding( # layer embedding user\n",
        "        num_users,\n",
        "        embedding_size,\n",
        "        embeddings_initializer = 'he_normal',\n",
        "        embeddings_regularizer = keras.regularizers.l2(1e-6)\n",
        "    )\n",
        "    self.user_bias = layers.Embedding(num_users, 1) # layer embedding user bias\n",
        "    self.movies_embedding = layers.Embedding( # layer embeddings movies\n",
        "        num_movies,\n",
        "        embedding_size,\n",
        "        embeddings_initializer = 'he_normal',\n",
        "        embeddings_regularizer = keras.regularizers.l2(1e-6)\n",
        "    )\n",
        "    self.movies_bias = layers.Embedding(num_movies, 1) # layer embedding movies bias\n",
        "\n",
        "  def call(self, inputs):\n",
        "    user_vector = self.user_embedding(inputs[:,0]) # memanggil layer embedding 1\n",
        "    user_bias = self.user_bias(inputs[:, 0]) # memanggil layer embedding 2\n",
        "    movies_vector = self.movies_embedding(inputs[:, 1]) # memanggil layer embedding 3\n",
        "    movies_bias = self.movies_bias(inputs[:, 1]) # memanggil layer embedding 4\n",
        "\n",
        "    dot_user_movies = tf.tensordot(user_vector, movies_vector, 2)\n",
        "\n",
        "    x = dot_user_movies + user_bias + movies_bias\n",
        "\n",
        "    return tf.nn.sigmoid(x) # activation sigmoid"
      ]
    },
    {
      "cell_type": "code",
      "execution_count": 36,
      "metadata": {},
      "outputs": [],
      "source": [
        "model = RecommenderNet(jumlah_users, jumlah_movies, 50) # inisialisasi model\n",
        "\n",
        "# model compile\n",
        "model.compile(\n",
        "    loss = tf.keras.losses.BinaryCrossentropy(),\n",
        "    optimizer = keras.optimizers.Adam(learning_rate=0.001),\n",
        "    metrics=[tf.keras.metrics.RootMeanSquaredError()]\n",
        ")"
      ]
    },
    {
      "cell_type": "code",
      "execution_count": 37,
      "metadata": {},
      "outputs": [
        {
          "name": "stdout",
          "output_type": "stream",
          "text": [
            "Epoch 1/30\n",
            "1009/1009 [==============================] - 13s 11ms/step - loss: 0.6816 - root_mean_squared_error: 0.2749 - val_loss: 0.6656 - val_root_mean_squared_error: 0.2632\n",
            "Epoch 2/30\n",
            "1009/1009 [==============================] - 9s 9ms/step - loss: 0.6328 - root_mean_squared_error: 0.2276 - val_loss: 0.6479 - val_root_mean_squared_error: 0.2460\n",
            "Epoch 3/30\n",
            "1009/1009 [==============================] - 9s 9ms/step - loss: 0.6194 - root_mean_squared_error: 0.2141 - val_loss: 0.6451 - val_root_mean_squared_error: 0.2433\n",
            "Epoch 4/30\n",
            "1009/1009 [==============================] - 10s 10ms/step - loss: 0.6123 - root_mean_squared_error: 0.2065 - val_loss: 0.6427 - val_root_mean_squared_error: 0.2410\n",
            "Epoch 5/30\n",
            "1009/1009 [==============================] - 14s 14ms/step - loss: 0.6072 - root_mean_squared_error: 0.2011 - val_loss: 0.6389 - val_root_mean_squared_error: 0.2372\n",
            "Epoch 6/30\n",
            "1009/1009 [==============================] - 16s 16ms/step - loss: 0.6026 - root_mean_squared_error: 0.1960 - val_loss: 0.6377 - val_root_mean_squared_error: 0.2362\n",
            "Epoch 7/30\n",
            "1009/1009 [==============================] - 19s 19ms/step - loss: 0.5977 - root_mean_squared_error: 0.1905 - val_loss: 0.6357 - val_root_mean_squared_error: 0.2343\n",
            "Epoch 8/30\n",
            "1009/1009 [==============================] - 20s 20ms/step - loss: 0.5942 - root_mean_squared_error: 0.1864 - val_loss: 0.6345 - val_root_mean_squared_error: 0.2332\n",
            "Epoch 9/30\n",
            "1009/1009 [==============================] - 20s 20ms/step - loss: 0.5910 - root_mean_squared_error: 0.1827 - val_loss: 0.6322 - val_root_mean_squared_error: 0.2310\n",
            "Epoch 10/30\n",
            "1009/1009 [==============================] - 19s 19ms/step - loss: 0.5882 - root_mean_squared_error: 0.1795 - val_loss: 0.6318 - val_root_mean_squared_error: 0.2307\n",
            "Epoch 11/30\n",
            "1009/1009 [==============================] - 10s 10ms/step - loss: 0.5868 - root_mean_squared_error: 0.1779 - val_loss: 0.6311 - val_root_mean_squared_error: 0.2301\n",
            "Epoch 12/30\n",
            "1009/1009 [==============================] - 9s 9ms/step - loss: 0.5842 - root_mean_squared_error: 0.1747 - val_loss: 0.6296 - val_root_mean_squared_error: 0.2287\n",
            "Epoch 13/30\n",
            "1009/1009 [==============================] - 9s 9ms/step - loss: 0.5824 - root_mean_squared_error: 0.1726 - val_loss: 0.6291 - val_root_mean_squared_error: 0.2282\n",
            "Epoch 14/30\n",
            "1009/1009 [==============================] - 9s 9ms/step - loss: 0.5799 - root_mean_squared_error: 0.1695 - val_loss: 0.6284 - val_root_mean_squared_error: 0.2276\n",
            "Epoch 15/30\n",
            "1009/1009 [==============================] - 9s 9ms/step - loss: 0.5789 - root_mean_squared_error: 0.1684 - val_loss: 0.6286 - val_root_mean_squared_error: 0.2278\n",
            "Epoch 16/30\n",
            "1009/1009 [==============================] - 9s 9ms/step - loss: 0.5778 - root_mean_squared_error: 0.1670 - val_loss: 0.6275 - val_root_mean_squared_error: 0.2267\n",
            "Epoch 17/30\n",
            "1009/1009 [==============================] - 9s 9ms/step - loss: 0.5757 - root_mean_squared_error: 0.1642 - val_loss: 0.6272 - val_root_mean_squared_error: 0.2264\n",
            "Epoch 18/30\n",
            "1009/1009 [==============================] - 9s 9ms/step - loss: 0.5748 - root_mean_squared_error: 0.1632 - val_loss: 0.6271 - val_root_mean_squared_error: 0.2264\n",
            "Epoch 19/30\n",
            "1009/1009 [==============================] - 9s 9ms/step - loss: 0.5739 - root_mean_squared_error: 0.1622 - val_loss: 0.6271 - val_root_mean_squared_error: 0.2264\n",
            "Epoch 20/30\n",
            "1009/1009 [==============================] - 11s 11ms/step - loss: 0.5726 - root_mean_squared_error: 0.1603 - val_loss: 0.6263 - val_root_mean_squared_error: 0.2256\n",
            "Epoch 21/30\n",
            "1009/1009 [==============================] - 19s 19ms/step - loss: 0.5713 - root_mean_squared_error: 0.1585 - val_loss: 0.6274 - val_root_mean_squared_error: 0.2268\n",
            "Epoch 22/30\n",
            "1009/1009 [==============================] - 19s 19ms/step - loss: 0.5702 - root_mean_squared_error: 0.1572 - val_loss: 0.6273 - val_root_mean_squared_error: 0.2267\n",
            "Epoch 23/30\n",
            "1009/1009 [==============================] - 12s 12ms/step - loss: 0.5698 - root_mean_squared_error: 0.1567 - val_loss: 0.6279 - val_root_mean_squared_error: 0.2273\n",
            "Epoch 24/30\n",
            "1009/1009 [==============================] - 8s 8ms/step - loss: 0.5678 - root_mean_squared_error: 0.1540 - val_loss: 0.6270 - val_root_mean_squared_error: 0.2263\n",
            "Epoch 25/30\n",
            "1009/1009 [==============================] - 8s 8ms/step - loss: 0.5683 - root_mean_squared_error: 0.1550 - val_loss: 0.6278 - val_root_mean_squared_error: 0.2271\n",
            "Epoch 26/30\n",
            "1009/1009 [==============================] - 9s 9ms/step - loss: 0.5670 - root_mean_squared_error: 0.1530 - val_loss: 0.6275 - val_root_mean_squared_error: 0.2268\n",
            "Epoch 27/30\n",
            "1009/1009 [==============================] - 16s 16ms/step - loss: 0.5660 - root_mean_squared_error: 0.1519 - val_loss: 0.6278 - val_root_mean_squared_error: 0.2271\n",
            "Epoch 28/30\n",
            "1009/1009 [==============================] - 8s 8ms/step - loss: 0.5659 - root_mean_squared_error: 0.1516 - val_loss: 0.6271 - val_root_mean_squared_error: 0.2264\n",
            "Epoch 29/30\n",
            "1009/1009 [==============================] - 8s 8ms/step - loss: 0.5654 - root_mean_squared_error: 0.1507 - val_loss: 0.6278 - val_root_mean_squared_error: 0.2271\n",
            "Epoch 30/30\n",
            "1009/1009 [==============================] - 9s 9ms/step - loss: 0.5646 - root_mean_squared_error: 0.1498 - val_loss: 0.6280 - val_root_mean_squared_error: 0.2272\n"
          ]
        }
      ],
      "source": [
        "# Memulai training\n",
        "\n",
        "history = model.fit(\n",
        "    x = x_train,\n",
        "    y = y_train,\n",
        "    batch_size = 8,\n",
        "    epochs = 30,\n",
        "    validation_data = (x_val, y_val)\n",
        ")"
      ]
    },
    {
      "cell_type": "code",
      "execution_count": 38,
      "metadata": {},
      "outputs": [
        {
          "data": {
            "image/png": "[encoded data removed]",
            "text/plain": [
              "<Figure size 640x480 with 1 Axes>"
            ]
          },
          "metadata": {},
          "output_type": "display_data"
        }
      ],
      "source": [
        "plt.plot(history.history['root_mean_squared_error'])\n",
        "plt.plot(history.history['val_root_mean_squared_error'])\n",
        "plt.title('model_metrics')\n",
        "plt.ylabel('root_mean_squared_error')\n",
        "plt.xlabel('epoch')\n",
        "plt.legend(['train', 'test'], loc='upper left')\n",
        "plt.show()"
      ]
    },
    {
      "cell_type": "code",
      "execution_count": 38,
      "metadata": {},
      "outputs": [
        {
          "name": "stdout",
          "output_type": "stream",
          "text": [
            "Epoch 1/100\n",
            "1009/1009 [==============================] - 11s 9ms/step - loss: 0.6815 - root_mean_squared_error: 0.2748 - val_loss: 0.6665 - val_root_mean_squared_error: 0.2641\n",
            "Epoch 2/100\n",
            "1009/1009 [==============================] - 9s 9ms/step - loss: 0.6323 - root_mean_squared_error: 0.2271 - val_loss: 0.6495 - val_root_mean_squared_error: 0.2477\n",
            "Epoch 3/100\n",
            "1009/1009 [==============================] - 9s 9ms/step - loss: 0.6205 - root_mean_squared_error: 0.2153 - val_loss: 0.6477 - val_root_mean_squared_error: 0.2459\n",
            "Epoch 4/100\n",
            "1009/1009 [==============================] - 16s 15ms/step - loss: 0.6125 - root_mean_squared_error: 0.2067 - val_loss: 0.6421 - val_root_mean_squared_error: 0.2403\n",
            "Epoch 5/100\n",
            "1009/1009 [==============================] - 21s 21ms/step - loss: 0.6066 - root_mean_squared_error: 0.2003 - val_loss: 0.6400 - val_root_mean_squared_error: 0.2384\n",
            "Epoch 6/100\n",
            "1009/1009 [==============================] - 21s 20ms/step - loss: 0.6024 - root_mean_squared_error: 0.1957 - val_loss: 0.6376 - val_root_mean_squared_error: 0.2360\n",
            "Epoch 7/100\n",
            "1009/1009 [==============================] - 21s 21ms/step - loss: 0.5978 - root_mean_squared_error: 0.1907 - val_loss: 0.6362 - val_root_mean_squared_error: 0.2348\n",
            "Epoch 8/100\n",
            "1009/1009 [==============================] - 21s 21ms/step - loss: 0.5958 - root_mean_squared_error: 0.1884 - val_loss: 0.6346 - val_root_mean_squared_error: 0.2333\n",
            "Epoch 9/100\n",
            "1009/1009 [==============================] - 20s 20ms/step - loss: 0.5913 - root_mean_squared_error: 0.1830 - val_loss: 0.6326 - val_root_mean_squared_error: 0.2314\n",
            "Epoch 10/100\n",
            "1009/1009 [==============================] - 21s 21ms/step - loss: 0.5889 - root_mean_squared_error: 0.1804 - val_loss: 0.6311 - val_root_mean_squared_error: 0.2299\n",
            "Epoch 11/100\n",
            "1009/1009 [==============================] - 21s 20ms/step - loss: 0.5869 - root_mean_squared_error: 0.1780 - val_loss: 0.6307 - val_root_mean_squared_error: 0.2296\n",
            "Epoch 12/100\n",
            "1009/1009 [==============================] - 21s 20ms/step - loss: 0.5843 - root_mean_squared_error: 0.1748 - val_loss: 0.6291 - val_root_mean_squared_error: 0.2281\n",
            "Epoch 13/100\n",
            "1009/1009 [==============================] - 21s 21ms/step - loss: 0.5822 - root_mean_squared_error: 0.1723 - val_loss: 0.6294 - val_root_mean_squared_error: 0.2285\n",
            "Epoch 14/100\n",
            "1009/1009 [==============================] - 20s 20ms/step - loss: 0.5810 - root_mean_squared_error: 0.1708 - val_loss: 0.6293 - val_root_mean_squared_error: 0.2285\n",
            "Epoch 15/100\n",
            "1009/1009 [==============================] - 21s 21ms/step - loss: 0.5794 - root_mean_squared_error: 0.1688 - val_loss: 0.6292 - val_root_mean_squared_error: 0.2284\n",
            "Epoch 16/100\n",
            "1009/1009 [==============================] - 21s 21ms/step - loss: 0.5779 - root_mean_squared_error: 0.1670 - val_loss: 0.6280 - val_root_mean_squared_error: 0.2273\n",
            "Epoch 17/100\n",
            "1009/1009 [==============================] - 21s 21ms/step - loss: 0.5768 - root_mean_squared_error: 0.1657 - val_loss: 0.6278 - val_root_mean_squared_error: 0.2271\n",
            "Epoch 18/100\n",
            "1009/1009 [==============================] - 21s 21ms/step - loss: 0.5745 - root_mean_squared_error: 0.1629 - val_loss: 0.6282 - val_root_mean_squared_error: 0.2274\n",
            "Epoch 19/100\n",
            "1009/1009 [==============================] - 22s 22ms/step - loss: 0.5734 - root_mean_squared_error: 0.1612 - val_loss: 0.6278 - val_root_mean_squared_error: 0.2271\n",
            "Epoch 20/100\n",
            "1009/1009 [==============================] - 15s 15ms/step - loss: 0.5723 - root_mean_squared_error: 0.1598 - val_loss: 0.6283 - val_root_mean_squared_error: 0.2276\n",
            "Epoch 21/100\n",
            "1009/1009 [==============================] - 12s 12ms/step - loss: 0.5716 - root_mean_squared_error: 0.1591 - val_loss: 0.6280 - val_root_mean_squared_error: 0.2273\n",
            "Epoch 22/100\n",
            "1009/1009 [==============================] - 9s 9ms/step - loss: 0.5704 - root_mean_squared_error: 0.1575 - val_loss: 0.6286 - val_root_mean_squared_error: 0.2279\n",
            "Epoch 23/100\n",
            "1009/1009 [==============================] - 10s 10ms/step - loss: 0.5696 - root_mean_squared_error: 0.1562 - val_loss: 0.6279 - val_root_mean_squared_error: 0.2272\n",
            "Epoch 24/100\n",
            "1009/1009 [==============================] - 9s 9ms/step - loss: 0.5682 - root_mean_squared_error: 0.1548 - val_loss: 0.6294 - val_root_mean_squared_error: 0.2287\n",
            "Epoch 25/100\n",
            "1009/1009 [==============================] - 9s 9ms/step - loss: 0.5680 - root_mean_squared_error: 0.1545 - val_loss: 0.6287 - val_root_mean_squared_error: 0.2281\n",
            "Epoch 26/100\n",
            "1009/1009 [==============================] - 13s 13ms/step - loss: 0.5670 - root_mean_squared_error: 0.1531 - val_loss: 0.6289 - val_root_mean_squared_error: 0.2283\n",
            "Epoch 27/100\n",
            "1009/1009 [==============================] - 19s 19ms/step - loss: 0.5665 - root_mean_squared_error: 0.1524 - val_loss: 0.6292 - val_root_mean_squared_error: 0.2284\n",
            "Epoch 28/100\n",
            "1009/1009 [==============================] - 18s 17ms/step - loss: 0.5661 - root_mean_squared_error: 0.1518 - val_loss: 0.6286 - val_root_mean_squared_error: 0.2279\n",
            "Epoch 29/100\n",
            "1009/1009 [==============================] - 18s 18ms/step - loss: 0.5649 - root_mean_squared_error: 0.1502 - val_loss: 0.6287 - val_root_mean_squared_error: 0.2279\n",
            "Epoch 30/100\n",
            "1009/1009 [==============================] - 19s 19ms/step - loss: 0.5649 - root_mean_squared_error: 0.1501 - val_loss: 0.6287 - val_root_mean_squared_error: 0.2278\n",
            "Epoch 31/100\n",
            "1009/1009 [==============================] - 20s 19ms/step - loss: 0.5641 - root_mean_squared_error: 0.1491 - val_loss: 0.6288 - val_root_mean_squared_error: 0.2280\n",
            "Epoch 32/100\n",
            "1009/1009 [==============================] - 19s 19ms/step - loss: 0.5634 - root_mean_squared_error: 0.1483 - val_loss: 0.6287 - val_root_mean_squared_error: 0.2277\n",
            "Epoch 33/100\n",
            "1009/1009 [==============================] - 16s 16ms/step - loss: 0.5625 - root_mean_squared_error: 0.1470 - val_loss: 0.6280 - val_root_mean_squared_error: 0.2269\n",
            "Epoch 34/100\n",
            "1009/1009 [==============================] - 10s 10ms/step - loss: 0.5623 - root_mean_squared_error: 0.1466 - val_loss: 0.6288 - val_root_mean_squared_error: 0.2278\n",
            "Epoch 35/100\n",
            "1009/1009 [==============================] - 19s 19ms/step - loss: 0.5609 - root_mean_squared_error: 0.1450 - val_loss: 0.6291 - val_root_mean_squared_error: 0.2281\n",
            "Epoch 36/100\n",
            "1009/1009 [==============================] - 9s 9ms/step - loss: 0.5618 - root_mean_squared_error: 0.1463 - val_loss: 0.6293 - val_root_mean_squared_error: 0.2281\n",
            "Epoch 37/100\n",
            "1009/1009 [==============================] - 10s 10ms/step - loss: 0.5600 - root_mean_squared_error: 0.1439 - val_loss: 0.6296 - val_root_mean_squared_error: 0.2285\n",
            "Epoch 38/100\n",
            "1009/1009 [==============================] - 10s 10ms/step - loss: 0.5604 - root_mean_squared_error: 0.1444 - val_loss: 0.6289 - val_root_mean_squared_error: 0.2277\n",
            "Epoch 39/100\n",
            "1009/1009 [==============================] - 9s 9ms/step - loss: 0.5599 - root_mean_squared_error: 0.1434 - val_loss: 0.6288 - val_root_mean_squared_error: 0.2278\n",
            "Epoch 40/100\n",
            "1009/1009 [==============================] - 9s 9ms/step - loss: 0.5594 - root_mean_squared_error: 0.1431 - val_loss: 0.6289 - val_root_mean_squared_error: 0.2277\n",
            "Epoch 41/100\n",
            "1009/1009 [==============================] - 9s 9ms/step - loss: 0.5592 - root_mean_squared_error: 0.1428 - val_loss: 0.6293 - val_root_mean_squared_error: 0.2280\n",
            "Epoch 42/100\n",
            "1009/1009 [==============================] - 9s 9ms/step - loss: 0.5587 - root_mean_squared_error: 0.1423 - val_loss: 0.6290 - val_root_mean_squared_error: 0.2276\n",
            "Epoch 43/100\n",
            "1009/1009 [==============================] - 11s 11ms/step - loss: 0.5587 - root_mean_squared_error: 0.1420 - val_loss: 0.6294 - val_root_mean_squared_error: 0.2280\n",
            "Epoch 44/100\n",
            "1009/1009 [==============================] - 19s 19ms/step - loss: 0.5579 - root_mean_squared_error: 0.1412 - val_loss: 0.6294 - val_root_mean_squared_error: 0.2279\n",
            "Epoch 45/100\n",
            "1009/1009 [==============================] - 21s 20ms/step - loss: 0.5584 - root_mean_squared_error: 0.1420 - val_loss: 0.6304 - val_root_mean_squared_error: 0.2289\n",
            "Epoch 46/100\n",
            "1009/1009 [==============================] - 20s 20ms/step - loss: 0.5573 - root_mean_squared_error: 0.1405 - val_loss: 0.6302 - val_root_mean_squared_error: 0.2285\n",
            "Epoch 47/100\n",
            "1009/1009 [==============================] - 17s 17ms/step - loss: 0.5567 - root_mean_squared_error: 0.1397 - val_loss: 0.6307 - val_root_mean_squared_error: 0.2291\n",
            "Epoch 48/100\n",
            "1009/1009 [==============================] - 9s 9ms/step - loss: 0.5569 - root_mean_squared_error: 0.1403 - val_loss: 0.6306 - val_root_mean_squared_error: 0.2289\n",
            "Epoch 49/100\n",
            "1009/1009 [==============================] - 9s 9ms/step - loss: 0.5565 - root_mean_squared_error: 0.1393 - val_loss: 0.6313 - val_root_mean_squared_error: 0.2293\n",
            "Epoch 50/100\n",
            "1009/1009 [==============================] - 9s 9ms/step - loss: 0.5568 - root_mean_squared_error: 0.1399 - val_loss: 0.6306 - val_root_mean_squared_error: 0.2287\n",
            "Epoch 51/100\n",
            "1009/1009 [==============================] - 9s 9ms/step - loss: 0.5558 - root_mean_squared_error: 0.1384 - val_loss: 0.6313 - val_root_mean_squared_error: 0.2293\n",
            "Epoch 52/100\n",
            "1009/1009 [==============================] - 9s 9ms/step - loss: 0.5558 - root_mean_squared_error: 0.1386 - val_loss: 0.6311 - val_root_mean_squared_error: 0.2291\n",
            "Epoch 53/100\n",
            "1009/1009 [==============================] - 9s 9ms/step - loss: 0.5551 - root_mean_squared_error: 0.1376 - val_loss: 0.6308 - val_root_mean_squared_error: 0.2287\n",
            "Epoch 54/100\n",
            "1009/1009 [==============================] - 9s 9ms/step - loss: 0.5553 - root_mean_squared_error: 0.1377 - val_loss: 0.6305 - val_root_mean_squared_error: 0.2283\n",
            "Epoch 55/100\n",
            "1009/1009 [==============================] - 10s 10ms/step - loss: 0.5548 - root_mean_squared_error: 0.1372 - val_loss: 0.6315 - val_root_mean_squared_error: 0.2293\n",
            "Epoch 56/100\n",
            "1009/1009 [==============================] - 9s 9ms/step - loss: 0.5548 - root_mean_squared_error: 0.1372 - val_loss: 0.6319 - val_root_mean_squared_error: 0.2294\n",
            "Epoch 57/100\n",
            "1009/1009 [==============================] - 10s 10ms/step - loss: 0.5549 - root_mean_squared_error: 0.1374 - val_loss: 0.6315 - val_root_mean_squared_error: 0.2290\n",
            "Epoch 58/100\n",
            "1009/1009 [==============================] - 11s 11ms/step - loss: 0.5544 - root_mean_squared_error: 0.1367 - val_loss: 0.6311 - val_root_mean_squared_error: 0.2285\n",
            "Epoch 59/100\n",
            "1009/1009 [==============================] - 10s 10ms/step - loss: 0.5540 - root_mean_squared_error: 0.1362 - val_loss: 0.6319 - val_root_mean_squared_error: 0.2293\n",
            "Epoch 60/100\n",
            "1009/1009 [==============================] - 11s 11ms/step - loss: 0.5542 - root_mean_squared_error: 0.1365 - val_loss: 0.6321 - val_root_mean_squared_error: 0.2293\n",
            "Epoch 61/100\n",
            "1009/1009 [==============================] - 10s 10ms/step - loss: 0.5537 - root_mean_squared_error: 0.1359 - val_loss: 0.6324 - val_root_mean_squared_error: 0.2295\n",
            "Epoch 62/100\n",
            "1009/1009 [==============================] - 11s 11ms/step - loss: 0.5538 - root_mean_squared_error: 0.1361 - val_loss: 0.6326 - val_root_mean_squared_error: 0.2296\n",
            "Epoch 63/100\n",
            "1009/1009 [==============================] - 9s 9ms/step - loss: 0.5535 - root_mean_squared_error: 0.1359 - val_loss: 0.6328 - val_root_mean_squared_error: 0.2297\n",
            "Epoch 64/100\n",
            "1009/1009 [==============================] - 11s 10ms/step - loss: 0.5532 - root_mean_squared_error: 0.1354 - val_loss: 0.6328 - val_root_mean_squared_error: 0.2294\n",
            "Epoch 65/100\n",
            "1009/1009 [==============================] - 11s 11ms/step - loss: 0.5533 - root_mean_squared_error: 0.1355 - val_loss: 0.6328 - val_root_mean_squared_error: 0.2294\n",
            "Epoch 66/100\n",
            "1009/1009 [==============================] - 10s 10ms/step - loss: 0.5526 - root_mean_squared_error: 0.1345 - val_loss: 0.6328 - val_root_mean_squared_error: 0.2291\n",
            "Epoch 67/100\n",
            "1009/1009 [==============================] - 9s 9ms/step - loss: 0.5530 - root_mean_squared_error: 0.1353 - val_loss: 0.6327 - val_root_mean_squared_error: 0.2290\n",
            "Epoch 68/100\n",
            "1009/1009 [==============================] - 9s 9ms/step - loss: 0.5528 - root_mean_squared_error: 0.1349 - val_loss: 0.6334 - val_root_mean_squared_error: 0.2295\n",
            "Epoch 69/100\n",
            "1009/1009 [==============================] - 9s 9ms/step - loss: 0.5529 - root_mean_squared_error: 0.1352 - val_loss: 0.6332 - val_root_mean_squared_error: 0.2293\n",
            "Epoch 70/100\n",
            "1009/1009 [==============================] - 9s 9ms/step - loss: 0.5527 - root_mean_squared_error: 0.1349 - val_loss: 0.6336 - val_root_mean_squared_error: 0.2296\n",
            "Epoch 71/100\n",
            "1009/1009 [==============================] - 9s 9ms/step - loss: 0.5520 - root_mean_squared_error: 0.1340 - val_loss: 0.6341 - val_root_mean_squared_error: 0.2301\n",
            "Epoch 72/100\n",
            "1009/1009 [==============================] - 9s 9ms/step - loss: 0.5521 - root_mean_squared_error: 0.1340 - val_loss: 0.6335 - val_root_mean_squared_error: 0.2294\n",
            "Epoch 73/100\n",
            "1009/1009 [==============================] - 9s 9ms/step - loss: 0.5521 - root_mean_squared_error: 0.1341 - val_loss: 0.6336 - val_root_mean_squared_error: 0.2293\n",
            "Epoch 74/100\n",
            "1009/1009 [==============================] - 9s 9ms/step - loss: 0.5518 - root_mean_squared_error: 0.1338 - val_loss: 0.6330 - val_root_mean_squared_error: 0.2286\n",
            "Epoch 75/100\n",
            "1009/1009 [==============================] - 9s 9ms/step - loss: 0.5521 - root_mean_squared_error: 0.1343 - val_loss: 0.6338 - val_root_mean_squared_error: 0.2293\n",
            "Epoch 76/100\n",
            "1009/1009 [==============================] - 9s 9ms/step - loss: 0.5518 - root_mean_squared_error: 0.1339 - val_loss: 0.6339 - val_root_mean_squared_error: 0.2292\n",
            "Epoch 77/100\n",
            "1009/1009 [==============================] - 9s 9ms/step - loss: 0.5516 - root_mean_squared_error: 0.1337 - val_loss: 0.6345 - val_root_mean_squared_error: 0.2298\n",
            "Epoch 78/100\n",
            "1009/1009 [==============================] - 9s 9ms/step - loss: 0.5516 - root_mean_squared_error: 0.1336 - val_loss: 0.6340 - val_root_mean_squared_error: 0.2292\n",
            "Epoch 79/100\n",
            "1009/1009 [==============================] - 9s 9ms/step - loss: 0.5511 - root_mean_squared_error: 0.1330 - val_loss: 0.6343 - val_root_mean_squared_error: 0.2294\n",
            "Epoch 80/100\n",
            "1009/1009 [==============================] - 9s 9ms/step - loss: 0.5510 - root_mean_squared_error: 0.1327 - val_loss: 0.6342 - val_root_mean_squared_error: 0.2291\n",
            "Epoch 81/100\n",
            "1009/1009 [==============================] - 9s 9ms/step - loss: 0.5509 - root_mean_squared_error: 0.1329 - val_loss: 0.6348 - val_root_mean_squared_error: 0.2297\n",
            "Epoch 82/100\n",
            "1009/1009 [==============================] - 9s 9ms/step - loss: 0.5510 - root_mean_squared_error: 0.1329 - val_loss: 0.6348 - val_root_mean_squared_error: 0.2295\n",
            "Epoch 83/100\n",
            "1009/1009 [==============================] - 9s 9ms/step - loss: 0.5511 - root_mean_squared_error: 0.1332 - val_loss: 0.6348 - val_root_mean_squared_error: 0.2295\n",
            "Epoch 84/100\n",
            "1009/1009 [==============================] - 9s 9ms/step - loss: 0.5507 - root_mean_squared_error: 0.1324 - val_loss: 0.6351 - val_root_mean_squared_error: 0.2297\n",
            "Epoch 85/100\n",
            "1009/1009 [==============================] - 9s 9ms/step - loss: 0.5504 - root_mean_squared_error: 0.1320 - val_loss: 0.6356 - val_root_mean_squared_error: 0.2301\n",
            "Epoch 86/100\n",
            "1009/1009 [==============================] - 9s 9ms/step - loss: 0.5505 - root_mean_squared_error: 0.1323 - val_loss: 0.6356 - val_root_mean_squared_error: 0.2299\n",
            "Epoch 87/100\n",
            "1009/1009 [==============================] - 9s 9ms/step - loss: 0.5508 - root_mean_squared_error: 0.1326 - val_loss: 0.6358 - val_root_mean_squared_error: 0.2299\n",
            "Epoch 88/100\n",
            "1009/1009 [==============================] - 9s 9ms/step - loss: 0.5509 - root_mean_squared_error: 0.1330 - val_loss: 0.6356 - val_root_mean_squared_error: 0.2296\n",
            "Epoch 89/100\n",
            "1009/1009 [==============================] - 9s 9ms/step - loss: 0.5506 - root_mean_squared_error: 0.1328 - val_loss: 0.6361 - val_root_mean_squared_error: 0.2299\n",
            "Epoch 90/100\n",
            "1009/1009 [==============================] - 9s 9ms/step - loss: 0.5499 - root_mean_squared_error: 0.1315 - val_loss: 0.6366 - val_root_mean_squared_error: 0.2303\n",
            "Epoch 91/100\n",
            "1009/1009 [==============================] - 9s 9ms/step - loss: 0.5494 - root_mean_squared_error: 0.1307 - val_loss: 0.6366 - val_root_mean_squared_error: 0.2302\n",
            "Epoch 92/100\n",
            "1009/1009 [==============================] - 10s 10ms/step - loss: 0.5496 - root_mean_squared_error: 0.1310 - val_loss: 0.6368 - val_root_mean_squared_error: 0.2304\n",
            "Epoch 93/100\n",
            "1009/1009 [==============================] - 9s 9ms/step - loss: 0.5505 - root_mean_squared_error: 0.1327 - val_loss: 0.6370 - val_root_mean_squared_error: 0.2304\n",
            "Epoch 94/100\n",
            "1009/1009 [==============================] - 9s 9ms/step - loss: 0.5501 - root_mean_squared_error: 0.1321 - val_loss: 0.6374 - val_root_mean_squared_error: 0.2307\n",
            "Epoch 95/100\n",
            "1009/1009 [==============================] - 10s 10ms/step - loss: 0.5498 - root_mean_squared_error: 0.1318 - val_loss: 0.6376 - val_root_mean_squared_error: 0.2307\n",
            "Epoch 96/100\n",
            "1009/1009 [==============================] - 9s 9ms/step - loss: 0.5499 - root_mean_squared_error: 0.1317 - val_loss: 0.6379 - val_root_mean_squared_error: 0.2308\n",
            "Epoch 97/100\n",
            "1009/1009 [==============================] - 10s 9ms/step - loss: 0.5496 - root_mean_squared_error: 0.1313 - val_loss: 0.6378 - val_root_mean_squared_error: 0.2305\n",
            "Epoch 98/100\n",
            "1009/1009 [==============================] - 9s 9ms/step - loss: 0.5493 - root_mean_squared_error: 0.1309 - val_loss: 0.6380 - val_root_mean_squared_error: 0.2306\n",
            "Epoch 99/100\n",
            "1009/1009 [==============================] - 10s 10ms/step - loss: 0.5494 - root_mean_squared_error: 0.1311 - val_loss: 0.6378 - val_root_mean_squared_error: 0.2304\n",
            "Epoch 100/100\n",
            "1009/1009 [==============================] - 10s 10ms/step - loss: 0.5497 - root_mean_squared_error: 0.1316 - val_loss: 0.6381 - val_root_mean_squared_error: 0.2307\n"
          ]
        }
      ],
      "source": [
        "# Memulai training\n",
        "\n",
        "history = model.fit(\n",
        "    x = x_train,\n",
        "    y = y_train,\n",
        "    batch_size = 8,\n",
        "    epochs = 100,\n",
        "    validation_data = (x_val, y_val)\n",
        ")"
      ]
    },
    {
      "cell_type": "code",
      "execution_count": 39,
      "metadata": {},
      "outputs": [
        {
          "data": {
            "image/png": "[encoded data removed]",
            "text/plain": [
              "<Figure size 640x480 with 1 Axes>"
            ]
          },
          "metadata": {},
          "output_type": "display_data"
        }
      ],
      "source": [
        "plt.plot(history.history['root_mean_squared_error'])\n",
        "plt.plot(history.history['val_root_mean_squared_error'])\n",
        "plt.title('model_metrics')\n",
        "plt.ylabel('root_mean_squared_error')\n",
        "plt.xlabel('epoch')\n",
        "plt.legend(['train', 'test'], loc='upper left')\n",
        "plt.show()"
      ]
    },
    {
      "cell_type": "markdown",
      "metadata": {},
      "source": [
        "# Testing"
      ]
    },
    {
      "cell_type": "code",
      "execution_count": 52,
      "metadata": {},
      "outputs": [],
      "source": [
        "df = pd.read_csv(\"ratings.csv\")\n",
        "movies_df = pd.read_csv(\"movies.csv\")\n",
        "movies_df['genres'] = movies_df['genres'].str.split('|').str[0]\n",
        "user_id = df.userId.sample(1).iloc[0]\n",
        "movies_viewed_by_user = df[df.userId == user_id]\n",
        "\n",
        "# Operator bitwise (~), bisa diketahui di sini https://docs.python.org/3/reference/expressions.html\n",
        "movies_not_viewed = movies_df[~movies_df['movieId'].isin(movies_viewed_by_user.movieId.values)]['movieId']\n",
        "movies_not_viewed = list(\n",
        "    set(movies_not_viewed)\n",
        "    .intersection(set(movies_to_movies_encoded.keys()))\n",
        ")\n",
        "\n",
        "movies_not_viewed = [[movies_to_movies_encoded.get(x)] for x in movies_not_viewed]\n",
        "user_encoder = user_to_user_encoded.get(user_id)\n",
        "movies_array = np.hstack(\n",
        "    ([[user_encoder]] * len(movies_not_viewed), movies_not_viewed)\n",
        ")"
      ]
    },
    {
      "cell_type": "code",
      "execution_count": 53,
      "metadata": {},
      "outputs": [
        {
          "name": "stdout",
          "output_type": "stream",
          "text": [
            "290/290 [==============================] - 0s 1ms/step\n",
            "Showing recommendations for users: 509\n",
            "===========================\n",
            "movies with high ratings from user\n",
            "--------------------------------\n",
            "Great Dictator, The (1940) : Comedy\n",
            "Lord of the Rings: The Fellowship of the Ring, The (2001) : Adventure\n",
            "Lord of the Rings: The Two Towers, The (2002) : Adventure\n",
            "Lord of the Rings: The Return of the King, The (2003) : Action\n",
            "Pitch Perfect 2 (2015) : Comedy\n",
            "--------------------------------\n",
            "Top 10 movies recommendation\n",
            "--------------------------------\n",
            "Ready to Wear (Pret-A-Porter) (1994) : Comedy\n",
            "Killing Zoe (1994) : Crime\n",
            "War Room, The (1993) : Documentary\n",
            "Germinal (1993) : Drama\n",
            "Gridlock'd (1997) : Crime\n",
            "Christmas Vacation (National Lampoon's Christmas Vacation) (1989) : Comedy\n",
            "Love Me Tender (1956) : Musical\n"
          ]
        }
      ],
      "source": [
        "ratings = model.predict(movies_array).flatten()\n",
        "\n",
        "top_ratings_indices = ratings.argsort()[-10:][::-1]\n",
        "recommended_movies_ids = [\n",
        "    movies_to_movies_encoded.get(movies_not_viewed[x][0]) for x in top_ratings_indices\n",
        "]\n",
        "\n",
        "print('Showing recommendations for users: {}'.format(user_id))\n",
        "print('===' * 9)\n",
        "print('movies with high ratings from user')\n",
        "print('----' * 8)\n",
        "\n",
        "top_movies_user = (\n",
        "    movies_viewed_by_user.sort_values(\n",
        "        by = 'rating',\n",
        "        ascending=False\n",
        "    )\n",
        "    .head(5)\n",
        "    .movieId.values\n",
        ")\n",
        "\n",
        "movies_df_rows = movies_df[movies_df['movieId'].isin(top_movies_user)]\n",
        "for row in movies_df_rows.itertuples():\n",
        "    print(row.title, ':', row.genres)\n",
        "\n",
        "print('----' * 8)\n",
        "print('Top 10 movies recommendation')\n",
        "print('----' * 8)\n",
        "\n",
        "recommended_movies = movies_df[movies_df['movieId'].isin(recommended_movies_ids)]\n",
        "for row in recommended_movies.itertuples():\n",
        "    print(row.title, ':', row.genres)"
      ]
    },
    {
      "cell_type": "markdown",
      "metadata": {},
      "source": []
    }
  ],
  "metadata": {
    "colab": {
      "provenance": [],
      "toc_visible": true
    },
    "kernelspec": {
      "display_name": "keras_venv",
      "language": "python",
      "name": "python3"
    },
    "language_info": {
      "codemirror_mode": {
        "name": "ipython",
        "version": 3
      },
      "file_extension": ".py",
      "mimetype": "text/x-python",
      "name": "python",
      "nbconvert_exporter": "python",
      "pygments_lexer": "ipython3",
      "version": "3.10.13"
    }
  },
  "nbformat": 4,
  "nbformat_minor": 0
}
