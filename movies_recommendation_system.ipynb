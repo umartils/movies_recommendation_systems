{
  "cells": [
    {
      "cell_type": "markdown",
      "metadata": {
        "id": "FLyV7sVkHz96"
      },
      "source": [
        "# Import Library"
      ]
    },
    {
      "cell_type": "code",
      "execution_count": null,
      "metadata": {
        "id": "-ZdBZDpxAHM-"
      },
      "outputs": [],
      "source": [
        "import pandas as pd\n",
        "import numpy as np\n",
        "# from google.colab import drive\n",
        "# drive.mount(\"/content/drive/\")\n",
        "\n",
        "import matplotlib.pyplot as plt\n",
        "import seaborn as sns\n",
        "palette = sns.color_palette(\"Set2\")\n",
        "import warnings\n",
        "warnings.filterwarnings('ignore')\n",
        "\n",
        "from sklearn.feature_extraction.text import TfidfVectorizer\n",
        "from sklearn.metrics.pairwise import cosine_similarity\n",
        "\n",
        "import tensorflow as tf\n",
        "from tensorflow import keras\n",
        "from tensorflow.keras import layers"
      ]
    },
    {
      "cell_type": "markdown",
      "metadata": {
        "id": "wp3fByL-H3F0"
      },
      "source": [
        "# Data Loading"
      ]
    },
    {
      "cell_type": "code",
      "execution_count": null,
      "metadata": {
        "id": "LnMOQX7SDltD"
      },
      "outputs": [],
      "source": [
        "# movies = pd.read_csv(\"/content/drive/MyDrive/submission_akhir_mlt/ml-latest/movies.csv\")\n",
        "# ratings = pd.read_csv(\"/content/drive/MyDrive/submission_akhir_mlt/ml-latest/ratings.csv\")"
      ]
    },
    {
      "cell_type": "code",
      "execution_count": null,
      "metadata": {
        "id": "EudPyHhhBOJo"
      },
      "outputs": [],
      "source": [
        "movies = pd.read_csv(\"movies.csv\")\n",
        "ratings = pd.read_csv(\"ratings.csv\")"
      ]
    },
    {
      "cell_type": "markdown",
      "metadata": {
        "id": "wd8GPA-cH928"
      },
      "source": [
        "# EDA"
      ]
    },
    {
      "cell_type": "markdown",
      "metadata": {
        "id": "OLBj7zbezdOE"
      },
      "source": [
        "## Menganalisis Rincian Dataset"
      ]
    },
    {
      "cell_type": "markdown",
      "metadata": {
        "id": "M_rqbYYuITUx"
      },
      "source": [
        "Melihat rincian dari dataset movies"
      ]
    },
    {
      "cell_type": "code",
      "execution_count": null,
      "metadata": {
        "colab": {
          "base_uri": "https://localhost:8080/"
        },
        "id": "JpZpVEaPISB4",
        "outputId": "93979860-7dd7-4f9a-f8c0-19772e3de5d4"
      },
      "outputs": [
        {
          "name": "stdout",
          "output_type": "stream",
          "text": [
            "<class 'pandas.core.frame.DataFrame'>\n",
            "RangeIndex: 9742 entries, 0 to 9741\n",
            "Data columns (total 3 columns):\n",
            " #   Column   Non-Null Count  Dtype \n",
            "---  ------   --------------  ----- \n",
            " 0   movieId  9742 non-null   int64 \n",
            " 1   title    9742 non-null   object\n",
            " 2   genres   9742 non-null   object\n",
            "dtypes: int64(1), object(2)\n",
            "memory usage: 228.5+ KB\n"
          ]
        }
      ],
      "source": [
        "movies.info()"
      ]
    },
    {
      "cell_type": "markdown",
      "metadata": {
        "id": "cZF78dlrxs6r"
      },
      "source": [
        "**Insight**\n",
        "- Terdapat 3 kolom pada dataset yang terdiri dari:\n",
        "  - `movieId` : identitas dari film yang memiliki tipe data int64 (numerikal)\n",
        "  - `title` : judul dari film yang memiliki tipe data object (kategorikal)\n",
        "  - `genres` : genre dari film yang memiliki tipe data object (kategorikal)\n",
        "- Semua kolom pada data memiliki jumlah baris yang sama yaitu **9742** baris data."
      ]
    },
    {
      "cell_type": "markdown",
      "metadata": {
        "id": "7Wpej1mqIdWw"
      },
      "source": [
        "Melihat rincian dari dataset movies"
      ]
    },
    {
      "cell_type": "code",
      "execution_count": null,
      "metadata": {
        "colab": {
          "base_uri": "https://localhost:8080/"
        },
        "id": "OXmatvUxIgHZ",
        "outputId": "1560fe86-8a23-45f1-9bcd-e5336510c6aa"
      },
      "outputs": [
        {
          "name": "stdout",
          "output_type": "stream",
          "text": [
            "<class 'pandas.core.frame.DataFrame'>\n",
            "RangeIndex: 100836 entries, 0 to 100835\n",
            "Data columns (total 4 columns):\n",
            " #   Column     Non-Null Count   Dtype  \n",
            "---  ------     --------------   -----  \n",
            " 0   userId     100836 non-null  int64  \n",
            " 1   movieId    100836 non-null  int64  \n",
            " 2   rating     100836 non-null  float64\n",
            " 3   timestamp  100836 non-null  int64  \n",
            "dtypes: float64(1), int64(3)\n",
            "memory usage: 3.1 MB\n"
          ]
        }
      ],
      "source": [
        "ratings.info()"
      ]
    },
    {
      "cell_type": "markdown",
      "metadata": {
        "id": "xflLbCbwyTZm"
      },
      "source": [
        "**Insight**\n",
        "- Terdapat 4 kolom pada dataset yang terdiri dari:\n",
        "  - `userId` : identitas dari pengguna yang memiliki tipe data int64 (numerikal)\n",
        "  - `movieId` : identitas dari film yang memiliki tipe data int64 (numerikal)\n",
        "  - `rating` : rating atau penilaian pengguna terhadap film yang memiliki tipe data float64 (numerikal)\n",
        "  - `timestamp` : waktu pengguna memberi rating pada film yang memiliki tipe data int64 (numerikal)\n",
        "- Semua kolom pada data memiliki jumlah baris yang sama yaitu **100836** baris data."
      ]
    },
    {
      "cell_type": "markdown",
      "metadata": {
        "id": "hVLLKn1I3DgO"
      },
      "source": [
        "## Melihat Ringkasan Data"
      ]
    },
    {
      "cell_type": "markdown",
      "metadata": {
        "id": "i4yLLObM3Q-w"
      },
      "source": [
        "Melihat dataset movies"
      ]
    },
    {
      "cell_type": "code",
      "execution_count": null,
      "metadata": {
        "colab": {
          "base_uri": "https://localhost:8080/",
          "height": 206
        },
        "id": "rqcoG2uxELGD",
        "outputId": "1c85b580-c398-49ca-c776-d6e8ddda6b95"
      },
      "outputs": [
        {
          "data": {
            "application/vnd.google.colaboratory.intrinsic+json": {
              "summary": "{\n  \"name\": \"movies\",\n  \"rows\": 9742,\n  \"fields\": [\n    {\n      \"column\": \"movieId\",\n      \"properties\": {\n        \"dtype\": \"number\",\n        \"std\": 52160,\n        \"min\": 1,\n        \"max\": 193609,\n        \"num_unique_values\": 9742,\n        \"samples\": [\n          45635,\n          1373,\n          7325\n        ],\n        \"semantic_type\": \"\",\n        \"description\": \"\"\n      }\n    },\n    {\n      \"column\": \"title\",\n      \"properties\": {\n        \"dtype\": \"string\",\n        \"num_unique_values\": 9737,\n        \"samples\": [\n          \"Teenage Mutant Ninja Turtles (2014)\",\n          \"America's Sweethearts (2001)\",\n          \"Cast Away (2000)\"\n        ],\n        \"semantic_type\": \"\",\n        \"description\": \"\"\n      }\n    },\n    {\n      \"column\": \"genres\",\n      \"properties\": {\n        \"dtype\": \"category\",\n        \"num_unique_values\": 951,\n        \"samples\": [\n          \"Crime|Mystery|Romance|Thriller\",\n          \"Action|Adventure|Comedy|Western\",\n          \"Crime|Drama|Musical\"\n        ],\n        \"semantic_type\": \"\",\n        \"description\": \"\"\n      }\n    }\n  ]\n}",
              "type": "dataframe",
              "variable_name": "movies"
            },
            "text/html": [
              "\n",
              "  <div id=\"df-3771983f-9fd6-49c4-9629-b10851f076be\" class=\"colab-df-container\">\n",
              "    <div>\n",
              "<style scoped>\n",
              "    .dataframe tbody tr th:only-of-type {\n",
              "        vertical-align: middle;\n",
              "    }\n",
              "\n",
              "    .dataframe tbody tr th {\n",
              "        vertical-align: top;\n",
              "    }\n",
              "\n",
              "    .dataframe thead th {\n",
              "        text-align: right;\n",
              "    }\n",
              "</style>\n",
              "<table border=\"1\" class=\"dataframe\">\n",
              "  <thead>\n",
              "    <tr style=\"text-align: right;\">\n",
              "      <th></th>\n",
              "      <th>movieId</th>\n",
              "      <th>title</th>\n",
              "      <th>genres</th>\n",
              "    </tr>\n",
              "  </thead>\n",
              "  <tbody>\n",
              "    <tr>\n",
              "      <th>0</th>\n",
              "      <td>1</td>\n",
              "      <td>Toy Story (1995)</td>\n",
              "      <td>Adventure|Animation|Children|Comedy|Fantasy</td>\n",
              "    </tr>\n",
              "    <tr>\n",
              "      <th>1</th>\n",
              "      <td>2</td>\n",
              "      <td>Jumanji (1995)</td>\n",
              "      <td>Adventure|Children|Fantasy</td>\n",
              "    </tr>\n",
              "    <tr>\n",
              "      <th>2</th>\n",
              "      <td>3</td>\n",
              "      <td>Grumpier Old Men (1995)</td>\n",
              "      <td>Comedy|Romance</td>\n",
              "    </tr>\n",
              "    <tr>\n",
              "      <th>3</th>\n",
              "      <td>4</td>\n",
              "      <td>Waiting to Exhale (1995)</td>\n",
              "      <td>Comedy|Drama|Romance</td>\n",
              "    </tr>\n",
              "    <tr>\n",
              "      <th>4</th>\n",
              "      <td>5</td>\n",
              "      <td>Father of the Bride Part II (1995)</td>\n",
              "      <td>Comedy</td>\n",
              "    </tr>\n",
              "  </tbody>\n",
              "</table>\n",
              "</div>\n",
              "    <div class=\"colab-df-buttons\">\n",
              "\n",
              "  <div class=\"colab-df-container\">\n",
              "    <button class=\"colab-df-convert\" onclick=\"convertToInteractive('df-3771983f-9fd6-49c4-9629-b10851f076be')\"\n",
              "            title=\"Convert this dataframe to an interactive table.\"\n",
              "            style=\"display:none;\">\n",
              "\n",
              "  <svg xmlns=\"http://www.w3.org/2000/svg\" height=\"24px\" viewBox=\"0 -960 960 960\">\n",
              "    <path d=\"M120-120v-720h720v720H120Zm60-500h600v-160H180v160Zm220 220h160v-160H400v160Zm0 220h160v-160H400v160ZM180-400h160v-160H180v160Zm440 0h160v-160H620v160ZM180-180h160v-160H180v160Zm440 0h160v-160H620v160Z\"/>\n",
              "  </svg>\n",
              "    </button>\n",
              "\n",
              "  <style>\n",
              "    .colab-df-container {\n",
              "      display:flex;\n",
              "      gap: 12px;\n",
              "    }\n",
              "\n",
              "    .colab-df-convert {\n",
              "      background-color: #E8F0FE;\n",
              "      border: none;\n",
              "      border-radius: 50%;\n",
              "      cursor: pointer;\n",
              "      display: none;\n",
              "      fill: #1967D2;\n",
              "      height: 32px;\n",
              "      padding: 0 0 0 0;\n",
              "      width: 32px;\n",
              "    }\n",
              "\n",
              "    .colab-df-convert:hover {\n",
              "      background-color: #E2EBFA;\n",
              "      box-shadow: 0px 1px 2px rgba(60, 64, 67, 0.3), 0px 1px 3px 1px rgba(60, 64, 67, 0.15);\n",
              "      fill: #174EA6;\n",
              "    }\n",
              "\n",
              "    .colab-df-buttons div {\n",
              "      margin-bottom: 4px;\n",
              "    }\n",
              "\n",
              "    [theme=dark] .colab-df-convert {\n",
              "      background-color: #3B4455;\n",
              "      fill: #D2E3FC;\n",
              "    }\n",
              "\n",
              "    [theme=dark] .colab-df-convert:hover {\n",
              "      background-color: #434B5C;\n",
              "      box-shadow: 0px 1px 3px 1px rgba(0, 0, 0, 0.15);\n",
              "      filter: drop-shadow(0px 1px 2px rgba(0, 0, 0, 0.3));\n",
              "      fill: #FFFFFF;\n",
              "    }\n",
              "  </style>\n",
              "\n",
              "    <script>\n",
              "      const buttonEl =\n",
              "        document.querySelector('#df-3771983f-9fd6-49c4-9629-b10851f076be button.colab-df-convert');\n",
              "      buttonEl.style.display =\n",
              "        google.colab.kernel.accessAllowed ? 'block' : 'none';\n",
              "\n",
              "      async function convertToInteractive(key) {\n",
              "        const element = document.querySelector('#df-3771983f-9fd6-49c4-9629-b10851f076be');\n",
              "        const dataTable =\n",
              "          await google.colab.kernel.invokeFunction('convertToInteractive',\n",
              "                                                    [key], {});\n",
              "        if (!dataTable) return;\n",
              "\n",
              "        const docLinkHtml = 'Like what you see? Visit the ' +\n",
              "          '<a target=\"_blank\" href=https://colab.research.google.com/notebooks/data_table.ipynb>data table notebook</a>'\n",
              "          + ' to learn more about interactive tables.';\n",
              "        element.innerHTML = '';\n",
              "        dataTable['output_type'] = 'display_data';\n",
              "        await google.colab.output.renderOutput(dataTable, element);\n",
              "        const docLink = document.createElement('div');\n",
              "        docLink.innerHTML = docLinkHtml;\n",
              "        element.appendChild(docLink);\n",
              "      }\n",
              "    </script>\n",
              "  </div>\n",
              "\n",
              "\n",
              "    <div id=\"df-0117efa1-016e-4ba7-b728-d7d83b3b82ce\">\n",
              "      <button class=\"colab-df-quickchart\" onclick=\"quickchart('df-0117efa1-016e-4ba7-b728-d7d83b3b82ce')\"\n",
              "                title=\"Suggest charts\"\n",
              "                style=\"display:none;\">\n",
              "\n",
              "<svg xmlns=\"http://www.w3.org/2000/svg\" height=\"24px\"viewBox=\"0 0 24 24\"\n",
              "     width=\"24px\">\n",
              "    <g>\n",
              "        <path d=\"M19 3H5c-1.1 0-2 .9-2 2v14c0 1.1.9 2 2 2h14c1.1 0 2-.9 2-2V5c0-1.1-.9-2-2-2zM9 17H7v-7h2v7zm4 0h-2V7h2v10zm4 0h-2v-4h2v4z\"/>\n",
              "    </g>\n",
              "</svg>\n",
              "      </button>\n",
              "\n",
              "<style>\n",
              "  .colab-df-quickchart {\n",
              "      --bg-color: #E8F0FE;\n",
              "      --fill-color: #1967D2;\n",
              "      --hover-bg-color: #E2EBFA;\n",
              "      --hover-fill-color: #174EA6;\n",
              "      --disabled-fill-color: #AAA;\n",
              "      --disabled-bg-color: #DDD;\n",
              "  }\n",
              "\n",
              "  [theme=dark] .colab-df-quickchart {\n",
              "      --bg-color: #3B4455;\n",
              "      --fill-color: #D2E3FC;\n",
              "      --hover-bg-color: #434B5C;\n",
              "      --hover-fill-color: #FFFFFF;\n",
              "      --disabled-bg-color: #3B4455;\n",
              "      --disabled-fill-color: #666;\n",
              "  }\n",
              "\n",
              "  .colab-df-quickchart {\n",
              "    background-color: var(--bg-color);\n",
              "    border: none;\n",
              "    border-radius: 50%;\n",
              "    cursor: pointer;\n",
              "    display: none;\n",
              "    fill: var(--fill-color);\n",
              "    height: 32px;\n",
              "    padding: 0;\n",
              "    width: 32px;\n",
              "  }\n",
              "\n",
              "  .colab-df-quickchart:hover {\n",
              "    background-color: var(--hover-bg-color);\n",
              "    box-shadow: 0 1px 2px rgba(60, 64, 67, 0.3), 0 1px 3px 1px rgba(60, 64, 67, 0.15);\n",
              "    fill: var(--button-hover-fill-color);\n",
              "  }\n",
              "\n",
              "  .colab-df-quickchart-complete:disabled,\n",
              "  .colab-df-quickchart-complete:disabled:hover {\n",
              "    background-color: var(--disabled-bg-color);\n",
              "    fill: var(--disabled-fill-color);\n",
              "    box-shadow: none;\n",
              "  }\n",
              "\n",
              "  .colab-df-spinner {\n",
              "    border: 2px solid var(--fill-color);\n",
              "    border-color: transparent;\n",
              "    border-bottom-color: var(--fill-color);\n",
              "    animation:\n",
              "      spin 1s steps(1) infinite;\n",
              "  }\n",
              "\n",
              "  @keyframes spin {\n",
              "    0% {\n",
              "      border-color: transparent;\n",
              "      border-bottom-color: var(--fill-color);\n",
              "      border-left-color: var(--fill-color);\n",
              "    }\n",
              "    20% {\n",
              "      border-color: transparent;\n",
              "      border-left-color: var(--fill-color);\n",
              "      border-top-color: var(--fill-color);\n",
              "    }\n",
              "    30% {\n",
              "      border-color: transparent;\n",
              "      border-left-color: var(--fill-color);\n",
              "      border-top-color: var(--fill-color);\n",
              "      border-right-color: var(--fill-color);\n",
              "    }\n",
              "    40% {\n",
              "      border-color: transparent;\n",
              "      border-right-color: var(--fill-color);\n",
              "      border-top-color: var(--fill-color);\n",
              "    }\n",
              "    60% {\n",
              "      border-color: transparent;\n",
              "      border-right-color: var(--fill-color);\n",
              "    }\n",
              "    80% {\n",
              "      border-color: transparent;\n",
              "      border-right-color: var(--fill-color);\n",
              "      border-bottom-color: var(--fill-color);\n",
              "    }\n",
              "    90% {\n",
              "      border-color: transparent;\n",
              "      border-bottom-color: var(--fill-color);\n",
              "    }\n",
              "  }\n",
              "</style>\n",
              "\n",
              "      <script>\n",
              "        async function quickchart(key) {\n",
              "          const quickchartButtonEl =\n",
              "            document.querySelector('#' + key + ' button');\n",
              "          quickchartButtonEl.disabled = true;  // To prevent multiple clicks.\n",
              "          quickchartButtonEl.classList.add('colab-df-spinner');\n",
              "          try {\n",
              "            const charts = await google.colab.kernel.invokeFunction(\n",
              "                'suggestCharts', [key], {});\n",
              "          } catch (error) {\n",
              "            console.error('Error during call to suggestCharts:', error);\n",
              "          }\n",
              "          quickchartButtonEl.classList.remove('colab-df-spinner');\n",
              "          quickchartButtonEl.classList.add('colab-df-quickchart-complete');\n",
              "        }\n",
              "        (() => {\n",
              "          let quickchartButtonEl =\n",
              "            document.querySelector('#df-0117efa1-016e-4ba7-b728-d7d83b3b82ce button');\n",
              "          quickchartButtonEl.style.display =\n",
              "            google.colab.kernel.accessAllowed ? 'block' : 'none';\n",
              "        })();\n",
              "      </script>\n",
              "    </div>\n",
              "\n",
              "    </div>\n",
              "  </div>\n"
            ],
            "text/plain": [
              "   movieId                               title  \\\n",
              "0        1                    Toy Story (1995)   \n",
              "1        2                      Jumanji (1995)   \n",
              "2        3             Grumpier Old Men (1995)   \n",
              "3        4            Waiting to Exhale (1995)   \n",
              "4        5  Father of the Bride Part II (1995)   \n",
              "\n",
              "                                        genres  \n",
              "0  Adventure|Animation|Children|Comedy|Fantasy  \n",
              "1                   Adventure|Children|Fantasy  \n",
              "2                               Comedy|Romance  \n",
              "3                         Comedy|Drama|Romance  \n",
              "4                                       Comedy  "
            ]
          },
          "execution_count": 7,
          "metadata": {},
          "output_type": "execute_result"
        }
      ],
      "source": [
        "movies.head()"
      ]
    },
    {
      "cell_type": "markdown",
      "metadata": {
        "id": "N6glMN0m3WOA"
      },
      "source": [
        "**Insight**\n",
        "- Kolom movie id berisi data numerik increment berurutan dari angka 1\n",
        "- Kolom title berisi judul dari film beserta tahun rilisnya\n",
        "- Kolom genres berisi beberapa genre yang dipisahkan oleh karakter '|' dari film tersebut.\n",
        "- Data pada kolom genres perlu dibersihkan untuk mengambil genre utamanya saja"
      ]
    },
    {
      "cell_type": "markdown",
      "metadata": {
        "id": "WGJ_eu5G3LnL"
      },
      "source": [
        "Melihat dataset ratings"
      ]
    },
    {
      "cell_type": "code",
      "execution_count": null,
      "metadata": {
        "colab": {
          "base_uri": "https://localhost:8080/",
          "height": 206
        },
        "id": "yVfo6P4J3MsI",
        "outputId": "0048ca71-c91c-42c8-d06b-3767f2f14a7d"
      },
      "outputs": [
        {
          "data": {
            "application/vnd.google.colaboratory.intrinsic+json": {
              "type": "dataframe",
              "variable_name": "ratings"
            },
            "text/html": [
              "\n",
              "  <div id=\"df-0316800c-048e-42ec-9f5e-cf9eabfb466b\" class=\"colab-df-container\">\n",
              "    <div>\n",
              "<style scoped>\n",
              "    .dataframe tbody tr th:only-of-type {\n",
              "        vertical-align: middle;\n",
              "    }\n",
              "\n",
              "    .dataframe tbody tr th {\n",
              "        vertical-align: top;\n",
              "    }\n",
              "\n",
              "    .dataframe thead th {\n",
              "        text-align: right;\n",
              "    }\n",
              "</style>\n",
              "<table border=\"1\" class=\"dataframe\">\n",
              "  <thead>\n",
              "    <tr style=\"text-align: right;\">\n",
              "      <th></th>\n",
              "      <th>userId</th>\n",
              "      <th>movieId</th>\n",
              "      <th>rating</th>\n",
              "      <th>timestamp</th>\n",
              "    </tr>\n",
              "  </thead>\n",
              "  <tbody>\n",
              "    <tr>\n",
              "      <th>0</th>\n",
              "      <td>1</td>\n",
              "      <td>1</td>\n",
              "      <td>4.0</td>\n",
              "      <td>964982703</td>\n",
              "    </tr>\n",
              "    <tr>\n",
              "      <th>1</th>\n",
              "      <td>1</td>\n",
              "      <td>3</td>\n",
              "      <td>4.0</td>\n",
              "      <td>964981247</td>\n",
              "    </tr>\n",
              "    <tr>\n",
              "      <th>2</th>\n",
              "      <td>1</td>\n",
              "      <td>6</td>\n",
              "      <td>4.0</td>\n",
              "      <td>964982224</td>\n",
              "    </tr>\n",
              "    <tr>\n",
              "      <th>3</th>\n",
              "      <td>1</td>\n",
              "      <td>47</td>\n",
              "      <td>5.0</td>\n",
              "      <td>964983815</td>\n",
              "    </tr>\n",
              "    <tr>\n",
              "      <th>4</th>\n",
              "      <td>1</td>\n",
              "      <td>50</td>\n",
              "      <td>5.0</td>\n",
              "      <td>964982931</td>\n",
              "    </tr>\n",
              "  </tbody>\n",
              "</table>\n",
              "</div>\n",
              "    <div class=\"colab-df-buttons\">\n",
              "\n",
              "  <div class=\"colab-df-container\">\n",
              "    <button class=\"colab-df-convert\" onclick=\"convertToInteractive('df-0316800c-048e-42ec-9f5e-cf9eabfb466b')\"\n",
              "            title=\"Convert this dataframe to an interactive table.\"\n",
              "            style=\"display:none;\">\n",
              "\n",
              "  <svg xmlns=\"http://www.w3.org/2000/svg\" height=\"24px\" viewBox=\"0 -960 960 960\">\n",
              "    <path d=\"M120-120v-720h720v720H120Zm60-500h600v-160H180v160Zm220 220h160v-160H400v160Zm0 220h160v-160H400v160ZM180-400h160v-160H180v160Zm440 0h160v-160H620v160ZM180-180h160v-160H180v160Zm440 0h160v-160H620v160Z\"/>\n",
              "  </svg>\n",
              "    </button>\n",
              "\n",
              "  <style>\n",
              "    .colab-df-container {\n",
              "      display:flex;\n",
              "      gap: 12px;\n",
              "    }\n",
              "\n",
              "    .colab-df-convert {\n",
              "      background-color: #E8F0FE;\n",
              "      border: none;\n",
              "      border-radius: 50%;\n",
              "      cursor: pointer;\n",
              "      display: none;\n",
              "      fill: #1967D2;\n",
              "      height: 32px;\n",
              "      padding: 0 0 0 0;\n",
              "      width: 32px;\n",
              "    }\n",
              "\n",
              "    .colab-df-convert:hover {\n",
              "      background-color: #E2EBFA;\n",
              "      box-shadow: 0px 1px 2px rgba(60, 64, 67, 0.3), 0px 1px 3px 1px rgba(60, 64, 67, 0.15);\n",
              "      fill: #174EA6;\n",
              "    }\n",
              "\n",
              "    .colab-df-buttons div {\n",
              "      margin-bottom: 4px;\n",
              "    }\n",
              "\n",
              "    [theme=dark] .colab-df-convert {\n",
              "      background-color: #3B4455;\n",
              "      fill: #D2E3FC;\n",
              "    }\n",
              "\n",
              "    [theme=dark] .colab-df-convert:hover {\n",
              "      background-color: #434B5C;\n",
              "      box-shadow: 0px 1px 3px 1px rgba(0, 0, 0, 0.15);\n",
              "      filter: drop-shadow(0px 1px 2px rgba(0, 0, 0, 0.3));\n",
              "      fill: #FFFFFF;\n",
              "    }\n",
              "  </style>\n",
              "\n",
              "    <script>\n",
              "      const buttonEl =\n",
              "        document.querySelector('#df-0316800c-048e-42ec-9f5e-cf9eabfb466b button.colab-df-convert');\n",
              "      buttonEl.style.display =\n",
              "        google.colab.kernel.accessAllowed ? 'block' : 'none';\n",
              "\n",
              "      async function convertToInteractive(key) {\n",
              "        const element = document.querySelector('#df-0316800c-048e-42ec-9f5e-cf9eabfb466b');\n",
              "        const dataTable =\n",
              "          await google.colab.kernel.invokeFunction('convertToInteractive',\n",
              "                                                    [key], {});\n",
              "        if (!dataTable) return;\n",
              "\n",
              "        const docLinkHtml = 'Like what you see? Visit the ' +\n",
              "          '<a target=\"_blank\" href=https://colab.research.google.com/notebooks/data_table.ipynb>data table notebook</a>'\n",
              "          + ' to learn more about interactive tables.';\n",
              "        element.innerHTML = '';\n",
              "        dataTable['output_type'] = 'display_data';\n",
              "        await google.colab.output.renderOutput(dataTable, element);\n",
              "        const docLink = document.createElement('div');\n",
              "        docLink.innerHTML = docLinkHtml;\n",
              "        element.appendChild(docLink);\n",
              "      }\n",
              "    </script>\n",
              "  </div>\n",
              "\n",
              "\n",
              "    <div id=\"df-b63e2df5-152d-4651-98d0-89679815be34\">\n",
              "      <button class=\"colab-df-quickchart\" onclick=\"quickchart('df-b63e2df5-152d-4651-98d0-89679815be34')\"\n",
              "                title=\"Suggest charts\"\n",
              "                style=\"display:none;\">\n",
              "\n",
              "<svg xmlns=\"http://www.w3.org/2000/svg\" height=\"24px\"viewBox=\"0 0 24 24\"\n",
              "     width=\"24px\">\n",
              "    <g>\n",
              "        <path d=\"M19 3H5c-1.1 0-2 .9-2 2v14c0 1.1.9 2 2 2h14c1.1 0 2-.9 2-2V5c0-1.1-.9-2-2-2zM9 17H7v-7h2v7zm4 0h-2V7h2v10zm4 0h-2v-4h2v4z\"/>\n",
              "    </g>\n",
              "</svg>\n",
              "      </button>\n",
              "\n",
              "<style>\n",
              "  .colab-df-quickchart {\n",
              "      --bg-color: #E8F0FE;\n",
              "      --fill-color: #1967D2;\n",
              "      --hover-bg-color: #E2EBFA;\n",
              "      --hover-fill-color: #174EA6;\n",
              "      --disabled-fill-color: #AAA;\n",
              "      --disabled-bg-color: #DDD;\n",
              "  }\n",
              "\n",
              "  [theme=dark] .colab-df-quickchart {\n",
              "      --bg-color: #3B4455;\n",
              "      --fill-color: #D2E3FC;\n",
              "      --hover-bg-color: #434B5C;\n",
              "      --hover-fill-color: #FFFFFF;\n",
              "      --disabled-bg-color: #3B4455;\n",
              "      --disabled-fill-color: #666;\n",
              "  }\n",
              "\n",
              "  .colab-df-quickchart {\n",
              "    background-color: var(--bg-color);\n",
              "    border: none;\n",
              "    border-radius: 50%;\n",
              "    cursor: pointer;\n",
              "    display: none;\n",
              "    fill: var(--fill-color);\n",
              "    height: 32px;\n",
              "    padding: 0;\n",
              "    width: 32px;\n",
              "  }\n",
              "\n",
              "  .colab-df-quickchart:hover {\n",
              "    background-color: var(--hover-bg-color);\n",
              "    box-shadow: 0 1px 2px rgba(60, 64, 67, 0.3), 0 1px 3px 1px rgba(60, 64, 67, 0.15);\n",
              "    fill: var(--button-hover-fill-color);\n",
              "  }\n",
              "\n",
              "  .colab-df-quickchart-complete:disabled,\n",
              "  .colab-df-quickchart-complete:disabled:hover {\n",
              "    background-color: var(--disabled-bg-color);\n",
              "    fill: var(--disabled-fill-color);\n",
              "    box-shadow: none;\n",
              "  }\n",
              "\n",
              "  .colab-df-spinner {\n",
              "    border: 2px solid var(--fill-color);\n",
              "    border-color: transparent;\n",
              "    border-bottom-color: var(--fill-color);\n",
              "    animation:\n",
              "      spin 1s steps(1) infinite;\n",
              "  }\n",
              "\n",
              "  @keyframes spin {\n",
              "    0% {\n",
              "      border-color: transparent;\n",
              "      border-bottom-color: var(--fill-color);\n",
              "      border-left-color: var(--fill-color);\n",
              "    }\n",
              "    20% {\n",
              "      border-color: transparent;\n",
              "      border-left-color: var(--fill-color);\n",
              "      border-top-color: var(--fill-color);\n",
              "    }\n",
              "    30% {\n",
              "      border-color: transparent;\n",
              "      border-left-color: var(--fill-color);\n",
              "      border-top-color: var(--fill-color);\n",
              "      border-right-color: var(--fill-color);\n",
              "    }\n",
              "    40% {\n",
              "      border-color: transparent;\n",
              "      border-right-color: var(--fill-color);\n",
              "      border-top-color: var(--fill-color);\n",
              "    }\n",
              "    60% {\n",
              "      border-color: transparent;\n",
              "      border-right-color: var(--fill-color);\n",
              "    }\n",
              "    80% {\n",
              "      border-color: transparent;\n",
              "      border-right-color: var(--fill-color);\n",
              "      border-bottom-color: var(--fill-color);\n",
              "    }\n",
              "    90% {\n",
              "      border-color: transparent;\n",
              "      border-bottom-color: var(--fill-color);\n",
              "    }\n",
              "  }\n",
              "</style>\n",
              "\n",
              "      <script>\n",
              "        async function quickchart(key) {\n",
              "          const quickchartButtonEl =\n",
              "            document.querySelector('#' + key + ' button');\n",
              "          quickchartButtonEl.disabled = true;  // To prevent multiple clicks.\n",
              "          quickchartButtonEl.classList.add('colab-df-spinner');\n",
              "          try {\n",
              "            const charts = await google.colab.kernel.invokeFunction(\n",
              "                'suggestCharts', [key], {});\n",
              "          } catch (error) {\n",
              "            console.error('Error during call to suggestCharts:', error);\n",
              "          }\n",
              "          quickchartButtonEl.classList.remove('colab-df-spinner');\n",
              "          quickchartButtonEl.classList.add('colab-df-quickchart-complete');\n",
              "        }\n",
              "        (() => {\n",
              "          let quickchartButtonEl =\n",
              "            document.querySelector('#df-b63e2df5-152d-4651-98d0-89679815be34 button');\n",
              "          quickchartButtonEl.style.display =\n",
              "            google.colab.kernel.accessAllowed ? 'block' : 'none';\n",
              "        })();\n",
              "      </script>\n",
              "    </div>\n",
              "\n",
              "    </div>\n",
              "  </div>\n"
            ],
            "text/plain": [
              "   userId  movieId  rating  timestamp\n",
              "0       1        1     4.0  964982703\n",
              "1       1        3     4.0  964981247\n",
              "2       1        6     4.0  964982224\n",
              "3       1       47     5.0  964983815\n",
              "4       1       50     5.0  964982931"
            ]
          },
          "execution_count": 8,
          "metadata": {},
          "output_type": "execute_result"
        }
      ],
      "source": [
        "ratings.head()"
      ]
    },
    {
      "cell_type": "markdown",
      "metadata": {
        "id": "VXudZQ9J42GK"
      },
      "source": [
        "**Insight**\n",
        "- Data berurutan dimulai dari user id 1\n",
        "- Kolom rating berisi rating pengguna yang memiliki tipe data float kemungkinan terdapat rating dengan nilai pecahan atau koma\n",
        "  "
      ]
    },
    {
      "cell_type": "markdown",
      "metadata": {
        "id": "kDzm5rMOJh88"
      },
      "source": [
        "## Memeriksa Missing Values dan Data Duplikat"
      ]
    },
    {
      "cell_type": "markdown",
      "metadata": {
        "id": "FIeB-8zBJnnG"
      },
      "source": [
        "Memeriksa dataset movies"
      ]
    },
    {
      "cell_type": "code",
      "execution_count": null,
      "metadata": {
        "colab": {
          "base_uri": "https://localhost:8080/"
        },
        "id": "KEpSIrxEJnNd",
        "outputId": "6928df38-c865-4f12-b036-d0356747d305"
      },
      "outputs": [
        {
          "name": "stdout",
          "output_type": "stream",
          "text": [
            "=============================================\n",
            "Jumlah Missing Values Pada Dataset Movies: \n",
            "movieId    0\n",
            "title      0\n",
            "genres     0\n",
            "dtype: int64\n",
            "Jumlah Data Duplikat Pada Dataset Movies: 0\n",
            "=============================================\n"
          ]
        }
      ],
      "source": [
        "null_val = movies.isna().sum()\n",
        "duplicated_data = movies.duplicated().sum()\n",
        "print(\"=============================================\")\n",
        "print(f\"Jumlah Missing Values Pada Dataset Movies: \\n{null_val}\")\n",
        "print(f\"Jumlah Data Duplikat Pada Dataset Movies: {duplicated_data}\")\n",
        "print(\"=============================================\")"
      ]
    },
    {
      "cell_type": "markdown",
      "metadata": {
        "id": "Nv55f59CJqTM"
      },
      "source": [
        "Memeriksa dataset ratings"
      ]
    },
    {
      "cell_type": "code",
      "execution_count": null,
      "metadata": {
        "colab": {
          "base_uri": "https://localhost:8080/"
        },
        "id": "Qik_g74UJldW",
        "outputId": "8a5d39a9-0998-4f10-d419-94dd36c19620"
      },
      "outputs": [
        {
          "name": "stdout",
          "output_type": "stream",
          "text": [
            "=============================================\n",
            "Jumlah Missing Values Pada Dataset Ratings: \n",
            "userId       0\n",
            "movieId      0\n",
            "rating       0\n",
            "timestamp    0\n",
            "dtype: int64\n",
            "Jumlah Data Duplikat Pada Dataset Ratings: 0\n",
            "=============================================\n"
          ]
        }
      ],
      "source": [
        "null_val = ratings.isna().sum()\n",
        "duplicated_data = ratings.duplicated().sum()\n",
        "print(\"=============================================\")\n",
        "print(f\"Jumlah Missing Values Pada Dataset Ratings: \\n{null_val}\")\n",
        "print(f\"Jumlah Data Duplikat Pada Dataset Ratings: {duplicated_data}\")\n",
        "print(\"=============================================\")"
      ]
    },
    {
      "cell_type": "markdown",
      "metadata": {
        "id": "B5K1NkCjJy66"
      },
      "source": [
        "**Insight**\n",
        "- Tidak ada nilai yang hilang atau missing values pada dataset movies dan ratings\n",
        "- Tidak ada data yang duplikat pada dataset movies dan ratings"
      ]
    },
    {
      "cell_type": "markdown",
      "metadata": {
        "id": "fB1ObV1DzJ6h"
      },
      "source": [
        "## Analisis Distribusi Data"
      ]
    },
    {
      "cell_type": "markdown",
      "metadata": {
        "id": "m671f-2ihJlv"
      },
      "source": [
        "Membersihkan data genres dengan mengambil genre utamanya saja"
      ]
    },
    {
      "cell_type": "code",
      "execution_count": null,
      "metadata": {
        "colab": {
          "base_uri": "https://localhost:8080/",
          "height": 711
        },
        "id": "NksWlwDAhJlw",
        "outputId": "3250231b-3ad0-45a0-b142-e746cb9bdf22"
      },
      "outputs": [
        {
          "data": {
            "text/plain": [
              "genres\n",
              "Comedy                2779\n",
              "Drama                 2226\n",
              "Action                1828\n",
              "Adventure              653\n",
              "Crime                  537\n",
              "Horror                 468\n",
              "Documentary            386\n",
              "Animation              298\n",
              "Children               197\n",
              "Thriller                84\n",
              "Sci-Fi                  62\n",
              "Mystery                 48\n",
              "Fantasy                 42\n",
              "Romance                 38\n",
              "(no genres listed)      34\n",
              "Western                 23\n",
              "Musical                 23\n",
              "Film-Noir               12\n",
              "War                      4\n",
              "Name: count, dtype: int64"
            ]
          },
          "execution_count": 6,
          "metadata": {},
          "output_type": "execute_result"
        }
      ],
      "source": [
        "movies['genres'] = movies['genres'].str.split('|').str[0]\n",
        "movies['genres'].value_counts()"
      ]
    },
    {
      "cell_type": "markdown",
      "metadata": {
        "id": "ccZyzqoQhJlw"
      },
      "source": [
        "Membuat fungsi untuk menampilkan distribusi setiap data"
      ]
    },
    {
      "cell_type": "code",
      "execution_count": null,
      "metadata": {
        "id": "sgD1s-nI2hSl"
      },
      "outputs": [],
      "source": [
        "def cekDistribusi(dataframe, kolom):\n",
        "    df = dataframe.copy()\n",
        "    fitur = df[kolom].value_counts().sort_values(ascending=False).index\n",
        "    total = len(df)\n",
        "\n",
        "    plt.figure(figsize=(8, 5))\n",
        "    ax = sns.countplot(data=df, x=kolom, order=fitur, palette=palette)\n",
        "\n",
        "    # Menambahkan nilai aktual dan persentase di atas setiap bar\n",
        "    for p in ax.patches:\n",
        "        nilai = int(p.get_height())\n",
        "        # persentase = 100 * nilai / total\n",
        "        ax.annotate(f'{nilai}',\n",
        "                    (p.get_x() + p.get_width() / 2, p.get_height()),\n",
        "                    ha='center', va='bottom', fontsize=8)\n",
        "\n",
        "    plt.title(f'Distribusi Kolom {kolom}')\n",
        "    plt.xlabel(kolom)\n",
        "    plt.ylabel('Jumlah')\n",
        "    plt.xticks(rotation=90)\n",
        "    plt.tight_layout()\n",
        "    plt.show()"
      ]
    },
    {
      "cell_type": "markdown",
      "metadata": {
        "id": "1lrxhi2yhJlw"
      },
      "source": [
        "Menampilkan distribusi data genres pada dataset movies"
      ]
    },
    {
      "cell_type": "code",
      "execution_count": null,
      "metadata": {
        "colab": {
          "base_uri": "https://localhost:8080/",
          "height": 506
        },
        "id": "PjBf7DsW9MHl",
        "outputId": "8fea24e1-58cd-4143-ad1f-7101d7968574"
      },
      "outputs": [
        {
          "data": {
            "image/png": "[encoded data removed]",
            "text/plain": [
              "<Figure size 800x500 with 1 Axes>"
            ]
          },
          "metadata": {},
          "output_type": "display_data"
        }
      ],
      "source": [
        "cekDistribusi(movies, 'genres')"
      ]
    },
    {
      "cell_type": "markdown",
      "metadata": {
        "id": "S9Vn6WDRhJlx"
      },
      "source": [
        "Menampilkan distribusi data rating pada dataset ratings"
      ]
    },
    {
      "cell_type": "code",
      "execution_count": null,
      "metadata": {
        "colab": {
          "base_uri": "https://localhost:8080/",
          "height": 507
        },
        "id": "aJsg6CxPhJlx",
        "outputId": "743950e2-be9c-467d-c07d-cbb4aa9649ec"
      },
      "outputs": [
        {
          "data": {
            "image/png": "[encoded data removed]",
            "text/plain": [
              "<Figure size 800x500 with 1 Axes>"
            ]
          },
          "metadata": {},
          "output_type": "display_data"
        }
      ],
      "source": [
        "cekDistribusi(ratings, 'rating')"
      ]
    },
    {
      "cell_type": "markdown",
      "metadata": {
        "id": "ERTkWP6shJlx"
      },
      "source": [
        "# Data Preparation"
      ]
    },
    {
      "cell_type": "markdown",
      "metadata": {
        "id": "nAJZw4UphJlx"
      },
      "source": [
        "## Data Cleaning"
      ]
    },
    {
      "cell_type": "markdown",
      "metadata": {
        "id": "Q-ZN7ZdqhJlx"
      },
      "source": [
        "Menangani Missing Values dan Duplicated Data pada Dataset Movies"
      ]
    },
    {
      "cell_type": "code",
      "execution_count": null,
      "metadata": {
        "colab": {
          "base_uri": "https://localhost:8080/"
        },
        "id": "sfy5HHKBhJlx",
        "outputId": "1f8d5db5-9133-490b-e1cc-c75bce045c12"
      },
      "outputs": [
        {
          "name": "stdout",
          "output_type": "stream",
          "text": [
            "<class 'pandas.core.frame.DataFrame'>\n",
            "RangeIndex: 9742 entries, 0 to 9741\n",
            "Data columns (total 3 columns):\n",
            " #   Column   Non-Null Count  Dtype \n",
            "---  ------   --------------  ----- \n",
            " 0   movieId  9742 non-null   int64 \n",
            " 1   title    9742 non-null   object\n",
            " 2   genres   9742 non-null   object\n",
            "dtypes: int64(1), object(2)\n",
            "memory usage: 228.5+ KB\n"
          ]
        }
      ],
      "source": [
        "clean_movies = movies.dropna().drop_duplicates()\n",
        "clean_movies.info()"
      ]
    },
    {
      "cell_type": "markdown",
      "metadata": {
        "id": "6h7eUswKhJmK"
      },
      "source": [
        "Menangani Missing Values dan Duplicated Data pada Dataset Ratings"
      ]
    },
    {
      "cell_type": "code",
      "execution_count": null,
      "metadata": {
        "colab": {
          "base_uri": "https://localhost:8080/"
        },
        "id": "XKGb11TNhJmL",
        "outputId": "f0b54dec-cfc9-45c4-df84-dd9f1d08e5fb"
      },
      "outputs": [
        {
          "name": "stdout",
          "output_type": "stream",
          "text": [
            "<class 'pandas.core.frame.DataFrame'>\n",
            "RangeIndex: 100836 entries, 0 to 100835\n",
            "Data columns (total 4 columns):\n",
            " #   Column     Non-Null Count   Dtype  \n",
            "---  ------     --------------   -----  \n",
            " 0   userId     100836 non-null  int64  \n",
            " 1   movieId    100836 non-null  int64  \n",
            " 2   rating     100836 non-null  float64\n",
            " 3   timestamp  100836 non-null  int64  \n",
            "dtypes: float64(1), int64(3)\n",
            "memory usage: 3.1 MB\n"
          ]
        }
      ],
      "source": [
        "clean_ratings = ratings.dropna().drop_duplicates()\n",
        "clean_ratings.info()"
      ]
    },
    {
      "cell_type": "markdown",
      "metadata": {
        "id": "b9S9t5IghJmL"
      },
      "source": [
        "## Pemilihan Fitur"
      ]
    },
    {
      "cell_type": "markdown",
      "metadata": {
        "id": "wTlElS4zhJmM"
      },
      "source": [
        "### Dataset Movies"
      ]
    },
    {
      "cell_type": "markdown",
      "metadata": {
        "id": "9zidUcl0hJmM"
      },
      "source": [
        "Menghapus nilai **(no_genres_listed)** pada kolom genres"
      ]
    },
    {
      "cell_type": "code",
      "execution_count": null,
      "metadata": {
        "colab": {
          "base_uri": "https://localhost:8080/"
        },
        "id": "qWpiQTdKhJmM",
        "outputId": "4dd81461-7987-4e3a-f813-5cc507bc173f"
      },
      "outputs": [
        {
          "data": {
            "text/plain": [
              "array(['Adventure', 'Comedy', 'Action', 'Drama', 'Crime', 'Children',\n",
              "       'Mystery', 'Animation', 'Documentary', 'Thriller', 'Horror',\n",
              "       'Fantasy', 'Western', 'Film-Noir', 'Romance', 'Sci-Fi', 'Musical',\n",
              "       'War'], dtype=object)"
            ]
          },
          "execution_count": 12,
          "metadata": {},
          "output_type": "execute_result"
        }
      ],
      "source": [
        "clean_movies = clean_movies[(clean_movies['genres'] != '(no genres listed)')]\n",
        "clean_movies['genres'].unique()"
      ]
    },
    {
      "cell_type": "markdown",
      "metadata": {
        "id": "avudzgaGhJmN"
      },
      "source": [
        "### Dataset Ratings"
      ]
    },
    {
      "cell_type": "markdown",
      "metadata": {
        "id": "CBpz2YnghJmN"
      },
      "source": [
        "Menghapus fitur atau kolom `timestamp` karena fitur tersebut tidak relevan untuk melakukan pemodelan"
      ]
    },
    {
      "cell_type": "code",
      "execution_count": null,
      "metadata": {
        "colab": {
          "base_uri": "https://localhost:8080/"
        },
        "id": "1ZWPzbn8hJmN",
        "outputId": "3bc1a42d-9c68-4f55-e294-b6cfaf2cd22f"
      },
      "outputs": [
        {
          "name": "stdout",
          "output_type": "stream",
          "text": [
            "<class 'pandas.core.frame.DataFrame'>\n",
            "RangeIndex: 100836 entries, 0 to 100835\n",
            "Data columns (total 3 columns):\n",
            " #   Column   Non-Null Count   Dtype  \n",
            "---  ------   --------------   -----  \n",
            " 0   userId   100836 non-null  int64  \n",
            " 1   movieId  100836 non-null  int64  \n",
            " 2   rating   100836 non-null  float64\n",
            "dtypes: float64(1), int64(2)\n",
            "memory usage: 2.3 MB\n"
          ]
        }
      ],
      "source": [
        "clean_ratings = clean_ratings.drop(columns=['timestamp'], axis=1)\n",
        "clean_ratings.info()"
      ]
    },
    {
      "cell_type": "markdown",
      "metadata": {
        "id": "gDYruEfHhJmN"
      },
      "source": [
        "Menghapus data film pada dataset `ratings.csv` yang tidak ada di dataset `movies.csv`"
      ]
    },
    {
      "cell_type": "code",
      "execution_count": null,
      "metadata": {
        "colab": {
          "base_uri": "https://localhost:8080/"
        },
        "id": "1ProPBGuhJmN",
        "outputId": "8f970fab-9fd2-49b8-a7a8-2284d624b3a1"
      },
      "outputs": [
        {
          "name": "stdout",
          "output_type": "stream",
          "text": [
            "Jumlah data rating setelah menghapus film tidak relevan: 100789\n",
            "\n",
            "<class 'pandas.core.frame.DataFrame'>\n",
            "Index: 100789 entries, 0 to 100835\n",
            "Data columns (total 3 columns):\n",
            " #   Column   Non-Null Count   Dtype  \n",
            "---  ------   --------------   -----  \n",
            " 0   userId   100789 non-null  int64  \n",
            " 1   movieId  100789 non-null  int64  \n",
            " 2   rating   100789 non-null  float64\n",
            "dtypes: float64(1), int64(2)\n",
            "memory usage: 3.1 MB\n"
          ]
        }
      ],
      "source": [
        "clean_ratings = clean_ratings[clean_ratings['movieId'].isin(clean_movies['movieId'])]\n",
        "print(f\"Jumlah data rating setelah menghapus film tidak relevan: {len(clean_ratings)}\\n\")\n",
        "clean_ratings.info()"
      ]
    },
    {
      "cell_type": "markdown",
      "metadata": {
        "id": "kMXfrgMVhJmO"
      },
      "source": [
        "## Text Processing"
      ]
    },
    {
      "cell_type": "code",
      "execution_count": null,
      "metadata": {
        "colab": {
          "base_uri": "https://localhost:8080/"
        },
        "id": "x_GkLeyM0MYx",
        "outputId": "9a252e0c-06e6-4091-ecc9-317fbb9f988b"
      },
      "outputs": [
        {
          "data": {
            "text/plain": [
              "18"
            ]
          },
          "execution_count": 15,
          "metadata": {},
          "output_type": "execute_result"
        }
      ],
      "source": [
        "len(clean_movies['genres'].unique())"
      ]
    },
    {
      "cell_type": "code",
      "execution_count": null,
      "metadata": {
        "colab": {
          "base_uri": "https://localhost:8080/"
        },
        "id": "k0LYKTbdhJmP",
        "outputId": "eb4b45e0-1bea-4471-8e49-47afbe63f22f"
      },
      "outputs": [
        {
          "data": {
            "text/plain": [
              "array(['Adventure', 'Comedy', 'Action', 'Drama', 'Crime', 'Children',\n",
              "       'Mystery', 'Animation', 'Documentary', 'Thriller', 'Horror',\n",
              "       'Fantasy', 'Western', 'Film-Noir', 'Romance', 'Sci-Fi', 'Musical',\n",
              "       'War'], dtype=object)"
            ]
          },
          "execution_count": 16,
          "metadata": {},
          "output_type": "execute_result"
        }
      ],
      "source": [
        "clean_movies['genres'].unique()"
      ]
    },
    {
      "cell_type": "code",
      "execution_count": null,
      "metadata": {
        "colab": {
          "base_uri": "https://localhost:8080/"
        },
        "id": "ybqsCu0IhJmP",
        "outputId": "f2cfa456-836f-4a10-de35-abdad2c52bab"
      },
      "outputs": [
        {
          "name": "stdout",
          "output_type": "stream",
          "text": [
            "      movieId                                  title genres\n",
            "668       880       Island of Dr. Moreau, The (1996)  Scifi\n",
            "1320     1779                          Sphere (1998)  Scifi\n",
            "1719     2311  2010: The Year We Make Contact (1984)  Scifi\n",
            "1902     2526                          Meteor (1979)  Scifi\n",
            "2000     2661        It Came from Outer Space (1953)  Scifi\n",
            "      movieId                       title    genres\n",
            "279       320               Suture (1993)  Filmnoir\n",
            "695       913  Maltese Falcon, The (1941)  Filmnoir\n",
            "711       930            Notorious (1946)  Filmnoir\n",
            "913      1212       Third Man, The (1949)  Filmnoir\n",
            "1531     2066      Out of the Past (1947)  Filmnoir\n"
          ]
        }
      ],
      "source": [
        "clean_movies['genres'] = clean_movies['genres'].replace({'Sci-Fi':'Scifi', 'Film-Noir':'Filmnoir'})\n",
        "print(clean_movies[clean_movies['genres'] == 'Scifi'].head())\n",
        "print(clean_movies[clean_movies['genres'] == 'Filmnoir'].head())"
      ]
    },
    {
      "cell_type": "code",
      "execution_count": null,
      "metadata": {
        "colab": {
          "base_uri": "https://localhost:8080/"
        },
        "id": "lsh5qMIGhJmQ",
        "outputId": "d173e23c-7b51-493e-c192-ea529cf50a63"
      },
      "outputs": [
        {
          "data": {
            "text/plain": [
              "<pandas.core.groupby.generic.DataFrameGroupBy object at 0x000001A8042B3F70>"
            ]
          },
          "execution_count": 18,
          "metadata": {},
          "output_type": "execute_result"
        }
      ],
      "source": [
        "groupped_ratings = clean_ratings.groupby('movieId')\n",
        "groupped_ratings"
      ]
    },
    {
      "cell_type": "markdown",
      "metadata": {
        "id": "1CDVSzSphJmQ"
      },
      "source": [
        "## Data Transformation"
      ]
    },
    {
      "cell_type": "markdown",
      "metadata": {
        "id": "qUcQ5bschJmQ"
      },
      "source": [
        "### TF-IDF Vectorizer"
      ]
    },
    {
      "cell_type": "code",
      "execution_count": null,
      "metadata": {
        "colab": {
          "base_uri": "https://localhost:8080/"
        },
        "id": "0fkua9CehJmR",
        "outputId": "7a9f6b3f-a088-4509-e7ab-714e4cd76653"
      },
      "outputs": [
        {
          "data": {
            "text/plain": [
              "array(['action', 'adventure', 'animation', 'children', 'comedy', 'crime',\n",
              "       'documentary', 'drama', 'fantasy', 'filmnoir', 'horror', 'musical',\n",
              "       'mystery', 'romance', 'scifi', 'thriller', 'war', 'western'],\n",
              "      dtype=object)"
            ]
          },
          "execution_count": 19,
          "metadata": {},
          "output_type": "execute_result"
        }
      ],
      "source": [
        "tfidf = TfidfVectorizer()\n",
        "\n",
        "tfidf.fit(clean_movies['genres'])\n",
        "tfidf.get_feature_names_out()"
      ]
    },
    {
      "cell_type": "code",
      "execution_count": null,
      "metadata": {
        "colab": {
          "base_uri": "https://localhost:8080/"
        },
        "id": "3UPDkcP1hJmS",
        "outputId": "652a93b4-53d6-4f87-b661-e0dd781c34c8"
      },
      "outputs": [
        {
          "data": {
            "text/plain": [
              "(9708, 18)"
            ]
          },
          "execution_count": 20,
          "metadata": {},
          "output_type": "execute_result"
        }
      ],
      "source": [
        "genre_tfid_cbf = tfidf.fit_transform(clean_movies['genres'])\n",
        "genre_tfid_cbf.shape"
      ]
    },
    {
      "cell_type": "code",
      "execution_count": null,
      "metadata": {
        "colab": {
          "base_uri": "https://localhost:8080/"
        },
        "id": "CUj_mcpthJmT",
        "outputId": "a5a904ba-1818-4d17-9ec9-da41a5b41194"
      },
      "outputs": [
        {
          "data": {
            "text/plain": [
              "matrix([[0., 1., 0., ..., 0., 0., 0.],\n",
              "        [0., 1., 0., ..., 0., 0., 0.],\n",
              "        [0., 0., 0., ..., 0., 0., 0.],\n",
              "        ...,\n",
              "        [0., 0., 0., ..., 0., 0., 0.],\n",
              "        [1., 0., 0., ..., 0., 0., 0.],\n",
              "        [0., 0., 0., ..., 0., 0., 0.]])"
            ]
          },
          "execution_count": 21,
          "metadata": {},
          "output_type": "execute_result"
        }
      ],
      "source": [
        "genre_tfid_cbf.todense()"
      ]
    },
    {
      "cell_type": "markdown",
      "metadata": {
        "id": "zMhwCp03hJmU"
      },
      "source": [
        "### Cosine Simmilarity"
      ]
    },
    {
      "cell_type": "code",
      "execution_count": null,
      "metadata": {
        "colab": {
          "base_uri": "https://localhost:8080/"
        },
        "id": "1SUTk8O2hJmV",
        "outputId": "210b2025-1a18-4108-8144-735fb3566a4a"
      },
      "outputs": [
        {
          "data": {
            "text/plain": [
              "array([[1., 1., 0., ..., 0., 0., 0.],\n",
              "       [1., 1., 0., ..., 0., 0., 0.],\n",
              "       [0., 0., 1., ..., 0., 0., 1.],\n",
              "       ...,\n",
              "       [0., 0., 0., ..., 1., 0., 0.],\n",
              "       [0., 0., 0., ..., 0., 1., 0.],\n",
              "       [0., 0., 1., ..., 0., 0., 1.]])"
            ]
          },
          "execution_count": 22,
          "metadata": {},
          "output_type": "execute_result"
        }
      ],
      "source": [
        "genre_cosin_cbf = cosine_similarity(genre_tfid_cbf)\n",
        "genre_cosin_cbf"
      ]
    },
    {
      "cell_type": "code",
      "execution_count": null,
      "metadata": {
        "colab": {
          "base_uri": "https://localhost:8080/",
          "height": 272
        },
        "id": "JOoBarWkhJmW",
        "outputId": "6912f8ba-165f-4859-8b62-9115d313719f"
      },
      "outputs": [
        {
          "data": {
            "text/html": [
              "<div>\n",
              "<style scoped>\n",
              "    .dataframe tbody tr th:only-of-type {\n",
              "        vertical-align: middle;\n",
              "    }\n",
              "\n",
              "    .dataframe tbody tr th {\n",
              "        vertical-align: top;\n",
              "    }\n",
              "\n",
              "    .dataframe thead th {\n",
              "        text-align: right;\n",
              "    }\n",
              "</style>\n",
              "<table border=\"1\" class=\"dataframe\">\n",
              "  <thead>\n",
              "    <tr style=\"text-align: right;\">\n",
              "      <th>title</th>\n",
              "      <th>Wrong Turn (2003)</th>\n",
              "      <th>Jewel of the Nile, The (1985)</th>\n",
              "      <th>Major Dundee (1965)</th>\n",
              "      <th>Vigilante Diaries (2016)</th>\n",
              "      <th>We Own the Night (2007)</th>\n",
              "    </tr>\n",
              "    <tr>\n",
              "      <th>title</th>\n",
              "      <th></th>\n",
              "      <th></th>\n",
              "      <th></th>\n",
              "      <th></th>\n",
              "      <th></th>\n",
              "    </tr>\n",
              "  </thead>\n",
              "  <tbody>\n",
              "    <tr>\n",
              "      <th>Shattered (1991)</th>\n",
              "      <td>0.0</td>\n",
              "      <td>0.0</td>\n",
              "      <td>0.0</td>\n",
              "      <td>0.0</td>\n",
              "      <td>0.0</td>\n",
              "    </tr>\n",
              "    <tr>\n",
              "      <th>Dirty Work (1998)</th>\n",
              "      <td>0.0</td>\n",
              "      <td>0.0</td>\n",
              "      <td>0.0</td>\n",
              "      <td>0.0</td>\n",
              "      <td>0.0</td>\n",
              "    </tr>\n",
              "    <tr>\n",
              "      <th>Solaris (Solyaris) (1972)</th>\n",
              "      <td>0.0</td>\n",
              "      <td>0.0</td>\n",
              "      <td>0.0</td>\n",
              "      <td>0.0</td>\n",
              "      <td>0.0</td>\n",
              "    </tr>\n",
              "    <tr>\n",
              "      <th>Mississippi Burning (1988)</th>\n",
              "      <td>0.0</td>\n",
              "      <td>0.0</td>\n",
              "      <td>0.0</td>\n",
              "      <td>0.0</td>\n",
              "      <td>1.0</td>\n",
              "    </tr>\n",
              "    <tr>\n",
              "      <th>Late Marriage (Hatuna Meuheret) (2001)</th>\n",
              "      <td>0.0</td>\n",
              "      <td>0.0</td>\n",
              "      <td>0.0</td>\n",
              "      <td>0.0</td>\n",
              "      <td>0.0</td>\n",
              "    </tr>\n",
              "  </tbody>\n",
              "</table>\n",
              "</div>"
            ],
            "text/plain": [
              "title                                   Wrong Turn (2003)  \\\n",
              "title                                                       \n",
              "Shattered (1991)                                      0.0   \n",
              "Dirty Work (1998)                                     0.0   \n",
              "Solaris (Solyaris) (1972)                             0.0   \n",
              "Mississippi Burning (1988)                            0.0   \n",
              "Late Marriage (Hatuna Meuheret) (2001)                0.0   \n",
              "\n",
              "title                                   Jewel of the Nile, The (1985)  \\\n",
              "title                                                                   \n",
              "Shattered (1991)                                                  0.0   \n",
              "Dirty Work (1998)                                                 0.0   \n",
              "Solaris (Solyaris) (1972)                                         0.0   \n",
              "Mississippi Burning (1988)                                        0.0   \n",
              "Late Marriage (Hatuna Meuheret) (2001)                            0.0   \n",
              "\n",
              "title                                   Major Dundee (1965)  \\\n",
              "title                                                         \n",
              "Shattered (1991)                                        0.0   \n",
              "Dirty Work (1998)                                       0.0   \n",
              "Solaris (Solyaris) (1972)                               0.0   \n",
              "Mississippi Burning (1988)                              0.0   \n",
              "Late Marriage (Hatuna Meuheret) (2001)                  0.0   \n",
              "\n",
              "title                                   Vigilante Diaries (2016)  \\\n",
              "title                                                              \n",
              "Shattered (1991)                                             0.0   \n",
              "Dirty Work (1998)                                            0.0   \n",
              "Solaris (Solyaris) (1972)                                    0.0   \n",
              "Mississippi Burning (1988)                                   0.0   \n",
              "Late Marriage (Hatuna Meuheret) (2001)                       0.0   \n",
              "\n",
              "title                                   We Own the Night (2007)  \n",
              "title                                                            \n",
              "Shattered (1991)                                            0.0  \n",
              "Dirty Work (1998)                                           0.0  \n",
              "Solaris (Solyaris) (1972)                                   0.0  \n",
              "Mississippi Burning (1988)                                  1.0  \n",
              "Late Marriage (Hatuna Meuheret) (2001)                      0.0  "
            ]
          },
          "execution_count": 23,
          "metadata": {},
          "output_type": "execute_result"
        }
      ],
      "source": [
        "genre_cosin_df = pd.DataFrame(genre_cosin_cbf, index=clean_movies['title'], columns=clean_movies['title'])\n",
        "genre_cosin_df.sample(5, axis=1, random_state=42).sample(5, axis=0, random_state=45)"
      ]
    },
    {
      "cell_type": "markdown",
      "metadata": {
        "id": "A4cLJjgPhJmW"
      },
      "source": [
        "### Data Encoding"
      ]
    },
    {
      "cell_type": "code",
      "execution_count": null,
      "metadata": {
        "id": "eqPwYtjDhJmX"
      },
      "outputs": [],
      "source": [
        "clean_ratings_encode = clean_ratings.copy()"
      ]
    },
    {
      "cell_type": "code",
      "execution_count": null,
      "metadata": {
        "colab": {
          "base_uri": "https://localhost:8080/"
        },
        "id": "EqPgPGLphJmX",
        "outputId": "a366bb77-8cf9-42b9-b9e8-87a0b8a3dfe3"
      },
      "outputs": [
        {
          "name": "stdout",
          "output_type": "stream",
          "text": [
            "list userID:  [1, 2, 3, 4, 5, 6, 7, 8, 9, 10, 11, 12, 13, 14, 15, 16, 17, 18, 19, 20, 21, 22, 23, 24, 25, 26, 27, 28, 29, 30, 31, 32, 33, 34, 35, 36, 37, 38, 39, 40, 41, 42, 43, 44, 45, 46, 47, 48, 49, 50, 51, 52, 53, 54, 55, 56, 57, 58, 59, 60, 61, 62, 63, 64, 65, 66, 67, 68, 69, 70, 71, 72, 73, 74, 75, 76, 77, 78, 79, 80, 81, 82, 83, 84, 85, 86, 87, 88, 89, 90, 91, 92, 93, 94, 95, 96, 97, 98, 99, 100, 101, 102, 103, 104, 105, 106, 107, 108, 109, 110, 111, 112, 113, 114, 115, 116, 117, 118, 119, 120, 121, 122, 123, 124, 125, 126, 127, 128, 129, 130, 131, 132, 133, 134, 135, 136, 137, 138, 139, 140, 141, 142, 143, 144, 145, 146, 147, 148, 149, 150, 151, 152, 153, 154, 155, 156, 157, 158, 159, 160, 161, 162, 163, 164, 165, 166, 167, 168, 169, 170, 171, 172, 173, 174, 175, 176, 177, 178, 179, 180, 181, 182, 183, 184, 185, 186, 187, 188, 189, 190, 191, 192, 193, 194, 195, 196, 197, 198, 199, 200, 201, 202, 203, 204, 205, 206, 207, 208, 209, 210, 211, 212, 213, 214, 215, 216, 217, 218, 219, 220, 221, 222, 223, 224, 225, 226, 227, 228, 229, 230, 231, 232, 233, 234, 235, 236, 237, 238, 239, 240, 241, 242, 243, 244, 245, 246, 247, 248, 249, 250, 251, 252, 253, 254, 255, 256, 257, 258, 259, 260, 261, 262, 263, 264, 265, 266, 267, 268, 269, 270, 271, 272, 273, 274, 275, 276, 277, 278, 279, 280, 281, 282, 283, 284, 285, 286, 287, 288, 289, 290, 291, 292, 293, 294, 295, 296, 297, 298, 299, 300, 301, 302, 303, 304, 305, 306, 307, 308, 309, 310, 311, 312, 313, 314, 315, 316, 317, 318, 319, 320, 321, 322, 323, 324, 325, 326, 327, 328, 329, 330, 331, 332, 333, 334, 335, 336, 337, 338, 339, 340, 341, 342, 343, 344, 345, 346, 347, 348, 349, 350, 351, 352, 353, 354, 355, 356, 357, 358, 359, 360, 361, 362, 363, 364, 365, 366, 367, 368, 369, 370, 371, 372, 373, 374, 375, 376, 377, 378, 379, 380, 381, 382, 383, 384, 385, 386, 387, 388, 389, 390, 391, 392, 393, 394, 395, 396, 397, 398, 399, 400, 401, 402, 403, 404, 405, 406, 407, 408, 409, 410, 411, 412, 413, 414, 415, 416, 417, 418, 419, 420, 421, 422, 423, 424, 425, 426, 427, 428, 429, 430, 431, 432, 433, 434, 435, 436, 437, 438, 439, 440, 441, 442, 443, 444, 445, 446, 447, 448, 449, 450, 451, 452, 453, 454, 455, 456, 457, 458, 459, 460, 461, 462, 463, 464, 465, 466, 467, 468, 469, 470, 471, 472, 473, 474, 475, 476, 477, 478, 479, 480, 481, 482, 483, 484, 485, 486, 487, 488, 489, 490, 491, 492, 493, 494, 495, 496, 497, 498, 499, 500, 501, 502, 503, 504, 505, 506, 507, 508, 509, 510, 511, 512, 513, 514, 515, 516, 517, 518, 519, 520, 521, 522, 523, 524, 525, 526, 527, 528, 529, 530, 531, 532, 533, 534, 535, 536, 537, 538, 539, 540, 541, 542, 543, 544, 545, 546, 547, 548, 549, 550, 551, 552, 553, 554, 555, 556, 557, 558, 559, 560, 561, 562, 563, 564, 565, 566, 567, 568, 569, 570, 571, 572, 573, 574, 575, 576, 577, 578, 579, 580, 581, 582, 583, 584, 585, 586, 587, 588, 589, 590, 591, 592, 593, 594, 595, 596, 597, 598, 599, 600, 601, 602, 603, 604, 605, 606, 607, 608, 609, 610]\n",
            "encoded userID :  {1: 0, 2: 1, 3: 2, 4: 3, 5: 4, 6: 5, 7: 6, 8: 7, 9: 8, 10: 9, 11: 10, 12: 11, 13: 12, 14: 13, 15: 14, 16: 15, 17: 16, 18: 17, 19: 18, 20: 19, 21: 20, 22: 21, 23: 22, 24: 23, 25: 24, 26: 25, 27: 26, 28: 27, 29: 28, 30: 29, 31: 30, 32: 31, 33: 32, 34: 33, 35: 34, 36: 35, 37: 36, 38: 37, 39: 38, 40: 39, 41: 40, 42: 41, 43: 42, 44: 43, 45: 44, 46: 45, 47: 46, 48: 47, 49: 48, 50: 49, 51: 50, 52: 51, 53: 52, 54: 53, 55: 54, 56: 55, 57: 56, 58: 57, 59: 58, 60: 59, 61: 60, 62: 61, 63: 62, 64: 63, 65: 64, 66: 65, 67: 66, 68: 67, 69: 68, 70: 69, 71: 70, 72: 71, 73: 72, 74: 73, 75: 74, 76: 75, 77: 76, 78: 77, 79: 78, 80: 79, 81: 80, 82: 81, 83: 82, 84: 83, 85: 84, 86: 85, 87: 86, 88: 87, 89: 88, 90: 89, 91: 90, 92: 91, 93: 92, 94: 93, 95: 94, 96: 95, 97: 96, 98: 97, 99: 98, 100: 99, 101: 100, 102: 101, 103: 102, 104: 103, 105: 104, 106: 105, 107: 106, 108: 107, 109: 108, 110: 109, 111: 110, 112: 111, 113: 112, 114: 113, 115: 114, 116: 115, 117: 116, 118: 117, 119: 118, 120: 119, 121: 120, 122: 121, 123: 122, 124: 123, 125: 124, 126: 125, 127: 126, 128: 127, 129: 128, 130: 129, 131: 130, 132: 131, 133: 132, 134: 133, 135: 134, 136: 135, 137: 136, 138: 137, 139: 138, 140: 139, 141: 140, 142: 141, 143: 142, 144: 143, 145: 144, 146: 145, 147: 146, 148: 147, 149: 148, 150: 149, 151: 150, 152: 151, 153: 152, 154: 153, 155: 154, 156: 155, 157: 156, 158: 157, 159: 158, 160: 159, 161: 160, 162: 161, 163: 162, 164: 163, 165: 164, 166: 165, 167: 166, 168: 167, 169: 168, 170: 169, 171: 170, 172: 171, 173: 172, 174: 173, 175: 174, 176: 175, 177: 176, 178: 177, 179: 178, 180: 179, 181: 180, 182: 181, 183: 182, 184: 183, 185: 184, 186: 185, 187: 186, 188: 187, 189: 188, 190: 189, 191: 190, 192: 191, 193: 192, 194: 193, 195: 194, 196: 195, 197: 196, 198: 197, 199: 198, 200: 199, 201: 200, 202: 201, 203: 202, 204: 203, 205: 204, 206: 205, 207: 206, 208: 207, 209: 208, 210: 209, 211: 210, 212: 211, 213: 212, 214: 213, 215: 214, 216: 215, 217: 216, 218: 217, 219: 218, 220: 219, 221: 220, 222: 221, 223: 222, 224: 223, 225: 224, 226: 225, 227: 226, 228: 227, 229: 228, 230: 229, 231: 230, 232: 231, 233: 232, 234: 233, 235: 234, 236: 235, 237: 236, 238: 237, 239: 238, 240: 239, 241: 240, 242: 241, 243: 242, 244: 243, 245: 244, 246: 245, 247: 246, 248: 247, 249: 248, 250: 249, 251: 250, 252: 251, 253: 252, 254: 253, 255: 254, 256: 255, 257: 256, 258: 257, 259: 258, 260: 259, 261: 260, 262: 261, 263: 262, 264: 263, 265: 264, 266: 265, 267: 266, 268: 267, 269: 268, 270: 269, 271: 270, 272: 271, 273: 272, 274: 273, 275: 274, 276: 275, 277: 276, 278: 277, 279: 278, 280: 279, 281: 280, 282: 281, 283: 282, 284: 283, 285: 284, 286: 285, 287: 286, 288: 287, 289: 288, 290: 289, 291: 290, 292: 291, 293: 292, 294: 293, 295: 294, 296: 295, 297: 296, 298: 297, 299: 298, 300: 299, 301: 300, 302: 301, 303: 302, 304: 303, 305: 304, 306: 305, 307: 306, 308: 307, 309: 308, 310: 309, 311: 310, 312: 311, 313: 312, 314: 313, 315: 314, 316: 315, 317: 316, 318: 317, 319: 318, 320: 319, 321: 320, 322: 321, 323: 322, 324: 323, 325: 324, 326: 325, 327: 326, 328: 327, 329: 328, 330: 329, 331: 330, 332: 331, 333: 332, 334: 333, 335: 334, 336: 335, 337: 336, 338: 337, 339: 338, 340: 339, 341: 340, 342: 341, 343: 342, 344: 343, 345: 344, 346: 345, 347: 346, 348: 347, 349: 348, 350: 349, 351: 350, 352: 351, 353: 352, 354: 353, 355: 354, 356: 355, 357: 356, 358: 357, 359: 358, 360: 359, 361: 360, 362: 361, 363: 362, 364: 363, 365: 364, 366: 365, 367: 366, 368: 367, 369: 368, 370: 369, 371: 370, 372: 371, 373: 372, 374: 373, 375: 374, 376: 375, 377: 376, 378: 377, 379: 378, 380: 379, 381: 380, 382: 381, 383: 382, 384: 383, 385: 384, 386: 385, 387: 386, 388: 387, 389: 388, 390: 389, 391: 390, 392: 391, 393: 392, 394: 393, 395: 394, 396: 395, 397: 396, 398: 397, 399: 398, 400: 399, 401: 400, 402: 401, 403: 402, 404: 403, 405: 404, 406: 405, 407: 406, 408: 407, 409: 408, 410: 409, 411: 410, 412: 411, 413: 412, 414: 413, 415: 414, 416: 415, 417: 416, 418: 417, 419: 418, 420: 419, 421: 420, 422: 421, 423: 422, 424: 423, 425: 424, 426: 425, 427: 426, 428: 427, 429: 428, 430: 429, 431: 430, 432: 431, 433: 432, 434: 433, 435: 434, 436: 435, 437: 436, 438: 437, 439: 438, 440: 439, 441: 440, 442: 441, 443: 442, 444: 443, 445: 444, 446: 445, 447: 446, 448: 447, 449: 448, 450: 449, 451: 450, 452: 451, 453: 452, 454: 453, 455: 454, 456: 455, 457: 456, 458: 457, 459: 458, 460: 459, 461: 460, 462: 461, 463: 462, 464: 463, 465: 464, 466: 465, 467: 466, 468: 467, 469: 468, 470: 469, 471: 470, 472: 471, 473: 472, 474: 473, 475: 474, 476: 475, 477: 476, 478: 477, 479: 478, 480: 479, 481: 480, 482: 481, 483: 482, 484: 483, 485: 484, 486: 485, 487: 486, 488: 487, 489: 488, 490: 489, 491: 490, 492: 491, 493: 492, 494: 493, 495: 494, 496: 495, 497: 496, 498: 497, 499: 498, 500: 499, 501: 500, 502: 501, 503: 502, 504: 503, 505: 504, 506: 505, 507: 506, 508: 507, 509: 508, 510: 509, 511: 510, 512: 511, 513: 512, 514: 513, 515: 514, 516: 515, 517: 516, 518: 517, 519: 518, 520: 519, 521: 520, 522: 521, 523: 522, 524: 523, 525: 524, 526: 525, 527: 526, 528: 527, 529: 528, 530: 529, 531: 530, 532: 531, 533: 532, 534: 533, 535: 534, 536: 535, 537: 536, 538: 537, 539: 538, 540: 539, 541: 540, 542: 541, 543: 542, 544: 543, 545: 544, 546: 545, 547: 546, 548: 547, 549: 548, 550: 549, 551: 550, 552: 551, 553: 552, 554: 553, 555: 554, 556: 555, 557: 556, 558: 557, 559: 558, 560: 559, 561: 560, 562: 561, 563: 562, 564: 563, 565: 564, 566: 565, 567: 566, 568: 567, 569: 568, 570: 569, 571: 570, 572: 571, 573: 572, 574: 573, 575: 574, 576: 575, 577: 576, 578: 577, 579: 578, 580: 579, 581: 580, 582: 581, 583: 582, 584: 583, 585: 584, 586: 585, 587: 586, 588: 587, 589: 588, 590: 589, 591: 590, 592: 591, 593: 592, 594: 593, 595: 594, 596: 595, 597: 596, 598: 597, 599: 598, 600: 599, 601: 600, 602: 601, 603: 602, 604: 603, 605: 604, 606: 605, 607: 606, 608: 607, 609: 608, 610: 609}\n",
            "encoded angka ke userID:  {0: 1, 1: 2, 2: 3, 3: 4, 4: 5, 5: 6, 6: 7, 7: 8, 8: 9, 9: 10, 10: 11, 11: 12, 12: 13, 13: 14, 14: 15, 15: 16, 16: 17, 17: 18, 18: 19, 19: 20, 20: 21, 21: 22, 22: 23, 23: 24, 24: 25, 25: 26, 26: 27, 27: 28, 28: 29, 29: 30, 30: 31, 31: 32, 32: 33, 33: 34, 34: 35, 35: 36, 36: 37, 37: 38, 38: 39, 39: 40, 40: 41, 41: 42, 42: 43, 43: 44, 44: 45, 45: 46, 46: 47, 47: 48, 48: 49, 49: 50, 50: 51, 51: 52, 52: 53, 53: 54, 54: 55, 55: 56, 56: 57, 57: 58, 58: 59, 59: 60, 60: 61, 61: 62, 62: 63, 63: 64, 64: 65, 65: 66, 66: 67, 67: 68, 68: 69, 69: 70, 70: 71, 71: 72, 72: 73, 73: 74, 74: 75, 75: 76, 76: 77, 77: 78, 78: 79, 79: 80, 80: 81, 81: 82, 82: 83, 83: 84, 84: 85, 85: 86, 86: 87, 87: 88, 88: 89, 89: 90, 90: 91, 91: 92, 92: 93, 93: 94, 94: 95, 95: 96, 96: 97, 97: 98, 98: 99, 99: 100, 100: 101, 101: 102, 102: 103, 103: 104, 104: 105, 105: 106, 106: 107, 107: 108, 108: 109, 109: 110, 110: 111, 111: 112, 112: 113, 113: 114, 114: 115, 115: 116, 116: 117, 117: 118, 118: 119, 119: 120, 120: 121, 121: 122, 122: 123, 123: 124, 124: 125, 125: 126, 126: 127, 127: 128, 128: 129, 129: 130, 130: 131, 131: 132, 132: 133, 133: 134, 134: 135, 135: 136, 136: 137, 137: 138, 138: 139, 139: 140, 140: 141, 141: 142, 142: 143, 143: 144, 144: 145, 145: 146, 146: 147, 147: 148, 148: 149, 149: 150, 150: 151, 151: 152, 152: 153, 153: 154, 154: 155, 155: 156, 156: 157, 157: 158, 158: 159, 159: 160, 160: 161, 161: 162, 162: 163, 163: 164, 164: 165, 165: 166, 166: 167, 167: 168, 168: 169, 169: 170, 170: 171, 171: 172, 172: 173, 173: 174, 174: 175, 175: 176, 176: 177, 177: 178, 178: 179, 179: 180, 180: 181, 181: 182, 182: 183, 183: 184, 184: 185, 185: 186, 186: 187, 187: 188, 188: 189, 189: 190, 190: 191, 191: 192, 192: 193, 193: 194, 194: 195, 195: 196, 196: 197, 197: 198, 198: 199, 199: 200, 200: 201, 201: 202, 202: 203, 203: 204, 204: 205, 205: 206, 206: 207, 207: 208, 208: 209, 209: 210, 210: 211, 211: 212, 212: 213, 213: 214, 214: 215, 215: 216, 216: 217, 217: 218, 218: 219, 219: 220, 220: 221, 221: 222, 222: 223, 223: 224, 224: 225, 225: 226, 226: 227, 227: 228, 228: 229, 229: 230, 230: 231, 231: 232, 232: 233, 233: 234, 234: 235, 235: 236, 236: 237, 237: 238, 238: 239, 239: 240, 240: 241, 241: 242, 242: 243, 243: 244, 244: 245, 245: 246, 246: 247, 247: 248, 248: 249, 249: 250, 250: 251, 251: 252, 252: 253, 253: 254, 254: 255, 255: 256, 256: 257, 257: 258, 258: 259, 259: 260, 260: 261, 261: 262, 262: 263, 263: 264, 264: 265, 265: 266, 266: 267, 267: 268, 268: 269, 269: 270, 270: 271, 271: 272, 272: 273, 273: 274, 274: 275, 275: 276, 276: 277, 277: 278, 278: 279, 279: 280, 280: 281, 281: 282, 282: 283, 283: 284, 284: 285, 285: 286, 286: 287, 287: 288, 288: 289, 289: 290, 290: 291, 291: 292, 292: 293, 293: 294, 294: 295, 295: 296, 296: 297, 297: 298, 298: 299, 299: 300, 300: 301, 301: 302, 302: 303, 303: 304, 304: 305, 305: 306, 306: 307, 307: 308, 308: 309, 309: 310, 310: 311, 311: 312, 312: 313, 313: 314, 314: 315, 315: 316, 316: 317, 317: 318, 318: 319, 319: 320, 320: 321, 321: 322, 322: 323, 323: 324, 324: 325, 325: 326, 326: 327, 327: 328, 328: 329, 329: 330, 330: 331, 331: 332, 332: 333, 333: 334, 334: 335, 335: 336, 336: 337, 337: 338, 338: 339, 339: 340, 340: 341, 341: 342, 342: 343, 343: 344, 344: 345, 345: 346, 346: 347, 347: 348, 348: 349, 349: 350, 350: 351, 351: 352, 352: 353, 353: 354, 354: 355, 355: 356, 356: 357, 357: 358, 358: 359, 359: 360, 360: 361, 361: 362, 362: 363, 363: 364, 364: 365, 365: 366, 366: 367, 367: 368, 368: 369, 369: 370, 370: 371, 371: 372, 372: 373, 373: 374, 374: 375, 375: 376, 376: 377, 377: 378, 378: 379, 379: 380, 380: 381, 381: 382, 382: 383, 383: 384, 384: 385, 385: 386, 386: 387, 387: 388, 388: 389, 389: 390, 390: 391, 391: 392, 392: 393, 393: 394, 394: 395, 395: 396, 396: 397, 397: 398, 398: 399, 399: 400, 400: 401, 401: 402, 402: 403, 403: 404, 404: 405, 405: 406, 406: 407, 407: 408, 408: 409, 409: 410, 410: 411, 411: 412, 412: 413, 413: 414, 414: 415, 415: 416, 416: 417, 417: 418, 418: 419, 419: 420, 420: 421, 421: 422, 422: 423, 423: 424, 424: 425, 425: 426, 426: 427, 427: 428, 428: 429, 429: 430, 430: 431, 431: 432, 432: 433, 433: 434, 434: 435, 435: 436, 436: 437, 437: 438, 438: 439, 439: 440, 440: 441, 441: 442, 442: 443, 443: 444, 444: 445, 445: 446, 446: 447, 447: 448, 448: 449, 449: 450, 450: 451, 451: 452, 452: 453, 453: 454, 454: 455, 455: 456, 456: 457, 457: 458, 458: 459, 459: 460, 460: 461, 461: 462, 462: 463, 463: 464, 464: 465, 465: 466, 466: 467, 467: 468, 468: 469, 469: 470, 470: 471, 471: 472, 472: 473, 473: 474, 474: 475, 475: 476, 476: 477, 477: 478, 478: 479, 479: 480, 480: 481, 481: 482, 482: 483, 483: 484, 484: 485, 485: 486, 486: 487, 487: 488, 488: 489, 489: 490, 490: 491, 491: 492, 492: 493, 493: 494, 494: 495, 495: 496, 496: 497, 497: 498, 498: 499, 499: 500, 500: 501, 501: 502, 502: 503, 503: 504, 504: 505, 505: 506, 506: 507, 507: 508, 508: 509, 509: 510, 510: 511, 511: 512, 512: 513, 513: 514, 514: 515, 515: 516, 516: 517, 517: 518, 518: 519, 519: 520, 520: 521, 521: 522, 522: 523, 523: 524, 524: 525, 525: 526, 526: 527, 527: 528, 528: 529, 529: 530, 530: 531, 531: 532, 532: 533, 533: 534, 534: 535, 535: 536, 536: 537, 537: 538, 538: 539, 539: 540, 540: 541, 541: 542, 542: 543, 543: 544, 544: 545, 545: 546, 546: 547, 547: 548, 548: 549, 549: 550, 550: 551, 551: 552, 552: 553, 553: 554, 554: 555, 555: 556, 556: 557, 557: 558, 558: 559, 559: 560, 560: 561, 561: 562, 562: 563, 563: 564, 564: 565, 565: 566, 566: 567, 567: 568, 568: 569, 569: 570, 570: 571, 571: 572, 572: 573, 573: 574, 574: 575, 575: 576, 576: 577, 577: 578, 578: 579, 579: 580, 580: 581, 581: 582, 582: 583, 583: 584, 584: 585, 585: 586, 586: 587, 587: 588, 588: 589, 589: 590, 590: 591, 591: 592, 592: 593, 593: 594, 594: 595, 595: 596, 596: 597, 597: 598, 598: 599, 599: 600, 600: 601, 601: 602, 602: 603, 603: 604, 604: 605, 605: 606, 606: 607, 607: 608, 608: 609, 609: 610}\n"
          ]
        }
      ],
      "source": [
        "# Mengubah userID menjadi list tanpa nilai yang sama\n",
        "user_ids = clean_ratings_encode['userId'].unique().tolist()\n",
        "print('list userID: ', user_ids)\n",
        "\n",
        "# Melakukan encoding userID\n",
        "user_to_user_encoded = {x: i for i, x in enumerate(user_ids)}\n",
        "print('encoded userID : ', user_to_user_encoded)\n",
        "\n",
        "# Melakukan proses encoding angka ke ke userID\n",
        "user_encoded_to_user = {i: x for i, x in enumerate(user_ids)}\n",
        "print('encoded angka ke userID: ', user_encoded_to_user)"
      ]
    },
    {
      "cell_type": "code",
      "execution_count": null,
      "metadata": {
        "colab": {
          "base_uri": "https://localhost:8080/"
        },
        "id": "TRFYpPpihJmY",
        "outputId": "4c26fcd6-7076-49e2-847f-9da25251cee7"
      },
      "outputs": [
        {
          "name": "stdout",
          "output_type": "stream",
          "text": [
            "list moviesID:  [1, 3, 6, 47, 50, 70, 101, 110, 151, 157, 163, 216, 223, 231, 235, 260, 296, 316, 333, 349, 356, 362, 367, 423, 441, 457, 480, 500, 527, 543, 552, 553, 590, 592, 593, 596, 608, 648, 661, 673, 733, 736, 780, 804, 919, 923, 940, 943, 954, 1009, 1023, 1024, 1025, 1029, 1030, 1031, 1032, 1042, 1049, 1060, 1073, 1080, 1089, 1090, 1092, 1097, 1127, 1136, 1196, 1197, 1198, 1206, 1208, 1210, 1213, 1214, 1219, 1220, 1222, 1224, 1226, 1240, 1256, 1258, 1265, 1270, 1275, 1278, 1282, 1291, 1298, 1348, 1377, 1396, 1408, 1445, 1473, 1500, 1517, 1552, 1573, 1580, 1587, 1617, 1620, 1625, 1644, 1676, 1732, 1777, 1793, 1804, 1805, 1920, 1927, 1954, 1967, 2000, 2005, 2012, 2018, 2028, 2033, 2046, 2048, 2054, 2058, 2078, 2090, 2093, 2094, 2096, 2099, 2105, 2115, 2116, 2137, 2139, 2141, 2143, 2161, 2174, 2193, 2253, 2268, 2273, 2291, 2329, 2338, 2353, 2366, 2387, 2389, 2395, 2406, 2414, 2427, 2450, 2459, 2470, 2478, 2492, 2502, 2528, 2529, 2542, 2571, 2580, 2596, 2616, 2617, 2628, 2640, 2641, 2644, 2648, 2654, 2657, 2692, 2700, 2716, 2761, 2797, 2826, 2858, 2872, 2899, 2916, 2944, 2947, 2948, 2949, 2959, 2985, 2987, 2991, 2993, 2997, 3033, 3034, 3052, 3053, 3062, 3147, 3168, 3176, 3243, 3247, 3253, 3273, 3386, 3439, 3440, 3441, 3448, 3450, 3479, 3489, 3527, 3578, 3617, 3639, 3671, 3702, 3703, 3729, 3740, 3744, 3793, 3809, 4006, 5060, 318, 1704, 6874, 8798, 46970, 48516, 58559, 60756, 68157, 71535, 74458, 77455, 79132, 80489, 80906, 86345, 89774, 91529, 91658, 99114, 106782, 109487, 112552, 114060, 115713, 122882, 131724, 31, 647, 688, 720, 849, 914, 1093, 1124, 1263, 1272, 1302, 1371, 2080, 2288, 2424, 2851, 3024, 3210, 3949, 4518, 5048, 5181, 5746, 5764, 5919, 6238, 6835, 7899, 7991, 26409, 70946, 72378, 21, 32, 45, 52, 58, 106, 125, 126, 162, 171, 176, 190, 215, 222, 232, 247, 265, 319, 342, 345, 348, 351, 357, 368, 417, 450, 475, 492, 509, 538, 539, 588, 595, 599, 708, 759, 800, 892, 898, 899, 902, 904, 908, 910, 912, 920, 930, 937, 1046, 1057, 1077, 1079, 1084, 1086, 1094, 1103, 1179, 1183, 1188, 1199, 1203, 1211, 1225, 1250, 1259, 1266, 1279, 1283, 1288, 1304, 1391, 1449, 1466, 1597, 1641, 1719, 1733, 1734, 1834, 1860, 1883, 1885, 1892, 1895, 1907, 1914, 1916, 1923, 1947, 1966, 1968, 2019, 2076, 2109, 2145, 2150, 2186, 2203, 2204, 2282, 2324, 2336, 2351, 2359, 2390, 2467, 2583, 2599, 2683, 2712, 2762, 2763, 2770, 2791, 2843, 2874, 2921, 2926, 2973, 3044, 3060, 3079, 3083, 3160, 3175, 3204, 3255, 3317, 3358, 3365, 3408, 3481, 3508, 3538, 3591, 3788, 3851, 3897, 3911, 3967, 3996, 4002, 4014, 4020, 4021, 4027, 4029, 4033, 4034, 4074, 4121, 4144, 4166, 4226, 4239, 4246, 4252, 4260, 4273, 4308, 4347, 4381, 4641, 4741, 4765, 4881, 4896, 4902, 4967, 34, 36, 39, 150, 153, 253, 261, 266, 290, 300, 344, 364, 380, 410, 474, 515, 531, 534, 589, 594, 597, 2, 4, 5, 7, 8, 10, 11, 13, 15, 16, 17, 19, 22, 24, 25, 26, 27, 41, 43, 46, 54, 60, 61, 62, 65, 66, 76, 79, 86, 87, 88, 89, 92, 93, 95, 100, 102, 104, 105, 112, 113, 135, 140, 141, 145, 146, 158, 159, 160, 161, 165, 168, 170, 174, 177, 179, 180, 181, 185, 186, 189, 191, 195, 196, 201, 204, 205, 207, 208, 209, 210, 212, 217, 218, 219, 224, 225, 230, 234, 236, 237, 239, 240, 243, 248, 250, 251, 252, 254, 256, 257, 258, 262, 267, 270, 271, 273, 274, 276, 277, 279, 281, 282, 288, 289, 291, 292, 293, 302, 303, 304, 310, 312, 313, 314, 315, 317, 327, 329, 330, 332, 336, 337, 339, 340, 343, 347, 350, 352, 353, 354, 355, 358, 359, 360, 361, 366, 370, 371, 374, 377, 378, 381, 382, 383, 405, 412, 415, 416, 419, 426, 432, 434, 435, 437, 440, 445, 454, 455, 458, 460, 466, 468, 469, 472, 477, 485, 489, 490, 491, 493, 494, 497, 502, 505, 508, 510, 516, 520, 524, 532, 536, 537, 540, 542, 546, 548, 569, 575, 587, 606, 609, 616, 628, 631, 637, 640, 662, 667, 694, 697, 700, 704, 709, 710, 711, 719, 747, 762, 765, 775, 783, 795, 799, 801, 802, 818, 830, 835, 837, 838, 839, 842, 848, 852, 867, 880, 881, 888, 891, 979, 981, 986, 991, 996, 999, 1004, 1006, 1061, 1064, 1082, 750, 924, 1101, 1246, 1584, 1610, 1682, 1784, 1917, 2671, 2688, 2701, 2717, 3114, 3354, 3623, 3869, 3916, 3977, 3994, 4018, 4223, 4306, 4310, 4370, 4643, 4700, 4844, 4874, 4886, 4963, 4993, 4995, 5218, 5349, 5378, 5445, 5459, 5464, 5502, 5618, 5816, 5952, 5989, 5991, 6333, 6365, 6534, 6539, 6863, 6934, 7143, 7153, 7155, 7445, 8207, 8360, 8368, 8373, 8528, 8636, 8665, 8666, 8783, 8808, 8865, 8870, 8907, 8908, 8949, 8957, 8958, 8961, 8965, 8970, 8972, 8984, 27741, 30812, 30816, 31878, 32029, 32031, 32296, 32587, 33162, 33493, 33794, 33836, 34048, 34319, 37741, 38388, 42002, 45499, 45517, 45668, 45730, 46530, 48783, 48997, 49272, 49278, 49286, 49824, 586, 187, 627, 922, 1037, 1095, 1674, 1987, 2011, 2023, 2300, 2877, 2901, 3173, 3328, 3735, 4131, 4558, 5447, 5451, 5481, 5507, 5841, 5843, 5872, 5890, 5891, 5893, 5902, 5956, 5962, 5965, 5988, 6001, 6044, 1028, 1088, 1247, 1307, 3882, 4447, 5066, 5377, 5620, 5943, 5957, 6155, 6266, 6377, 6535, 6942, 7149, 7151, 7154, 7169, 7293, 7375, 7451, 7458, 8529, 8533, 8869, 8969, 30749, 31433, 31685, 33145, 33679, 40629, 40819, 41285, 47099, 51662, 51705, 51834, 54286, 56367, 56949, 58047, 59333, 59421, 60397, 60950, 61250, 63113, 63992, 64969, 66203, 68954, 69406, 69844, 70183, 70293, 71579, 72011, 72330, 72407, 72720, 72737, 72998, 73017, 74450, 77841, 78772, 79091, 80549, 81784, 81845, 81847, 82167, 82499, 84374, 86548, 87222, 88163, 88810, 91104, 92259, 94070, 95167, 95449, 95510, 95543, 96079, 97024, 97938, 98203, 103335, 103339, 104374, 105211, 106489, 106696, 107141, 109374, 109853, 112006, 113275, 113394, 119145, 129428, 136020, 137595, 140110, 44, 376, 511, 529, 1100, 1358, 1370, 1385, 1438, 1518, 1586, 1604, 1608, 1616, 1687, 1693, 1721, 1840, 1882, 1918, 2002, 2027, 1357, 1405, 1876, 2072, 2100, 2421, 2485, 2572, 2581, 2694, 3668, 305, 1173, 1590, 1619, 1639, 2541, 3300, 3409, 3513, 3624, 3717, 3753, 3798, 3827, 3863, 3893, 3952, 4011, 4148, 193, 448, 784, 172, 858, 1200, 1347, 1527, 1653, 1909, 2001, 2081, 2085, 2278, 3156, 3499, 3510, 3535, 3555, 4022, 4720, 5971, 6502, 7254, 7438, 8644, 48304, 48774, 48780, 50872, 56174, 59315, 60069, 63859, 64614, 68237, 69757, 70286, 71057, 71264, 84152, 84954, 85414, 89745, 91500, 94864, 96610, 101864, 103249, 104841, 105504, 110102, 111759, 112556, 112852, 115149, 120466, 122886, 122904, 122922, 122924, 134130, 134853, 143385, 152077, 152081, 158872, 160980, 166528, 166635, 111, 541, 678, 745, 913, 1147, 1148, 1186, 1193, 1201, 1207, 1223, 1230, 1252, 1260, 1261, 1267, 1276, 1281, 1299, 1680, 2490, 2707, 2723, 3000, 3022, 3108, 3174, 3429, 3683, 3741, 4878, 4973, 5782, 6350, 7099, 7361, 27611, 27773, 48394, 78499, 1036, 1209, 1221, 1228, 1234, 1375, 2194, 3039, 3263, 3435, 3681, 4571, 6016, 6870, 7482, 31658, 64839, 68358, 80463, 81932, 82459, 431, 442, 555, 653, 778, 1020, 1059, 1212, 1227, 1245, 1356, 1374, 1544, 1729, 1924, 1961, 2184, 2409, 2410, 2411, 2412, 2420, 2422, 2706, 2918, 2951, 2953, 3081, 3257, 3275, 3462, 3751, 3785, 3896, 4007, 4262, 4327, 4383, 4728, 4816, 5008, 5120, 5266, 5418, 5574, 5608, 5669, 5679, 5903, 5944, 5995, 6287, 6300, 6373, 6378, 6440, 6548, 6709, 6787, 6807, 6888, 7018, 7147, 7317, 7318, 7323, 7373, 7753, 7843, 8117, 8361, 8641, 8784, 8917, 8950, 26444, 26614, 27689, 27716, 27831, 27878, 30793, 32460, 33004, 33615, 34150, 34405, 36519, 36529, 37386, 37729, 37733, 38038, 38061, 44022, 44191, 44199, 44555, 44665, 45722, 46578, 46965, 47200, 47491, 49651, 51357, 51540, 52604, 53125, 53129, 53318, 53464, 53972, 53996, 54272, 55118, 55247, 55276, 55290, 55765, 56757, 57528, 57640, 57669, 58295, 58299, 59615, 59784, 60040, 60074, 60684, 62434, 63131, 64197, 64957, 65596, 66934, 67255, 68073, 68159, 68319, 69122, 69640, 69951, 71108, 71156, 71899, 73268, 73321, 73323, 73499, 74510, 74789, 74948, 76077, 76175, 76251, 77561, 78469, 79293, 79592, 79695, 79702, 80219, 81788, 83349, 84392, 85354, 86190, 86332, 86628, 86880, 87232, 88094, 88129, 88140, 90600, 91485, 91542, 92094, 95441, 96432, 96488, 96655, 97752, 98124, 98585, 98809, 99728, 99813, 102125, 102445, 102903, 103253, 103772, 104241, 104879, 106072, 106487, 106839, 107846, 111362, 112183, 112334, 112421, 114066, 116797, 116823, 117176, 118900, 122892, 122900, 122918, 122920, 122926, 128620, 135569, 139385, 140289, 141688, 142488, 144210, 145283, 148626, 150548, 155168, 157108, 157110, 158238, 158972, 159093, 160438, 161582, 162350, 162606, 164179, 166015, 168252, 171023, 176101, 177593, 180095, 180777, 185135, 12, 48, 64, 107, 118, 173, 295, 325, 328, 338, 372, 379, 407, 414, 420, 422, 427, 486, 512, 513, 551, 558, 610, 611, 671, 674, 724, 742, 743, 761, 785, 788, 798, 810, 829, 832, 866, 879, 903, 906, 911, 915, 921, 931, 933, 965, 984, 1016, 1021, 1047, 1081, 1129, 1215, 1238, 1257, 1269, 1285, 1297, 1322, 1324, 1330, 1333, 1339, 1342, 1345, 1346, 1355, 1359, 1367, 1372, 1373, 1376, 1378, 1379, 1380, 1394, 1407, 1409, 1427, 1441, 1456, 1457, 1461, 1474, 1479, 1485, 1489, 1499, 1542, 1550, 1551, 1556, 1562, 1566, 1569, 1583, 1588, 1591, 1593, 1603, 1614, 1645, 1648, 1658, 1663, 1665, 1679, 1681, 1688, 1689, 1690, 1702, 1717, 1718, 1722, 1747, 1748, 1754, 1779, 1783, 1798, 1806, 1812, 1816, 1831, 1845, 1848, 1855, 1862, 1881, 1888, 1891, 1894, 1906, 1911, 1919, 1921, 1963, 1970, 1971, 1972, 1973, 1991, 1994, 2003, 2004, 2014, 2015, 2016, 2026, 2034, 2036, 2037, 2040, 2041, 2044, 2052, 2053, 2060, 2065, 2082, 2088, 2092, 2097, 2108, 2110, 2111, 2118, 2123, 2133, 2134, 2140, 2144, 2148, 2153, 2167, 2169, 2171, 2206, 2227, 2232, 2243, 2244, 2245, 2248, 2249, 2255, 2261, 2263, 2266, 2267, 2279, 2287, 2294, 2302, 2315, 2320, 2321, 2328, 2335, 2354, 2355, 2369, 2371, 2372, 2374, 2375, 2393, 2394, 2396, 2407, 2413, 2416, 2418, 2423, 2428, 2446, 2453, 2455, 2458, 2463, 2465, 2468, 2491, 2496, 2513, 2518, 2539, 2548, 2550, 2555, 2558, 2605, 2606, 2614, 2622, 2642, 2643, 2668, 2672, 2687, 2699, 2709, 2710, 2719, 2720, 2722, 2733, 2746, 2754, 2788, 2793, 2802, 2804, 2806, 2808, 2822, 2836, 2840, 2857, 2860, 2867, 2870, 2883, 2888, 2898, 2900, 2915, 2936, 2968, 2995, 3005, 3016, 3017, 3031, 3032, 3035, 3040, 3048, 3056, 3063, 3064, 3070, 3072, 3082, 3087, 3101, 3104, 3113, 3146, 3190, 3203, 3213, 3219, 3225, 3238, 3248, 3254, 3258, 3264, 3269, 3301, 3308, 3316, 3324, 3355, 3361, 3370, 3387, 3393, 3394, 3395, 3396, 3397, 3398, 3400, 3401, 3418, 3421, 3424, 3454, 3466, 3471, 3476, 3477, 3483, 3484, 3497, 3500, 3501, 3505, 3515, 3526, 3534, 3536, 3548, 3550, 3551, 3584, 3594, 3608, 3622, 3662, 3685, 3686, 3692, 3693, 3698, 3699, 3701, 3704, 3705, 3706, 3708, 3712, 3743, 3745, 3752, 3754, 3763, 3770, 3784, 3797, 3802, 3825, 3826, 3835, 3837, 3839, 1010, 1012, 1013, 1015, 1018, 1022, 1035, 1547, 2006, 2059, 2083, 2087, 2089, 2135, 2430, 2565, 2941, 3157, 3159, 3189, 3410, 3438, 3512, 3549, 3565, 3615, 3755, 3852, 3948, 3972, 3986, 3988, 3990, 3999, 4016, 4019, 4025, 4039, 4054, 4090, 4154, 4161, 4232, 4270, 4299, 4344, 4366, 4367, 4369, 4378, 4446, 4449, 4519, 4638, 4718, 4734, 4776, 4783, 4821, 4846, 4848, 4865, 4901, 4979, 4990, 5013, 5014, 5015, 5103, 5110, 5171, 5254, 5293, 5299, 5313, 5364, 5388, 5419, 5463, 5504, 5630, 5693, 5785, 6143, 6156, 6157, 6166, 6170, 6297, 6345, 6358, 38, 2376, 2378, 2402, 2403, 2724, 2989, 2990, 3633, 3635, 3638, 3697, 3868, 3984, 4005, 4040, 4085, 4489, 4545, 4621, 4701, 5219, 5796, 6503, 7569, 7570, 7573, 7701, 8574, 8946, 26340, 30825, 34162, 39715, 40815, 41566, 45186, 45447, 45672, 46972, 47566, 47997, 50189, 51084, 52730, 52973, 53121, 53322, 54276, 56775, 58025, 58998, 59369, 59429, 59900, 61160, 63082, 64032, 68791, 68793, 69526, 69644, 72641, 73106, 73319, 73858, 76093, 78637, 79134, 79185, 80166, 81229, 81564, 81591, 81834, 82202, 85259, 86068, 87520, 88125, 88405, 88744, 90249, 91535, 91630, 93510, 94503, 94677, 94777, 95067, 95170, 95738, 96004, 96588, 97913, 99532, 102481, 102716, 102993, 103141, 103228, 103372, 103384, 103801, 103810, 103819, 103883, 104211, 105213, 105653, 105844, 105954, 106491, 106540, 106916, 106918, 106920, 107013, 107449, 108156, 108190, 108932, 108945, 109576, 109723, 109864, 110130, 110553, 111113, 111617, 111743, 111781, 111844, 112138, 112175, 114180, 114818, 115502, 115617, 115877, 117368, 117529, 117572, 117590, 117851, 117922, 119141, 119155, 119964, 126548, 130450, 132157, 133419, 134368, 134393, 135133, 135536, 135861, 135887, 136016, 138036, 138186, 139642, 139717, 139915, 140301, 142536, 143245, 148675, 149380, 160565, 160872, 164909, 166492, 167036, 168248, 173307, 1952, 1953, 2160, 3006, 4017, 4036, 4903, 5617, 5673, 6711, 8464, 8622, 30707, 31410, 34437, 39183, 41997, 46976, 52281, 53519, 54503, 55820, 56171, 56782, 56788, 60766, 61323, 64575, 66097, 68536, 71464, 29, 175, 272, 334, 741, 1050, 1175, 1217, 1218, 1232, 1233, 1237, 1243, 1248, 1249, 1274, 1284, 1425, 1464, 1711, 1809, 1859, 1884, 1960, 2579, 2686, 2726, 2730, 2912, 3030, 3181, 3265, 3822, 4235, 5333, 6234, 6387, 6721, 6773, 6790, 6857, 6920, 6989, 7064, 7069, 7123, 7587, 7924, 7932, 8012, 8228, 8370, 2405, 3556, 4855, 5064, 5791, 31696, 35836, 47610, 57368, 61024, 61132, 86882, 102407, 132660, 122912, 122916, 176371, 187541, 187593, 238, 421, 808, 969, 1083, 1262, 1287, 1387, 1592, 2032, 2142, 2151, 2311, 2530, 2532, 2876, 2886, 3037, 3350, 3451, 3519, 3654, 3791, 3836, 23, 147, 211, 428, 456, 481, 507, 635, 714, 851, 1120, 1171, 1253, 1271, 1303, 1459, 1480, 1678, 1785, 2021, 2231, 2272, 2358, 2618, 2841, 2908, 2952, 3020, 3100, 3105, 3107, 3169, 3178, 3198, 3246, 3250, 3252, 3256, 3260, 3271, 3272, 3360, 3543, 3783, 3950, 3980, 4047, 4211, 4238, 4251, 4343, 4626, 4688, 4772, 4787, 5009, 5010, 5055, 5152, 5267, 5292, 5329, 5446, 5577, 5632, 5682, 5747, 5945, 5955, 6281, 6428, 6537, 6552, 6565, 6617, 6796, 6817, 6867, 6884, 6947, 6953, 6957, 6974, 6993, 6997, 7009, 7025, 7090, 7263, 7481, 7649, 7706, 7841, 7842, 7884, 8010, 8132, 8378, 8493, 8495, 8633, 8810, 8874, 8914, 8937, 8951, 8977, 8982, 8983, 26649, 26695, 26750, 26812, 26901, 27408, 27450, 27788, 27793, 31101, 31116, 31225, 31420, 33166, 33558, 33660, 34536, 36517, 36527, 37731, 37739, 38886, 39381, 39444, 40278, 40414, 40583, 41569, 41863, 42004, 43396, 43921, 43928, 43936, 44195, 44204, 44761, 45658, 46723, 47629, 47644, 47894, 48326, 48385, 48738, 48879, 49265, 49530, 49822, 49961, 50068, 50442, 51080, 51255, 51471, 51935, 52042, 52241, 52328, 52952, 53123, 53550, 53953, 54736, 54962, 54997, 55080, 55094, 55116, 55274, 55363, 55721, 55908, 56145, 56587, 56607, 56921, 58293, 58803, 59018, 59129, 59387, 60046, 60389, 60647, 60674, 60735, 60753, 60941, 60943, 61011, 61167, 61210, 61236, 61248, 61350, 61352, 61628, 61986, 62374, 62376, 62394, 62792, 62799, 62849, 63033, 63062, 63433, 64030, 64497, 64716, 64983, 64997, 65216, 65682, 65982, 67534, 68205, 69849, 70336, 71106, 71135, 953, 1204, 1242, 1772, 1792, 1939, 1945, 2301, 3363, 4980, 7156, 7379, 26554, 26729, 64620, 87306, 98961, 96821, 605, 612, 1099, 1231, 1353, 1361, 1363, 1393, 74, 78, 194, 203, 246, 471, 786, 1104, 1429, 1458, 28, 94, 249, 307, 308, 322, 385, 446, 452, 562, 580, 613, 715, 805, 994, 1027, 1056, 1177, 1280, 1365, 1399, 1446, 1476, 1487, 1537, 1545, 1621, 1633, 1643, 1672, 1673, 1799, 1801, 1841, 2112, 2310, 2333, 2357, 2391, 2443, 2501, 2690, 2875, 2943, 3997, 5146, 5449, 6242, 6567, 6618, 26606, 27193, 27728, 27801, 31184, 44974, 544, 2269, 2735, 2794, 3066, 3270, 3347, 3362, 3766, 3861, 4220, 5093, 5312, 6662, 585, 2342, 3019, 82, 121, 199, 228, 306, 514, 685, 3285, 3968, 4890, 6708, 6763, 7173, 7444, 8981, 54001, 55280, 56941, 59725, 61240, 65230, 71033, 85774, 86781, 87869, 89759, 93840, 96829, 97921, 100714, 101525, 103980, 111659, 111921, 112290, 115569, 116897, 125916, 128360, 136864, 122, 144, 227, 408, 413, 418, 424, 433, 436, 459, 550, 639, 782, 1191, 1343, 1431, 1453, 1468, 1488, 1513, 1667, 1726, 1810, 1835, 1975, 1976, 2146, 2155, 2236, 2297, 2306, 2352, 2404, 2433, 2497, 2500, 2505, 2568, 2574, 2598, 2702, 2713, 2771, 2795, 2796, 2805, 2827, 2861, 2871, 2890, 2906, 3098, 3120, 3142, 3177, 3186, 3208, 3259, 3261, 3298, 3326, 3502, 3552, 3646, 3694, 3695, 3764, 3824, 3841, 3946, 3987, 4008, 4041, 4062, 4067, 4084, 4102, 4132, 4153, 4155, 4207, 4280, 4293, 4317, 4321, 4322, 4333, 4349, 4351, 4359, 4361, 4396, 4442, 4466, 4477, 4482, 4487, 4509, 4516, 4541, 4564, 4565, 4577, 4623, 4629, 4654, 4679, 4686, 57, 259, 484, 519, 828, 1105, 18, 663, 737, 833, 836, 889, 69, 934, 1005, 1033, 1390, 1442, 1615, 1642, 1753, 1769, 1863, 1866, 1934, 2042, 2064, 2106, 2124, 2195, 2431, 2504, 2718, 2731, 3004, 3196, 3249, 3268, 3274, 3385, 4104, 4502, 4929, 4958, 4974, 5151, 5220, 5283, 5307, 5308, 5500, 5528, 5568, 5582, 5585, 5589, 7294, 33495, 53993, 391, 2121, 2942, 3844, 3969, 4474, 4975, 5108, 6765, 7160, 8966, 45950, 47423, 51931, 53894, 63876, 68932, 69712, 72395, 79242, 82767, 96567, 96811, 97923, 100383, 106100, 108729, 112804, 117881, 132424, 137337, 140174, 140247, 140715, 145839, 146656, 159817, 163645, 166643, 171011, 1320, 5882, 8371, 909, 1251, 1273, 1289, 2164, 2553, 2732, 2925, 3221, 3415, 3730, 4282, 4399, 4658, 4914, 4928, 5004, 5021, 5810, 5932, 6239, 6663, 6666, 6975, 7063, 7206, 7247, 7327, 7396, 7700, 7748, 8143, 8157, 8235, 8253, 8379, 8879, 8928, 8974, 26258, 26326, 26422, 27156, 27513, 32657, 32659, 32875, 32898, 33781, 37545, 44719, 45880, 46062, 46862, 52885, 62336, 62644, 63312, 64278, 66335, 79224, 81018, 81562, 82848, 85796, 88911, 90522, 90746, 91094, 92046, 92427, 92475, 93114, 93326, 96606, 97225, 97304, 100498, 101072, 103171, 104283, 104913, 105250, 107338, 107565, 111732, 113374, 115203, 122898, 127146, 128695, 134170, 134515, 135143, 135456, 136018, 136305, 136564, 137857, 138208, 139644, 140928, 142074, 142448, 142602, 142961, 142997, 143859, 143969, 149406, 151759, 156607, 160569, 164280, 165969, 167370, 168254, 168492, 170705, 170875, 171701, 171759, 172013, 172461, 174055, 174141, 174737, 175485, 175661, 175693, 175705, 175707, 175743, 175781, 179073, 188301, 190183, 387, 479, 482, 522, 781, 1011, 1014, 1235, 1244, 1301, 1350, 1873, 1997, 1999, 2159, 2183, 2265, 2322, 2356, 2363, 2379, 2380, 2408, 2454, 2524, 2533, 2554, 2587, 2613, 2615, 2634, 2661, 2664, 2752, 2978, 3115, 3148, 3388, 3430, 3614, 3799, 3814, 3917, 3918, 3959, 4215, 4241, 4255, 4267, 4291, 4340, 4437, 4464, 4496, 4508, 4591, 4713, 4876, 4971, 4992, 5040, 5339, 5505, 5672, 5712, 6323, 6371, 6659, 6786, 6793, 6873, 6880, 7000, 7004, 7007, 7040, 7163, 7757, 7983, 8623, 26680, 34338, 39414, 42723, 45666, 48877, 52722, 57532, 59306, 60487, 33646, 50794, 51077, 52245, 54995, 54999, 56801, 65514, 69481, 86892, 93721, 93838, 110501, 748, 916, 1125, 1982, 1293, 198, 473, 518, 707, 728, 861, 897, 942, 951, 955, 1184, 1254, 1268, 1277, 1388, 1416, 1498, 1564, 1646, 1670, 1858, 1912, 2009, 2067, 2102, 2202, 2289, 2429, 2476, 2681, 2759, 2917, 2922, 2935, 2961, 3045, 3334, 3426, 3446, 3494, 3507, 3593, 3628, 3632, 3643, 3769, 3773, 3774, 3811, 3901, 3937, 280, 928, 1151, 1428, 1631, 1696, 1797, 1944, 2020, 2075, 3075, 3230, 3461, 3498, 3504, 6460, 2739, 6058, 6541, 6564, 27660, 27706, 27808, 48043, 49130, 49649, 50804, 51086, 59501, 60072, 60126, 63072, 67734, 68554, 68848, 74228, 78105, 79357, 80693, 82461, 83369, 86911, 87430, 89492, 89864, 90866, 96861, 99149, 102123, 103042, 103341, 104863, 106002, 107348, 107406, 111360, 113741, 114662, 114678, 114935, 115210, 115680, 118696, 128512, 135518, 142222, 143355, 158966, 161131, 166534, 168250, 170827, 171763, 173925, 174053, 175303, 179401, 179819, 182715, 183611, 184471, 185031, 187595, 1202, 1965, 3088, 4105, 6104, 7022, 7132, 7387, 7980, 8376, 8873, 27846, 27904, 30810, 33779, 45728, 53000, 54259, 64285, 67997, 77800, 86290, 86504, 89753, 89904, 92494, 92535, 95858, 98491, 102217, 104069, 365, 968, 1096, 1762, 1889, 2313, 2905, 3041, 4023, 4128, 4380, 4448, 4773, 4964, 5026, 5225, 5291, 5417, 5690, 5878, 5954, 6188, 6214, 6218, 6296, 6331, 6385, 6936, 6944, 7139, 7162, 7235, 7360, 7411, 7743, 7930, 7982, 8014, 8093, 8645, 8795, 8832, 26504, 27020, 27266, 27523, 27869, 33683, 34072, 42632, 255, 523, 535, 1216, 1326, 1382, 1541, 1956, 2257, 2312, 2316, 2401, 2956, 2966, 3029, 3074, 3201, 3262, 3444, 4079, 4149, 4158, 4203, 4231, 4465, 4499, 4537, 4572, 4581, 4585, 4611, 4616, 5023, 5265, 5548, 5644, 6022, 6025, 6124, 6313, 6636, 6754, 6832, 6979, 6996, 7015, 7027, 7028, 7046, 7048, 7127, 7325, 7493, 7624, 7647, 7766, 8024, 8158, 5628, 8604, 8605, 875, 932, 1017, 1019, 1292, 1381, 1515, 1635, 1703, 2125, 2334, 2340, 2385, 2471, 2560, 2567, 2662, 2728, 2803, 2881, 2950, 3077, 3452, 3553, 3554, 3653, 3675, 3707, 3786, 3978, 3981, 4015, 4068, 4069, 4124, 4141, 4326, 4356, 4372, 4387, 4388, 4639, 4677, 4681, 4823, 4877, 4969, 5049, 5400, 5444, 5541, 5553, 6193, 6383, 6595, 6707, 6753, 6755, 6879, 6893, 6939, 7010, 7137, 7256, 7320, 7346, 7454, 7541, 7566, 8366, 8677, 8781, 8807, 8861, 8866, 8910, 8947, 8968, 8985, 26712, 26778, 26871, 27473, 27539, 27705, 30822, 31049, 32598, 33154, 33437, 33672, 34153, 34542, 40732, 40959, 41571, 41573, 41724, 42018, 42718, 42738, 44004, 44709, 44788, 45431, 45501, 45720, 45726, 45928, 46322, 46948, 47970, 47978, 47999, 48342, 48696, 49274, 49772, 50658, 50685, 50740, 50806, 51709, 51884, 52287, 52435, 52458, 52767, 52975, 53435, 54004, 54116, 54121, 54281, 54734, 54881, 55052, 55112, 55190, 55232, 55253, 55267, 55282, 55620, 55830, 56152, 56251, 56336, 56339, 56379, 57951, 58078, 58107, 58162, 58347, 58839, 59126, 59220, 59258, 59440, 59731, 60363, 60514, 62155, 62293, 62956, 62999, 64622, 65188, 66198, 66665, 67087, 67267, 67408, 67618, 68659, 68952, 69069, 69394, 69524, 69784, 69904, 70492, 70521, 70990, 71282, 72167, 72489, 72591, 73023, 74154, 74508, 74668, 74946, 76751, 78467, 78703, 79057, 80860, 81910, 83134, 83803, 84772, 85780, 86293, 86377, 86833, 89087, 89470, 90576, 92420, 93287, 94959, 95218, 95624, 95875, 96110, 114762, 4744, 4880, 1172, 1300, 1955, 1959, 1962, 3152, 3359, 3468, 91077, 2136, 44193, 45221, 47122, 47518, 48414, 50601, 53460, 55768, 68135, 69278, 71518, 72226, 74647, 75805, 76293, 87485, 92509, 93272, 99106, 101612, 105037, 109483, 111320, 112450, 112788, 113378, 114074, 123947, 127202, 128520, 131013, 138204, 149354, 151739, 926, 949, 1041, 1185, 2010, 2360, 2594, 3089, 3307, 4103, 4427, 4546, 5300, 5304, 5341, 5434, 5812, 5867, 6235, 6244, 6270, 6301, 6305, 6591, 6791, 6852, 6858, 7087, 7158, 7234, 7419, 7889, 8154, 8183, 8340, 8341, 8804, 8838, 26350, 26578, 27721, 31522, 39292, 44937, 48698, 50274, 52967, 55069, 55444, 55814, 57147, 58103, 58154, 6303, 7001, 2318, 7669, 39446, 55577, 63436, 72129, 81535, 20, 2792, 164, 1189, 1192, 2659, 3197, 3266, 3425, 3576, 4887, 6059, 6952, 60030, 69654, 75395, 78266, 78349, 80363, 80831, 81417, 82041, 84189, 84601, 85397, 90405, 90469, 91974, 93297, 96691, 96917, 98361, 100810, 103075, 103688, 2381, 2383, 2384, 4386, 4989, 5065, 5094, 5106, 5296, 5414, 5803, 5874, 5900, 6006, 6014, 6249, 6338, 6484, 6536, 6550, 6566, 6586, 6593, 6686, 6687, 6702, 6750, 6752, 6764, 6886, 6887, 6946, 6949, 6958, 7142, 3155, 27397, 55442, 58303, 14, 55, 154, 214, 287, 299, 321, 324, 326, 331, 369, 406, 691, 722, 726, 900, 948, 971, 987, 1091, 1131, 1132, 1135, 1187, 1190, 1194, 1286, 1290, 1295, 1296, 1305, 1395, 1414, 53, 1140, 1519, 1596, 1624, 1683, 1694, 1730, 72356, 74553, 3910, 6464, 7312, 26974, 74795, 83177, 901, 905, 918, 936, 945, 946, 947, 950, 3061, 3097, 3315, 3599, 3604, 3606, 3991, 4300, 4899, 5092, 5480, 5529, 5621, 6271, 6402, 6604, 6650, 6783, 7067, 7209, 7297, 7381, 8238, 8372, 8814, 8978, 25887, 26183, 26184, 26265, 26429, 26645, 27619, 27826, 31851, 31925, 32060, 32243, 32596, 33090, 33830, 34312, 34332, 35807, 37384, 37444, 40339, 40962, 41828, 42013, 42725, 42761, 44773, 44777, 44851, 46105, 47725, 47736, 48520, 48649, 48982, 49013, 49735, 50613, 50999, 51167, 51575, 53280, 53355, 53578, 55269, 58291, 60289, 60737, 62008, 64116, 65588, 66798, 66943, 67888, 69211, 69304, 69469, 69720, 70697, 72178, 72624, 72692, 72701, 73015, 73042, 73160, 73822, 74342, 74683, 74698, 76143, 76301, 77688, 78142, 78620, 79684, 79897, 80727, 81087, 81537, 82854, 83910, 83969, 84246, 84512, 84944, 85295, 85881, 86059, 86298, 87834, 88069, 88746, 88785, 88812, 89898, 90717, 91355, 91386, 91666, 92643, 93006, 93022, 94661, 95633, 95843, 96608, 96935, 97836, 98279, 99117, 99122, 99130, 99853, 100390, 100507, 101283, 102378, 102686, 102747, 102984, 103602, 104339, 104875, 105540, 105746, 106594, 106927, 107951, 108078, 108949, 109241, 109596, 111146, 113252, 113453, 115111, 116718, 116738, 116817, 117109, 118270, 118530, 118572, 118834, 118862, 118894, 119714, 120813, 121007, 121097, 121338, 121342, 121469, 121781, 122092, 124273, 124404, 125970, 125974, 126088, 126577, 126921, 127052, 127134, 128087, 128089, 128366, 128594, 128852, 128944, 128968, 129011, 129354, 130452, 130518, 130520, 131098, 131104, 131130, 131439, 131610, 131826, 132153, 132422, 132496, 132584, 132800, 133712, 133867, 133879, 134004, 134334, 134847, 135777, 135937, 136341, 136353, 136355, 136359, 136503, 136834, 139157, 139640, 139994, 140133, 140481, 140541, 140561, 140711, 141513, 141544, 141646, 141830, 141928, 142196, 142444, 142550, 142831, 143031, 143559, 144222, 145491, 146244, 146684, 146986, 147410, 147936, 148632, 148775, 149350, 149352, 149508, 149566, 150554, 153386, 153408, 156025, 156781, 157296, 157775, 158398, 158882, 159069, 160567, 163527, 164200, 164226, 164707, 167018, 167380, 167772, 167854, 169912, 170837, 170993, 171751, 171811, 172321, 173253, 174681, 176621, 176805, 177185, 177765, 179211, 181065, 182293, 182297, 182299, 182731, 184349, 184791, 68, 81, 85, 116, 581, 617, 735, 766, 791, 896, 1034, 1116, 1137, 1144, 1366, 1411, 1417, 384, 464, 533, 1241, 1321, 1337, 1340, 1760, 1771, 1974, 1981, 2117, 2122, 2138, 2298, 2419, 2456, 2522, 2625, 2651, 2782, 2784, 2790, 2817, 2868, 2992, 3013, 3018, 3153, 3182, 3267, 3563, 3727, 3768, 3810, 3840, 4092, 4109, 4214, 4254, 4304, 4316, 4438, 4587, 4599, 4624, 4645, 4661, 4678, 4774, 4800, 4850, 4909, 4987, 5165, 5294, 5346, 5438, 5479, 5588, 5640, 5650, 5749, 6203, 6219, 6283, 6327, 6375, 6395, 6461, 6620, 6629, 6638, 6678, 6731, 6744, 6820, 6963, 7118, 7308, 7492, 7561, 7650, 7802, 8016, 8147, 8266, 8426, 8501, 8507, 8581, 27317, 27873, 2114, 2398, 54190, 1606, 2103, 1529, 1659, 2280, 2600, 3071, 3690, 4126, 4732, 4954, 5027, 5072, 5246, 5247, 5619, 5792, 6051, 6288, 6367, 1942, 3819, 5109, 5420, 71745, 79139, 1958, 2262, 3244, 5380, 6183, 6785, 233, 2337, 3179, 4873, 7367, 50912, 57522, 58972, 59022, 62553, 64114, 65088, 65577, 65802, 69140, 70728, 77206, 77427, 79572, 80572, 80586, 81156, 81819, 86014, 86815, 87194, 88108, 90890, 91126, 91653, 91671, 91976, 96728, 99764, 106766, 116799, 132046, 134881, 938, 1833, 2325, 2551, 2837, 3163, 3325, 3719, 3746, 4476, 4663, 4676, 4740, 4912, 4941, 5460, 6012, 6030, 6060, 6169, 6579, 7034, 7036, 7050, 7380, 8643, 8796, 25937, 32300, 45175, 53466, 54780, 69988, 80584, 85401, 93805, 94015, 94150, 94833, 213, 665, 935, 1111, 1178, 1354, 2131, 2495, 2931, 3306, 3310, 3592, 3629, 3677, 3687, 3742, 3821, 4325, 4788, 5373, 5888, 5889, 5912, 6187, 6433, 6643, 6777, 6985, 7347, 7371, 8025, 8033, 8197, 8511, 8638, 8656, 9010, 26082, 26150, 26236, 26237, 26347, 26471, 26587, 26662, 26849, 26903, 27134, 27803, 27815, 27834, 30803, 32892, 33124, 36363, 36401, 38159, 42191, 48872, 56060, 57183, 57504, 58425, 58554, 60904, 63515, 64993, 66371, 67923, 69134, 69529, 69685, 72104, 73881, 74324, 74727, 75341, 79333, 80124, 84156, 84844, 85316, 85736, 86066, 86320, 86347, 88235, 88345, 91261, 93790, 95175, 95311, 95313, 95377, 95654, 96020, 96373, 98604, 99145, 100302, 100553, 101088, 101962, 102602, 102666, 103235, 104780, 105593, 107159, 107408, 107410, 107412, 108540, 108727, 108981, 109633, 110586, 111622, 116411, 117444, 118166, 118888, 118896, 118985, 120138, 120478, 120625, 126090, 126426, 126430, 127098, 129514, 130970, 130976, 130978, 131237, 133716, 134041, 134095, 134109, 134184, 134252, 134326, 134849, 136445, 136447, 138835, 140038, 140265, 141810, 141816, 141818, 141820, 141836, 141844, 142020, 143511, 145994, 146028, 147196, 147282, 147286, 147300, 147326, 147328, 147330, 151769, 152591, 158402, 159811, 163072, 163112, 163134, 163386, 163925, 165959, 166183, 170411, 170597, 170777, 172577, 172583, 172585, 172587, 172589, 172637, 172793, 172825, 172909, 173351, 173355, 173619, 173963, 174551, 175293, 175387, 175397, 175401, 175431, 175435, 178613, 179133, 99636, 156, 1684, 2585, 3795, 4024, 4159, 4889, 4976, 4994, 5011, 5034, 5051, 5135, 5303, 5309, 5316, 5391, 5450, 5466, 5881, 6049, 283, 346, 528, 7096, 26171, 40870, 1856, 2447, 3979, 4228, 4247, 4649, 4900, 5025, 5363, 5501, 5524, 5564, 5942, 6003, 6482, 7225, 7285, 7439, 8531, 32298, 34520, 34530, 40581, 42007, 44840, 44972, 47640, 48322, 49396, 54732, 55245, 55261, 55872, 56805, 58156, 59143, 61255, 62439, 63479, 65585, 69436, 70565, 70641, 71205, 71668, 71838, 73929, 74275, 74532, 78174, 78209, 79428, 80139, 82852, 85022, 85367, 87483, 87529, 87867, 91323, 92264, 93270, 93443, 93831, 94478, 94953, 95720, 96616, 97172, 98083, 99007, 100083, 100194, 101142, 102720, 104218, 104644, 104925, 109282, 110669, 110771, 110773, 111375, 112497, 116977, 118930, 119153, 121372, 121374, 121715, 123200, 127116, 127152, 127390, 128097, 128099, 128914, 128975, 129737, 130087, 135137, 135436, 136443, 136471, 136511, 136598, 142422, 144606, 148652, 148956, 155509, 155812, 156609, 157312, 157699, 158813, 159441, 159755, 160080, 160271, 160289, 161024, 161580, 162344, 162478, 162602, 165103, 165483, 165645, 165671, 165843, 165947, 166461, 167634, 167746, 168144, 168326, 168418, 168632, 168846, 170357, 170399, 170401, 170813, 170817, 170897, 170937, 170957, 171251, 171867, 172215, 172547, 173255, 174045, 174815, 175577, 176329, 178323, 179427, 179953, 180265, 181139, 181659, 182749, 183197, 183227, 183959, 184015, 184257, 71, 779, 1043, 1589, 1600, 1735, 1829, 1897, 2132, 2166, 2331, 2475, 2749, 2764, 2844, 2969, 3099, 3103, 3217, 3251, 3296, 3537, 3546, 3831, 4003, 4063, 4083, 4130, 127198, 141718, 167732, 487, 2772, 4792, 62383, 73, 656, 46337, 66511, 85020, 95105, 99112, 103984, 108689, 109846, 110718, 110730, 112868, 114184, 114795, 117533, 117887, 120635, 127184, 128488, 130578, 131023, 131714, 135532, 136562, 136666, 138210, 141004, 165551, 52319, 70599, 71530, 77866, 95088, 96737, 97306, 112515, 115122, 121231, 144976, 69306, 81782, 112171, 143458, 501, 1844, 3342, 4082, 4738, 4864, 5088, 6902, 7008, 7265, 8254, 26681, 27022, 27482, 33201, 40148, 43836, 45440, 50842, 55278, 58301, 63276, 65130, 65642, 67695, 69516, 71304, 71429, 71520, 73488, 75985, 78218, 79553, 84952, 86721, 89190, 90403, 91470, 91690, 91947, 92694, 93855, 94931, 95690, 95761, 98607, 99437, 100882, 101112, 107630, 110330, 110882, 112623, 117466, 122890, 127096, 130490, 131749, 131920, 133217, 133771, 135567, 139855, 141408, 142420, 142509, 147142, 149144, 149146, 149830, 149902, 151455, 151695, 152083, 152091, 152284, 152970, 155064, 156371, 156387, 158783, 159415, 159717, 160563, 161634, 161966, 162082, 162578, 164881, 167790, 168266, 1066, 5159, 6093, 37830, 5959, 390, 567, 1318, 1554, 2729, 3067, 4168, 5284, 5508, 5969, 5970, 5992, 6251, 6291, 6774, 7773, 8973, 26776, 27731, 44694, 48082, 393, 893, 1422, 1483, 2798, 3102, 3327, 3812, 4037, 4066, 4467, 4553, 4613, 4634, 4812, 132, 188, 1949, 2330, 2940, 3679, 5177, 5385, 6986, 6987, 7171, 7762, 26084, 2582, 2924, 59103, 8640, 373, 1344, 1401, 1465, 1661, 1727, 1950, 1957, 2070, 2077, 2344, 2561, 2590, 2682, 2775, 2819, 2889, 2996, 3011, 3055, 3093, 3117, 3185, 3372, 3557, 3597, 3684, 3737, 3873, 3906, 3983, 3985, 3998, 4031, 4035, 4042, 4056, 4167, 4187, 4225, 4234, 4243, 4259, 4265, 4337, 4339, 4368, 4534, 4535, 4703, 4719, 4727, 4736, 4795, 4799, 4822, 4836, 4857, 4866, 4921, 4991, 5016, 5102, 5107, 5187, 5256, 5282, 5338, 5357, 5358, 5435, 5506, 5563, 5611, 5699, 5873, 5879, 5899, 5947, 6185, 6213, 6246, 6279, 6299, 6386, 6448, 6669, 6808, 6950, 7076, 7161, 7324, 8121, 8199, 26172, 26865, 27821, 31700, 32017, 34334, 34534, 37727, 39307, 42009, 42730, 43917, 44399, 47044, 49524, 49910, 6332, 6619, 7255, 7316, 8827, 32289, 36525, 78316, 103606, 27416, 98243, 160718, 1334, 2038, 2091, 9, 75, 634, 813, 840, 885, 1432, 36535, 56715, 64034, 81456, 85885, 100843, 101973, 105355, 112454, 133780, 138396, 152270, 173145, 177615, 179709, 86644, 130634, 1516, 2879, 2880, 3286, 3287, 3618, 425, 764, 869, 1078, 1162, 1264, 1836, 1948, 2130, 2239, 2247, 2290, 2349, 2361, 2511, 2734, 2750, 2779, 2863, 2946, 2970, 3028, 3076, 3096, 3130, 3134, 3141, 3167, 3200, 3223, 3224, 3283, 3341, 3467, 3473, 3492, 3503, 3506, 4205, 4784, 5637, 5788, 5847, 6509, 6658, 6684, 7089, 7107, 8128, 8571, 8614, 26313, 31038, 2392, 27674, 55391, 66320, 242, 718, 990, 1107, 1163, 1627, 1713, 1969, 1979, 2051, 2126, 2162, 2210, 2252, 2314, 2364, 2367, 2531, 2745, 2748, 2769, 2789, 2818, 2977, 2986, 3357, 3572, 3616, 3649, 3858, 3864, 3877, 4055, 4450, 4735, 6250, 6319, 6322, 6538, 5643, 45732, 1821, 1837, 3404, 4440, 5415, 5485, 5527, 5530, 5993, 6480, 4406, 7333, 7934, 26078, 26131, 33564, 2017, 2084, 4142, 4193, 4373, 4867, 4936, 4951, 5222, 5472, 5941, 6005, 6252, 6324, 6339, 6568, 7045, 7060, 7080, 7614, 8008, 1051, 1454, 2526, 5410, 7259, 8362, 8911, 33880, 39427, 43904, 44613, 47382, 1929, 1931, 1936, 1938, 2013, 2176, 2847, 3364, 3564, 3801, 3909, 3964, 4920, 5264, 5387, 6212, 6412, 6429, 6483, 6624, 6856, 7054, 7065, 7078, 7121, 7164, 7215, 7222, 7243, 7302, 7366, 7369, 7728, 8600, 8609, 8695, 8718, 8860, 8948, 9008, 25746, 25750, 25771, 25797, 25827, 25856, 25906, 27772, 31297, 33499, 33669, 34336, 35957, 39449, 40826, 42011, 42015, 43560, 45081, 46974, 48412, 48593, 49389, 51925, 51939, 52694, 56176, 60161, 61406, 63853, 65261, 66297, 67788, 70159, 71970, 72731, 72733, 77846, 78574, 80126, 83132, 86487, 89804, 89939, 90647, 93008, 95558, 98154, 123545, 5665, 6380, 33903, 725, 169, 453, 97, 166, 600, 760, 1437, 1447, 1546, 1598, 1611, 1649, 1695, 1827, 1941, 2022, 2025, 2181, 2295, 2474, 2563, 2607, 2691, 2696, 2765, 2971, 2976, 3003, 3078, 3150, 3158, 3323, 3474, 3521, 3598, 3747, 3761, 3862, 3879, 3888, 3895, 3915, 3925, 3947, 3955, 3992, 3993, 4032, 4052, 4133, 4146, 4152, 4157, 4160, 4178, 4275, 4305, 4307, 4313, 4350, 4389, 4407, 4439, 4452, 4628, 4640, 4642, 4644, 4699, 4723, 4770, 4811, 4815, 4826, 4849, 4879, 4888, 4898, 4911, 4919, 4959, 4978, 5046, 5062, 5083, 5095, 5131, 5155, 5298, 5323, 5325, 5347, 5379, 5421, 5423, 5425, 5427, 5486, 5498, 5522, 5609, 5612, 5615, 5646, 5666, 5668, 5680, 5684, 5772, 5809, 5818, 5999, 6002, 6041, 6062, 6067, 6192, 6215, 6217, 6264, 6285, 6294, 6330, 6334, 6335, 6341, 6551, 6571, 6572, 6588, 6645, 6679, 6688, 6881, 6890, 6932, 6969, 6971, 6978, 7038, 7264, 7299, 7352, 7354, 7449, 7698, 8042, 1582, 2457, 2534, 3573, 3726, 68959, 70533, 74754, 84187, 103210, 104303, 106873, 109578, 109848, 117895, 122906, 127212, 148978, 157369, 158035, 161594, 162968, 162982, 164917, 165635, 165639, 166291, 168090, 168218, 170907, 172705, 173235, 174479, 175475, 175585, 177285, 177939, 178111, 178827, 180297, 180497, 180985, 180987, 183911, 184641, 189333, 191005, 193565, 193567, 193571, 193573, 193579, 193581, 193583, 193585, 193587, 1685, 1767, 2799, 5804, 952, 2035, 2208, 2346, 2527, 3068, 3516, 3711, 3927, 4813, 5039, 5214, 5493, 5497, 5499, 5540, 2557, 2810, 3091, 3627, 4785, 5244, 5570, 5909, 6368, 7044, 7844, 7976, 7981, 8491, 8582, 8607, 25788, 25825, 26122, 26840, 27592, 27850, 27865, 27879, 27912, 31364, 32387, 33138, 33421, 33896, 37240, 39869, 46572, 49263, 49932, 1951, 2436, 2967, 3469, 72, 99, 148, 155, 178, 229, 269, 496, 668, 26116, 1392, 1502, 1755, 1306, 2575, 2744, 3436, 3894, 3932, 4174, 4808, 4932, 5607, 698, 731, 1055, 2165, 2670, 2674, 2815, 3129, 4608, 5670, 8532, 8833, 45210, 56274, 57243, 4722, 5139, 5610, 27685, 34321, 45106, 50802, 62299, 49, 461, 574, 679, 1176, 1312, 2024, 2147, 2983, 3036, 3138, 3194, 3214, 3329, 3402, 3445, 3470, 3528, 3682, 3724, 3725, 3834, 5949, 8815, 27075, 27368, 54372, 58332, 59604, 67295, 79008, 81132, 83601, 71462, 179817, 140956, 185029, 4625, 7810, 7811, 7812, 34397, 40697, 51562, 56915, 62834, 62836, 65651, 77795, 100611, 106642, 117192, 117646, 119167, 123553, 128842, 130444, 140359, 146662, 147372, 147374, 147376, 147378, 147380, 147382, 147384, 150596, 166203, 179511, 180031, 184053, 189547, 87192, 87234, 92439, 106144, 107314, 113573, 161922, 168366, 170697, 174909, 175197, 182823, 183897, 188751, 43679, 57274, 86142, 89582, 83, 55451, 927, 3422, 3963, 275, 429, 438, 444, 504, 517, 564, 692, 809, 870, 1007, 1085, 1126, 1581, 1599, 1602, 1626, 1671, 1677, 1686, 1731, 1867, 1875, 1937, 2056, 2152, 2350, 2373, 2382, 2473, 2477, 2525, 2535, 2537, 2741, 2786, 2816, 3014, 3132, 3165, 3389, 3392, 3406, 3417, 3431, 3432, 3433, 3434, 3524, 3529, 6425, 1752, 2296, 3054, 4749, 5047, 7319, 8880, 31221, 36708, 37380, 41716, 46335, 46850, 54768, 55020, 55292, 56156, 61246, 61348, 1430, 4219, 60937, 62344, 62437, 63540, 64231, 2469, 3090, 3095, 4338, 4605, 5248, 5382, 6306, 6639, 6724, 7013, 7056, 7072, 7216, 7311, 8044, 8364, 9018, 25773, 25841, 26375, 27768, 27776, 27820, 27882, 27899, 30818, 30846, 31437, 31610, 31692, 31702, 32022, 32584, 32632, 32770, 2205, 5523, 5710, 6290, 8363, 26322, 26732, 59014, 62250, 66744, 81831, 91483, 91628, 95307, 95949, 96448, 97168, 97860, 101531, 103137, 2747, 55854, 3496, 1130, 2327, 2633, 3042, 63, 1236, 1655, 1887, 2432, 2514, 2515, 2984, 3688, 3843, 4229, 4233, 4544, 4782, 5456, 5584, 6298, 6523, 6625, 6695, 6938, 7103, 7448, 32666, 37720, 45028, 51088, 38304, 85342, 8626, 34330, 52715, 55241, 55553, 4789, 5458, 5478, 5572, 5573, 6013, 6040, 6057, 6186, 6374, 6615, 6862, 6951, 6959, 7150, 7257, 7258, 7261, 7262, 7376, 7440, 8369, 8530, 8799, 8830, 8835, 8836, 8864, 8912, 8916, 8918, 8939, 27434, 27790, 27816, 27837, 27839, 30883, 30894, 31114, 31223, 31427, 31431, 31445, 31867, 32009, 32011, 32019, 32589, 33148, 33158, 33164, 33639, 33815, 34129, 34271, 34532, 36509, 36533, 37477, 37853, 38798, 39231, 39435, 40851, 40946, 41769, 42728, 42732, 43556, 43871, 43919, 43932, 44397, 44731, 45208, 45442, 45662, 48161, 48596, 49220, 49276, 49284, 49793, 50005, 50158, 50445, 50798, 50923, 51082, 51412, 51698, 51933, 51937, 52283, 52712, 53127, 54256, 55995, 57326, 57526, 58105, 58627, 58876, 59985, 61705, 62081, 62511, 66509, 67186, 67197, 70301, 70334, 71252, 71254, 71823, 73515, 78893, 81512, 78103, 118198, 134214, 136912, 162600, 178061, 183011, 42, 577, 917, 1460, 1495, 1707, 1826, 2050, 2566, 3672, 1998, 4329, 4498, 4803, 4852, 4916, 4917, 4945, 4946, 4947, 4957, 81786, 118700, 547, 2919, 3566, 3106, 123, 757, 4956, 5279, 7486, 8327, 27320, 61026, 68486, 80615, 80969, 83613, 90888, 82169, 120799, 151763, 4470, 4531, 5784, 7016, 26686, 27478, 32213, 33085, 38294, 39400, 47254, 47810, 51037, 58315, 65810, 66171, 69606, 70361, 72605, 73431, 75813, 77667, 78039, 78088, 80862, 82053, 84637, 84942, 85056, 85131, 85510, 86295, 86835, 86960, 87298, 88699, 88954, 89047, 89840, 90057, 90430, 90439, 90531, 91622, 91978, 92008, 92507, 93363, 93512, 93563, 93766, 94266, 94780, 95207, 95309, 95583, 95873, 96411, 96417, 98239, 99750, 99910, 100163, 101025, 101076, 101362, 102033, 102684, 103539, 103624, 103655, 104243, 105351, 107953, 108928, 109042, 109673, 110297, 110350, 111364, 112070, 143365, 143367, 146210, 148888, 160954, 169984, 173941, 175569, 184253, 185435, 6983, 142115, 4217, 26366, 26524, 44633, 58309, 5319, 44929, 48883, 1739, 2907, 3929, 4480, 121171, 131656, 140725, 146024, 128, 2348, 2766, 2859, 4529, 4711, 5137, 5820, 6027, 6337, 6370, 6713, 7564, 7815, 8011, 8015, 294, 988, 1415, 7879, 8535, 7303, 388, 1807, 2240, 2377, 2445, 3733, 3807, 476, 2812, 1791, 1964, 2178, 2182, 2593, 2630, 2829, 619, 886, 1255, 1327, 1497, 1503, 1992, 1993, 2170, 2448, 2498, 2517, 2846, 2974, 3235, 3511, 3652, 3676, 3696, 3857, 3908, 3938, 4030, 4143, 4224, 4248, 4533, 4683, 4748, 4771, 5076, 5080, 5127, 5401, 5452, 5556, 5569, 5667, 5833, 5853, 6196, 6220, 6379, 6405, 6559, 6664, 6715, 6794, 6868, 6872, 7024, 7117, 7228, 7236, 7321, 7362, 7368, 7646, 7845, 7846, 7894, 8142, 8225, 8241, 8578, 8831, 8906, 8967, 26242, 26492, 26523, 26629, 26736, 26870, 27311, 27604, 27618, 27822, 30745, 31193, 31909, 33132, 33834, 34323, 37382, 37475, 38992, 40723, 42285, 43549, 44828, 45361, 50147, 50440, 50800, 51091, 51498, 53468, 54648, 54785, 56012, 57536, 57910, 58870, 59727, 60037, 60291, 60522, 60538, 60979, 65126, 66427, 66783, 69251, 69275, 70994, 71211, 71379, 71500, 74075, 74685, 74851, 77364, 78041, 79274, 80846, 298, 556, 1123, 1406, 1533, 1571, 1574, 1594, 1904, 2069, 2073, 2212, 2323, 2624, 2824, 2937, 2964, 3038, 3046, 3192, 3302, 3384, 3480, 3728, 3794, 3914, 4061, 4116, 4285, 4334, 4345, 4384, 4809, 5147, 5241, 5258, 5272, 5603, 5723, 5745, 5884, 5938, 6122, 6254, 1167, 107069, 60293, 70984, 71619, 73266, 86817, 91079, 4091, 113207, 6086, 5876, 963, 1008, 1128, 1389, 1660, 1983, 1984, 1995, 2043, 2055, 2057, 2095, 2098, 2120, 2163, 2241, 2259, 2286, 2347, 2365, 2400, 2460, 2462, 2852, 2866, 2902, 2903, 3015, 3161, 3313, 3331, 3345, 3368, 3525, 3689, 3767, 3771, 3806, 3833, 3846, 3926, 3928, 3930, 3957, 3971, 3974, 4000, 4009, 4010, 4043, 4110, 4412, 4443, 4459, 4473, 4492, 4506, 4522, 4709, 4953, 4966, 5428, 5462, 5543, 5544, 5638, 7619, 8959, 31923, 34528, 37736, 42418, 43460, 43869, 46967, 47261, 47950, 48416, 60760, 6125, 6453, 26704, 129, 341, 1699, 2066, 2439, 2494, 2549, 2660, 2932, 2988, 3007, 3559, 3634, 3713, 3738, 3849, 102007, 2828, 3086, 3871, 4830, 7720, 8383, 33677, 68597, 80839, 87522, 92192, 96121, 97470, 113345, 115231, 127323, 129937, 130576, 165549, 278, 470, 499, 998, 1440, 2149, 2736, 3043, 3412, 3544, 3667, 3710, 160848, 171765, 1439, 1526, 1746, 4733, 4757, 4845, 5128, 6554, 6811, 7460, 7926, 26887, 34523, 36537, 50610, 54745, 54934, 58655, 58806, 61729, 62113, 67799, 68600, 70663, 71248, 72405, 74452, 74916, 76060, 84615, 90376, 91128, 103048, 109895, 112370, 112911, 116138, 127108, 134528, 134783, 134808, 136449, 138798, 8261, 944, 6818, 26249, 49347, 60516, 64499, 64501, 72294, 74624, 74868, 79251, 80590, 85788, 89118, 91842, 94018, 105197, 105585, 106441, 106785, 109850, 112818, 112897, 114246, 118706, 131796, 132796, 140627, 145418, 148671, 158027, 160400, 163985, 177763, 185585, 92391, 104908, 105731, 115664, 122884, 140016, 149334, 156726, 158528, 159858, 175199, 183295, 409, 1323, 1325, 1328, 1490, 2154, 2190, 2332, 2506, 2516, 2559, 2639, 2787, 2962, 3051, 3145, 3280, 3423, 3478, 3830, 3943, 4127, 4181, 4371, 4403, 4520, 4584, 4602, 4619, 4662, 4673, 4697, 4750, 4835, 4862, 4885, 4893, 4915, 5099, 5170, 5255, 5361, 5443, 5454, 5538, 5539, 5590, 5664, 5696, 5735, 5736, 5883, 5927, 6153, 6265, 6316, 6558, 6705, 6827, 6850, 6999, 7026, 7030, 7282, 7636, 7708, 7781, 8169, 8402, 8506, 9005, 26133, 26792, 27555, 27838, 30848, 31422, 31424, 33171, 33681, 34143, 34326, 37857, 39234, 48142, 48518, 48678, 49314, 52375, 52867, 53956, 53974, 55272, 55729, 56003, 58287, 65601, 65738, 65740, 65882, 973, 1946, 3171, 3872, 4432, 5398, 6452, 6706, 7218, 7943, 25886, 3330, 4483, 6410, 7184, 7305, 40, 6561, 680, 3732, 4117, 4754, 5433, 5925, 2275, 3889, 4180, 4210, 618, 703, 2896, 74545, 81158, 82667, 104272, 110387, 121253, 133115, 773, 823, 1419, 3569, 3736, 3845, 4256, 4612, 4708, 4825, 5202, 5238, 5475, 5838, 6197, 6241, 6329, 7071, 7124, 7238, 7459, 7979, 8190, 8484, 8724, 8748, 26003, 26048, 26059, 26073, 26158, 26225, 26317, 26713, 26928, 27003, 27176, 27186, 27328, 31545, 31952, 32511, 32554, 32906, 32917, 40955, 42176, 44931, 47446, 48001, 48638, 49917, 51174, 53574, 53883, 54185, 54354, 57772, 58376, 60408, 60885, 61394, 62208, 64167, 65037, 65225, 65631, 67508, 68444, 69746, 69953, 71131, 71147, 71453, 71468, 71494, 71867, 72171, 72714, 72921, 74089, 74226, 74791, 76054, 76173, 76738, 77191, 77233, 78836, 79073, 80478, 80553, 81191, 83827, 83976, 84273, 84716, 85213, 86237, 86279, 86922, 87304, 87444, 87660, 89030, 89945, 90245, 90357, 90528, 90630, 90769, 91784, 91860, 92422, 92637, 94735, 96084, 97904, 100044, 100106, 100277, 101741, 102742, 102823, 105254, 106648, 109187, 109383, 109968, 111817, 113348, 114847, 116505, 117364, 117531, 117545, 117849, 118784, 118880, 120761, 121169, 124853, 127114, 127172, 127180, 127204, 127298, 128900, 128902, 128991, 133802, 134019, 134796, 136024, 138966, 140162, 140737, 140816, 143525, 143896, 144478, 145080, 147002, 148424, 150696, 152065, 155774, 158842, 159976, 160684, 168612, 170355, 173197, 173291, 173317, 179135, 184245, 188675, 188833, 189381, 26555, 2882, 110127, 111443, 3884, 3899, 3912, 30, 80, 183, 2425, 2848, 2894, 4086, 4263, 4294, 4471, 4500, 4523, 4714, 4717, 4927, 5033, 5075, 5980, 27866, 70451, 73344, 81257, 84240, 102194, 165101, 130482, 136850, 26528, 193609, 3420, 5226, 7925, 26564, 80917, 92938, 93610, 97757, 3567, 3580, 30850, 47404, 59118, 189043, 189111, 190207, 190209, 190213, 190215, 190219, 190221, 6869, 56869, 58842, 77177, 82378, 90345, 92243, 109687, 115969, 141749, 141890, 156783, 166946, 176751, 94405, 2188, 2370, 2676, 2975, 4195, 4419, 5404, 5707, 27751, 38164, 521, 1572, 2442, 4297, 4404, 4422, 5951, 6023, 6286, 6530, 7084, 7115, 7178, 7179, 7820, 7937, 7940, 8405, 32179, 6223, 6263, 40412, 52579, 54787, 55555, 57843, 60857, 60894, 88179, 88272, 88932, 89028, 89761, 90353, 90471, 92048, 5074, 7122, 34164, 44889, 48744, 58492, 59141, 1996, 4354, 4622, 6612, 8580, 8998, 27329, 53024, 59810, 73854, 74282, 93040, 96563, 2226, 26095, 65350, 70687, 85334, 87028, 89386, 26472, 1647, 161127, 176389, 176579, 96964, 101415, 106062, 107997, 109569, 113604, 114494, 132888, 145935, 148172, 155288, 155820, 1565, 2695, 3299, 3453, 4053, 4078, 4505, 4517, 2307, 2399, 3127, 3162, 3545, 3716, 3731, 3758, 3922, 33312, 55167, 112512, 335, 882, 1351, 1352, 1601, 3648, 4434, 4942, 5113, 5288, 5468, 5706, 5979, 6021, 6654, 6656, 6836, 6899, 7104, 7304, 7756, 7834, 8138, 8610, 25959, 27692, 32139, 42556, 56837, 71302, 71999, 80748, 84799, 87287, 92760, 94262, 152, 2656, 4444, 4814, 5134, 5476, 6889, 7310, 8526, 26585, 26999, 27584, 27683, 27802, 31698, 31804, 32456, 32743, 33644, 40614, 40617, 44020, 47124, 51927, 52950, 58404, 60818, 63222, 64249, 65133, 68194, 71129, 72601, 74750, 77798, 82744, 84414, 88515, 90603, 94160, 94985, 95004, 95147, 95149, 95182, 95473, 95475, 95497, 96007, 96815, 97643, 97785, 101739, 102058, 102084, 103233, 103449, 104141, 104419, 104457, 107723, 108795, 113278, 134524, 137863, 152173, 161354, 162598, 163056, 166558, 169982, 172875, 172881, 172887, 176935, 179119, 182639, 31435, 43376, 45074, 53326, 55259, 63808, 1003, 4580, 4632, 8387, 26764, 26765, 46865, 47952, 48598, 49647, 50003, 52279, 65685, 72696, 88356, 91660, 93139, 95796, 100737, 104074, 104076, 112460, 114713, 116887, 122902, 126482, 130686, 131934, 142372, 152079, 158254, 170289, 2546, 2669, 2856, 4276, 4323, 4355, 206, 363, 841, 1161, 1329, 1662, 1770, 1977, 2071, 2074, 2303, 2488, 2632, 3455, 3587, 3680, 3765, 3813, 3838, 3865, 3919, 4064, 4065, 4191, 4278, 4289, 4298, 4390, 4392, 4393, 4408, 4409, 4426, 4429, 4441, 4527, 4552, 4563, 4614, 4687, 4833, 4985, 4988, 5121, 5156, 5397, 5465, 5489, 5515, 5531, 5780, 5974, 5984, 6035, 6063, 6100, 6123, 6184, 6465, 6533, 6577, 6710, 6748, 6885, 6918, 6981, 7088, 7091, 7102, 7116, 7205, 7301, 7328, 7336, 7386, 7394, 7450, 7581, 7616, 7745, 7749, 7895, 7936, 7938, 7939, 7951, 7987, 7993, 8188, 8195, 8196, 8239, 8270, 8290, 8512, 8542, 8596, 8670, 25898, 25963, 26002, 26052, 26124, 26151, 26231, 26303, 26694, 31590, 31737, 32314, 32392, 33188, 40966, 41617, 44657, 44759, 44864, 46772, 47465, 52462, 52644, 6158, 63239, 104245, 6344, 7208, 27695, 44943, 59995, 695, 1150, 1900, 2708, 4237, 4562, 4965, 5470, 5477, 5537, 5575, 130842, 1701, 6408, 8738, 26147, 26631, 60333, 42734, 170939, 61465, 61697, 7134, 26810, 27664, 59814, 70708, 77266, 6776, 70305, 85412, 87785, 103596, 136540, 3590, 3760, 389, 549, 670, 824, 3823, 3855, 4077, 4175, 4268, 119, 386, 650, 1040, 1121, 1332, 1484, 1605, 1609, 1656, 1870, 1922, 2007, 2119, 2172, 2260, 2264, 2271, 2472, 2482, 2552, 2570, 2751, 2835, 2884, 2891, 2893, 2928, 2979, 3008, 3111, 3206, 3378, 3391, 3539, 3581, 3625, 3790, 3847, 3898, 3900, 3951, 3953, 4012, 4081, 4089, 4115, 4123, 4125, 4138, 4139, 4147, 4221, 4242, 4290, 4312, 4353, 4451, 4458, 4462, 4463, 4475, 4478, 4488, 4524, 4573, 4583, 4595, 4600, 4610, 4617, 4636, 4666, 4672, 4675, 4721, 4745, 4777, 4780, 4818, 4847, 4926, 4961, 4962, 5068, 5071, 5073, 5081, 5112, 5178, 5209, 5237, 5240, 5278, 5285, 5297, 5321, 5322, 5324, 5328, 5337, 5345, 5390, 5416, 5422, 5424, 5437, 5461, 5471, 5483, 5521, 5562, 5625, 5633, 5635, 5636, 5663, 5678, 5685, 5688, 5817, 5829, 5880, 5896, 5968, 5994, 6033, 6036, 6039, 6078, 6116, 6141, 6159, 6162, 6195, 6216, 6222, 6268, 6269, 6280, 6295, 6308, 6314, 6315, 6349, 6442, 6493, 6510, 6517, 6542, 6547, 6549, 6560, 6563, 6574, 6582, 6598, 6616, 6628, 6631, 6670, 6689, 6696, 6699, 6718, 6720, 6780, 6797, 6809, 6810, 6812, 6816, 6851, 6883, 6898, 6954, 7033, 7165, 7175, 7176, 7193, 7248, 7251, 7315, 7340, 7348, 7364, 7390, 8119, 8587, 8915, 8919, 8952, 8954, 25834, 30820, 31162, 32116, 33725, 33826, 33838, 34540, 41527, 42602, 43912, 45062, 45635, 46347, 46559, 48319, 48560, 49132, 49280, 49957, 50792, 51694, 52299, 52668, 52724, 52784, 53447, 54771, 55110, 55250, 56908, 58879, 59037, 60128, 60141, 61401, 70862, 76763, 95135, 112940, 115828, 127130, 154358, 166568, 169992, 173205, 173209, 176423, 180045, 90374, 1412, 2807, 4093, 27704, 50851, 69860, 79677, 85394, 86668, 89580, 90943, 97866, 6210, 8337, 8577, 26693, 59295, 2665, 3447, 3973, 4190, 4802, 4925, 4939, 5063, 136469, 91325, 6055, 6347, 6348, 6597, 5532, 7306, 8588, 27708, 33893, 45503, 66090, 68347, 71902, 80880, 89208, 92348, 568, 1675, 2540, 4453, 4743, 5409, 5580, 5675, 5787, 6992, 7017, 7192, 8782, 30898, 36276, 43708, 8690, 4402, 96430, 941, 1839, 2368, 2520, 2521, 2523, 2693, 2887, 3057, 3276, 3284, 3390, 3596, 3933, 4051, 4156, 4198, 4212, 4397, 4526, 4630, 4660, 4756, 4775, 4952, 4981, 5250, 5334, 5356, 5490, 5700, 5752, 5779, 5915, 6302, 6424, 6427, 6476, 6514, 6760, 6798, 6814, 7101, 7245, 7372, 8136, 8137, 8447, 8743, 26152, 26386, 26464, 26700, 31000, 32291, 34018, 37211, 43558, 48262, 49688, 50064, 53453, 53808, 55294, 58351, 61123, 61289, 63393, 65135, 66785, 67361, 69118, 69453, 69604, 70545, 71466, 71732, 72224, 72694, 73386, 75803, 75816, 77421, 78034, 78116, 79259, 79590, 79879, 79946, 80241, 80864, 81949, 82093, 82095, 82527, 83374, 84696, 84950, 85025, 85399, 86028, 86593, 87876, 88672, 89305, 89343, 89388, 89427, 90343, 90719, 90738, 91273, 91688, 91873, 91935, 92198, 92665, 93242, 93980, 93982, 94011, 94323, 94494, 94896, 94919, 95201, 95508, 95744, 96114, 96281, 96530, 96726, 97328, 97742, 97858, 97870, 97936, 98160, 98175, 98230, 98296, 98836, 98908, 99005, 99415, 99574, 99846, 99992, 100226, 100304, 100326, 100487, 101360, 101529, 101577, 101884, 101895, 102025, 102165, 102278, 102819, 102880, 103221, 103502, 103543, 103755, 103865, 104078, 104129, 104760, 104906, 105121, 105755, 106330, 106438, 106542, 106883, 107702, 107945, 107962, 108188, 108601, 108715, 109183, 109191, 109295, 109317, 109372, 109416, 110611, 110655, 110826, 111663, 111680, 111795, 112303, 112749, 113186, 113225, 113350, 113416, 113532, 114028, 114601, 114925, 115151, 115170, 115216, 116207, 116413, 116419, 116849, 116985, 117107, 117511, 118248, 118326, 118354, 118512, 118702, 118814, 118924, 118997, 119068, 119655, 120637, 120783, 122490, 122932, 124859, 125221, 126420, 127132, 127136, 127194, 127319, 128592, 129333, 129657, 129659, 130083, 131480, 132333, 132462, 132488, 132618, 133195, 133281, 133365, 133377, 133545, 133782, 133798, 134021, 134158, 134859, 136654, 136664, 136778, 136786, 136800, 136816, 136859, 137517, 138546, 139052, 139415, 139857, 140237, 140525, 140850, 141422, 142424, 143001, 143255, 143257, 143472, 144262, 144620, 144714, 144716, 145150, 146688, 146730, 148482, 148592, 148709, 149590, 149612, 150401, 150604, 151315, 151317, 151501, 151559, 151653, 151745, 151777, 152085, 152105, 152658, 154065, 155358, 155659, 155743, 155892, 156553, 156706, 157122, 157130, 157172, 157200, 157270, 157340, 157407, 157432, 158022, 158956, 159077, 159193, 159690, 160440, 160573, 160646, 160730, 161290, 161830, 161918, 162828, 164375, 164647, 164753, 165075, 165139, 165343, 165347, 168350, 168456, 169180, 173751, 3568, 2839, 3240, 3241, 3756, 3787, 1341, 706, 89039, 1757, 2677, 3859, 3989, 4236, 4863, 4977, 5205, 5212, 5224, 5239, 5986, 6064, 6466, 6528, 6611, 6775, 6935, 6945, 6966, 7181, 7620, 7767, 7786, 7920, 8620, 8848, 26359, 26838, 27563, 32582, 38198, 45382, 46855, 55156, 58191, 67665, 71640, 82857, 89090, 100556, 103107, 105835, 109161, 148982, 151311, 152711, 160644, 162414, 164655, 167064, 179813, 183199, 183317, 184721, 187717, 188189, 189713, 56169, 59738, 60832, 74530, 74580, 90384, 3723, 2493, 451, 1180, 3405, 3619, 3658, 3832, 96, 488, 638, 907, 929, 956, 959, 970, 976, 982, 993, 1068, 1398, 1413, 1423, 1496, 1507, 1629, 1650, 1893, 1902, 1913, 1926, 1928, 1932, 1933, 1940, 2177, 2179, 2180, 2185, 2187, 2201, 2211, 2611, 2612, 2652, 2697, 2743, 2757, 2801, 2927, 2929, 2930, 3109, 3112, 3125, 3135, 3211, 3281, 3475, 3609, 3641, 3714, 3715, 3739, 3789, 3816, 3870, 3965, 3966, 4046, 4080, 4113, 4129, 4164, 4171, 4184, 4189, 4204, 4218, 4292, 4296, 4433, 4484, 4495, 4521, 4578, 4589, 4635, 4704, 4769, 4796, 4798, 4801, 4804, 4860, 4871, 4970, 4998, 5007, 5012, 5077, 5114, 5116, 5168, 5213, 5231, 5311, 5353, 5375, 5384, 5440, 5455, 5512, 5525, 5581, 5601, 5602, 5604, 5629, 5649, 5694, 5755, 5771, 5799, 5801, 5802, 5826, 5836, 5863, 5875, 5963, 6020, 6031, 6042, 6090, 6101, 6163, 6178, 6181, 6201, 6225, 6228, 6232, 6245, 6273, 6289, 6336, 6357, 6376, 6382, 6390, 6400, 6407, 6422, 6434, 6454, 6477, 6515, 6527, 6545, 6581, 6584, 6592, 6603, 6609, 6614, 6660, 6667, 6732, 6768, 6770, 6772, 6788, 6837, 6909, 6911, 6912, 6948, 6962, 6965, 6970, 6982, 6984, 6990, 7012, 7019, 7049, 7051, 7052, 7053, 7055, 7057, 7058, 7059, 7061, 7062, 7070, 7073, 7074, 7075, 7079, 7082, 7083, 7085, 7086, 7092, 7093, 7141, 7167, 7177, 7190, 7211, 7212, 7217, 7219, 7223, 7326, 7357, 7382, 7414, 7479, 7560, 7572, 7579, 7584, 7618, 7702, 7705, 7713, 7714, 7716, 7727, 7772, 7789, 7822, 7826, 7831, 7832, 7833, 7835, 7839, 7840, 7882, 7883, 7888, 7896, 7900, 7944, 8019, 8057, 8094, 8125, 8153, 8167, 8191, 8232, 8275, 8293, 8302, 8331, 8336, 8338, 8375, 8382, 8385, 8410, 8424, 8446, 8450, 8451, 8458, 8459, 8461, 8462, 8463, 8465, 8481, 8482, 8487, 8492, 8502, 8518, 8521, 8534, 8575, 8591, 8611, 8617, 8650, 8684, 8711, 8712, 8714, 8730, 8753, 8754, 8771, 8773, 8774, 8778, 8809, 8813, 8875, 8920, 8921, 8938, 8943, 8955, 8979, 8987, 8989, 25752, 25753, 25757, 25769, 25795, 25826, 25850, 25865, 25870, 25927, 25940, 25952, 25962, 25996, 25999, 26791, 26965, 31030, 31083, 31260, 31694, 31903, 34359, 35015, 42740, 43333, 44511, 48741, 49666, 50160, 50514, 53921, 55071, 55687, 56563, 3720, 4454, 4557, 4725, 5069, 5348, 6148, 7335, 8126, 27537, 31660, 42422, 68945, 72308, 78746, 82242, 2362, 3428, 4111, 4410, 4831, 5197, 5365, 5389, 5448, 5651, 5773, 6436, 6853, 8131, 27830, 32294, 36477, 37844, 43914, 44197, 47646, 2068, 6320, 8268, 2483, 8632, 27370, 31617, 36397, 68522, 72554, 88448, 89586, 90863, 91890, 93723, 94810, 95939, 96283, 97665, 99087, 100068, 101765, 105325, 109941, 109971, 112316, 115065, 4759, 5786, 8593, 71268, 93320, 26900, 40597, 54796, 72874, 73501, 77881, 79299, 79536, 80454, 80551, 84553, 86000, 87413, 91488, 92730, 94130, 50954, 78160, 78544, 180231, 103, 467, 876, 1170, 73290, 140523, 131739, 56286, 449, 1824, 1910, 7455, 32914, 46231, 79798, 6596, 6927, 68269, 5613, 26958, 50796, 65193, 74677, 80834, 82088, 84847, 89678, 90809, 91266, 91337, 93134, 93988, 94799, 95193, 110781, 117133, 126142, 129229, 130073, 136838, 136840, 34148, 6145, 1335, 1978, 2878, 3294, 4202, 5041, 5189, 5704, 5797, 6746, 6821, 7477, 7730, 7891, 8894, 26198, 31150, 38583, 40478, 62586, 124484, 135216, 136958, 141994, 158830, 159510, 160571, 167538, 168358, 180263, 184931, 184987, 185033, 185473, 186587, 187031, 188797, 4646, 8772, 26761, 83270, 88267, 91414, 93740, 96471, 96518, 96520, 97194, 107780, 121099, 144352, 160422, 162590, 7266, 32469, 27006, 27369, 66544, 79006, 120130, 8264, 91869, 96150, 98122, 106889, 120807, 127164, 134248, 146682, 148667, 159849, 163653, 164540, 39516, 135198, 176413, 176415, 2742, 3673, 3674, 4445, 5560, 4284, 125914, 27251, 36289, 51024, 53138, 53140, 58297, 64695, 69805, 73804, 76743, 83480, 85179, 85261, 91353, 112580, 116529, 116668, 116724, 128542, 134775, 135885, 144734, 150993, 164367, 2573, 55946, 121129, 2107, 626, 1986, 1990, 3626, 3939, 3940, 3941, 3942, 3958, 1477, 168712, 142056, 167296, 1825, 5059, 5513, 7457, 43684, 61257, 2820, 633, 790, 1336, 1397, 1985, 2256, 2451, 2597, 2862, 3442, 3574, 3577, 3660, 3661, 3663, 3664, 3678, 3691, 5839, 5840, 6119, 26308, 31123, 37495, 38095, 48045, 54617, 59026, 68886, 73681, 81383, 96945, 105246, 109313, 111384, 130498, 142558, 148238, 148881, 154975, 6800, 105468, 168174, 4135, 26357, 27140, 27667, 73211, 99191, 100306, 43930, 44225, 47516, 61071, 62718, 70932, 72919, 74688, 77414, 78264, 80858, 82152, 90524, 94325, 95199, 96975, 100527, 115667, 128832, 139747, 50942, 5028, 8189, 8335, 8477, 25782, 26717, 26743, 40491, 51573, 57502, 70015, 71438, 81681, 82684, 92234, 92681, 99917, 101070, 102088, 102800, 104337, 104944, 109897, 110603, 113705, 114396, 114554, 114627, 117877, 122246, 132335, 134246, 135288, 136602, 141668, 142507, 150254, 151687, 152063, 152071, 153070, 166526, 166705, 170945, 176419, 179491, 179749, 179815, 1331, 1623, 1980, 2655, 2740, 2982, 3021, 3073, 430, 2538, 2623, 2629, 2415, 3143, 6751, 7395, 56389, 75446, 2965, 5767, 5828, 6342, 6583, 6692, 7349, 8092, 8236, 8427, 8494, 8800, 8844, 26819, 27373, 136556, 2738, 3403, 3414, 3449, 4710, 284, 1652, 2175, 2196, 2589, 3353, 4200, 4374, 4715, 4794, 4827, 5105, 5657, 6140, 6417, 6665, 6723, 6967, 6994, 7023, 7031, 7032, 7114, 7345, 7742, 7782, 8035, 8118, 8727, 2774, 3094, 4342, 6769, 7260, 7615, 27246, 32799, 33649, 43744, 55844, 59549, 59667, 68835, 69495, 70637, 92954, 111800, 111913, 113280, 120919, 128908, 129397, 132454, 133645, 151557, 163639, 168026, 171917, 176051, 178615, 182793, 183635, 184997, 615, 1112, 4424, 113829, 114265, 124851, 478, 806, 1114, 1426, 1794, 2281, 2292, 2339, 2586, 2698, 3379, 3571, 3669, 3700, 3709, 3962, 4197, 4240, 4394, 4490, 4504, 4511, 4568, 4574, 4593, 4594, 4597, 4603, 4670, 5053, 5054, 5096, 5111, 5136, 5198, 5221, 5268, 5442, 5591, 5596, 5597, 5689, 5768, 5961, 6204, 6267, 6310, 6506, 6557, 6587, 6691, 6722, 6734, 6804, 6860, 6882, 6998, 7005, 7041, 7047, 7108, 7125, 7191, 7307, 7443, 7657, 7704, 7707, 7986, 7988, 8043, 8045, 8380, 8425, 8500, 8720, 8755, 8905, 8934, 9004, 26142, 26159, 26176, 26195, 26283, 26285, 26344, 26365, 26413, 26453, 26467, 26510, 26539, 26542, 26547, 26562, 26567, 26590, 26593, 26612, 26622, 26630, 26676, 26696, 26701, 26726, 26741, 26745, 26782, 26797, 26828, 26854, 26861, 26913, 26940, 26947, 27002, 27008, 27032, 27074, 27105, 27124, 27155, 27306, 27420, 27441, 27549, 27595, 27722, 27762, 27769, 27784, 27829, 31367, 31553, 31664, 31921, 32058, 32440, 32442, 32515, 33126, 33294, 33435, 33629, 33801, 33966, 34292, 34800, 34811, 36850, 39801, 40578, 41627, 42559, 42638, 42943, 42946, 43419, 43677, 43908, 44238, 44241, 44243, 44849, 45183, 45648, 45969, 46367, 46574, 47721, 47793, 49110, 51545, 53022, 53143, 53161, 53450, 54274, 54908, 55036, 55061, 55205, 55207, 56022, 57499, 58306, 59016, 59336, 59947, 60365, 60803, 61073, 62662, 62970, 66915, 67193, 68552, 68650, 69131, 69227, 70703, 71327, 71484, 71550, 71810, 72479, 73569, 73808, 74095, 74696, 75416, 75947, 76030, 77201, 77709, 78959, 79895, 80083, 81791, 82534, 83086, 83796, 84523, 85438, 86286, 86355, 86864, 86898, 87197, 87960, 88593, 88697, 89085, 89862, 90243, 90428, 90945, 91571, 91981, 92309, 92674, 93208, 93502, 94122, 95145, 95163, 95165, 95499, 95519, 95717, 95771, 95780, 95839, 95965, 97230, 97950, 98499, 98503, 98623, 98697, 98799, 99638, 101074, 101423, 102590, 102735, 102749, 102852, 103027, 103245, 103366, 103609, 104017, 104837, 105020, 105720, 107999, 108090, 108192, 110541, 111785, 112326, 113849, 114126, 115819, 116044, 116169, 116941, 116963, 117630, 118290, 119218, 119828, 120827, 121035, 122260, 122433, 122627, 123310, 128197, 128736, 129779, 131578, 132362, 135787, 136012, 136297, 137218, 137345, 137859, 138702, 139130, 139859, 140852, 144522, 145724, 145745, 151479, 151781, 153236, 156675, 157865, 158388, 158874, 159061, 159403, 160978, 161032, 161044, 163809, 165529, 167706, 168608, 169670, 169904, 169958, 170297, 170551, 171695, 172229, 172233, 172253, 173873, 174727, 178129, 179053, 181315, 183301, 2800, 25905, 25923, 25947, 46664, 59131, 141846, 77, 108, 149, 184, 301, 320, 495, 506, 526, 602, 645, 649, 803, 1053, 1119, 1310, 1349, 1475, 1514, 1549, 1585, 1612, 1613, 1759, 2008, 2104, 2283, 2304, 2417, 2435, 2512, 2544, 2577, 2609, 2620, 2725, 2727, 2813, 2865, 2885, 2892, 2972, 3002, 3183, 3303, 3344, 3374, 3459, 3514, 3531, 3586, 3637, 3655, 3792, 4420, 4428, 4436, 4690, 4695, 4705, 4766, 4786, 4810, 117, 220, 285, 311, 636, 1654, 27036, 35347, 47384, 54686, 65359, 66240, 71160, 72165, 72982, 202, 263, 563, 573, 579, 583, 632, 961, 1117, 1156, 1493, 1857, 2156, 2207, 2388, 2481, 2503, 2897, 3010, 3289, 3295, 3640, 3808, 3920, 4357, 4395, 4615, 4653, 4671, 4689, 4828, 4840, 4883, 5269, 5372, 5503, 5550, 5614, 5720, 5733, 5741, 5742, 5849, 5856, 5922, 5929, 5975, 5990, 6070, 6107, 6111, 6182, 6202, 6237, 6415, 6449, 6516, 6553, 6573, 6578, 6644, 6671, 6782, 6789, 6803, 6961, 6973, 7037, 7109, 7131, 7292, 7344, 7487, 7916, 8391, 8454, 8456, 8601, 8685, 8713, 8933, 8964, 25805, 25833, 25946, 26038, 26394, 26527, 26599, 26777, 26796, 26875, 26985, 27178, 27255, 27627, 27644, 27744, 30890, 30994, 31309, 31973, 32234, 32600, 32620, 32649, 32728, 32862, 33237, 33310, 41014, 44189, 44301, 47202, 47538, 47774, 48032, 48214, 50354, 50356, 51314, 55805, 56333, 58783, 68480, 68872, 69224, 72603, 241, 2737, 5901, 7377, 8667, 32302, 51903, 137, 1054, 3945, 4497, 5275, 5953, 6009, 6095, 7202, 7562, 7984, 8840, 26169, 26391, 26399, 26401, 26498, 26603, 27426, 27480, 27491, 27746, 27778, 27905, 31086, 34450, 36931, 41712, 43289, 44597, 47937, 48150, 51666, 52831, 54910, 55067, 55492, 56620, 57421, 57637, 58826, 58964, 58975, 59915, 60303, 60471, 61262, 61319, 61692, 61818, 63179, 63768, 63826, 64010, 66310, 67168, 70206, 70208, 71341, 71910, 72142, 72424, 73676, 73741, 73876, 74370, 75389, 76091, 77893, 77931, 78626, 79501, 79868, 80094, 80162, 81520, 82366, 82641, 82765, 88327, 89072, 89281, 89837, 91233, 93193, 93598, 93819, 94867, 96832, 97188, 97285, 97701, 97988, 98061, 98633, 99030, 99721, 100159, 100397, 100579, 100906, 102066, 102070, 102338, 102760, 102802, 103085, 103219, 103483, 103685, 105801, 107436, 107447, 107462, 107771, 110281, 110286, 110591, 110746, 111551, 112727, 113159, 113313, 113565, 113780, 113862, 114044, 114670, 114707, 115727, 117867, 118082, 128838, 129313, 130050, 130052, 130840, 133832, 135534, 135803, 135815, 138610, 138632, 139511, 139655, 140267, 141400, 141799, 142366, 142598, 145951, 146309, 147657, 147662, 148166, 149011, 152372, 158721, 160341, 160527, 160836, 163937, 163981]\n",
            "encoded moviesID :  {1: 0, 3: 1, 6: 2, 47: 3, 50: 4, 70: 5, 101: 6, 110: 7, 151: 8, 157: 9, 163: 10, 216: 11, 223: 12, 231: 13, 235: 14, 260: 15, 296: 16, 316: 17, 333: 18, 349: 19, 356: 20, 362: 21, 367: 22, 423: 23, 441: 24, 457: 25, 480: 26, 500: 27, 527: 28, 543: 29, 552: 30, 553: 31, 590: 32, 592: 33, 593: 34, 596: 35, 608: 36, 648: 37, 661: 38, 673: 39, 733: 40, 736: 41, 780: 42, 804: 43, 919: 44, 923: 45, 940: 46, 943: 47, 954: 48, 1009: 49, 1023: 50, 1024: 51, 1025: 52, 1029: 53, 1030: 54, 1031: 55, 1032: 56, 1042: 57, 1049: 58, 1060: 59, 1073: 60, 1080: 61, 1089: 62, 1090: 63, 1092: 64, 1097: 65, 1127: 66, 1136: 67, 1196: 68, 1197: 69, 1198: 70, 1206: 71, 1208: 72, 1210: 73, 1213: 74, 1214: 75, 1219: 76, 1220: 77, 1222: 78, 1224: 79, 1226: 80, 1240: 81, 1256: 82, 1258: 83, 1265: 84, 1270: 85, 1275: 86, 1278: 87, 1282: 88, 1291: 89, 1298: 90, 1348: 91, 1377: 92, 1396: 93, 1408: 94, 1445: 95, 1473: 96, 1500: 97, 1517: 98, 1552: 99, 1573: 100, 1580: 101, 1587: 102, 1617: 103, 1620: 104, 1625: 105, 1644: 106, 1676: 107, 1732: 108, 1777: 109, 1793: 110, 1804: 111, 1805: 112, 1920: 113, 1927: 114, 1954: 115, 1967: 116, 2000: 117, 2005: 118, 2012: 119, 2018: 120, 2028: 121, 2033: 122, 2046: 123, 2048: 124, 2054: 125, 2058: 126, 2078: 127, 2090: 128, 2093: 129, 2094: 130, 2096: 131, 2099: 132, 2105: 133, 2115: 134, 2116: 135, 2137: 136, 2139: 137, 2141: 138, 2143: 139, 2161: 140, 2174: 141, 2193: 142, 2253: 143, 2268: 144, 2273: 145, 2291: 146, 2329: 147, 2338: 148, 2353: 149, 2366: 150, 2387: 151, 2389: 152, 2395: 153, 2406: 154, 2414: 155, 2427: 156, 2450: 157, 2459: 158, 2470: 159, 2478: 160, 2492: 161, 2502: 162, 2528: 163, 2529: 164, 2542: 165, 2571: 166, 2580: 167, 2596: 168, 2616: 169, 2617: 170, 2628: 171, 2640: 172, 2641: 173, 2644: 174, 2648: 175, 2654: 176, 2657: 177, 2692: 178, 2700: 179, 2716: 180, 2761: 181, 2797: 182, 2826: 183, 2858: 184, 2872: 185, 2899: 186, 2916: 187, 2944: 188, 2947: 189, 2948: 190, 2949: 191, 2959: 192, 2985: 193, 2987: 194, 2991: 195, 2993: 196, 2997: 197, 3033: 198, 3034: 199, 3052: 200, 3053: 201, 3062: 202, 3147: 203, 3168: 204, 3176: 205, 3243: 206, 3247: 207, 3253: 208, 3273: 209, 3386: 210, 3439: 211, 3440: 212, 3441: 213, 3448: 214, 3450: 215, 3479: 216, 3489: 217, 3527: 218, 3578: 219, 3617: 220, 3639: 221, 3671: 222, 3702: 223, 3703: 224, 3729: 225, 3740: 226, 3744: 227, 3793: 228, 3809: 229, 4006: 230, 5060: 231, 318: 232, 1704: 233, 6874: 234, 8798: 235, 46970: 236, 48516: 237, 58559: 238, 60756: 239, 68157: 240, 71535: 241, 74458: 242, 77455: 243, 79132: 244, 80489: 245, 80906: 246, 86345: 247, 89774: 248, 91529: 249, 91658: 250, 99114: 251, 106782: 252, 109487: 253, 112552: 254, 114060: 255, 115713: 256, 122882: 257, 131724: 258, 31: 259, 647: 260, 688: 261, 720: 262, 849: 263, 914: 264, 1093: 265, 1124: 266, 1263: 267, 1272: 268, 1302: 269, 1371: 270, 2080: 271, 2288: 272, 2424: 273, 2851: 274, 3024: 275, 3210: 276, 3949: 277, 4518: 278, 5048: 279, 5181: 280, 5746: 281, 5764: 282, 5919: 283, 6238: 284, 6835: 285, 7899: 286, 7991: 287, 26409: 288, 70946: 289, 72378: 290, 21: 291, 32: 292, 45: 293, 52: 294, 58: 295, 106: 296, 125: 297, 126: 298, 162: 299, 171: 300, 176: 301, 190: 302, 215: 303, 222: 304, 232: 305, 247: 306, 265: 307, 319: 308, 342: 309, 345: 310, 348: 311, 351: 312, 357: 313, 368: 314, 417: 315, 450: 316, 475: 317, 492: 318, 509: 319, 538: 320, 539: 321, 588: 322, 595: 323, 599: 324, 708: 325, 759: 326, 800: 327, 892: 328, 898: 329, 899: 330, 902: 331, 904: 332, 908: 333, 910: 334, 912: 335, 920: 336, 930: 337, 937: 338, 1046: 339, 1057: 340, 1077: 341, 1079: 342, 1084: 343, 1086: 344, 1094: 345, 1103: 346, 1179: 347, 1183: 348, 1188: 349, 1199: 350, 1203: 351, 1211: 352, 1225: 353, 1250: 354, 1259: 355, 1266: 356, 1279: 357, 1283: 358, 1288: 359, 1304: 360, 1391: 361, 1449: 362, 1466: 363, 1597: 364, 1641: 365, 1719: 366, 1733: 367, 1734: 368, 1834: 369, 1860: 370, 1883: 371, 1885: 372, 1892: 373, 1895: 374, 1907: 375, 1914: 376, 1916: 377, 1923: 378, 1947: 379, 1966: 380, 1968: 381, 2019: 382, 2076: 383, 2109: 384, 2145: 385, 2150: 386, 2186: 387, 2203: 388, 2204: 389, 2282: 390, 2324: 391, 2336: 392, 2351: 393, 2359: 394, 2390: 395, 2467: 396, 2583: 397, 2599: 398, 2683: 399, 2712: 400, 2762: 401, 2763: 402, 2770: 403, 2791: 404, 2843: 405, 2874: 406, 2921: 407, 2926: 408, 2973: 409, 3044: 410, 3060: 411, 3079: 412, 3083: 413, 3160: 414, 3175: 415, 3204: 416, 3255: 417, 3317: 418, 3358: 419, 3365: 420, 3408: 421, 3481: 422, 3508: 423, 3538: 424, 3591: 425, 3788: 426, 3851: 427, 3897: 428, 3911: 429, 3967: 430, 3996: 431, 4002: 432, 4014: 433, 4020: 434, 4021: 435, 4027: 436, 4029: 437, 4033: 438, 4034: 439, 4074: 440, 4121: 441, 4144: 442, 4166: 443, 4226: 444, 4239: 445, 4246: 446, 4252: 447, 4260: 448, 4273: 449, 4308: 450, 4347: 451, 4381: 452, 4641: 453, 4741: 454, 4765: 455, 4881: 456, 4896: 457, 4902: 458, 4967: 459, 34: 460, 36: 461, 39: 462, 150: 463, 153: 464, 253: 465, 261: 466, 266: 467, 290: 468, 300: 469, 344: 470, 364: 471, 380: 472, 410: 473, 474: 474, 515: 475, 531: 476, 534: 477, 589: 478, 594: 479, 597: 480, 2: 481, 4: 482, 5: 483, 7: 484, 8: 485, 10: 486, 11: 487, 13: 488, 15: 489, 16: 490, 17: 491, 19: 492, 22: 493, 24: 494, 25: 495, 26: 496, 27: 497, 41: 498, 43: 499, 46: 500, 54: 501, 60: 502, 61: 503, 62: 504, 65: 505, 66: 506, 76: 507, 79: 508, 86: 509, 87: 510, 88: 511, 89: 512, 92: 513, 93: 514, 95: 515, 100: 516, 102: 517, 104: 518, 105: 519, 112: 520, 113: 521, 135: 522, 140: 523, 141: 524, 145: 525, 146: 526, 158: 527, 159: 528, 160: 529, 161: 530, 165: 531, 168: 532, 170: 533, 174: 534, 177: 535, 179: 536, 180: 537, 181: 538, 185: 539, 186: 540, 189: 541, 191: 542, 195: 543, 196: 544, 201: 545, 204: 546, 205: 547, 207: 548, 208: 549, 209: 550, 210: 551, 212: 552, 217: 553, 218: 554, 219: 555, 224: 556, 225: 557, 230: 558, 234: 559, 236: 560, 237: 561, 239: 562, 240: 563, 243: 564, 248: 565, 250: 566, 251: 567, 252: 568, 254: 569, 256: 570, 257: 571, 258: 572, 262: 573, 267: 574, 270: 575, 271: 576, 273: 577, 274: 578, 276: 579, 277: 580, 279: 581, 281: 582, 282: 583, 288: 584, 289: 585, 291: 586, 292: 587, 293: 588, 302: 589, 303: 590, 304: 591, 310: 592, 312: 593, 313: 594, 314: 595, 315: 596, 317: 597, 327: 598, 329: 599, 330: 600, 332: 601, 336: 602, 337: 603, 339: 604, 340: 605, 343: 606, 347: 607, 350: 608, 352: 609, 353: 610, 354: 611, 355: 612, 358: 613, 359: 614, 360: 615, 361: 616, 366: 617, 370: 618, 371: 619, 374: 620, 377: 621, 378: 622, 381: 623, 382: 624, 383: 625, 405: 626, 412: 627, 415: 628, 416: 629, 419: 630, 426: 631, 432: 632, 434: 633, 435: 634, 437: 635, 440: 636, 445: 637, 454: 638, 455: 639, 458: 640, 460: 641, 466: 642, 468: 643, 469: 644, 472: 645, 477: 646, 485: 647, 489: 648, 490: 649, 491: 650, 493: 651, 494: 652, 497: 653, 502: 654, 505: 655, 508: 656, 510: 657, 516: 658, 520: 659, 524: 660, 532: 661, 536: 662, 537: 663, 540: 664, 542: 665, 546: 666, 548: 667, 569: 668, 575: 669, 587: 670, 606: 671, 609: 672, 616: 673, 628: 674, 631: 675, 637: 676, 640: 677, 662: 678, 667: 679, 694: 680, 697: 681, 700: 682, 704: 683, 709: 684, 710: 685, 711: 686, 719: 687, 747: 688, 762: 689, 765: 690, 775: 691, 783: 692, 795: 693, 799: 694, 801: 695, 802: 696, 818: 697, 830: 698, 835: 699, 837: 700, 838: 701, 839: 702, 842: 703, 848: 704, 852: 705, 867: 706, 880: 707, 881: 708, 888: 709, 891: 710, 979: 711, 981: 712, 986: 713, 991: 714, 996: 715, 999: 716, 1004: 717, 1006: 718, 1061: 719, 1064: 720, 1082: 721, 750: 722, 924: 723, 1101: 724, 1246: 725, 1584: 726, 1610: 727, 1682: 728, 1784: 729, 1917: 730, 2671: 731, 2688: 732, 2701: 733, 2717: 734, 3114: 735, 3354: 736, 3623: 737, 3869: 738, 3916: 739, 3977: 740, 3994: 741, 4018: 742, 4223: 743, 4306: 744, 4310: 745, 4370: 746, 4643: 747, 4700: 748, 4844: 749, 4874: 750, 4886: 751, 4963: 752, 4993: 753, 4995: 754, 5218: 755, 5349: 756, 5378: 757, 5445: 758, 5459: 759, 5464: 760, 5502: 761, 5618: 762, 5816: 763, 5952: 764, 5989: 765, 5991: 766, 6333: 767, 6365: 768, 6534: 769, 6539: 770, 6863: 771, 6934: 772, 7143: 773, 7153: 774, 7155: 775, 7445: 776, 8207: 777, 8360: 778, 8368: 779, 8373: 780, 8528: 781, 8636: 782, 8665: 783, 8666: 784, 8783: 785, 8808: 786, 8865: 787, 8870: 788, 8907: 789, 8908: 790, 8949: 791, 8957: 792, 8958: 793, 8961: 794, 8965: 795, 8970: 796, 8972: 797, 8984: 798, 27741: 799, 30812: 800, 30816: 801, 31878: 802, 32029: 803, 32031: 804, 32296: 805, 32587: 806, 33162: 807, 33493: 808, 33794: 809, 33836: 810, 34048: 811, 34319: 812, 37741: 813, 38388: 814, 42002: 815, 45499: 816, 45517: 817, 45668: 818, 45730: 819, 46530: 820, 48783: 821, 48997: 822, 49272: 823, 49278: 824, 49286: 825, 49824: 826, 586: 827, 187: 828, 627: 829, 922: 830, 1037: 831, 1095: 832, 1674: 833, 1987: 834, 2011: 835, 2023: 836, 2300: 837, 2877: 838, 2901: 839, 3173: 840, 3328: 841, 3735: 842, 4131: 843, 4558: 844, 5447: 845, 5451: 846, 5481: 847, 5507: 848, 5841: 849, 5843: 850, 5872: 851, 5890: 852, 5891: 853, 5893: 854, 5902: 855, 5956: 856, 5962: 857, 5965: 858, 5988: 859, 6001: 860, 6044: 861, 1028: 862, 1088: 863, 1247: 864, 1307: 865, 3882: 866, 4447: 867, 5066: 868, 5377: 869, 5620: 870, 5943: 871, 5957: 872, 6155: 873, 6266: 874, 6377: 875, 6535: 876, 6942: 877, 7149: 878, 7151: 879, 7154: 880, 7169: 881, 7293: 882, 7375: 883, 7451: 884, 7458: 885, 8529: 886, 8533: 887, 8869: 888, 8969: 889, 30749: 890, 31433: 891, 31685: 892, 33145: 893, 33679: 894, 40629: 895, 40819: 896, 41285: 897, 47099: 898, 51662: 899, 51705: 900, 51834: 901, 54286: 902, 56367: 903, 56949: 904, 58047: 905, 59333: 906, 59421: 907, 60397: 908, 60950: 909, 61250: 910, 63113: 911, 63992: 912, 64969: 913, 66203: 914, 68954: 915, 69406: 916, 69844: 917, 70183: 918, 70293: 919, 71579: 920, 72011: 921, 72330: 922, 72407: 923, 72720: 924, 72737: 925, 72998: 926, 73017: 927, 74450: 928, 77841: 929, 78772: 930, 79091: 931, 80549: 932, 81784: 933, 81845: 934, 81847: 935, 82167: 936, 82499: 937, 84374: 938, 86548: 939, 87222: 940, 88163: 941, 88810: 942, 91104: 943, 92259: 944, 94070: 945, 95167: 946, 95449: 947, 95510: 948, 95543: 949, 96079: 950, 97024: 951, 97938: 952, 98203: 953, 103335: 954, 103339: 955, 104374: 956, 105211: 957, 106489: 958, 106696: 959, 107141: 960, 109374: 961, 109853: 962, 112006: 963, 113275: 964, 113394: 965, 119145: 966, 129428: 967, 136020: 968, 137595: 969, 140110: 970, 44: 971, 376: 972, 511: 973, 529: 974, 1100: 975, 1358: 976, 1370: 977, 1385: 978, 1438: 979, 1518: 980, 1586: 981, 1604: 982, 1608: 983, 1616: 984, 1687: 985, 1693: 986, 1721: 987, 1840: 988, 1882: 989, 1918: 990, 2002: 991, 2027: 992, 1357: 993, 1405: 994, 1876: 995, 2072: 996, 2100: 997, 2421: 998, 2485: 999, 2572: 1000, 2581: 1001, 2694: 1002, 3668: 1003, 305: 1004, 1173: 1005, 1590: 1006, 1619: 1007, 1639: 1008, 2541: 1009, 3300: 1010, 3409: 1011, 3513: 1012, 3624: 1013, 3717: 1014, 3753: 1015, 3798: 1016, 3827: 1017, 3863: 1018, 3893: 1019, 3952: 1020, 4011: 1021, 4148: 1022, 193: 1023, 448: 1024, 784: 1025, 172: 1026, 858: 1027, 1200: 1028, 1347: 1029, 1527: 1030, 1653: 1031, 1909: 1032, 2001: 1033, 2081: 1034, 2085: 1035, 2278: 1036, 3156: 1037, 3499: 1038, 3510: 1039, 3535: 1040, 3555: 1041, 4022: 1042, 4720: 1043, 5971: 1044, 6502: 1045, 7254: 1046, 7438: 1047, 8644: 1048, 48304: 1049, 48774: 1050, 48780: 1051, 50872: 1052, 56174: 1053, 59315: 1054, 60069: 1055, 63859: 1056, 64614: 1057, 68237: 1058, 69757: 1059, 70286: 1060, 71057: 1061, 71264: 1062, 84152: 1063, 84954: 1064, 85414: 1065, 89745: 1066, 91500: 1067, 94864: 1068, 96610: 1069, 101864: 1070, 103249: 1071, 104841: 1072, 105504: 1073, 110102: 1074, 111759: 1075, 112556: 1076, 112852: 1077, 115149: 1078, 120466: 1079, 122886: 1080, 122904: 1081, 122922: 1082, 122924: 1083, 134130: 1084, 134853: 1085, 143385: 1086, 152077: 1087, 152081: 1088, 158872: 1089, 160980: 1090, 166528: 1091, 166635: 1092, 111: 1093, 541: 1094, 678: 1095, 745: 1096, 913: 1097, 1147: 1098, 1148: 1099, 1186: 1100, 1193: 1101, 1201: 1102, 1207: 1103, 1223: 1104, 1230: 1105, 1252: 1106, 1260: 1107, 1261: 1108, 1267: 1109, 1276: 1110, 1281: 1111, 1299: 1112, 1680: 1113, 2490: 1114, 2707: 1115, 2723: 1116, 3000: 1117, 3022: 1118, 3108: 1119, 3174: 1120, 3429: 1121, 3683: 1122, 3741: 1123, 4878: 1124, 4973: 1125, 5782: 1126, 6350: 1127, 7099: 1128, 7361: 1129, 27611: 1130, 27773: 1131, 48394: 1132, 78499: 1133, 1036: 1134, 1209: 1135, 1221: 1136, 1228: 1137, 1234: 1138, 1375: 1139, 2194: 1140, 3039: 1141, 3263: 1142, 3435: 1143, 3681: 1144, 4571: 1145, 6016: 1146, 6870: 1147, 7482: 1148, 31658: 1149, 64839: 1150, 68358: 1151, 80463: 1152, 81932: 1153, 82459: 1154, 431: 1155, 442: 1156, 555: 1157, 653: 1158, 778: 1159, 1020: 1160, 1059: 1161, 1212: 1162, 1227: 1163, 1245: 1164, 1356: 1165, 1374: 1166, 1544: 1167, 1729: 1168, 1924: 1169, 1961: 1170, 2184: 1171, 2409: 1172, 2410: 1173, 2411: 1174, 2412: 1175, 2420: 1176, 2422: 1177, 2706: 1178, 2918: 1179, 2951: 1180, 2953: 1181, 3081: 1182, 3257: 1183, 3275: 1184, 3462: 1185, 3751: 1186, 3785: 1187, 3896: 1188, 4007: 1189, 4262: 1190, 4327: 1191, 4383: 1192, 4728: 1193, 4816: 1194, 5008: 1195, 5120: 1196, 5266: 1197, 5418: 1198, 5574: 1199, 5608: 1200, 5669: 1201, 5679: 1202, 5903: 1203, 5944: 1204, 5995: 1205, 6287: 1206, 6300: 1207, 6373: 1208, 6378: 1209, 6440: 1210, 6548: 1211, 6709: 1212, 6787: 1213, 6807: 1214, 6888: 1215, 7018: 1216, 7147: 1217, 7317: 1218, 7318: 1219, 7323: 1220, 7373: 1221, 7753: 1222, 7843: 1223, 8117: 1224, 8361: 1225, 8641: 1226, 8784: 1227, 8917: 1228, 8950: 1229, 26444: 1230, 26614: 1231, 27689: 1232, 27716: 1233, 27831: 1234, 27878: 1235, 30793: 1236, 32460: 1237, 33004: 1238, 33615: 1239, 34150: 1240, 34405: 1241, 36519: 1242, 36529: 1243, 37386: 1244, 37729: 1245, 37733: 1246, 38038: 1247, 38061: 1248, 44022: 1249, 44191: 1250, 44199: 1251, 44555: 1252, 44665: 1253, 45722: 1254, 46578: 1255, 46965: 1256, 47200: 1257, 47491: 1258, 49651: 1259, 51357: 1260, 51540: 1261, 52604: 1262, 53125: 1263, 53129: 1264, 53318: 1265, 53464: 1266, 53972: 1267, 53996: 1268, 54272: 1269, 55118: 1270, 55247: 1271, 55276: 1272, 55290: 1273, 55765: 1274, 56757: 1275, 57528: 1276, 57640: 1277, 57669: 1278, 58295: 1279, 58299: 1280, 59615: 1281, 59784: 1282, 60040: 1283, 60074: 1284, 60684: 1285, 62434: 1286, 63131: 1287, 64197: 1288, 64957: 1289, 65596: 1290, 66934: 1291, 67255: 1292, 68073: 1293, 68159: 1294, 68319: 1295, 69122: 1296, 69640: 1297, 69951: 1298, 71108: 1299, 71156: 1300, 71899: 1301, 73268: 1302, 73321: 1303, 73323: 1304, 73499: 1305, 74510: 1306, 74789: 1307, 74948: 1308, 76077: 1309, 76175: 1310, 76251: 1311, 77561: 1312, 78469: 1313, 79293: 1314, 79592: 1315, 79695: 1316, 79702: 1317, 80219: 1318, 81788: 1319, 83349: 1320, 84392: 1321, 85354: 1322, 86190: 1323, 86332: 1324, 86628: 1325, 86880: 1326, 87232: 1327, 88094: 1328, 88129: 1329, 88140: 1330, 90600: 1331, 91485: 1332, 91542: 1333, 92094: 1334, 95441: 1335, 96432: 1336, 96488: 1337, 96655: 1338, 97752: 1339, 98124: 1340, 98585: 1341, 98809: 1342, 99728: 1343, 99813: 1344, 102125: 1345, 102445: 1346, 102903: 1347, 103253: 1348, 103772: 1349, 104241: 1350, 104879: 1351, 106072: 1352, 106487: 1353, 106839: 1354, 107846: 1355, 111362: 1356, 112183: 1357, 112334: 1358, 112421: 1359, 114066: 1360, 116797: 1361, 116823: 1362, 117176: 1363, 118900: 1364, 122892: 1365, 122900: 1366, 122918: 1367, 122920: 1368, 122926: 1369, 128620: 1370, 135569: 1371, 139385: 1372, 140289: 1373, 141688: 1374, 142488: 1375, 144210: 1376, 145283: 1377, 148626: 1378, 150548: 1379, 155168: 1380, 157108: 1381, 157110: 1382, 158238: 1383, 158972: 1384, 159093: 1385, 160438: 1386, 161582: 1387, 162350: 1388, 162606: 1389, 164179: 1390, 166015: 1391, 168252: 1392, 171023: 1393, 176101: 1394, 177593: 1395, 180095: 1396, 180777: 1397, 185135: 1398, 12: 1399, 48: 1400, 64: 1401, 107: 1402, 118: 1403, 173: 1404, 295: 1405, 325: 1406, 328: 1407, 338: 1408, 372: 1409, 379: 1410, 407: 1411, 414: 1412, 420: 1413, 422: 1414, 427: 1415, 486: 1416, 512: 1417, 513: 1418, 551: 1419, 558: 1420, 610: 1421, 611: 1422, 671: 1423, 674: 1424, 724: 1425, 742: 1426, 743: 1427, 761: 1428, 785: 1429, 788: 1430, 798: 1431, 810: 1432, 829: 1433, 832: 1434, 866: 1435, 879: 1436, 903: 1437, 906: 1438, 911: 1439, 915: 1440, 921: 1441, 931: 1442, 933: 1443, 965: 1444, 984: 1445, 1016: 1446, 1021: 1447, 1047: 1448, 1081: 1449, 1129: 1450, 1215: 1451, 1238: 1452, 1257: 1453, 1269: 1454, 1285: 1455, 1297: 1456, 1322: 1457, 1324: 1458, 1330: 1459, 1333: 1460, 1339: 1461, 1342: 1462, 1345: 1463, 1346: 1464, 1355: 1465, 1359: 1466, 1367: 1467, 1372: 1468, 1373: 1469, 1376: 1470, 1378: 1471, 1379: 1472, 1380: 1473, 1394: 1474, 1407: 1475, 1409: 1476, 1427: 1477, 1441: 1478, 1456: 1479, 1457: 1480, 1461: 1481, 1474: 1482, 1479: 1483, 1485: 1484, 1489: 1485, 1499: 1486, 1542: 1487, 1550: 1488, 1551: 1489, 1556: 1490, 1562: 1491, 1566: 1492, 1569: 1493, 1583: 1494, 1588: 1495, 1591: 1496, 1593: 1497, 1603: 1498, 1614: 1499, 1645: 1500, 1648: 1501, 1658: 1502, 1663: 1503, 1665: 1504, 1679: 1505, 1681: 1506, 1688: 1507, 1689: 1508, 1690: 1509, 1702: 1510, 1717: 1511, 1718: 1512, 1722: 1513, 1747: 1514, 1748: 1515, 1754: 1516, 1779: 1517, 1783: 1518, 1798: 1519, 1806: 1520, 1812: 1521, 1816: 1522, 1831: 1523, 1845: 1524, 1848: 1525, 1855: 1526, 1862: 1527, 1881: 1528, 1888: 1529, 1891: 1530, 1894: 1531, 1906: 1532, 1911: 1533, 1919: 1534, 1921: 1535, 1963: 1536, 1970: 1537, 1971: 1538, 1972: 1539, 1973: 1540, 1991: 1541, 1994: 1542, 2003: 1543, 2004: 1544, 2014: 1545, 2015: 1546, 2016: 1547, 2026: 1548, 2034: 1549, 2036: 1550, 2037: 1551, 2040: 1552, 2041: 1553, 2044: 1554, 2052: 1555, 2053: 1556, 2060: 1557, 2065: 1558, 2082: 1559, 2088: 1560, 2092: 1561, 2097: 1562, 2108: 1563, 2110: 1564, 2111: 1565, 2118: 1566, 2123: 1567, 2133: 1568, 2134: 1569, 2140: 1570, 2144: 1571, 2148: 1572, 2153: 1573, 2167: 1574, 2169: 1575, 2171: 1576, 2206: 1577, 2227: 1578, 2232: 1579, 2243: 1580, 2244: 1581, 2245: 1582, 2248: 1583, 2249: 1584, 2255: 1585, 2261: 1586, 2263: 1587, 2266: 1588, 2267: 1589, 2279: 1590, 2287: 1591, 2294: 1592, 2302: 1593, 2315: 1594, 2320: 1595, 2321: 1596, 2328: 1597, 2335: 1598, 2354: 1599, 2355: 1600, 2369: 1601, 2371: 1602, 2372: 1603, 2374: 1604, 2375: 1605, 2393: 1606, 2394: 1607, 2396: 1608, 2407: 1609, 2413: 1610, 2416: 1611, 2418: 1612, 2423: 1613, 2428: 1614, 2446: 1615, 2453: 1616, 2455: 1617, 2458: 1618, 2463: 1619, 2465: 1620, 2468: 1621, 2491: 1622, 2496: 1623, 2513: 1624, 2518: 1625, 2539: 1626, 2548: 1627, 2550: 1628, 2555: 1629, 2558: 1630, 2605: 1631, 2606: 1632, 2614: 1633, 2622: 1634, 2642: 1635, 2643: 1636, 2668: 1637, 2672: 1638, 2687: 1639, 2699: 1640, 2709: 1641, 2710: 1642, 2719: 1643, 2720: 1644, 2722: 1645, 2733: 1646, 2746: 1647, 2754: 1648, 2788: 1649, 2793: 1650, 2802: 1651, 2804: 1652, 2806: 1653, 2808: 1654, 2822: 1655, 2836: 1656, 2840: 1657, 2857: 1658, 2860: 1659, 2867: 1660, 2870: 1661, 2883: 1662, 2888: 1663, 2898: 1664, 2900: 1665, 2915: 1666, 2936: 1667, 2968: 1668, 2995: 1669, 3005: 1670, 3016: 1671, 3017: 1672, 3031: 1673, 3032: 1674, 3035: 1675, 3040: 1676, 3048: 1677, 3056: 1678, 3063: 1679, 3064: 1680, 3070: 1681, 3072: 1682, 3082: 1683, 3087: 1684, 3101: 1685, 3104: 1686, 3113: 1687, 3146: 1688, 3190: 1689, 3203: 1690, 3213: 1691, 3219: 1692, 3225: 1693, 3238: 1694, 3248: 1695, 3254: 1696, 3258: 1697, 3264: 1698, 3269: 1699, 3301: 1700, 3308: 1701, 3316: 1702, 3324: 1703, 3355: 1704, 3361: 1705, 3370: 1706, 3387: 1707, 3393: 1708, 3394: 1709, 3395: 1710, 3396: 1711, 3397: 1712, 3398: 1713, 3400: 1714, 3401: 1715, 3418: 1716, 3421: 1717, 3424: 1718, 3454: 1719, 3466: 1720, 3471: 1721, 3476: 1722, 3477: 1723, 3483: 1724, 3484: 1725, 3497: 1726, 3500: 1727, 3501: 1728, 3505: 1729, 3515: 1730, 3526: 1731, 3534: 1732, 3536: 1733, 3548: 1734, 3550: 1735, 3551: 1736, 3584: 1737, 3594: 1738, 3608: 1739, 3622: 1740, 3662: 1741, 3685: 1742, 3686: 1743, 3692: 1744, 3693: 1745, 3698: 1746, 3699: 1747, 3701: 1748, 3704: 1749, 3705: 1750, 3706: 1751, 3708: 1752, 3712: 1753, 3743: 1754, 3745: 1755, 3752: 1756, 3754: 1757, 3763: 1758, 3770: 1759, 3784: 1760, 3797: 1761, 3802: 1762, 3825: 1763, 3826: 1764, 3835: 1765, 3837: 1766, 3839: 1767, 1010: 1768, 1012: 1769, 1013: 1770, 1015: 1771, 1018: 1772, 1022: 1773, 1035: 1774, 1547: 1775, 2006: 1776, 2059: 1777, 2083: 1778, 2087: 1779, 2089: 1780, 2135: 1781, 2430: 1782, 2565: 1783, 2941: 1784, 3157: 1785, 3159: 1786, 3189: 1787, 3410: 1788, 3438: 1789, 3512: 1790, 3549: 1791, 3565: 1792, 3615: 1793, 3755: 1794, 3852: 1795, 3948: 1796, 3972: 1797, 3986: 1798, 3988: 1799, 3990: 1800, 3999: 1801, 4016: 1802, 4019: 1803, 4025: 1804, 4039: 1805, 4054: 1806, 4090: 1807, 4154: 1808, 4161: 1809, 4232: 1810, 4270: 1811, 4299: 1812, 4344: 1813, 4366: 1814, 4367: 1815, 4369: 1816, 4378: 1817, 4446: 1818, 4449: 1819, 4519: 1820, 4638: 1821, 4718: 1822, 4734: 1823, 4776: 1824, 4783: 1825, 4821: 1826, 4846: 1827, 4848: 1828, 4865: 1829, 4901: 1830, 4979: 1831, 4990: 1832, 5013: 1833, 5014: 1834, 5015: 1835, 5103: 1836, 5110: 1837, 5171: 1838, 5254: 1839, 5293: 1840, 5299: 1841, 5313: 1842, 5364: 1843, 5388: 1844, 5419: 1845, 5463: 1846, 5504: 1847, 5630: 1848, 5693: 1849, 5785: 1850, 6143: 1851, 6156: 1852, 6157: 1853, 6166: 1854, 6170: 1855, 6297: 1856, 6345: 1857, 6358: 1858, 38: 1859, 2376: 1860, 2378: 1861, 2402: 1862, 2403: 1863, 2724: 1864, 2989: 1865, 2990: 1866, 3633: 1867, 3635: 1868, 3638: 1869, 3697: 1870, 3868: 1871, 3984: 1872, 4005: 1873, 4040: 1874, 4085: 1875, 4489: 1876, 4545: 1877, 4621: 1878, 4701: 1879, 5219: 1880, 5796: 1881, 6503: 1882, 7569: 1883, 7570: 1884, 7573: 1885, 7701: 1886, 8574: 1887, 8946: 1888, 26340: 1889, 30825: 1890, 34162: 1891, 39715: 1892, 40815: 1893, 41566: 1894, 45186: 1895, 45447: 1896, 45672: 1897, 46972: 1898, 47566: 1899, 47997: 1900, 50189: 1901, 51084: 1902, 52730: 1903, 52973: 1904, 53121: 1905, 53322: 1906, 54276: 1907, 56775: 1908, 58025: 1909, 58998: 1910, 59369: 1911, 59429: 1912, 59900: 1913, 61160: 1914, 63082: 1915, 64032: 1916, 68791: 1917, 68793: 1918, 69526: 1919, 69644: 1920, 72641: 1921, 73106: 1922, 73319: 1923, 73858: 1924, 76093: 1925, 78637: 1926, 79134: 1927, 79185: 1928, 80166: 1929, 81229: 1930, 81564: 1931, 81591: 1932, 81834: 1933, 82202: 1934, 85259: 1935, 86068: 1936, 87520: 1937, 88125: 1938, 88405: 1939, 88744: 1940, 90249: 1941, 91535: 1942, 91630: 1943, 93510: 1944, 94503: 1945, 94677: 1946, 94777: 1947, 95067: 1948, 95170: 1949, 95738: 1950, 96004: 1951, 96588: 1952, 97913: 1953, 99532: 1954, 102481: 1955, 102716: 1956, 102993: 1957, 103141: 1958, 103228: 1959, 103372: 1960, 103384: 1961, 103801: 1962, 103810: 1963, 103819: 1964, 103883: 1965, 104211: 1966, 105213: 1967, 105653: 1968, 105844: 1969, 105954: 1970, 106491: 1971, 106540: 1972, 106916: 1973, 106918: 1974, 106920: 1975, 107013: 1976, 107449: 1977, 108156: 1978, 108190: 1979, 108932: 1980, 108945: 1981, 109576: 1982, 109723: 1983, 109864: 1984, 110130: 1985, 110553: 1986, 111113: 1987, 111617: 1988, 111743: 1989, 111781: 1990, 111844: 1991, 112138: 1992, 112175: 1993, 114180: 1994, 114818: 1995, 115502: 1996, 115617: 1997, 115877: 1998, 117368: 1999, 117529: 2000, 117572: 2001, 117590: 2002, 117851: 2003, 117922: 2004, 119141: 2005, 119155: 2006, 119964: 2007, 126548: 2008, 130450: 2009, 132157: 2010, 133419: 2011, 134368: 2012, 134393: 2013, 135133: 2014, 135536: 2015, 135861: 2016, 135887: 2017, 136016: 2018, 138036: 2019, 138186: 2020, 139642: 2021, 139717: 2022, 139915: 2023, 140301: 2024, 142536: 2025, 143245: 2026, 148675: 2027, 149380: 2028, 160565: 2029, 160872: 2030, 164909: 2031, 166492: 2032, 167036: 2033, 168248: 2034, 173307: 2035, 1952: 2036, 1953: 2037, 2160: 2038, 3006: 2039, 4017: 2040, 4036: 2041, 4903: 2042, 5617: 2043, 5673: 2044, 6711: 2045, 8464: 2046, 8622: 2047, 30707: 2048, 31410: 2049, 34437: 2050, 39183: 2051, 41997: 2052, 46976: 2053, 52281: 2054, 53519: 2055, 54503: 2056, 55820: 2057, 56171: 2058, 56782: 2059, 56788: 2060, 60766: 2061, 61323: 2062, 64575: 2063, 66097: 2064, 68536: 2065, 71464: 2066, 29: 2067, 175: 2068, 272: 2069, 334: 2070, 741: 2071, 1050: 2072, 1175: 2073, 1217: 2074, 1218: 2075, 1232: 2076, 1233: 2077, 1237: 2078, 1243: 2079, 1248: 2080, 1249: 2081, 1274: 2082, 1284: 2083, 1425: 2084, 1464: 2085, 1711: 2086, 1809: 2087, 1859: 2088, 1884: 2089, 1960: 2090, 2579: 2091, 2686: 2092, 2726: 2093, 2730: 2094, 2912: 2095, 3030: 2096, 3181: 2097, 3265: 2098, 3822: 2099, 4235: 2100, 5333: 2101, 6234: 2102, 6387: 2103, 6721: 2104, 6773: 2105, 6790: 2106, 6857: 2107, 6920: 2108, 6989: 2109, 7064: 2110, 7069: 2111, 7123: 2112, 7587: 2113, 7924: 2114, 7932: 2115, 8012: 2116, 8228: 2117, 8370: 2118, 2405: 2119, 3556: 2120, 4855: 2121, 5064: 2122, 5791: 2123, 31696: 2124, 35836: 2125, 47610: 2126, 57368: 2127, 61024: 2128, 61132: 2129, 86882: 2130, 102407: 2131, 132660: 2132, 122912: 2133, 122916: 2134, 176371: 2135, 187541: 2136, 187593: 2137, 238: 2138, 421: 2139, 808: 2140, 969: 2141, 1083: 2142, 1262: 2143, 1287: 2144, 1387: 2145, 1592: 2146, 2032: 2147, 2142: 2148, 2151: 2149, 2311: 2150, 2530: 2151, 2532: 2152, 2876: 2153, 2886: 2154, 3037: 2155, 3350: 2156, 3451: 2157, 3519: 2158, 3654: 2159, 3791: 2160, 3836: 2161, 23: 2162, 147: 2163, 211: 2164, 428: 2165, 456: 2166, 481: 2167, 507: 2168, 635: 2169, 714: 2170, 851: 2171, 1120: 2172, 1171: 2173, 1253: 2174, 1271: 2175, 1303: 2176, 1459: 2177, 1480: 2178, 1678: 2179, 1785: 2180, 2021: 2181, 2231: 2182, 2272: 2183, 2358: 2184, 2618: 2185, 2841: 2186, 2908: 2187, 2952: 2188, 3020: 2189, 3100: 2190, 3105: 2191, 3107: 2192, 3169: 2193, 3178: 2194, 3198: 2195, 3246: 2196, 3250: 2197, 3252: 2198, 3256: 2199, 3260: 2200, 3271: 2201, 3272: 2202, 3360: 2203, 3543: 2204, 3783: 2205, 3950: 2206, 3980: 2207, 4047: 2208, 4211: 2209, 4238: 2210, 4251: 2211, 4343: 2212, 4626: 2213, 4688: 2214, 4772: 2215, 4787: 2216, 5009: 2217, 5010: 2218, 5055: 2219, 5152: 2220, 5267: 2221, 5292: 2222, 5329: 2223, 5446: 2224, 5577: 2225, 5632: 2226, 5682: 2227, 5747: 2228, 5945: 2229, 5955: 2230, 6281: 2231, 6428: 2232, 6537: 2233, 6552: 2234, 6565: 2235, 6617: 2236, 6796: 2237, 6817: 2238, 6867: 2239, 6884: 2240, 6947: 2241, 6953: 2242, 6957: 2243, 6974: 2244, 6993: 2245, 6997: 2246, 7009: 2247, 7025: 2248, 7090: 2249, 7263: 2250, 7481: 2251, 7649: 2252, 7706: 2253, 7841: 2254, 7842: 2255, 7884: 2256, 8010: 2257, 8132: 2258, 8378: 2259, 8493: 2260, 8495: 2261, 8633: 2262, 8810: 2263, 8874: 2264, 8914: 2265, 8937: 2266, 8951: 2267, 8977: 2268, 8982: 2269, 8983: 2270, 26649: 2271, 26695: 2272, 26750: 2273, 26812: 2274, 26901: 2275, 27408: 2276, 27450: 2277, 27788: 2278, 27793: 2279, 31101: 2280, 31116: 2281, 31225: 2282, 31420: 2283, 33166: 2284, 33558: 2285, 33660: 2286, 34536: 2287, 36517: 2288, 36527: 2289, 37731: 2290, 37739: 2291, 38886: 2292, 39381: 2293, 39444: 2294, 40278: 2295, 40414: 2296, 40583: 2297, 41569: 2298, 41863: 2299, 42004: 2300, 43396: 2301, 43921: 2302, 43928: 2303, 43936: 2304, 44195: 2305, 44204: 2306, 44761: 2307, 45658: 2308, 46723: 2309, 47629: 2310, 47644: 2311, 47894: 2312, 48326: 2313, 48385: 2314, 48738: 2315, 48879: 2316, 49265: 2317, 49530: 2318, 49822: 2319, 49961: 2320, 50068: 2321, 50442: 2322, 51080: 2323, 51255: 2324, 51471: 2325, 51935: 2326, 52042: 2327, 52241: 2328, 52328: 2329, 52952: 2330, 53123: 2331, 53550: 2332, 53953: 2333, 54736: 2334, 54962: 2335, 54997: 2336, 55080: 2337, 55094: 2338, 55116: 2339, 55274: 2340, 55363: 2341, 55721: 2342, 55908: 2343, 56145: 2344, 56587: 2345, 56607: 2346, 56921: 2347, 58293: 2348, 58803: 2349, 59018: 2350, 59129: 2351, 59387: 2352, 60046: 2353, 60389: 2354, 60647: 2355, 60674: 2356, 60735: 2357, 60753: 2358, 60941: 2359, 60943: 2360, 61011: 2361, 61167: 2362, 61210: 2363, 61236: 2364, 61248: 2365, 61350: 2366, 61352: 2367, 61628: 2368, 61986: 2369, 62374: 2370, 62376: 2371, 62394: 2372, 62792: 2373, 62799: 2374, 62849: 2375, 63033: 2376, 63062: 2377, 63433: 2378, 64030: 2379, 64497: 2380, 64716: 2381, 64983: 2382, 64997: 2383, 65216: 2384, 65682: 2385, 65982: 2386, 67534: 2387, 68205: 2388, 69849: 2389, 70336: 2390, 71106: 2391, 71135: 2392, 953: 2393, 1204: 2394, 1242: 2395, 1772: 2396, 1792: 2397, 1939: 2398, 1945: 2399, 2301: 2400, 3363: 2401, 4980: 2402, 7156: 2403, 7379: 2404, 26554: 2405, 26729: 2406, 64620: 2407, 87306: 2408, 98961: 2409, 96821: 2410, 605: 2411, 612: 2412, 1099: 2413, 1231: 2414, 1353: 2415, 1361: 2416, 1363: 2417, 1393: 2418, 74: 2419, 78: 2420, 194: 2421, 203: 2422, 246: 2423, 471: 2424, 786: 2425, 1104: 2426, 1429: 2427, 1458: 2428, 28: 2429, 94: 2430, 249: 2431, 307: 2432, 308: 2433, 322: 2434, 385: 2435, 446: 2436, 452: 2437, 562: 2438, 580: 2439, 613: 2440, 715: 2441, 805: 2442, 994: 2443, 1027: 2444, 1056: 2445, 1177: 2446, 1280: 2447, 1365: 2448, 1399: 2449, 1446: 2450, 1476: 2451, 1487: 2452, 1537: 2453, 1545: 2454, 1621: 2455, 1633: 2456, 1643: 2457, 1672: 2458, 1673: 2459, 1799: 2460, 1801: 2461, 1841: 2462, 2112: 2463, 2310: 2464, 2333: 2465, 2357: 2466, 2391: 2467, 2443: 2468, 2501: 2469, 2690: 2470, 2875: 2471, 2943: 2472, 3997: 2473, 5146: 2474, 5449: 2475, 6242: 2476, 6567: 2477, 6618: 2478, 26606: 2479, 27193: 2480, 27728: 2481, 27801: 2482, 31184: 2483, 44974: 2484, 544: 2485, 2269: 2486, 2735: 2487, 2794: 2488, 3066: 2489, 3270: 2490, 3347: 2491, 3362: 2492, 3766: 2493, 3861: 2494, 4220: 2495, 5093: 2496, 5312: 2497, 6662: 2498, 585: 2499, 2342: 2500, 3019: 2501, 82: 2502, 121: 2503, 199: 2504, 228: 2505, 306: 2506, 514: 2507, 685: 2508, 3285: 2509, 3968: 2510, 4890: 2511, 6708: 2512, 6763: 2513, 7173: 2514, 7444: 2515, 8981: 2516, 54001: 2517, 55280: 2518, 56941: 2519, 59725: 2520, 61240: 2521, 65230: 2522, 71033: 2523, 85774: 2524, 86781: 2525, 87869: 2526, 89759: 2527, 93840: 2528, 96829: 2529, 97921: 2530, 100714: 2531, 101525: 2532, 103980: 2533, 111659: 2534, 111921: 2535, 112290: 2536, 115569: 2537, 116897: 2538, 125916: 2539, 128360: 2540, 136864: 2541, 122: 2542, 144: 2543, 227: 2544, 408: 2545, 413: 2546, 418: 2547, 424: 2548, 433: 2549, 436: 2550, 459: 2551, 550: 2552, 639: 2553, 782: 2554, 1191: 2555, 1343: 2556, 1431: 2557, 1453: 2558, 1468: 2559, 1488: 2560, 1513: 2561, 1667: 2562, 1726: 2563, 1810: 2564, 1835: 2565, 1975: 2566, 1976: 2567, 2146: 2568, 2155: 2569, 2236: 2570, 2297: 2571, 2306: 2572, 2352: 2573, 2404: 2574, 2433: 2575, 2497: 2576, 2500: 2577, 2505: 2578, 2568: 2579, 2574: 2580, 2598: 2581, 2702: 2582, 2713: 2583, 2771: 2584, 2795: 2585, 2796: 2586, 2805: 2587, 2827: 2588, 2861: 2589, 2871: 2590, 2890: 2591, 2906: 2592, 3098: 2593, 3120: 2594, 3142: 2595, 3177: 2596, 3186: 2597, 3208: 2598, 3259: 2599, 3261: 2600, 3298: 2601, 3326: 2602, 3502: 2603, 3552: 2604, 3646: 2605, 3694: 2606, 3695: 2607, 3764: 2608, 3824: 2609, 3841: 2610, 3946: 2611, 3987: 2612, 4008: 2613, 4041: 2614, 4062: 2615, 4067: 2616, 4084: 2617, 4102: 2618, 4132: 2619, 4153: 2620, 4155: 2621, 4207: 2622, 4280: 2623, 4293: 2624, 4317: 2625, 4321: 2626, 4322: 2627, 4333: 2628, 4349: 2629, 4351: 2630, 4359: 2631, 4361: 2632, 4396: 2633, 4442: 2634, 4466: 2635, 4477: 2636, 4482: 2637, 4487: 2638, 4509: 2639, 4516: 2640, 4541: 2641, 4564: 2642, 4565: 2643, 4577: 2644, 4623: 2645, 4629: 2646, 4654: 2647, 4679: 2648, 4686: 2649, 57: 2650, 259: 2651, 484: 2652, 519: 2653, 828: 2654, 1105: 2655, 18: 2656, 663: 2657, 737: 2658, 833: 2659, 836: 2660, 889: 2661, 69: 2662, 934: 2663, 1005: 2664, 1033: 2665, 1390: 2666, 1442: 2667, 1615: 2668, 1642: 2669, 1753: 2670, 1769: 2671, 1863: 2672, 1866: 2673, 1934: 2674, 2042: 2675, 2064: 2676, 2106: 2677, 2124: 2678, 2195: 2679, 2431: 2680, 2504: 2681, 2718: 2682, 2731: 2683, 3004: 2684, 3196: 2685, 3249: 2686, 3268: 2687, 3274: 2688, 3385: 2689, 4104: 2690, 4502: 2691, 4929: 2692, 4958: 2693, 4974: 2694, 5151: 2695, 5220: 2696, 5283: 2697, 5307: 2698, 5308: 2699, 5500: 2700, 5528: 2701, 5568: 2702, 5582: 2703, 5585: 2704, 5589: 2705, 7294: 2706, 33495: 2707, 53993: 2708, 391: 2709, 2121: 2710, 2942: 2711, 3844: 2712, 3969: 2713, 4474: 2714, 4975: 2715, 5108: 2716, 6765: 2717, 7160: 2718, 8966: 2719, 45950: 2720, 47423: 2721, 51931: 2722, 53894: 2723, 63876: 2724, 68932: 2725, 69712: 2726, 72395: 2727, 79242: 2728, 82767: 2729, 96567: 2730, 96811: 2731, 97923: 2732, 100383: 2733, 106100: 2734, 108729: 2735, 112804: 2736, 117881: 2737, 132424: 2738, 137337: 2739, 140174: 2740, 140247: 2741, 140715: 2742, 145839: 2743, 146656: 2744, 159817: 2745, 163645: 2746, 166643: 2747, 171011: 2748, 1320: 2749, 5882: 2750, 8371: 2751, 909: 2752, 1251: 2753, 1273: 2754, 1289: 2755, 2164: 2756, 2553: 2757, 2732: 2758, 2925: 2759, 3221: 2760, 3415: 2761, 3730: 2762, 4282: 2763, 4399: 2764, 4658: 2765, 4914: 2766, 4928: 2767, 5004: 2768, 5021: 2769, 5810: 2770, 5932: 2771, 6239: 2772, 6663: 2773, 6666: 2774, 6975: 2775, 7063: 2776, 7206: 2777, 7247: 2778, 7327: 2779, 7396: 2780, 7700: 2781, 7748: 2782, 8143: 2783, 8157: 2784, 8235: 2785, 8253: 2786, 8379: 2787, 8879: 2788, 8928: 2789, 8974: 2790, 26258: 2791, 26326: 2792, 26422: 2793, 27156: 2794, 27513: 2795, 32657: 2796, 32659: 2797, 32875: 2798, 32898: 2799, 33781: 2800, 37545: 2801, 44719: 2802, 45880: 2803, 46062: 2804, 46862: 2805, 52885: 2806, 62336: 2807, 62644: 2808, 63312: 2809, 64278: 2810, 66335: 2811, 79224: 2812, 81018: 2813, 81562: 2814, 82848: 2815, 85796: 2816, 88911: 2817, 90522: 2818, 90746: 2819, 91094: 2820, 92046: 2821, 92427: 2822, 92475: 2823, 93114: 2824, 93326: 2825, 96606: 2826, 97225: 2827, 97304: 2828, 100498: 2829, 101072: 2830, 103171: 2831, 104283: 2832, 104913: 2833, 105250: 2834, 107338: 2835, 107565: 2836, 111732: 2837, 113374: 2838, 115203: 2839, 122898: 2840, 127146: 2841, 128695: 2842, 134170: 2843, 134515: 2844, 135143: 2845, 135456: 2846, 136018: 2847, 136305: 2848, 136564: 2849, 137857: 2850, 138208: 2851, 139644: 2852, 140928: 2853, 142074: 2854, 142448: 2855, 142602: 2856, 142961: 2857, 142997: 2858, 143859: 2859, 143969: 2860, 149406: 2861, 151759: 2862, 156607: 2863, 160569: 2864, 164280: 2865, 165969: 2866, 167370: 2867, 168254: 2868, 168492: 2869, 170705: 2870, 170875: 2871, 171701: 2872, 171759: 2873, 172013: 2874, 172461: 2875, 174055: 2876, 174141: 2877, 174737: 2878, 175485: 2879, 175661: 2880, 175693: 2881, 175705: 2882, 175707: 2883, 175743: 2884, 175781: 2885, 179073: 2886, 188301: 2887, 190183: 2888, 387: 2889, 479: 2890, 482: 2891, 522: 2892, 781: 2893, 1011: 2894, 1014: 2895, 1235: 2896, 1244: 2897, 1301: 2898, 1350: 2899, 1873: 2900, 1997: 2901, 1999: 2902, 2159: 2903, 2183: 2904, 2265: 2905, 2322: 2906, 2356: 2907, 2363: 2908, 2379: 2909, 2380: 2910, 2408: 2911, 2454: 2912, 2524: 2913, 2533: 2914, 2554: 2915, 2587: 2916, 2613: 2917, 2615: 2918, 2634: 2919, 2661: 2920, 2664: 2921, 2752: 2922, 2978: 2923, 3115: 2924, 3148: 2925, 3388: 2926, 3430: 2927, 3614: 2928, 3799: 2929, 3814: 2930, 3917: 2931, 3918: 2932, 3959: 2933, 4215: 2934, 4241: 2935, 4255: 2936, 4267: 2937, 4291: 2938, 4340: 2939, 4437: 2940, 4464: 2941, 4496: 2942, 4508: 2943, 4591: 2944, 4713: 2945, 4876: 2946, 4971: 2947, 4992: 2948, 5040: 2949, 5339: 2950, 5505: 2951, 5672: 2952, 5712: 2953, 6323: 2954, 6371: 2955, 6659: 2956, 6786: 2957, 6793: 2958, 6873: 2959, 6880: 2960, 7000: 2961, 7004: 2962, 7007: 2963, 7040: 2964, 7163: 2965, 7757: 2966, 7983: 2967, 8623: 2968, 26680: 2969, 34338: 2970, 39414: 2971, 42723: 2972, 45666: 2973, 48877: 2974, 52722: 2975, 57532: 2976, 59306: 2977, 60487: 2978, 33646: 2979, 50794: 2980, 51077: 2981, 52245: 2982, 54995: 2983, 54999: 2984, 56801: 2985, 65514: 2986, 69481: 2987, 86892: 2988, 93721: 2989, 93838: 2990, 110501: 2991, 748: 2992, 916: 2993, 1125: 2994, 1982: 2995, 1293: 2996, 198: 2997, 473: 2998, 518: 2999, 707: 3000, 728: 3001, 861: 3002, 897: 3003, 942: 3004, 951: 3005, 955: 3006, 1184: 3007, 1254: 3008, 1268: 3009, 1277: 3010, 1388: 3011, 1416: 3012, 1498: 3013, 1564: 3014, 1646: 3015, 1670: 3016, 1858: 3017, 1912: 3018, 2009: 3019, 2067: 3020, 2102: 3021, 2202: 3022, 2289: 3023, 2429: 3024, 2476: 3025, 2681: 3026, 2759: 3027, 2917: 3028, 2922: 3029, 2935: 3030, 2961: 3031, 3045: 3032, 3334: 3033, 3426: 3034, 3446: 3035, 3494: 3036, 3507: 3037, 3593: 3038, 3628: 3039, 3632: 3040, 3643: 3041, 3769: 3042, 3773: 3043, 3774: 3044, 3811: 3045, 3901: 3046, 3937: 3047, 280: 3048, 928: 3049, 1151: 3050, 1428: 3051, 1631: 3052, 1696: 3053, 1797: 3054, 1944: 3055, 2020: 3056, 2075: 3057, 3075: 3058, 3230: 3059, 3461: 3060, 3498: 3061, 3504: 3062, 6460: 3063, 2739: 3064, 6058: 3065, 6541: 3066, 6564: 3067, 27660: 3068, 27706: 3069, 27808: 3070, 48043: 3071, 49130: 3072, 49649: 3073, 50804: 3074, 51086: 3075, 59501: 3076, 60072: 3077, 60126: 3078, 63072: 3079, 67734: 3080, 68554: 3081, 68848: 3082, 74228: 3083, 78105: 3084, 79357: 3085, 80693: 3086, 82461: 3087, 83369: 3088, 86911: 3089, 87430: 3090, 89492: 3091, 89864: 3092, 90866: 3093, 96861: 3094, 99149: 3095, 102123: 3096, 103042: 3097, 103341: 3098, 104863: 3099, 106002: 3100, 107348: 3101, 107406: 3102, 111360: 3103, 113741: 3104, 114662: 3105, 114678: 3106, 114935: 3107, 115210: 3108, 115680: 3109, 118696: 3110, 128512: 3111, 135518: 3112, 142222: 3113, 143355: 3114, 158966: 3115, 161131: 3116, 166534: 3117, 168250: 3118, 170827: 3119, 171763: 3120, 173925: 3121, 174053: 3122, 175303: 3123, 179401: 3124, 179819: 3125, 182715: 3126, 183611: 3127, 184471: 3128, 185031: 3129, 187595: 3130, 1202: 3131, 1965: 3132, 3088: 3133, 4105: 3134, 6104: 3135, 7022: 3136, 7132: 3137, 7387: 3138, 7980: 3139, 8376: 3140, 8873: 3141, 27846: 3142, 27904: 3143, 30810: 3144, 33779: 3145, 45728: 3146, 53000: 3147, 54259: 3148, 64285: 3149, 67997: 3150, 77800: 3151, 86290: 3152, 86504: 3153, 89753: 3154, 89904: 3155, 92494: 3156, 92535: 3157, 95858: 3158, 98491: 3159, 102217: 3160, 104069: 3161, 365: 3162, 968: 3163, 1096: 3164, 1762: 3165, 1889: 3166, 2313: 3167, 2905: 3168, 3041: 3169, 4023: 3170, 4128: 3171, 4380: 3172, 4448: 3173, 4773: 3174, 4964: 3175, 5026: 3176, 5225: 3177, 5291: 3178, 5417: 3179, 5690: 3180, 5878: 3181, 5954: 3182, 6188: 3183, 6214: 3184, 6218: 3185, 6296: 3186, 6331: 3187, 6385: 3188, 6936: 3189, 6944: 3190, 7139: 3191, 7162: 3192, 7235: 3193, 7360: 3194, 7411: 3195, 7743: 3196, 7930: 3197, 7982: 3198, 8014: 3199, 8093: 3200, 8645: 3201, 8795: 3202, 8832: 3203, 26504: 3204, 27020: 3205, 27266: 3206, 27523: 3207, 27869: 3208, 33683: 3209, 34072: 3210, 42632: 3211, 255: 3212, 523: 3213, 535: 3214, 1216: 3215, 1326: 3216, 1382: 3217, 1541: 3218, 1956: 3219, 2257: 3220, 2312: 3221, 2316: 3222, 2401: 3223, 2956: 3224, 2966: 3225, 3029: 3226, 3074: 3227, 3201: 3228, 3262: 3229, 3444: 3230, 4079: 3231, 4149: 3232, 4158: 3233, 4203: 3234, 4231: 3235, 4465: 3236, 4499: 3237, 4537: 3238, 4572: 3239, 4581: 3240, 4585: 3241, 4611: 3242, 4616: 3243, 5023: 3244, 5265: 3245, 5548: 3246, 5644: 3247, 6022: 3248, 6025: 3249, 6124: 3250, 6313: 3251, 6636: 3252, 6754: 3253, 6832: 3254, 6979: 3255, 6996: 3256, 7015: 3257, 7027: 3258, 7028: 3259, 7046: 3260, 7048: 3261, 7127: 3262, 7325: 3263, 7493: 3264, 7624: 3265, 7647: 3266, 7766: 3267, 8024: 3268, 8158: 3269, 5628: 3270, 8604: 3271, 8605: 3272, 875: 3273, 932: 3274, 1017: 3275, 1019: 3276, 1292: 3277, 1381: 3278, 1515: 3279, 1635: 3280, 1703: 3281, 2125: 3282, 2334: 3283, 2340: 3284, 2385: 3285, 2471: 3286, 2560: 3287, 2567: 3288, 2662: 3289, 2728: 3290, 2803: 3291, 2881: 3292, 2950: 3293, 3077: 3294, 3452: 3295, 3553: 3296, 3554: 3297, 3653: 3298, 3675: 3299, 3707: 3300, 3786: 3301, 3978: 3302, 3981: 3303, 4015: 3304, 4068: 3305, 4069: 3306, 4124: 3307, 4141: 3308, 4326: 3309, 4356: 3310, 4372: 3311, 4387: 3312, 4388: 3313, 4639: 3314, 4677: 3315, 4681: 3316, 4823: 3317, 4877: 3318, 4969: 3319, 5049: 3320, 5400: 3321, 5444: 3322, 5541: 3323, 5553: 3324, 6193: 3325, 6383: 3326, 6595: 3327, 6707: 3328, 6753: 3329, 6755: 3330, 6879: 3331, 6893: 3332, 6939: 3333, 7010: 3334, 7137: 3335, 7256: 3336, 7320: 3337, 7346: 3338, 7454: 3339, 7541: 3340, 7566: 3341, 8366: 3342, 8677: 3343, 8781: 3344, 8807: 3345, 8861: 3346, 8866: 3347, 8910: 3348, 8947: 3349, 8968: 3350, 8985: 3351, 26712: 3352, 26778: 3353, 26871: 3354, 27473: 3355, 27539: 3356, 27705: 3357, 30822: 3358, 31049: 3359, 32598: 3360, 33154: 3361, 33437: 3362, 33672: 3363, 34153: 3364, 34542: 3365, 40732: 3366, 40959: 3367, 41571: 3368, 41573: 3369, 41724: 3370, 42018: 3371, 42718: 3372, 42738: 3373, 44004: 3374, 44709: 3375, 44788: 3376, 45431: 3377, 45501: 3378, 45720: 3379, 45726: 3380, 45928: 3381, 46322: 3382, 46948: 3383, 47970: 3384, 47978: 3385, 47999: 3386, 48342: 3387, 48696: 3388, 49274: 3389, 49772: 3390, 50658: 3391, 50685: 3392, 50740: 3393, 50806: 3394, 51709: 3395, 51884: 3396, 52287: 3397, 52435: 3398, 52458: 3399, 52767: 3400, 52975: 3401, 53435: 3402, 54004: 3403, 54116: 3404, 54121: 3405, 54281: 3406, 54734: 3407, 54881: 3408, 55052: 3409, 55112: 3410, 55190: 3411, 55232: 3412, 55253: 3413, 55267: 3414, 55282: 3415, 55620: 3416, 55830: 3417, 56152: 3418, 56251: 3419, 56336: 3420, 56339: 3421, 56379: 3422, 57951: 3423, 58078: 3424, 58107: 3425, 58162: 3426, 58347: 3427, 58839: 3428, 59126: 3429, 59220: 3430, 59258: 3431, 59440: 3432, 59731: 3433, 60363: 3434, 60514: 3435, 62155: 3436, 62293: 3437, 62956: 3438, 62999: 3439, 64622: 3440, 65188: 3441, 66198: 3442, 66665: 3443, 67087: 3444, 67267: 3445, 67408: 3446, 67618: 3447, 68659: 3448, 68952: 3449, 69069: 3450, 69394: 3451, 69524: 3452, 69784: 3453, 69904: 3454, 70492: 3455, 70521: 3456, 70990: 3457, 71282: 3458, 72167: 3459, 72489: 3460, 72591: 3461, 73023: 3462, 74154: 3463, 74508: 3464, 74668: 3465, 74946: 3466, 76751: 3467, 78467: 3468, 78703: 3469, 79057: 3470, 80860: 3471, 81910: 3472, 83134: 3473, 83803: 3474, 84772: 3475, 85780: 3476, 86293: 3477, 86377: 3478, 86833: 3479, 89087: 3480, 89470: 3481, 90576: 3482, 92420: 3483, 93287: 3484, 94959: 3485, 95218: 3486, 95624: 3487, 95875: 3488, 96110: 3489, 114762: 3490, 4744: 3491, 4880: 3492, 1172: 3493, 1300: 3494, 1955: 3495, 1959: 3496, 1962: 3497, 3152: 3498, 3359: 3499, 3468: 3500, 91077: 3501, 2136: 3502, 44193: 3503, 45221: 3504, 47122: 3505, 47518: 3506, 48414: 3507, 50601: 3508, 53460: 3509, 55768: 3510, 68135: 3511, 69278: 3512, 71518: 3513, 72226: 3514, 74647: 3515, 75805: 3516, 76293: 3517, 87485: 3518, 92509: 3519, 93272: 3520, 99106: 3521, 101612: 3522, 105037: 3523, 109483: 3524, 111320: 3525, 112450: 3526, 112788: 3527, 113378: 3528, 114074: 3529, 123947: 3530, 127202: 3531, 128520: 3532, 131013: 3533, 138204: 3534, 149354: 3535, 151739: 3536, 926: 3537, 949: 3538, 1041: 3539, 1185: 3540, 2010: 3541, 2360: 3542, 2594: 3543, 3089: 3544, 3307: 3545, 4103: 3546, 4427: 3547, 4546: 3548, 5300: 3549, 5304: 3550, 5341: 3551, 5434: 3552, 5812: 3553, 5867: 3554, 6235: 3555, 6244: 3556, 6270: 3557, 6301: 3558, 6305: 3559, 6591: 3560, 6791: 3561, 6852: 3562, 6858: 3563, 7087: 3564, 7158: 3565, 7234: 3566, 7419: 3567, 7889: 3568, 8154: 3569, 8183: 3570, 8340: 3571, 8341: 3572, 8804: 3573, 8838: 3574, 26350: 3575, 26578: 3576, 27721: 3577, 31522: 3578, 39292: 3579, 44937: 3580, 48698: 3581, 50274: 3582, 52967: 3583, 55069: 3584, 55444: 3585, 55814: 3586, 57147: 3587, 58103: 3588, 58154: 3589, 6303: 3590, 7001: 3591, 2318: 3592, 7669: 3593, 39446: 3594, 55577: 3595, 63436: 3596, 72129: 3597, 81535: 3598, 20: 3599, 2792: 3600, 164: 3601, 1189: 3602, 1192: 3603, 2659: 3604, 3197: 3605, 3266: 3606, 3425: 3607, 3576: 3608, 4887: 3609, 6059: 3610, 6952: 3611, 60030: 3612, 69654: 3613, 75395: 3614, 78266: 3615, 78349: 3616, 80363: 3617, 80831: 3618, 81417: 3619, 82041: 3620, 84189: 3621, 84601: 3622, 85397: 3623, 90405: 3624, 90469: 3625, 91974: 3626, 93297: 3627, 96691: 3628, 96917: 3629, 98361: 3630, 100810: 3631, 103075: 3632, 103688: 3633, 2381: 3634, 2383: 3635, 2384: 3636, 4386: 3637, 4989: 3638, 5065: 3639, 5094: 3640, 5106: 3641, 5296: 3642, 5414: 3643, 5803: 3644, 5874: 3645, 5900: 3646, 6006: 3647, 6014: 3648, 6249: 3649, 6338: 3650, 6484: 3651, 6536: 3652, 6550: 3653, 6566: 3654, 6586: 3655, 6593: 3656, 6686: 3657, 6687: 3658, 6702: 3659, 6750: 3660, 6752: 3661, 6764: 3662, 6886: 3663, 6887: 3664, 6946: 3665, 6949: 3666, 6958: 3667, 7142: 3668, 3155: 3669, 27397: 3670, 55442: 3671, 58303: 3672, 14: 3673, 55: 3674, 154: 3675, 214: 3676, 287: 3677, 299: 3678, 321: 3679, 324: 3680, 326: 3681, 331: 3682, 369: 3683, 406: 3684, 691: 3685, 722: 3686, 726: 3687, 900: 3688, 948: 3689, 971: 3690, 987: 3691, 1091: 3692, 1131: 3693, 1132: 3694, 1135: 3695, 1187: 3696, 1190: 3697, 1194: 3698, 1286: 3699, 1290: 3700, 1295: 3701, 1296: 3702, 1305: 3703, 1395: 3704, 1414: 3705, 53: 3706, 1140: 3707, 1519: 3708, 1596: 3709, 1624: 3710, 1683: 3711, 1694: 3712, 1730: 3713, 72356: 3714, 74553: 3715, 3910: 3716, 6464: 3717, 7312: 3718, 26974: 3719, 74795: 3720, 83177: 3721, 901: 3722, 905: 3723, 918: 3724, 936: 3725, 945: 3726, 946: 3727, 947: 3728, 950: 3729, 3061: 3730, 3097: 3731, 3315: 3732, 3599: 3733, 3604: 3734, 3606: 3735, 3991: 3736, 4300: 3737, 4899: 3738, 5092: 3739, 5480: 3740, 5529: 3741, 5621: 3742, 6271: 3743, 6402: 3744, 6604: 3745, 6650: 3746, 6783: 3747, 7067: 3748, 7209: 3749, 7297: 3750, 7381: 3751, 8238: 3752, 8372: 3753, 8814: 3754, 8978: 3755, 25887: 3756, 26183: 3757, 26184: 3758, 26265: 3759, 26429: 3760, 26645: 3761, 27619: 3762, 27826: 3763, 31851: 3764, 31925: 3765, 32060: 3766, 32243: 3767, 32596: 3768, 33090: 3769, 33830: 3770, 34312: 3771, 34332: 3772, 35807: 3773, 37384: 3774, 37444: 3775, 40339: 3776, 40962: 3777, 41828: 3778, 42013: 3779, 42725: 3780, 42761: 3781, 44773: 3782, 44777: 3783, 44851: 3784, 46105: 3785, 47725: 3786, 47736: 3787, 48520: 3788, 48649: 3789, 48982: 3790, 49013: 3791, 49735: 3792, 50613: 3793, 50999: 3794, 51167: 3795, 51575: 3796, 53280: 3797, 53355: 3798, 53578: 3799, 55269: 3800, 58291: 3801, 60289: 3802, 60737: 3803, 62008: 3804, 64116: 3805, 65588: 3806, 66798: 3807, 66943: 3808, 67888: 3809, 69211: 3810, 69304: 3811, 69469: 3812, 69720: 3813, 70697: 3814, 72178: 3815, 72624: 3816, 72692: 3817, 72701: 3818, 73015: 3819, 73042: 3820, 73160: 3821, 73822: 3822, 74342: 3823, 74683: 3824, 74698: 3825, 76143: 3826, 76301: 3827, 77688: 3828, 78142: 3829, 78620: 3830, 79684: 3831, 79897: 3832, 80727: 3833, 81087: 3834, 81537: 3835, 82854: 3836, 83910: 3837, 83969: 3838, 84246: 3839, 84512: 3840, 84944: 3841, 85295: 3842, 85881: 3843, 86059: 3844, 86298: 3845, 87834: 3846, 88069: 3847, 88746: 3848, 88785: 3849, 88812: 3850, 89898: 3851, 90717: 3852, 91355: 3853, 91386: 3854, 91666: 3855, 92643: 3856, 93006: 3857, 93022: 3858, 94661: 3859, 95633: 3860, 95843: 3861, 96608: 3862, 96935: 3863, 97836: 3864, 98279: 3865, 99117: 3866, 99122: 3867, 99130: 3868, 99853: 3869, 100390: 3870, 100507: 3871, 101283: 3872, 102378: 3873, 102686: 3874, 102747: 3875, 102984: 3876, 103602: 3877, 104339: 3878, 104875: 3879, 105540: 3880, 105746: 3881, 106594: 3882, 106927: 3883, 107951: 3884, 108078: 3885, 108949: 3886, 109241: 3887, 109596: 3888, 111146: 3889, 113252: 3890, 113453: 3891, 115111: 3892, 116718: 3893, 116738: 3894, 116817: 3895, 117109: 3896, 118270: 3897, 118530: 3898, 118572: 3899, 118834: 3900, 118862: 3901, 118894: 3902, 119714: 3903, 120813: 3904, 121007: 3905, 121097: 3906, 121338: 3907, 121342: 3908, 121469: 3909, 121781: 3910, 122092: 3911, 124273: 3912, 124404: 3913, 125970: 3914, 125974: 3915, 126088: 3916, 126577: 3917, 126921: 3918, 127052: 3919, 127134: 3920, 128087: 3921, 128089: 3922, 128366: 3923, 128594: 3924, 128852: 3925, 128944: 3926, 128968: 3927, 129011: 3928, 129354: 3929, 130452: 3930, 130518: 3931, 130520: 3932, 131098: 3933, 131104: 3934, 131130: 3935, 131439: 3936, 131610: 3937, 131826: 3938, 132153: 3939, 132422: 3940, 132496: 3941, 132584: 3942, 132800: 3943, 133712: 3944, 133867: 3945, 133879: 3946, 134004: 3947, 134334: 3948, 134847: 3949, 135777: 3950, 135937: 3951, 136341: 3952, 136353: 3953, 136355: 3954, 136359: 3955, 136503: 3956, 136834: 3957, 139157: 3958, 139640: 3959, 139994: 3960, 140133: 3961, 140481: 3962, 140541: 3963, 140561: 3964, 140711: 3965, 141513: 3966, 141544: 3967, 141646: 3968, 141830: 3969, 141928: 3970, 142196: 3971, 142444: 3972, 142550: 3973, 142831: 3974, 143031: 3975, 143559: 3976, 144222: 3977, 145491: 3978, 146244: 3979, 146684: 3980, 146986: 3981, 147410: 3982, 147936: 3983, 148632: 3984, 148775: 3985, 149350: 3986, 149352: 3987, 149508: 3988, 149566: 3989, 150554: 3990, 153386: 3991, 153408: 3992, 156025: 3993, 156781: 3994, 157296: 3995, 157775: 3996, 158398: 3997, 158882: 3998, 159069: 3999, 160567: 4000, 163527: 4001, 164200: 4002, 164226: 4003, 164707: 4004, 167018: 4005, 167380: 4006, 167772: 4007, 167854: 4008, 169912: 4009, 170837: 4010, 170993: 4011, 171751: 4012, 171811: 4013, 172321: 4014, 173253: 4015, 174681: 4016, 176621: 4017, 176805: 4018, 177185: 4019, 177765: 4020, 179211: 4021, 181065: 4022, 182293: 4023, 182297: 4024, 182299: 4025, 182731: 4026, 184349: 4027, 184791: 4028, 68: 4029, 81: 4030, 85: 4031, 116: 4032, 581: 4033, 617: 4034, 735: 4035, 766: 4036, 791: 4037, 896: 4038, 1034: 4039, 1116: 4040, 1137: 4041, 1144: 4042, 1366: 4043, 1411: 4044, 1417: 4045, 384: 4046, 464: 4047, 533: 4048, 1241: 4049, 1321: 4050, 1337: 4051, 1340: 4052, 1760: 4053, 1771: 4054, 1974: 4055, 1981: 4056, 2117: 4057, 2122: 4058, 2138: 4059, 2298: 4060, 2419: 4061, 2456: 4062, 2522: 4063, 2625: 4064, 2651: 4065, 2782: 4066, 2784: 4067, 2790: 4068, 2817: 4069, 2868: 4070, 2992: 4071, 3013: 4072, 3018: 4073, 3153: 4074, 3182: 4075, 3267: 4076, 3563: 4077, 3727: 4078, 3768: 4079, 3810: 4080, 3840: 4081, 4092: 4082, 4109: 4083, 4214: 4084, 4254: 4085, 4304: 4086, 4316: 4087, 4438: 4088, 4587: 4089, 4599: 4090, 4624: 4091, 4645: 4092, 4661: 4093, 4678: 4094, 4774: 4095, 4800: 4096, 4850: 4097, 4909: 4098, 4987: 4099, 5165: 4100, 5294: 4101, 5346: 4102, 5438: 4103, 5479: 4104, 5588: 4105, 5640: 4106, 5650: 4107, 5749: 4108, 6203: 4109, 6219: 4110, 6283: 4111, 6327: 4112, 6375: 4113, 6395: 4114, 6461: 4115, 6620: 4116, 6629: 4117, 6638: 4118, 6678: 4119, 6731: 4120, 6744: 4121, 6820: 4122, 6963: 4123, 7118: 4124, 7308: 4125, 7492: 4126, 7561: 4127, 7650: 4128, 7802: 4129, 8016: 4130, 8147: 4131, 8266: 4132, 8426: 4133, 8501: 4134, 8507: 4135, 8581: 4136, 27317: 4137, 27873: 4138, 2114: 4139, 2398: 4140, 54190: 4141, 1606: 4142, 2103: 4143, 1529: 4144, 1659: 4145, 2280: 4146, 2600: 4147, 3071: 4148, 3690: 4149, 4126: 4150, 4732: 4151, 4954: 4152, 5027: 4153, 5072: 4154, 5246: 4155, 5247: 4156, 5619: 4157, 5792: 4158, 6051: 4159, 6288: 4160, 6367: 4161, 1942: 4162, 3819: 4163, 5109: 4164, 5420: 4165, 71745: 4166, 79139: 4167, 1958: 4168, 2262: 4169, 3244: 4170, 5380: 4171, 6183: 4172, 6785: 4173, 233: 4174, 2337: 4175, 3179: 4176, 4873: 4177, 7367: 4178, 50912: 4179, 57522: 4180, 58972: 4181, 59022: 4182, 62553: 4183, 64114: 4184, 65088: 4185, 65577: 4186, 65802: 4187, 69140: 4188, 70728: 4189, 77206: 4190, 77427: 4191, 79572: 4192, 80572: 4193, 80586: 4194, 81156: 4195, 81819: 4196, 86014: 4197, 86815: 4198, 87194: 4199, 88108: 4200, 90890: 4201, 91126: 4202, 91653: 4203, 91671: 4204, 91976: 4205, 96728: 4206, 99764: 4207, 106766: 4208, 116799: 4209, 132046: 4210, 134881: 4211, 938: 4212, 1833: 4213, 2325: 4214, 2551: 4215, 2837: 4216, 3163: 4217, 3325: 4218, 3719: 4219, 3746: 4220, 4476: 4221, 4663: 4222, 4676: 4223, 4740: 4224, 4912: 4225, 4941: 4226, 5460: 4227, 6012: 4228, 6030: 4229, 6060: 4230, 6169: 4231, 6579: 4232, 7034: 4233, 7036: 4234, 7050: 4235, 7380: 4236, 8643: 4237, 8796: 4238, 25937: 4239, 32300: 4240, 45175: 4241, 53466: 4242, 54780: 4243, 69988: 4244, 80584: 4245, 85401: 4246, 93805: 4247, 94015: 4248, 94150: 4249, 94833: 4250, 213: 4251, 665: 4252, 935: 4253, 1111: 4254, 1178: 4255, 1354: 4256, 2131: 4257, 2495: 4258, 2931: 4259, 3306: 4260, 3310: 4261, 3592: 4262, 3629: 4263, 3677: 4264, 3687: 4265, 3742: 4266, 3821: 4267, 4325: 4268, 4788: 4269, 5373: 4270, 5888: 4271, 5889: 4272, 5912: 4273, 6187: 4274, 6433: 4275, 6643: 4276, 6777: 4277, 6985: 4278, 7347: 4279, 7371: 4280, 8025: 4281, 8033: 4282, 8197: 4283, 8511: 4284, 8638: 4285, 8656: 4286, 9010: 4287, 26082: 4288, 26150: 4289, 26236: 4290, 26237: 4291, 26347: 4292, 26471: 4293, 26587: 4294, 26662: 4295, 26849: 4296, 26903: 4297, 27134: 4298, 27803: 4299, 27815: 4300, 27834: 4301, 30803: 4302, 32892: 4303, 33124: 4304, 36363: 4305, 36401: 4306, 38159: 4307, 42191: 4308, 48872: 4309, 56060: 4310, 57183: 4311, 57504: 4312, 58425: 4313, 58554: 4314, 60904: 4315, 63515: 4316, 64993: 4317, 66371: 4318, 67923: 4319, 69134: 4320, 69529: 4321, 69685: 4322, 72104: 4323, 73881: 4324, 74324: 4325, 74727: 4326, 75341: 4327, 79333: 4328, 80124: 4329, 84156: 4330, 84844: 4331, 85316: 4332, 85736: 4333, 86066: 4334, 86320: 4335, 86347: 4336, 88235: 4337, 88345: 4338, 91261: 4339, 93790: 4340, 95175: 4341, 95311: 4342, 95313: 4343, 95377: 4344, 95654: 4345, 96020: 4346, 96373: 4347, 98604: 4348, 99145: 4349, 100302: 4350, 100553: 4351, 101088: 4352, 101962: 4353, 102602: 4354, 102666: 4355, 103235: 4356, 104780: 4357, 105593: 4358, 107159: 4359, 107408: 4360, 107410: 4361, 107412: 4362, 108540: 4363, 108727: 4364, 108981: 4365, 109633: 4366, 110586: 4367, 111622: 4368, 116411: 4369, 117444: 4370, 118166: 4371, 118888: 4372, 118896: 4373, 118985: 4374, 120138: 4375, 120478: 4376, 120625: 4377, 126090: 4378, 126426: 4379, 126430: 4380, 127098: 4381, 129514: 4382, 130970: 4383, 130976: 4384, 130978: 4385, 131237: 4386, 133716: 4387, 134041: 4388, 134095: 4389, 134109: 4390, 134184: 4391, 134252: 4392, 134326: 4393, 134849: 4394, 136445: 4395, 136447: 4396, 138835: 4397, 140038: 4398, 140265: 4399, 141810: 4400, 141816: 4401, 141818: 4402, 141820: 4403, 141836: 4404, 141844: 4405, 142020: 4406, 143511: 4407, 145994: 4408, 146028: 4409, 147196: 4410, 147282: 4411, 147286: 4412, 147300: 4413, 147326: 4414, 147328: 4415, 147330: 4416, 151769: 4417, 152591: 4418, 158402: 4419, 159811: 4420, 163072: 4421, 163112: 4422, 163134: 4423, 163386: 4424, 163925: 4425, 165959: 4426, 166183: 4427, 170411: 4428, 170597: 4429, 170777: 4430, 172577: 4431, 172583: 4432, 172585: 4433, 172587: 4434, 172589: 4435, 172637: 4436, 172793: 4437, 172825: 4438, 172909: 4439, 173351: 4440, 173355: 4441, 173619: 4442, 173963: 4443, 174551: 4444, 175293: 4445, 175387: 4446, 175397: 4447, 175401: 4448, 175431: 4449, 175435: 4450, 178613: 4451, 179133: 4452, 99636: 4453, 156: 4454, 1684: 4455, 2585: 4456, 3795: 4457, 4024: 4458, 4159: 4459, 4889: 4460, 4976: 4461, 4994: 4462, 5011: 4463, 5034: 4464, 5051: 4465, 5135: 4466, 5303: 4467, 5309: 4468, 5316: 4469, 5391: 4470, 5450: 4471, 5466: 4472, 5881: 4473, 6049: 4474, 283: 4475, 346: 4476, 528: 4477, 7096: 4478, 26171: 4479, 40870: 4480, 1856: 4481, 2447: 4482, 3979: 4483, 4228: 4484, 4247: 4485, 4649: 4486, 4900: 4487, 5025: 4488, 5363: 4489, 5501: 4490, 5524: 4491, 5564: 4492, 5942: 4493, 6003: 4494, 6482: 4495, 7225: 4496, 7285: 4497, 7439: 4498, 8531: 4499, 32298: 4500, 34520: 4501, 34530: 4502, 40581: 4503, 42007: 4504, 44840: 4505, 44972: 4506, 47640: 4507, 48322: 4508, 49396: 4509, 54732: 4510, 55245: 4511, 55261: 4512, 55872: 4513, 56805: 4514, 58156: 4515, 59143: 4516, 61255: 4517, 62439: 4518, 63479: 4519, 65585: 4520, 69436: 4521, 70565: 4522, 70641: 4523, 71205: 4524, 71668: 4525, 71838: 4526, 73929: 4527, 74275: 4528, 74532: 4529, 78174: 4530, 78209: 4531, 79428: 4532, 80139: 4533, 82852: 4534, 85022: 4535, 85367: 4536, 87483: 4537, 87529: 4538, 87867: 4539, 91323: 4540, 92264: 4541, 93270: 4542, 93443: 4543, 93831: 4544, 94478: 4545, 94953: 4546, 95720: 4547, 96616: 4548, 97172: 4549, 98083: 4550, 99007: 4551, 100083: 4552, 100194: 4553, 101142: 4554, 102720: 4555, 104218: 4556, 104644: 4557, 104925: 4558, 109282: 4559, 110669: 4560, 110771: 4561, 110773: 4562, 111375: 4563, 112497: 4564, 116977: 4565, 118930: 4566, 119153: 4567, 121372: 4568, 121374: 4569, 121715: 4570, 123200: 4571, 127116: 4572, 127152: 4573, 127390: 4574, 128097: 4575, 128099: 4576, 128914: 4577, 128975: 4578, 129737: 4579, 130087: 4580, 135137: 4581, 135436: 4582, 136443: 4583, 136471: 4584, 136511: 4585, 136598: 4586, 142422: 4587, 144606: 4588, 148652: 4589, 148956: 4590, 155509: 4591, 155812: 4592, 156609: 4593, 157312: 4594, 157699: 4595, 158813: 4596, 159441: 4597, 159755: 4598, 160080: 4599, 160271: 4600, 160289: 4601, 161024: 4602, 161580: 4603, 162344: 4604, 162478: 4605, 162602: 4606, 165103: 4607, 165483: 4608, 165645: 4609, 165671: 4610, 165843: 4611, 165947: 4612, 166461: 4613, 167634: 4614, 167746: 4615, 168144: 4616, 168326: 4617, 168418: 4618, 168632: 4619, 168846: 4620, 170357: 4621, 170399: 4622, 170401: 4623, 170813: 4624, 170817: 4625, 170897: 4626, 170937: 4627, 170957: 4628, 171251: 4629, 171867: 4630, 172215: 4631, 172547: 4632, 173255: 4633, 174045: 4634, 174815: 4635, 175577: 4636, 176329: 4637, 178323: 4638, 179427: 4639, 179953: 4640, 180265: 4641, 181139: 4642, 181659: 4643, 182749: 4644, 183197: 4645, 183227: 4646, 183959: 4647, 184015: 4648, 184257: 4649, 71: 4650, 779: 4651, 1043: 4652, 1589: 4653, 1600: 4654, 1735: 4655, 1829: 4656, 1897: 4657, 2132: 4658, 2166: 4659, 2331: 4660, 2475: 4661, 2749: 4662, 2764: 4663, 2844: 4664, 2969: 4665, 3099: 4666, 3103: 4667, 3217: 4668, 3251: 4669, 3296: 4670, 3537: 4671, 3546: 4672, 3831: 4673, 4003: 4674, 4063: 4675, 4083: 4676, 4130: 4677, 127198: 4678, 141718: 4679, 167732: 4680, 487: 4681, 2772: 4682, 4792: 4683, 62383: 4684, 73: 4685, 656: 4686, 46337: 4687, 66511: 4688, 85020: 4689, 95105: 4690, 99112: 4691, 103984: 4692, 108689: 4693, 109846: 4694, 110718: 4695, 110730: 4696, 112868: 4697, 114184: 4698, 114795: 4699, 117533: 4700, 117887: 4701, 120635: 4702, 127184: 4703, 128488: 4704, 130578: 4705, 131023: 4706, 131714: 4707, 135532: 4708, 136562: 4709, 136666: 4710, 138210: 4711, 141004: 4712, 165551: 4713, 52319: 4714, 70599: 4715, 71530: 4716, 77866: 4717, 95088: 4718, 96737: 4719, 97306: 4720, 112515: 4721, 115122: 4722, 121231: 4723, 144976: 4724, 69306: 4725, 81782: 4726, 112171: 4727, 143458: 4728, 501: 4729, 1844: 4730, 3342: 4731, 4082: 4732, 4738: 4733, 4864: 4734, 5088: 4735, 6902: 4736, 7008: 4737, 7265: 4738, 8254: 4739, 26681: 4740, 27022: 4741, 27482: 4742, 33201: 4743, 40148: 4744, 43836: 4745, 45440: 4746, 50842: 4747, 55278: 4748, 58301: 4749, 63276: 4750, 65130: 4751, 65642: 4752, 67695: 4753, 69516: 4754, 71304: 4755, 71429: 4756, 71520: 4757, 73488: 4758, 75985: 4759, 78218: 4760, 79553: 4761, 84952: 4762, 86721: 4763, 89190: 4764, 90403: 4765, 91470: 4766, 91690: 4767, 91947: 4768, 92694: 4769, 93855: 4770, 94931: 4771, 95690: 4772, 95761: 4773, 98607: 4774, 99437: 4775, 100882: 4776, 101112: 4777, 107630: 4778, 110330: 4779, 110882: 4780, 112623: 4781, 117466: 4782, 122890: 4783, 127096: 4784, 130490: 4785, 131749: 4786, 131920: 4787, 133217: 4788, 133771: 4789, 135567: 4790, 139855: 4791, 141408: 4792, 142420: 4793, 142509: 4794, 147142: 4795, 149144: 4796, 149146: 4797, 149830: 4798, 149902: 4799, 151455: 4800, 151695: 4801, 152083: 4802, 152091: 4803, 152284: 4804, 152970: 4805, 155064: 4806, 156371: 4807, 156387: 4808, 158783: 4809, 159415: 4810, 159717: 4811, 160563: 4812, 161634: 4813, 161966: 4814, 162082: 4815, 162578: 4816, 164881: 4817, 167790: 4818, 168266: 4819, 1066: 4820, 5159: 4821, 6093: 4822, 37830: 4823, 5959: 4824, 390: 4825, 567: 4826, 1318: 4827, 1554: 4828, 2729: 4829, 3067: 4830, 4168: 4831, 5284: 4832, 5508: 4833, 5969: 4834, 5970: 4835, 5992: 4836, 6251: 4837, 6291: 4838, 6774: 4839, 7773: 4840, 8973: 4841, 26776: 4842, 27731: 4843, 44694: 4844, 48082: 4845, 393: 4846, 893: 4847, 1422: 4848, 1483: 4849, 2798: 4850, 3102: 4851, 3327: 4852, 3812: 4853, 4037: 4854, 4066: 4855, 4467: 4856, 4553: 4857, 4613: 4858, 4634: 4859, 4812: 4860, 132: 4861, 188: 4862, 1949: 4863, 2330: 4864, 2940: 4865, 3679: 4866, 5177: 4867, 5385: 4868, 6986: 4869, 6987: 4870, 7171: 4871, 7762: 4872, 26084: 4873, 2582: 4874, 2924: 4875, 59103: 4876, 8640: 4877, 373: 4878, 1344: 4879, 1401: 4880, 1465: 4881, 1661: 4882, 1727: 4883, 1950: 4884, 1957: 4885, 2070: 4886, 2077: 4887, 2344: 4888, 2561: 4889, 2590: 4890, 2682: 4891, 2775: 4892, 2819: 4893, 2889: 4894, 2996: 4895, 3011: 4896, 3055: 4897, 3093: 4898, 3117: 4899, 3185: 4900, 3372: 4901, 3557: 4902, 3597: 4903, 3684: 4904, 3737: 4905, 3873: 4906, 3906: 4907, 3983: 4908, 3985: 4909, 3998: 4910, 4031: 4911, 4035: 4912, 4042: 4913, 4056: 4914, 4167: 4915, 4187: 4916, 4225: 4917, 4234: 4918, 4243: 4919, 4259: 4920, 4265: 4921, 4337: 4922, 4339: 4923, 4368: 4924, 4534: 4925, 4535: 4926, 4703: 4927, 4719: 4928, 4727: 4929, 4736: 4930, 4795: 4931, 4799: 4932, 4822: 4933, 4836: 4934, 4857: 4935, 4866: 4936, 4921: 4937, 4991: 4938, 5016: 4939, 5102: 4940, 5107: 4941, 5187: 4942, 5256: 4943, 5282: 4944, 5338: 4945, 5357: 4946, 5358: 4947, 5435: 4948, 5506: 4949, 5563: 4950, 5611: 4951, 5699: 4952, 5873: 4953, 5879: 4954, 5899: 4955, 5947: 4956, 6185: 4957, 6213: 4958, 6246: 4959, 6279: 4960, 6299: 4961, 6386: 4962, 6448: 4963, 6669: 4964, 6808: 4965, 6950: 4966, 7076: 4967, 7161: 4968, 7324: 4969, 8121: 4970, 8199: 4971, 26172: 4972, 26865: 4973, 27821: 4974, 31700: 4975, 32017: 4976, 34334: 4977, 34534: 4978, 37727: 4979, 39307: 4980, 42009: 4981, 42730: 4982, 43917: 4983, 44399: 4984, 47044: 4985, 49524: 4986, 49910: 4987, 6332: 4988, 6619: 4989, 7255: 4990, 7316: 4991, 8827: 4992, 32289: 4993, 36525: 4994, 78316: 4995, 103606: 4996, 27416: 4997, 98243: 4998, 160718: 4999, 1334: 5000, 2038: 5001, 2091: 5002, 9: 5003, 75: 5004, 634: 5005, 813: 5006, 840: 5007, 885: 5008, 1432: 5009, 36535: 5010, 56715: 5011, 64034: 5012, 81456: 5013, 85885: 5014, 100843: 5015, 101973: 5016, 105355: 5017, 112454: 5018, 133780: 5019, 138396: 5020, 152270: 5021, 173145: 5022, 177615: 5023, 179709: 5024, 86644: 5025, 130634: 5026, 1516: 5027, 2879: 5028, 2880: 5029, 3286: 5030, 3287: 5031, 3618: 5032, 425: 5033, 764: 5034, 869: 5035, 1078: 5036, 1162: 5037, 1264: 5038, 1836: 5039, 1948: 5040, 2130: 5041, 2239: 5042, 2247: 5043, 2290: 5044, 2349: 5045, 2361: 5046, 2511: 5047, 2734: 5048, 2750: 5049, 2779: 5050, 2863: 5051, 2946: 5052, 2970: 5053, 3028: 5054, 3076: 5055, 3096: 5056, 3130: 5057, 3134: 5058, 3141: 5059, 3167: 5060, 3200: 5061, 3223: 5062, 3224: 5063, 3283: 5064, 3341: 5065, 3467: 5066, 3473: 5067, 3492: 5068, 3503: 5069, 3506: 5070, 4205: 5071, 4784: 5072, 5637: 5073, 5788: 5074, 5847: 5075, 6509: 5076, 6658: 5077, 6684: 5078, 7089: 5079, 7107: 5080, 8128: 5081, 8571: 5082, 8614: 5083, 26313: 5084, 31038: 5085, 2392: 5086, 27674: 5087, 55391: 5088, 66320: 5089, 242: 5090, 718: 5091, 990: 5092, 1107: 5093, 1163: 5094, 1627: 5095, 1713: 5096, 1969: 5097, 1979: 5098, 2051: 5099, 2126: 5100, 2162: 5101, 2210: 5102, 2252: 5103, 2314: 5104, 2364: 5105, 2367: 5106, 2531: 5107, 2745: 5108, 2748: 5109, 2769: 5110, 2789: 5111, 2818: 5112, 2977: 5113, 2986: 5114, 3357: 5115, 3572: 5116, 3616: 5117, 3649: 5118, 3858: 5119, 3864: 5120, 3877: 5121, 4055: 5122, 4450: 5123, 4735: 5124, 6250: 5125, 6319: 5126, 6322: 5127, 6538: 5128, 5643: 5129, 45732: 5130, 1821: 5131, 1837: 5132, 3404: 5133, 4440: 5134, 5415: 5135, 5485: 5136, 5527: 5137, 5530: 5138, 5993: 5139, 6480: 5140, 4406: 5141, 7333: 5142, 7934: 5143, 26078: 5144, 26131: 5145, 33564: 5146, 2017: 5147, 2084: 5148, 4142: 5149, 4193: 5150, 4373: 5151, 4867: 5152, 4936: 5153, 4951: 5154, 5222: 5155, 5472: 5156, 5941: 5157, 6005: 5158, 6252: 5159, 6324: 5160, 6339: 5161, 6568: 5162, 7045: 5163, 7060: 5164, 7080: 5165, 7614: 5166, 8008: 5167, 1051: 5168, 1454: 5169, 2526: 5170, 5410: 5171, 7259: 5172, 8362: 5173, 8911: 5174, 33880: 5175, 39427: 5176, 43904: 5177, 44613: 5178, 47382: 5179, 1929: 5180, 1931: 5181, 1936: 5182, 1938: 5183, 2013: 5184, 2176: 5185, 2847: 5186, 3364: 5187, 3564: 5188, 3801: 5189, 3909: 5190, 3964: 5191, 4920: 5192, 5264: 5193, 5387: 5194, 6212: 5195, 6412: 5196, 6429: 5197, 6483: 5198, 6624: 5199, 6856: 5200, 7054: 5201, 7065: 5202, 7078: 5203, 7121: 5204, 7164: 5205, 7215: 5206, 7222: 5207, 7243: 5208, 7302: 5209, 7366: 5210, 7369: 5211, 7728: 5212, 8600: 5213, 8609: 5214, 8695: 5215, 8718: 5216, 8860: 5217, 8948: 5218, 9008: 5219, 25746: 5220, 25750: 5221, 25771: 5222, 25797: 5223, 25827: 5224, 25856: 5225, 25906: 5226, 27772: 5227, 31297: 5228, 33499: 5229, 33669: 5230, 34336: 5231, 35957: 5232, 39449: 5233, 40826: 5234, 42011: 5235, 42015: 5236, 43560: 5237, 45081: 5238, 46974: 5239, 48412: 5240, 48593: 5241, 49389: 5242, 51925: 5243, 51939: 5244, 52694: 5245, 56176: 5246, 60161: 5247, 61406: 5248, 63853: 5249, 65261: 5250, 66297: 5251, 67788: 5252, 70159: 5253, 71970: 5254, 72731: 5255, 72733: 5256, 77846: 5257, 78574: 5258, 80126: 5259, 83132: 5260, 86487: 5261, 89804: 5262, 89939: 5263, 90647: 5264, 93008: 5265, 95558: 5266, 98154: 5267, 123545: 5268, 5665: 5269, 6380: 5270, 33903: 5271, 725: 5272, 169: 5273, 453: 5274, 97: 5275, 166: 5276, 600: 5277, 760: 5278, 1437: 5279, 1447: 5280, 1546: 5281, 1598: 5282, 1611: 5283, 1649: 5284, 1695: 5285, 1827: 5286, 1941: 5287, 2022: 5288, 2025: 5289, 2181: 5290, 2295: 5291, 2474: 5292, 2563: 5293, 2607: 5294, 2691: 5295, 2696: 5296, 2765: 5297, 2971: 5298, 2976: 5299, 3003: 5300, 3078: 5301, 3150: 5302, 3158: 5303, 3323: 5304, 3474: 5305, 3521: 5306, 3598: 5307, 3747: 5308, 3761: 5309, 3862: 5310, 3879: 5311, 3888: 5312, 3895: 5313, 3915: 5314, 3925: 5315, 3947: 5316, 3955: 5317, 3992: 5318, 3993: 5319, 4032: 5320, 4052: 5321, 4133: 5322, 4146: 5323, 4152: 5324, 4157: 5325, 4160: 5326, 4178: 5327, 4275: 5328, 4305: 5329, 4307: 5330, 4313: 5331, 4350: 5332, 4389: 5333, 4407: 5334, 4439: 5335, 4452: 5336, 4628: 5337, 4640: 5338, 4642: 5339, 4644: 5340, 4699: 5341, 4723: 5342, 4770: 5343, 4811: 5344, 4815: 5345, 4826: 5346, 4849: 5347, 4879: 5348, 4888: 5349, 4898: 5350, 4911: 5351, 4919: 5352, 4959: 5353, 4978: 5354, 5046: 5355, 5062: 5356, 5083: 5357, 5095: 5358, 5131: 5359, 5155: 5360, 5298: 5361, 5323: 5362, 5325: 5363, 5347: 5364, 5379: 5365, 5421: 5366, 5423: 5367, 5425: 5368, 5427: 5369, 5486: 5370, 5498: 5371, 5522: 5372, 5609: 5373, 5612: 5374, 5615: 5375, 5646: 5376, 5666: 5377, 5668: 5378, 5680: 5379, 5684: 5380, 5772: 5381, 5809: 5382, 5818: 5383, 5999: 5384, 6002: 5385, 6041: 5386, 6062: 5387, 6067: 5388, 6192: 5389, 6215: 5390, 6217: 5391, 6264: 5392, 6285: 5393, 6294: 5394, 6330: 5395, 6334: 5396, 6335: 5397, 6341: 5398, 6551: 5399, 6571: 5400, 6572: 5401, 6588: 5402, 6645: 5403, 6679: 5404, 6688: 5405, 6881: 5406, 6890: 5407, 6932: 5408, 6969: 5409, 6971: 5410, 6978: 5411, 7038: 5412, 7264: 5413, 7299: 5414, 7352: 5415, 7354: 5416, 7449: 5417, 7698: 5418, 8042: 5419, 1582: 5420, 2457: 5421, 2534: 5422, 3573: 5423, 3726: 5424, 68959: 5425, 70533: 5426, 74754: 5427, 84187: 5428, 103210: 5429, 104303: 5430, 106873: 5431, 109578: 5432, 109848: 5433, 117895: 5434, 122906: 5435, 127212: 5436, 148978: 5437, 157369: 5438, 158035: 5439, 161594: 5440, 162968: 5441, 162982: 5442, 164917: 5443, 165635: 5444, 165639: 5445, 166291: 5446, 168090: 5447, 168218: 5448, 170907: 5449, 172705: 5450, 173235: 5451, 174479: 5452, 175475: 5453, 175585: 5454, 177285: 5455, 177939: 5456, 178111: 5457, 178827: 5458, 180297: 5459, 180497: 5460, 180985: 5461, 180987: 5462, 183911: 5463, 184641: 5464, 189333: 5465, 191005: 5466, 193565: 5467, 193567: 5468, 193571: 5469, 193573: 5470, 193579: 5471, 193581: 5472, 193583: 5473, 193585: 5474, 193587: 5475, 1685: 5476, 1767: 5477, 2799: 5478, 5804: 5479, 952: 5480, 2035: 5481, 2208: 5482, 2346: 5483, 2527: 5484, 3068: 5485, 3516: 5486, 3711: 5487, 3927: 5488, 4813: 5489, 5039: 5490, 5214: 5491, 5493: 5492, 5497: 5493, 5499: 5494, 5540: 5495, 2557: 5496, 2810: 5497, 3091: 5498, 3627: 5499, 4785: 5500, 5244: 5501, 5570: 5502, 5909: 5503, 6368: 5504, 7044: 5505, 7844: 5506, 7976: 5507, 7981: 5508, 8491: 5509, 8582: 5510, 8607: 5511, 25788: 5512, 25825: 5513, 26122: 5514, 26840: 5515, 27592: 5516, 27850: 5517, 27865: 5518, 27879: 5519, 27912: 5520, 31364: 5521, 32387: 5522, 33138: 5523, 33421: 5524, 33896: 5525, 37240: 5526, 39869: 5527, 46572: 5528, 49263: 5529, 49932: 5530, 1951: 5531, 2436: 5532, 2967: 5533, 3469: 5534, 72: 5535, 99: 5536, 148: 5537, 155: 5538, 178: 5539, 229: 5540, 269: 5541, 496: 5542, 668: 5543, 26116: 5544, 1392: 5545, 1502: 5546, 1755: 5547, 1306: 5548, 2575: 5549, 2744: 5550, 3436: 5551, 3894: 5552, 3932: 5553, 4174: 5554, 4808: 5555, 4932: 5556, 5607: 5557, 698: 5558, 731: 5559, 1055: 5560, 2165: 5561, 2670: 5562, 2674: 5563, 2815: 5564, 3129: 5565, 4608: 5566, 5670: 5567, 8532: 5568, 8833: 5569, 45210: 5570, 56274: 5571, 57243: 5572, 4722: 5573, 5139: 5574, 5610: 5575, 27685: 5576, 34321: 5577, 45106: 5578, 50802: 5579, 62299: 5580, 49: 5581, 461: 5582, 574: 5583, 679: 5584, 1176: 5585, 1312: 5586, 2024: 5587, 2147: 5588, 2983: 5589, 3036: 5590, 3138: 5591, 3194: 5592, 3214: 5593, 3329: 5594, 3402: 5595, 3445: 5596, 3470: 5597, 3528: 5598, 3682: 5599, 3724: 5600, 3725: 5601, 3834: 5602, 5949: 5603, 8815: 5604, 27075: 5605, 27368: 5606, 54372: 5607, 58332: 5608, 59604: 5609, 67295: 5610, 79008: 5611, 81132: 5612, 83601: 5613, 71462: 5614, 179817: 5615, 140956: 5616, 185029: 5617, 4625: 5618, 7810: 5619, 7811: 5620, 7812: 5621, 34397: 5622, 40697: 5623, 51562: 5624, 56915: 5625, 62834: 5626, 62836: 5627, 65651: 5628, 77795: 5629, 100611: 5630, 106642: 5631, 117192: 5632, 117646: 5633, 119167: 5634, 123553: 5635, 128842: 5636, 130444: 5637, 140359: 5638, 146662: 5639, 147372: 5640, 147374: 5641, 147376: 5642, 147378: 5643, 147380: 5644, 147382: 5645, 147384: 5646, 150596: 5647, 166203: 5648, 179511: 5649, 180031: 5650, 184053: 5651, 189547: 5652, 87192: 5653, 87234: 5654, 92439: 5655, 106144: 5656, 107314: 5657, 113573: 5658, 161922: 5659, 168366: 5660, 170697: 5661, 174909: 5662, 175197: 5663, 182823: 5664, 183897: 5665, 188751: 5666, 43679: 5667, 57274: 5668, 86142: 5669, 89582: 5670, 83: 5671, 55451: 5672, 927: 5673, 3422: 5674, 3963: 5675, 275: 5676, 429: 5677, 438: 5678, 444: 5679, 504: 5680, 517: 5681, 564: 5682, 692: 5683, 809: 5684, 870: 5685, 1007: 5686, 1085: 5687, 1126: 5688, 1581: 5689, 1599: 5690, 1602: 5691, 1626: 5692, 1671: 5693, 1677: 5694, 1686: 5695, 1731: 5696, 1867: 5697, 1875: 5698, 1937: 5699, 2056: 5700, 2152: 5701, 2350: 5702, 2373: 5703, 2382: 5704, 2473: 5705, 2477: 5706, 2525: 5707, 2535: 5708, 2537: 5709, 2741: 5710, 2786: 5711, 2816: 5712, 3014: 5713, 3132: 5714, 3165: 5715, 3389: 5716, 3392: 5717, 3406: 5718, 3417: 5719, 3431: 5720, 3432: 5721, 3433: 5722, 3434: 5723, 3524: 5724, 3529: 5725, 6425: 5726, 1752: 5727, 2296: 5728, 3054: 5729, 4749: 5730, 5047: 5731, 7319: 5732, 8880: 5733, 31221: 5734, 36708: 5735, 37380: 5736, 41716: 5737, 46335: 5738, 46850: 5739, 54768: 5740, 55020: 5741, 55292: 5742, 56156: 5743, 61246: 5744, 61348: 5745, 1430: 5746, 4219: 5747, 60937: 5748, 62344: 5749, 62437: 5750, 63540: 5751, 64231: 5752, 2469: 5753, 3090: 5754, 3095: 5755, 4338: 5756, 4605: 5757, 5248: 5758, 5382: 5759, 6306: 5760, 6639: 5761, 6724: 5762, 7013: 5763, 7056: 5764, 7072: 5765, 7216: 5766, 7311: 5767, 8044: 5768, 8364: 5769, 9018: 5770, 25773: 5771, 25841: 5772, 26375: 5773, 27768: 5774, 27776: 5775, 27820: 5776, 27882: 5777, 27899: 5778, 30818: 5779, 30846: 5780, 31437: 5781, 31610: 5782, 31692: 5783, 31702: 5784, 32022: 5785, 32584: 5786, 32632: 5787, 32770: 5788, 2205: 5789, 5523: 5790, 5710: 5791, 6290: 5792, 8363: 5793, 26322: 5794, 26732: 5795, 59014: 5796, 62250: 5797, 66744: 5798, 81831: 5799, 91483: 5800, 91628: 5801, 95307: 5802, 95949: 5803, 96448: 5804, 97168: 5805, 97860: 5806, 101531: 5807, 103137: 5808, 2747: 5809, 55854: 5810, 3496: 5811, 1130: 5812, 2327: 5813, 2633: 5814, 3042: 5815, 63: 5816, 1236: 5817, 1655: 5818, 1887: 5819, 2432: 5820, 2514: 5821, 2515: 5822, 2984: 5823, 3688: 5824, 3843: 5825, 4229: 5826, 4233: 5827, 4544: 5828, 4782: 5829, 5456: 5830, 5584: 5831, 6298: 5832, 6523: 5833, 6625: 5834, 6695: 5835, 6938: 5836, 7103: 5837, 7448: 5838, 32666: 5839, 37720: 5840, 45028: 5841, 51088: 5842, 38304: 5843, 85342: 5844, 8626: 5845, 34330: 5846, 52715: 5847, 55241: 5848, 55553: 5849, 4789: 5850, 5458: 5851, 5478: 5852, 5572: 5853, 5573: 5854, 6013: 5855, 6040: 5856, 6057: 5857, 6186: 5858, 6374: 5859, 6615: 5860, 6862: 5861, 6951: 5862, 6959: 5863, 7150: 5864, 7257: 5865, 7258: 5866, 7261: 5867, 7262: 5868, 7376: 5869, 7440: 5870, 8369: 5871, 8530: 5872, 8799: 5873, 8830: 5874, 8835: 5875, 8836: 5876, 8864: 5877, 8912: 5878, 8916: 5879, 8918: 5880, 8939: 5881, 27434: 5882, 27790: 5883, 27816: 5884, 27837: 5885, 27839: 5886, 30883: 5887, 30894: 5888, 31114: 5889, 31223: 5890, 31427: 5891, 31431: 5892, 31445: 5893, 31867: 5894, 32009: 5895, 32011: 5896, 32019: 5897, 32589: 5898, 33148: 5899, 33158: 5900, 33164: 5901, 33639: 5902, 33815: 5903, 34129: 5904, 34271: 5905, 34532: 5906, 36509: 5907, 36533: 5908, 37477: 5909, 37853: 5910, 38798: 5911, 39231: 5912, 39435: 5913, 40851: 5914, 40946: 5915, 41769: 5916, 42728: 5917, 42732: 5918, 43556: 5919, 43871: 5920, 43919: 5921, 43932: 5922, 44397: 5923, 44731: 5924, 45208: 5925, 45442: 5926, 45662: 5927, 48161: 5928, 48596: 5929, 49220: 5930, 49276: 5931, 49284: 5932, 49793: 5933, 50005: 5934, 50158: 5935, 50445: 5936, 50798: 5937, 50923: 5938, 51082: 5939, 51412: 5940, 51698: 5941, 51933: 5942, 51937: 5943, 52283: 5944, 52712: 5945, 53127: 5946, 54256: 5947, 55995: 5948, 57326: 5949, 57526: 5950, 58105: 5951, 58627: 5952, 58876: 5953, 59985: 5954, 61705: 5955, 62081: 5956, 62511: 5957, 66509: 5958, 67186: 5959, 67197: 5960, 70301: 5961, 70334: 5962, 71252: 5963, 71254: 5964, 71823: 5965, 73515: 5966, 78893: 5967, 81512: 5968, 78103: 5969, 118198: 5970, 134214: 5971, 136912: 5972, 162600: 5973, 178061: 5974, 183011: 5975, 42: 5976, 577: 5977, 917: 5978, 1460: 5979, 1495: 5980, 1707: 5981, 1826: 5982, 2050: 5983, 2566: 5984, 3672: 5985, 1998: 5986, 4329: 5987, 4498: 5988, 4803: 5989, 4852: 5990, 4916: 5991, 4917: 5992, 4945: 5993, 4946: 5994, 4947: 5995, 4957: 5996, 81786: 5997, 118700: 5998, 547: 5999, 2919: 6000, 3566: 6001, 3106: 6002, 123: 6003, 757: 6004, 4956: 6005, 5279: 6006, 7486: 6007, 8327: 6008, 27320: 6009, 61026: 6010, 68486: 6011, 80615: 6012, 80969: 6013, 83613: 6014, 90888: 6015, 82169: 6016, 120799: 6017, 151763: 6018, 4470: 6019, 4531: 6020, 5784: 6021, 7016: 6022, 26686: 6023, 27478: 6024, 32213: 6025, 33085: 6026, 38294: 6027, 39400: 6028, 47254: 6029, 47810: 6030, 51037: 6031, 58315: 6032, 65810: 6033, 66171: 6034, 69606: 6035, 70361: 6036, 72605: 6037, 73431: 6038, 75813: 6039, 77667: 6040, 78039: 6041, 78088: 6042, 80862: 6043, 82053: 6044, 84637: 6045, 84942: 6046, 85056: 6047, 85131: 6048, 85510: 6049, 86295: 6050, 86835: 6051, 86960: 6052, 87298: 6053, 88699: 6054, 88954: 6055, 89047: 6056, 89840: 6057, 90057: 6058, 90430: 6059, 90439: 6060, 90531: 6061, 91622: 6062, 91978: 6063, 92008: 6064, 92507: 6065, 93363: 6066, 93512: 6067, 93563: 6068, 93766: 6069, 94266: 6070, 94780: 6071, 95207: 6072, 95309: 6073, 95583: 6074, 95873: 6075, 96411: 6076, 96417: 6077, 98239: 6078, 99750: 6079, 99910: 6080, 100163: 6081, 101025: 6082, 101076: 6083, 101362: 6084, 102033: 6085, 102684: 6086, 103539: 6087, 103624: 6088, 103655: 6089, 104243: 6090, 105351: 6091, 107953: 6092, 108928: 6093, 109042: 6094, 109673: 6095, 110297: 6096, 110350: 6097, 111364: 6098, 112070: 6099, 143365: 6100, 143367: 6101, 146210: 6102, 148888: 6103, 160954: 6104, 169984: 6105, 173941: 6106, 175569: 6107, 184253: 6108, 185435: 6109, 6983: 6110, 142115: 6111, 4217: 6112, 26366: 6113, 26524: 6114, 44633: 6115, 58309: 6116, 5319: 6117, 44929: 6118, 48883: 6119, 1739: 6120, 2907: 6121, 3929: 6122, 4480: 6123, 121171: 6124, 131656: 6125, 140725: 6126, 146024: 6127, 128: 6128, 2348: 6129, 2766: 6130, 2859: 6131, 4529: 6132, 4711: 6133, 5137: 6134, 5820: 6135, 6027: 6136, 6337: 6137, 6370: 6138, 6713: 6139, 7564: 6140, 7815: 6141, 8011: 6142, 8015: 6143, 294: 6144, 988: 6145, 1415: 6146, 7879: 6147, 8535: 6148, 7303: 6149, 388: 6150, 1807: 6151, 2240: 6152, 2377: 6153, 2445: 6154, 3733: 6155, 3807: 6156, 476: 6157, 2812: 6158, 1791: 6159, 1964: 6160, 2178: 6161, 2182: 6162, 2593: 6163, 2630: 6164, 2829: 6165, 619: 6166, 886: 6167, 1255: 6168, 1327: 6169, 1497: 6170, 1503: 6171, 1992: 6172, 1993: 6173, 2170: 6174, 2448: 6175, 2498: 6176, 2517: 6177, 2846: 6178, 2974: 6179, 3235: 6180, 3511: 6181, 3652: 6182, 3676: 6183, 3696: 6184, 3857: 6185, 3908: 6186, 3938: 6187, 4030: 6188, 4143: 6189, 4224: 6190, 4248: 6191, 4533: 6192, 4683: 6193, 4748: 6194, 4771: 6195, 5076: 6196, 5080: 6197, 5127: 6198, 5401: 6199, 5452: 6200, 5556: 6201, 5569: 6202, 5667: 6203, 5833: 6204, 5853: 6205, 6196: 6206, 6220: 6207, 6379: 6208, 6405: 6209, 6559: 6210, 6664: 6211, 6715: 6212, 6794: 6213, 6868: 6214, 6872: 6215, 7024: 6216, 7117: 6217, 7228: 6218, 7236: 6219, 7321: 6220, 7362: 6221, 7368: 6222, 7646: 6223, 7845: 6224, 7846: 6225, 7894: 6226, 8142: 6227, 8225: 6228, 8241: 6229, 8578: 6230, 8831: 6231, 8906: 6232, 8967: 6233, 26242: 6234, 26492: 6235, 26523: 6236, 26629: 6237, 26736: 6238, 26870: 6239, 27311: 6240, 27604: 6241, 27618: 6242, 27822: 6243, 30745: 6244, 31193: 6245, 31909: 6246, 33132: 6247, 33834: 6248, 34323: 6249, 37382: 6250, 37475: 6251, 38992: 6252, 40723: 6253, 42285: 6254, 43549: 6255, 44828: 6256, 45361: 6257, 50147: 6258, 50440: 6259, 50800: 6260, 51091: 6261, 51498: 6262, 53468: 6263, 54648: 6264, 54785: 6265, 56012: 6266, 57536: 6267, 57910: 6268, 58870: 6269, 59727: 6270, 60037: 6271, 60291: 6272, 60522: 6273, 60538: 6274, 60979: 6275, 65126: 6276, 66427: 6277, 66783: 6278, 69251: 6279, 69275: 6280, 70994: 6281, 71211: 6282, 71379: 6283, 71500: 6284, 74075: 6285, 74685: 6286, 74851: 6287, 77364: 6288, 78041: 6289, 79274: 6290, 80846: 6291, 298: 6292, 556: 6293, 1123: 6294, 1406: 6295, 1533: 6296, 1571: 6297, 1574: 6298, 1594: 6299, 1904: 6300, 2069: 6301, 2073: 6302, 2212: 6303, 2323: 6304, 2624: 6305, 2824: 6306, 2937: 6307, 2964: 6308, 3038: 6309, 3046: 6310, 3192: 6311, 3302: 6312, 3384: 6313, 3480: 6314, 3728: 6315, 3794: 6316, 3914: 6317, 4061: 6318, 4116: 6319, 4285: 6320, 4334: 6321, 4345: 6322, 4384: 6323, 4809: 6324, 5147: 6325, 5241: 6326, 5258: 6327, 5272: 6328, 5603: 6329, 5723: 6330, 5745: 6331, 5884: 6332, 5938: 6333, 6122: 6334, 6254: 6335, 1167: 6336, 107069: 6337, 60293: 6338, 70984: 6339, 71619: 6340, 73266: 6341, 86817: 6342, 91079: 6343, 4091: 6344, 113207: 6345, 6086: 6346, 5876: 6347, 963: 6348, 1008: 6349, 1128: 6350, 1389: 6351, 1660: 6352, 1983: 6353, 1984: 6354, 1995: 6355, 2043: 6356, 2055: 6357, 2057: 6358, 2095: 6359, 2098: 6360, 2120: 6361, 2163: 6362, 2241: 6363, 2259: 6364, 2286: 6365, 2347: 6366, 2365: 6367, 2400: 6368, 2460: 6369, 2462: 6370, 2852: 6371, 2866: 6372, 2902: 6373, 2903: 6374, 3015: 6375, 3161: 6376, 3313: 6377, 3331: 6378, 3345: 6379, 3368: 6380, 3525: 6381, 3689: 6382, 3767: 6383, 3771: 6384, 3806: 6385, 3833: 6386, 3846: 6387, 3926: 6388, 3928: 6389, 3930: 6390, 3957: 6391, 3971: 6392, 3974: 6393, 4000: 6394, 4009: 6395, 4010: 6396, 4043: 6397, 4110: 6398, 4412: 6399, 4443: 6400, 4459: 6401, 4473: 6402, 4492: 6403, 4506: 6404, 4522: 6405, 4709: 6406, 4953: 6407, 4966: 6408, 5428: 6409, 5462: 6410, 5543: 6411, 5544: 6412, 5638: 6413, 7619: 6414, 8959: 6415, 31923: 6416, 34528: 6417, 37736: 6418, 42418: 6419, 43460: 6420, 43869: 6421, 46967: 6422, 47261: 6423, 47950: 6424, 48416: 6425, 60760: 6426, 6125: 6427, 6453: 6428, 26704: 6429, 129: 6430, 341: 6431, 1699: 6432, 2066: 6433, 2439: 6434, 2494: 6435, 2549: 6436, 2660: 6437, 2932: 6438, 2988: 6439, 3007: 6440, 3559: 6441, 3634: 6442, 3713: 6443, 3738: 6444, 3849: 6445, 102007: 6446, 2828: 6447, 3086: 6448, 3871: 6449, 4830: 6450, 7720: 6451, 8383: 6452, 33677: 6453, 68597: 6454, 80839: 6455, 87522: 6456, 92192: 6457, 96121: 6458, 97470: 6459, 113345: 6460, 115231: 6461, 127323: 6462, 129937: 6463, 130576: 6464, 165549: 6465, 278: 6466, 470: 6467, 499: 6468, 998: 6469, 1440: 6470, 2149: 6471, 2736: 6472, 3043: 6473, 3412: 6474, 3544: 6475, 3667: 6476, 3710: 6477, 160848: 6478, 171765: 6479, 1439: 6480, 1526: 6481, 1746: 6482, 4733: 6483, 4757: 6484, 4845: 6485, 5128: 6486, 6554: 6487, 6811: 6488, 7460: 6489, 7926: 6490, 26887: 6491, 34523: 6492, 36537: 6493, 50610: 6494, 54745: 6495, 54934: 6496, 58655: 6497, 58806: 6498, 61729: 6499, 62113: 6500, 67799: 6501, 68600: 6502, 70663: 6503, 71248: 6504, 72405: 6505, 74452: 6506, 74916: 6507, 76060: 6508, 84615: 6509, 90376: 6510, 91128: 6511, 103048: 6512, 109895: 6513, 112370: 6514, 112911: 6515, 116138: 6516, 127108: 6517, 134528: 6518, 134783: 6519, 134808: 6520, 136449: 6521, 138798: 6522, 8261: 6523, 944: 6524, 6818: 6525, 26249: 6526, 49347: 6527, 60516: 6528, 64499: 6529, 64501: 6530, 72294: 6531, 74624: 6532, 74868: 6533, 79251: 6534, 80590: 6535, 85788: 6536, 89118: 6537, 91842: 6538, 94018: 6539, 105197: 6540, 105585: 6541, 106441: 6542, 106785: 6543, 109850: 6544, 112818: 6545, 112897: 6546, 114246: 6547, 118706: 6548, 131796: 6549, 132796: 6550, 140627: 6551, 145418: 6552, 148671: 6553, 158027: 6554, 160400: 6555, 163985: 6556, 177763: 6557, 185585: 6558, 92391: 6559, 104908: 6560, 105731: 6561, 115664: 6562, 122884: 6563, 140016: 6564, 149334: 6565, 156726: 6566, 158528: 6567, 159858: 6568, 175199: 6569, 183295: 6570, 409: 6571, 1323: 6572, 1325: 6573, 1328: 6574, 1490: 6575, 2154: 6576, 2190: 6577, 2332: 6578, 2506: 6579, 2516: 6580, 2559: 6581, 2639: 6582, 2787: 6583, 2962: 6584, 3051: 6585, 3145: 6586, 3280: 6587, 3423: 6588, 3478: 6589, 3830: 6590, 3943: 6591, 4127: 6592, 4181: 6593, 4371: 6594, 4403: 6595, 4520: 6596, 4584: 6597, 4602: 6598, 4619: 6599, 4662: 6600, 4673: 6601, 4697: 6602, 4750: 6603, 4835: 6604, 4862: 6605, 4885: 6606, 4893: 6607, 4915: 6608, 5099: 6609, 5170: 6610, 5255: 6611, 5361: 6612, 5443: 6613, 5454: 6614, 5538: 6615, 5539: 6616, 5590: 6617, 5664: 6618, 5696: 6619, 5735: 6620, 5736: 6621, 5883: 6622, 5927: 6623, 6153: 6624, 6265: 6625, 6316: 6626, 6558: 6627, 6705: 6628, 6827: 6629, 6850: 6630, 6999: 6631, 7026: 6632, 7030: 6633, 7282: 6634, 7636: 6635, 7708: 6636, 7781: 6637, 8169: 6638, 8402: 6639, 8506: 6640, 9005: 6641, 26133: 6642, 26792: 6643, 27555: 6644, 27838: 6645, 30848: 6646, 31422: 6647, 31424: 6648, 33171: 6649, 33681: 6650, 34143: 6651, 34326: 6652, 37857: 6653, 39234: 6654, 48142: 6655, 48518: 6656, 48678: 6657, 49314: 6658, 52375: 6659, 52867: 6660, 53956: 6661, 53974: 6662, 55272: 6663, 55729: 6664, 56003: 6665, 58287: 6666, 65601: 6667, 65738: 6668, 65740: 6669, 65882: 6670, 973: 6671, 1946: 6672, 3171: 6673, 3872: 6674, 4432: 6675, 5398: 6676, 6452: 6677, 6706: 6678, 7218: 6679, 7943: 6680, 25886: 6681, 3330: 6682, 4483: 6683, 6410: 6684, 7184: 6685, 7305: 6686, 40: 6687, 6561: 6688, 680: 6689, 3732: 6690, 4117: 6691, 4754: 6692, 5433: 6693, 5925: 6694, 2275: 6695, 3889: 6696, 4180: 6697, 4210: 6698, 618: 6699, 703: 6700, 2896: 6701, 74545: 6702, 81158: 6703, 82667: 6704, 104272: 6705, 110387: 6706, 121253: 6707, 133115: 6708, 773: 6709, 823: 6710, 1419: 6711, 3569: 6712, 3736: 6713, 3845: 6714, 4256: 6715, 4612: 6716, 4708: 6717, 4825: 6718, 5202: 6719, 5238: 6720, 5475: 6721, 5838: 6722, 6197: 6723, 6241: 6724, 6329: 6725, 7071: 6726, 7124: 6727, 7238: 6728, 7459: 6729, 7979: 6730, 8190: 6731, 8484: 6732, 8724: 6733, 8748: 6734, 26003: 6735, 26048: 6736, 26059: 6737, 26073: 6738, 26158: 6739, 26225: 6740, 26317: 6741, 26713: 6742, 26928: 6743, 27003: 6744, 27176: 6745, 27186: 6746, 27328: 6747, 31545: 6748, 31952: 6749, 32511: 6750, 32554: 6751, 32906: 6752, 32917: 6753, 40955: 6754, 42176: 6755, 44931: 6756, 47446: 6757, 48001: 6758, 48638: 6759, 49917: 6760, 51174: 6761, 53574: 6762, 53883: 6763, 54185: 6764, 54354: 6765, 57772: 6766, 58376: 6767, 60408: 6768, 60885: 6769, 61394: 6770, 62208: 6771, 64167: 6772, 65037: 6773, 65225: 6774, 65631: 6775, 67508: 6776, 68444: 6777, 69746: 6778, 69953: 6779, 71131: 6780, 71147: 6781, 71453: 6782, 71468: 6783, 71494: 6784, 71867: 6785, 72171: 6786, 72714: 6787, 72921: 6788, 74089: 6789, 74226: 6790, 74791: 6791, 76054: 6792, 76173: 6793, 76738: 6794, 77191: 6795, 77233: 6796, 78836: 6797, 79073: 6798, 80478: 6799, 80553: 6800, 81191: 6801, 83827: 6802, 83976: 6803, 84273: 6804, 84716: 6805, 85213: 6806, 86237: 6807, 86279: 6808, 86922: 6809, 87304: 6810, 87444: 6811, 87660: 6812, 89030: 6813, 89945: 6814, 90245: 6815, 90357: 6816, 90528: 6817, 90630: 6818, 90769: 6819, 91784: 6820, 91860: 6821, 92422: 6822, 92637: 6823, 94735: 6824, 96084: 6825, 97904: 6826, 100044: 6827, 100106: 6828, 100277: 6829, 101741: 6830, 102742: 6831, 102823: 6832, 105254: 6833, 106648: 6834, 109187: 6835, 109383: 6836, 109968: 6837, 111817: 6838, 113348: 6839, 114847: 6840, 116505: 6841, 117364: 6842, 117531: 6843, 117545: 6844, 117849: 6845, 118784: 6846, 118880: 6847, 120761: 6848, 121169: 6849, 124853: 6850, 127114: 6851, 127172: 6852, 127180: 6853, 127204: 6854, 127298: 6855, 128900: 6856, 128902: 6857, 128991: 6858, 133802: 6859, 134019: 6860, 134796: 6861, 136024: 6862, 138966: 6863, 140162: 6864, 140737: 6865, 140816: 6866, 143525: 6867, 143896: 6868, 144478: 6869, 145080: 6870, 147002: 6871, 148424: 6872, 150696: 6873, 152065: 6874, 155774: 6875, 158842: 6876, 159976: 6877, 160684: 6878, 168612: 6879, 170355: 6880, 173197: 6881, 173291: 6882, 173317: 6883, 179135: 6884, 184245: 6885, 188675: 6886, 188833: 6887, 189381: 6888, 26555: 6889, 2882: 6890, 110127: 6891, 111443: 6892, 3884: 6893, 3899: 6894, 3912: 6895, 30: 6896, 80: 6897, 183: 6898, 2425: 6899, 2848: 6900, 2894: 6901, 4086: 6902, 4263: 6903, 4294: 6904, 4471: 6905, 4500: 6906, 4523: 6907, 4714: 6908, 4717: 6909, 4927: 6910, 5033: 6911, 5075: 6912, 5980: 6913, 27866: 6914, 70451: 6915, 73344: 6916, 81257: 6917, 84240: 6918, 102194: 6919, 165101: 6920, 130482: 6921, 136850: 6922, 26528: 6923, 193609: 6924, 3420: 6925, 5226: 6926, 7925: 6927, 26564: 6928, 80917: 6929, 92938: 6930, 93610: 6931, 97757: 6932, 3567: 6933, 3580: 6934, 30850: 6935, 47404: 6936, 59118: 6937, 189043: 6938, 189111: 6939, 190207: 6940, 190209: 6941, 190213: 6942, 190215: 6943, 190219: 6944, 190221: 6945, 6869: 6946, 56869: 6947, 58842: 6948, 77177: 6949, 82378: 6950, 90345: 6951, 92243: 6952, 109687: 6953, 115969: 6954, 141749: 6955, 141890: 6956, 156783: 6957, 166946: 6958, 176751: 6959, 94405: 6960, 2188: 6961, 2370: 6962, 2676: 6963, 2975: 6964, 4195: 6965, 4419: 6966, 5404: 6967, 5707: 6968, 27751: 6969, 38164: 6970, 521: 6971, 1572: 6972, 2442: 6973, 4297: 6974, 4404: 6975, 4422: 6976, 5951: 6977, 6023: 6978, 6286: 6979, 6530: 6980, 7084: 6981, 7115: 6982, 7178: 6983, 7179: 6984, 7820: 6985, 7937: 6986, 7940: 6987, 8405: 6988, 32179: 6989, 6223: 6990, 6263: 6991, 40412: 6992, 52579: 6993, 54787: 6994, 55555: 6995, 57843: 6996, 60857: 6997, 60894: 6998, 88179: 6999, 88272: 7000, 88932: 7001, 89028: 7002, 89761: 7003, 90353: 7004, 90471: 7005, 92048: 7006, 5074: 7007, 7122: 7008, 34164: 7009, 44889: 7010, 48744: 7011, 58492: 7012, 59141: 7013, 1996: 7014, 4354: 7015, 4622: 7016, 6612: 7017, 8580: 7018, 8998: 7019, 27329: 7020, 53024: 7021, 59810: 7022, 73854: 7023, 74282: 7024, 93040: 7025, 96563: 7026, 2226: 7027, 26095: 7028, 65350: 7029, 70687: 7030, 85334: 7031, 87028: 7032, 89386: 7033, 26472: 7034, 1647: 7035, 161127: 7036, 176389: 7037, 176579: 7038, 96964: 7039, 101415: 7040, 106062: 7041, 107997: 7042, 109569: 7043, 113604: 7044, 114494: 7045, 132888: 7046, 145935: 7047, 148172: 7048, 155288: 7049, 155820: 7050, 1565: 7051, 2695: 7052, 3299: 7053, 3453: 7054, 4053: 7055, 4078: 7056, 4505: 7057, 4517: 7058, 2307: 7059, 2399: 7060, 3127: 7061, 3162: 7062, 3545: 7063, 3716: 7064, 3731: 7065, 3758: 7066, 3922: 7067, 33312: 7068, 55167: 7069, 112512: 7070, 335: 7071, 882: 7072, 1351: 7073, 1352: 7074, 1601: 7075, 3648: 7076, 4434: 7077, 4942: 7078, 5113: 7079, 5288: 7080, 5468: 7081, 5706: 7082, 5979: 7083, 6021: 7084, 6654: 7085, 6656: 7086, 6836: 7087, 6899: 7088, 7104: 7089, 7304: 7090, 7756: 7091, 7834: 7092, 8138: 7093, 8610: 7094, 25959: 7095, 27692: 7096, 32139: 7097, 42556: 7098, 56837: 7099, 71302: 7100, 71999: 7101, 80748: 7102, 84799: 7103, 87287: 7104, 92760: 7105, 94262: 7106, 152: 7107, 2656: 7108, 4444: 7109, 4814: 7110, 5134: 7111, 5476: 7112, 6889: 7113, 7310: 7114, 8526: 7115, 26585: 7116, 26999: 7117, 27584: 7118, 27683: 7119, 27802: 7120, 31698: 7121, 31804: 7122, 32456: 7123, 32743: 7124, 33644: 7125, 40614: 7126, 40617: 7127, 44020: 7128, 47124: 7129, 51927: 7130, 52950: 7131, 58404: 7132, 60818: 7133, 63222: 7134, 64249: 7135, 65133: 7136, 68194: 7137, 71129: 7138, 72601: 7139, 74750: 7140, 77798: 7141, 82744: 7142, 84414: 7143, 88515: 7144, 90603: 7145, 94160: 7146, 94985: 7147, 95004: 7148, 95147: 7149, 95149: 7150, 95182: 7151, 95473: 7152, 95475: 7153, 95497: 7154, 96007: 7155, 96815: 7156, 97643: 7157, 97785: 7158, 101739: 7159, 102058: 7160, 102084: 7161, 103233: 7162, 103449: 7163, 104141: 7164, 104419: 7165, 104457: 7166, 107723: 7167, 108795: 7168, 113278: 7169, 134524: 7170, 137863: 7171, 152173: 7172, 161354: 7173, 162598: 7174, 163056: 7175, 166558: 7176, 169982: 7177, 172875: 7178, 172881: 7179, 172887: 7180, 176935: 7181, 179119: 7182, 182639: 7183, 31435: 7184, 43376: 7185, 45074: 7186, 53326: 7187, 55259: 7188, 63808: 7189, 1003: 7190, 4580: 7191, 4632: 7192, 8387: 7193, 26764: 7194, 26765: 7195, 46865: 7196, 47952: 7197, 48598: 7198, 49647: 7199, 50003: 7200, 52279: 7201, 65685: 7202, 72696: 7203, 88356: 7204, 91660: 7205, 93139: 7206, 95796: 7207, 100737: 7208, 104074: 7209, 104076: 7210, 112460: 7211, 114713: 7212, 116887: 7213, 122902: 7214, 126482: 7215, 130686: 7216, 131934: 7217, 142372: 7218, 152079: 7219, 158254: 7220, 170289: 7221, 2546: 7222, 2669: 7223, 2856: 7224, 4276: 7225, 4323: 7226, 4355: 7227, 206: 7228, 363: 7229, 841: 7230, 1161: 7231, 1329: 7232, 1662: 7233, 1770: 7234, 1977: 7235, 2071: 7236, 2074: 7237, 2303: 7238, 2488: 7239, 2632: 7240, 3455: 7241, 3587: 7242, 3680: 7243, 3765: 7244, 3813: 7245, 3838: 7246, 3865: 7247, 3919: 7248, 4064: 7249, 4065: 7250, 4191: 7251, 4278: 7252, 4289: 7253, 4298: 7254, 4390: 7255, 4392: 7256, 4393: 7257, 4408: 7258, 4409: 7259, 4426: 7260, 4429: 7261, 4441: 7262, 4527: 7263, 4552: 7264, 4563: 7265, 4614: 7266, 4687: 7267, 4833: 7268, 4985: 7269, 4988: 7270, 5121: 7271, 5156: 7272, 5397: 7273, 5465: 7274, 5489: 7275, 5515: 7276, 5531: 7277, 5780: 7278, 5974: 7279, 5984: 7280, 6035: 7281, 6063: 7282, 6100: 7283, 6123: 7284, 6184: 7285, 6465: 7286, 6533: 7287, 6577: 7288, 6710: 7289, 6748: 7290, 6885: 7291, 6918: 7292, 6981: 7293, 7088: 7294, 7091: 7295, 7102: 7296, 7116: 7297, 7205: 7298, 7301: 7299, 7328: 7300, 7336: 7301, 7386: 7302, 7394: 7303, 7450: 7304, 7581: 7305, 7616: 7306, 7745: 7307, 7749: 7308, 7895: 7309, 7936: 7310, 7938: 7311, 7939: 7312, 7951: 7313, 7987: 7314, 7993: 7315, 8188: 7316, 8195: 7317, 8196: 7318, 8239: 7319, 8270: 7320, 8290: 7321, 8512: 7322, 8542: 7323, 8596: 7324, 8670: 7325, 25898: 7326, 25963: 7327, 26002: 7328, 26052: 7329, 26124: 7330, 26151: 7331, 26231: 7332, 26303: 7333, 26694: 7334, 31590: 7335, 31737: 7336, 32314: 7337, 32392: 7338, 33188: 7339, 40966: 7340, 41617: 7341, 44657: 7342, 44759: 7343, 44864: 7344, 46772: 7345, 47465: 7346, 52462: 7347, 52644: 7348, 6158: 7349, 63239: 7350, 104245: 7351, 6344: 7352, 7208: 7353, 27695: 7354, 44943: 7355, 59995: 7356, 695: 7357, 1150: 7358, 1900: 7359, 2708: 7360, 4237: 7361, 4562: 7362, 4965: 7363, 5470: 7364, 5477: 7365, 5537: 7366, 5575: 7367, 130842: 7368, 1701: 7369, 6408: 7370, 8738: 7371, 26147: 7372, 26631: 7373, 60333: 7374, 42734: 7375, 170939: 7376, 61465: 7377, 61697: 7378, 7134: 7379, 26810: 7380, 27664: 7381, 59814: 7382, 70708: 7383, 77266: 7384, 6776: 7385, 70305: 7386, 85412: 7387, 87785: 7388, 103596: 7389, 136540: 7390, 3590: 7391, 3760: 7392, 389: 7393, 549: 7394, 670: 7395, 824: 7396, 3823: 7397, 3855: 7398, 4077: 7399, 4175: 7400, 4268: 7401, 119: 7402, 386: 7403, 650: 7404, 1040: 7405, 1121: 7406, 1332: 7407, 1484: 7408, 1605: 7409, 1609: 7410, 1656: 7411, 1870: 7412, 1922: 7413, 2007: 7414, 2119: 7415, 2172: 7416, 2260: 7417, 2264: 7418, 2271: 7419, 2472: 7420, 2482: 7421, 2552: 7422, 2570: 7423, 2751: 7424, 2835: 7425, 2884: 7426, 2891: 7427, 2893: 7428, 2928: 7429, 2979: 7430, 3008: 7431, 3111: 7432, 3206: 7433, 3378: 7434, 3391: 7435, 3539: 7436, 3581: 7437, 3625: 7438, 3790: 7439, 3847: 7440, 3898: 7441, 3900: 7442, 3951: 7443, 3953: 7444, 4012: 7445, 4081: 7446, 4089: 7447, 4115: 7448, 4123: 7449, 4125: 7450, 4138: 7451, 4139: 7452, 4147: 7453, 4221: 7454, 4242: 7455, 4290: 7456, 4312: 7457, 4353: 7458, 4451: 7459, 4458: 7460, 4462: 7461, 4463: 7462, 4475: 7463, 4478: 7464, 4488: 7465, 4524: 7466, 4573: 7467, 4583: 7468, 4595: 7469, 4600: 7470, 4610: 7471, 4617: 7472, 4636: 7473, 4666: 7474, 4672: 7475, 4675: 7476, 4721: 7477, 4745: 7478, 4777: 7479, 4780: 7480, 4818: 7481, 4847: 7482, 4926: 7483, 4961: 7484, 4962: 7485, 5068: 7486, 5071: 7487, 5073: 7488, 5081: 7489, 5112: 7490, 5178: 7491, 5209: 7492, 5237: 7493, 5240: 7494, 5278: 7495, 5285: 7496, 5297: 7497, 5321: 7498, 5322: 7499, 5324: 7500, 5328: 7501, 5337: 7502, 5345: 7503, 5390: 7504, 5416: 7505, 5422: 7506, 5424: 7507, 5437: 7508, 5461: 7509, 5471: 7510, 5483: 7511, 5521: 7512, 5562: 7513, 5625: 7514, 5633: 7515, 5635: 7516, 5636: 7517, 5663: 7518, 5678: 7519, 5685: 7520, 5688: 7521, 5817: 7522, 5829: 7523, 5880: 7524, 5896: 7525, 5968: 7526, 5994: 7527, 6033: 7528, 6036: 7529, 6039: 7530, 6078: 7531, 6116: 7532, 6141: 7533, 6159: 7534, 6162: 7535, 6195: 7536, 6216: 7537, 6222: 7538, 6268: 7539, 6269: 7540, 6280: 7541, 6295: 7542, 6308: 7543, 6314: 7544, 6315: 7545, 6349: 7546, 6442: 7547, 6493: 7548, 6510: 7549, 6517: 7550, 6542: 7551, 6547: 7552, 6549: 7553, 6560: 7554, 6563: 7555, 6574: 7556, 6582: 7557, 6598: 7558, 6616: 7559, 6628: 7560, 6631: 7561, 6670: 7562, 6689: 7563, 6696: 7564, 6699: 7565, 6718: 7566, 6720: 7567, 6780: 7568, 6797: 7569, 6809: 7570, 6810: 7571, 6812: 7572, 6816: 7573, 6851: 7574, 6883: 7575, 6898: 7576, 6954: 7577, 7033: 7578, 7165: 7579, 7175: 7580, 7176: 7581, 7193: 7582, 7248: 7583, 7251: 7584, 7315: 7585, 7340: 7586, 7348: 7587, 7364: 7588, 7390: 7589, 8119: 7590, 8587: 7591, 8915: 7592, 8919: 7593, 8952: 7594, 8954: 7595, 25834: 7596, 30820: 7597, 31162: 7598, 32116: 7599, 33725: 7600, 33826: 7601, 33838: 7602, 34540: 7603, 41527: 7604, 42602: 7605, 43912: 7606, 45062: 7607, 45635: 7608, 46347: 7609, 46559: 7610, 48319: 7611, 48560: 7612, 49132: 7613, 49280: 7614, 49957: 7615, 50792: 7616, 51694: 7617, 52299: 7618, 52668: 7619, 52724: 7620, 52784: 7621, 53447: 7622, 54771: 7623, 55110: 7624, 55250: 7625, 56908: 7626, 58879: 7627, 59037: 7628, 60128: 7629, 60141: 7630, 61401: 7631, 70862: 7632, 76763: 7633, 95135: 7634, 112940: 7635, 115828: 7636, 127130: 7637, 154358: 7638, 166568: 7639, 169992: 7640, 173205: 7641, 173209: 7642, 176423: 7643, 180045: 7644, 90374: 7645, 1412: 7646, 2807: 7647, 4093: 7648, 27704: 7649, 50851: 7650, 69860: 7651, 79677: 7652, 85394: 7653, 86668: 7654, 89580: 7655, 90943: 7656, 97866: 7657, 6210: 7658, 8337: 7659, 8577: 7660, 26693: 7661, 59295: 7662, 2665: 7663, 3447: 7664, 3973: 7665, 4190: 7666, 4802: 7667, 4925: 7668, 4939: 7669, 5063: 7670, 136469: 7671, 91325: 7672, 6055: 7673, 6347: 7674, 6348: 7675, 6597: 7676, 5532: 7677, 7306: 7678, 8588: 7679, 27708: 7680, 33893: 7681, 45503: 7682, 66090: 7683, 68347: 7684, 71902: 7685, 80880: 7686, 89208: 7687, 92348: 7688, 568: 7689, 1675: 7690, 2540: 7691, 4453: 7692, 4743: 7693, 5409: 7694, 5580: 7695, 5675: 7696, 5787: 7697, 6992: 7698, 7017: 7699, 7192: 7700, 8782: 7701, 30898: 7702, 36276: 7703, 43708: 7704, 8690: 7705, 4402: 7706, 96430: 7707, 941: 7708, 1839: 7709, 2368: 7710, 2520: 7711, 2521: 7712, 2523: 7713, 2693: 7714, 2887: 7715, 3057: 7716, 3276: 7717, 3284: 7718, 3390: 7719, 3596: 7720, 3933: 7721, 4051: 7722, 4156: 7723, 4198: 7724, 4212: 7725, 4397: 7726, 4526: 7727, 4630: 7728, 4660: 7729, 4756: 7730, 4775: 7731, 4952: 7732, 4981: 7733, 5250: 7734, 5334: 7735, 5356: 7736, 5490: 7737, 5700: 7738, 5752: 7739, 5779: 7740, 5915: 7741, 6302: 7742, 6424: 7743, 6427: 7744, 6476: 7745, 6514: 7746, 6760: 7747, 6798: 7748, 6814: 7749, 7101: 7750, 7245: 7751, 7372: 7752, 8136: 7753, 8137: 7754, 8447: 7755, 8743: 7756, 26152: 7757, 26386: 7758, 26464: 7759, 26700: 7760, 31000: 7761, 32291: 7762, 34018: 7763, 37211: 7764, 43558: 7765, 48262: 7766, 49688: 7767, 50064: 7768, 53453: 7769, 53808: 7770, 55294: 7771, 58351: 7772, 61123: 7773, 61289: 7774, 63393: 7775, 65135: 7776, 66785: 7777, 67361: 7778, 69118: 7779, 69453: 7780, 69604: 7781, 70545: 7782, 71466: 7783, 71732: 7784, 72224: 7785, 72694: 7786, 73386: 7787, 75803: 7788, 75816: 7789, 77421: 7790, 78034: 7791, 78116: 7792, 79259: 7793, 79590: 7794, 79879: 7795, 79946: 7796, 80241: 7797, 80864: 7798, 81949: 7799, 82093: 7800, 82095: 7801, 82527: 7802, 83374: 7803, 84696: 7804, 84950: 7805, 85025: 7806, 85399: 7807, 86028: 7808, 86593: 7809, 87876: 7810, 88672: 7811, 89305: 7812, 89343: 7813, 89388: 7814, 89427: 7815, 90343: 7816, 90719: 7817, 90738: 7818, 91273: 7819, 91688: 7820, 91873: 7821, 91935: 7822, 92198: 7823, 92665: 7824, 93242: 7825, 93980: 7826, 93982: 7827, 94011: 7828, 94323: 7829, 94494: 7830, 94896: 7831, 94919: 7832, 95201: 7833, 95508: 7834, 95744: 7835, 96114: 7836, 96281: 7837, 96530: 7838, 96726: 7839, 97328: 7840, 97742: 7841, 97858: 7842, 97870: 7843, 97936: 7844, 98160: 7845, 98175: 7846, 98230: 7847, 98296: 7848, 98836: 7849, 98908: 7850, 99005: 7851, 99415: 7852, 99574: 7853, 99846: 7854, 99992: 7855, 100226: 7856, 100304: 7857, 100326: 7858, 100487: 7859, 101360: 7860, 101529: 7861, 101577: 7862, 101884: 7863, 101895: 7864, 102025: 7865, 102165: 7866, 102278: 7867, 102819: 7868, 102880: 7869, 103221: 7870, 103502: 7871, 103543: 7872, 103755: 7873, 103865: 7874, 104078: 7875, 104129: 7876, 104760: 7877, 104906: 7878, 105121: 7879, 105755: 7880, 106330: 7881, 106438: 7882, 106542: 7883, 106883: 7884, 107702: 7885, 107945: 7886, 107962: 7887, 108188: 7888, 108601: 7889, 108715: 7890, 109183: 7891, 109191: 7892, 109295: 7893, 109317: 7894, 109372: 7895, 109416: 7896, 110611: 7897, 110655: 7898, 110826: 7899, 111663: 7900, 111680: 7901, 111795: 7902, 112303: 7903, 112749: 7904, 113186: 7905, 113225: 7906, 113350: 7907, 113416: 7908, 113532: 7909, 114028: 7910, 114601: 7911, 114925: 7912, 115151: 7913, 115170: 7914, 115216: 7915, 116207: 7916, 116413: 7917, 116419: 7918, 116849: 7919, 116985: 7920, 117107: 7921, 117511: 7922, 118248: 7923, 118326: 7924, 118354: 7925, 118512: 7926, 118702: 7927, 118814: 7928, 118924: 7929, 118997: 7930, 119068: 7931, 119655: 7932, 120637: 7933, 120783: 7934, 122490: 7935, 122932: 7936, 124859: 7937, 125221: 7938, 126420: 7939, 127132: 7940, 127136: 7941, 127194: 7942, 127319: 7943, 128592: 7944, 129333: 7945, 129657: 7946, 129659: 7947, 130083: 7948, 131480: 7949, 132333: 7950, 132462: 7951, 132488: 7952, 132618: 7953, 133195: 7954, 133281: 7955, 133365: 7956, 133377: 7957, 133545: 7958, 133782: 7959, 133798: 7960, 134021: 7961, 134158: 7962, 134859: 7963, 136654: 7964, 136664: 7965, 136778: 7966, 136786: 7967, 136800: 7968, 136816: 7969, 136859: 7970, 137517: 7971, 138546: 7972, 139052: 7973, 139415: 7974, 139857: 7975, 140237: 7976, 140525: 7977, 140850: 7978, 141422: 7979, 142424: 7980, 143001: 7981, 143255: 7982, 143257: 7983, 143472: 7984, 144262: 7985, 144620: 7986, 144714: 7987, 144716: 7988, 145150: 7989, 146688: 7990, 146730: 7991, 148482: 7992, 148592: 7993, 148709: 7994, 149590: 7995, 149612: 7996, 150401: 7997, 150604: 7998, 151315: 7999, 151317: 8000, 151501: 8001, 151559: 8002, 151653: 8003, 151745: 8004, 151777: 8005, 152085: 8006, 152105: 8007, 152658: 8008, 154065: 8009, 155358: 8010, 155659: 8011, 155743: 8012, 155892: 8013, 156553: 8014, 156706: 8015, 157122: 8016, 157130: 8017, 157172: 8018, 157200: 8019, 157270: 8020, 157340: 8021, 157407: 8022, 157432: 8023, 158022: 8024, 158956: 8025, 159077: 8026, 159193: 8027, 159690: 8028, 160440: 8029, 160573: 8030, 160646: 8031, 160730: 8032, 161290: 8033, 161830: 8034, 161918: 8035, 162828: 8036, 164375: 8037, 164647: 8038, 164753: 8039, 165075: 8040, 165139: 8041, 165343: 8042, 165347: 8043, 168350: 8044, 168456: 8045, 169180: 8046, 173751: 8047, 3568: 8048, 2839: 8049, 3240: 8050, 3241: 8051, 3756: 8052, 3787: 8053, 1341: 8054, 706: 8055, 89039: 8056, 1757: 8057, 2677: 8058, 3859: 8059, 3989: 8060, 4236: 8061, 4863: 8062, 4977: 8063, 5205: 8064, 5212: 8065, 5224: 8066, 5239: 8067, 5986: 8068, 6064: 8069, 6466: 8070, 6528: 8071, 6611: 8072, 6775: 8073, 6935: 8074, 6945: 8075, 6966: 8076, 7181: 8077, 7620: 8078, 7767: 8079, 7786: 8080, 7920: 8081, 8620: 8082, 8848: 8083, 26359: 8084, 26838: 8085, 27563: 8086, 32582: 8087, 38198: 8088, 45382: 8089, 46855: 8090, 55156: 8091, 58191: 8092, 67665: 8093, 71640: 8094, 82857: 8095, 89090: 8096, 100556: 8097, 103107: 8098, 105835: 8099, 109161: 8100, 148982: 8101, 151311: 8102, 152711: 8103, 160644: 8104, 162414: 8105, 164655: 8106, 167064: 8107, 179813: 8108, 183199: 8109, 183317: 8110, 184721: 8111, 187717: 8112, 188189: 8113, 189713: 8114, 56169: 8115, 59738: 8116, 60832: 8117, 74530: 8118, 74580: 8119, 90384: 8120, 3723: 8121, 2493: 8122, 451: 8123, 1180: 8124, 3405: 8125, 3619: 8126, 3658: 8127, 3832: 8128, 96: 8129, 488: 8130, 638: 8131, 907: 8132, 929: 8133, 956: 8134, 959: 8135, 970: 8136, 976: 8137, 982: 8138, 993: 8139, 1068: 8140, 1398: 8141, 1413: 8142, 1423: 8143, 1496: 8144, 1507: 8145, 1629: 8146, 1650: 8147, 1893: 8148, 1902: 8149, 1913: 8150, 1926: 8151, 1928: 8152, 1932: 8153, 1933: 8154, 1940: 8155, 2177: 8156, 2179: 8157, 2180: 8158, 2185: 8159, 2187: 8160, 2201: 8161, 2211: 8162, 2611: 8163, 2612: 8164, 2652: 8165, 2697: 8166, 2743: 8167, 2757: 8168, 2801: 8169, 2927: 8170, 2929: 8171, 2930: 8172, 3109: 8173, 3112: 8174, 3125: 8175, 3135: 8176, 3211: 8177, 3281: 8178, 3475: 8179, 3609: 8180, 3641: 8181, 3714: 8182, 3715: 8183, 3739: 8184, 3789: 8185, 3816: 8186, 3870: 8187, 3965: 8188, 3966: 8189, 4046: 8190, 4080: 8191, 4113: 8192, 4129: 8193, 4164: 8194, 4171: 8195, 4184: 8196, 4189: 8197, 4204: 8198, 4218: 8199, 4292: 8200, 4296: 8201, 4433: 8202, 4484: 8203, 4495: 8204, 4521: 8205, 4578: 8206, 4589: 8207, 4635: 8208, 4704: 8209, 4769: 8210, 4796: 8211, 4798: 8212, 4801: 8213, 4804: 8214, 4860: 8215, 4871: 8216, 4970: 8217, 4998: 8218, 5007: 8219, 5012: 8220, 5077: 8221, 5114: 8222, 5116: 8223, 5168: 8224, 5213: 8225, 5231: 8226, 5311: 8227, 5353: 8228, 5375: 8229, 5384: 8230, 5440: 8231, 5455: 8232, 5512: 8233, 5525: 8234, 5581: 8235, 5601: 8236, 5602: 8237, 5604: 8238, 5629: 8239, 5649: 8240, 5694: 8241, 5755: 8242, 5771: 8243, 5799: 8244, 5801: 8245, 5802: 8246, 5826: 8247, 5836: 8248, 5863: 8249, 5875: 8250, 5963: 8251, 6020: 8252, 6031: 8253, 6042: 8254, 6090: 8255, 6101: 8256, 6163: 8257, 6178: 8258, 6181: 8259, 6201: 8260, 6225: 8261, 6228: 8262, 6232: 8263, 6245: 8264, 6273: 8265, 6289: 8266, 6336: 8267, 6357: 8268, 6376: 8269, 6382: 8270, 6390: 8271, 6400: 8272, 6407: 8273, 6422: 8274, 6434: 8275, 6454: 8276, 6477: 8277, 6515: 8278, 6527: 8279, 6545: 8280, 6581: 8281, 6584: 8282, 6592: 8283, 6603: 8284, 6609: 8285, 6614: 8286, 6660: 8287, 6667: 8288, 6732: 8289, 6768: 8290, 6770: 8291, 6772: 8292, 6788: 8293, 6837: 8294, 6909: 8295, 6911: 8296, 6912: 8297, 6948: 8298, 6962: 8299, 6965: 8300, 6970: 8301, 6982: 8302, 6984: 8303, 6990: 8304, 7012: 8305, 7019: 8306, 7049: 8307, 7051: 8308, 7052: 8309, 7053: 8310, 7055: 8311, 7057: 8312, 7058: 8313, 7059: 8314, 7061: 8315, 7062: 8316, 7070: 8317, 7073: 8318, 7074: 8319, 7075: 8320, 7079: 8321, 7082: 8322, 7083: 8323, 7085: 8324, 7086: 8325, 7092: 8326, 7093: 8327, 7141: 8328, 7167: 8329, 7177: 8330, 7190: 8331, 7211: 8332, 7212: 8333, 7217: 8334, 7219: 8335, 7223: 8336, 7326: 8337, 7357: 8338, 7382: 8339, 7414: 8340, 7479: 8341, 7560: 8342, 7572: 8343, 7579: 8344, 7584: 8345, 7618: 8346, 7702: 8347, 7705: 8348, 7713: 8349, 7714: 8350, 7716: 8351, 7727: 8352, 7772: 8353, 7789: 8354, 7822: 8355, 7826: 8356, 7831: 8357, 7832: 8358, 7833: 8359, 7835: 8360, 7839: 8361, 7840: 8362, 7882: 8363, 7883: 8364, 7888: 8365, 7896: 8366, 7900: 8367, 7944: 8368, 8019: 8369, 8057: 8370, 8094: 8371, 8125: 8372, 8153: 8373, 8167: 8374, 8191: 8375, 8232: 8376, 8275: 8377, 8293: 8378, 8302: 8379, 8331: 8380, 8336: 8381, 8338: 8382, 8375: 8383, 8382: 8384, 8385: 8385, 8410: 8386, 8424: 8387, 8446: 8388, 8450: 8389, 8451: 8390, 8458: 8391, 8459: 8392, 8461: 8393, 8462: 8394, 8463: 8395, 8465: 8396, 8481: 8397, 8482: 8398, 8487: 8399, 8492: 8400, 8502: 8401, 8518: 8402, 8521: 8403, 8534: 8404, 8575: 8405, 8591: 8406, 8611: 8407, 8617: 8408, 8650: 8409, 8684: 8410, 8711: 8411, 8712: 8412, 8714: 8413, 8730: 8414, 8753: 8415, 8754: 8416, 8771: 8417, 8773: 8418, 8774: 8419, 8778: 8420, 8809: 8421, 8813: 8422, 8875: 8423, 8920: 8424, 8921: 8425, 8938: 8426, 8943: 8427, 8955: 8428, 8979: 8429, 8987: 8430, 8989: 8431, 25752: 8432, 25753: 8433, 25757: 8434, 25769: 8435, 25795: 8436, 25826: 8437, 25850: 8438, 25865: 8439, 25870: 8440, 25927: 8441, 25940: 8442, 25952: 8443, 25962: 8444, 25996: 8445, 25999: 8446, 26791: 8447, 26965: 8448, 31030: 8449, 31083: 8450, 31260: 8451, 31694: 8452, 31903: 8453, 34359: 8454, 35015: 8455, 42740: 8456, 43333: 8457, 44511: 8458, 48741: 8459, 49666: 8460, 50160: 8461, 50514: 8462, 53921: 8463, 55071: 8464, 55687: 8465, 56563: 8466, 3720: 8467, 4454: 8468, 4557: 8469, 4725: 8470, 5069: 8471, 5348: 8472, 6148: 8473, 7335: 8474, 8126: 8475, 27537: 8476, 31660: 8477, 42422: 8478, 68945: 8479, 72308: 8480, 78746: 8481, 82242: 8482, 2362: 8483, 3428: 8484, 4111: 8485, 4410: 8486, 4831: 8487, 5197: 8488, 5365: 8489, 5389: 8490, 5448: 8491, 5651: 8492, 5773: 8493, 6436: 8494, 6853: 8495, 8131: 8496, 27830: 8497, 32294: 8498, 36477: 8499, 37844: 8500, 43914: 8501, 44197: 8502, 47646: 8503, 2068: 8504, 6320: 8505, 8268: 8506, 2483: 8507, 8632: 8508, 27370: 8509, 31617: 8510, 36397: 8511, 68522: 8512, 72554: 8513, 88448: 8514, 89586: 8515, 90863: 8516, 91890: 8517, 93723: 8518, 94810: 8519, 95939: 8520, 96283: 8521, 97665: 8522, 99087: 8523, 100068: 8524, 101765: 8525, 105325: 8526, 109941: 8527, 109971: 8528, 112316: 8529, 115065: 8530, 4759: 8531, 5786: 8532, 8593: 8533, 71268: 8534, 93320: 8535, 26900: 8536, 40597: 8537, 54796: 8538, 72874: 8539, 73501: 8540, 77881: 8541, 79299: 8542, 79536: 8543, 80454: 8544, 80551: 8545, 84553: 8546, 86000: 8547, 87413: 8548, 91488: 8549, 92730: 8550, 94130: 8551, 50954: 8552, 78160: 8553, 78544: 8554, 180231: 8555, 103: 8556, 467: 8557, 876: 8558, 1170: 8559, 73290: 8560, 140523: 8561, 131739: 8562, 56286: 8563, 449: 8564, 1824: 8565, 1910: 8566, 7455: 8567, 32914: 8568, 46231: 8569, 79798: 8570, 6596: 8571, 6927: 8572, 68269: 8573, 5613: 8574, 26958: 8575, 50796: 8576, 65193: 8577, 74677: 8578, 80834: 8579, 82088: 8580, 84847: 8581, 89678: 8582, 90809: 8583, 91266: 8584, 91337: 8585, 93134: 8586, 93988: 8587, 94799: 8588, 95193: 8589, 110781: 8590, 117133: 8591, 126142: 8592, 129229: 8593, 130073: 8594, 136838: 8595, 136840: 8596, 34148: 8597, 6145: 8598, 1335: 8599, 1978: 8600, 2878: 8601, 3294: 8602, 4202: 8603, 5041: 8604, 5189: 8605, 5704: 8606, 5797: 8607, 6746: 8608, 6821: 8609, 7477: 8610, 7730: 8611, 7891: 8612, 8894: 8613, 26198: 8614, 31150: 8615, 38583: 8616, 40478: 8617, 62586: 8618, 124484: 8619, 135216: 8620, 136958: 8621, 141994: 8622, 158830: 8623, 159510: 8624, 160571: 8625, 167538: 8626, 168358: 8627, 180263: 8628, 184931: 8629, 184987: 8630, 185033: 8631, 185473: 8632, 186587: 8633, 187031: 8634, 188797: 8635, 4646: 8636, 8772: 8637, 26761: 8638, 83270: 8639, 88267: 8640, 91414: 8641, 93740: 8642, 96471: 8643, 96518: 8644, 96520: 8645, 97194: 8646, 107780: 8647, 121099: 8648, 144352: 8649, 160422: 8650, 162590: 8651, 7266: 8652, 32469: 8653, 27006: 8654, 27369: 8655, 66544: 8656, 79006: 8657, 120130: 8658, 8264: 8659, 91869: 8660, 96150: 8661, 98122: 8662, 106889: 8663, 120807: 8664, 127164: 8665, 134248: 8666, 146682: 8667, 148667: 8668, 159849: 8669, 163653: 8670, 164540: 8671, 39516: 8672, 135198: 8673, 176413: 8674, 176415: 8675, 2742: 8676, 3673: 8677, 3674: 8678, 4445: 8679, 5560: 8680, 4284: 8681, 125914: 8682, 27251: 8683, 36289: 8684, 51024: 8685, 53138: 8686, 53140: 8687, 58297: 8688, 64695: 8689, 69805: 8690, 73804: 8691, 76743: 8692, 83480: 8693, 85179: 8694, 85261: 8695, 91353: 8696, 112580: 8697, 116529: 8698, 116668: 8699, 116724: 8700, 128542: 8701, 134775: 8702, 135885: 8703, 144734: 8704, 150993: 8705, 164367: 8706, 2573: 8707, 55946: 8708, 121129: 8709, 2107: 8710, 626: 8711, 1986: 8712, 1990: 8713, 3626: 8714, 3939: 8715, 3940: 8716, 3941: 8717, 3942: 8718, 3958: 8719, 1477: 8720, 168712: 8721, 142056: 8722, 167296: 8723, 1825: 8724, 5059: 8725, 5513: 8726, 7457: 8727, 43684: 8728, 61257: 8729, 2820: 8730, 633: 8731, 790: 8732, 1336: 8733, 1397: 8734, 1985: 8735, 2256: 8736, 2451: 8737, 2597: 8738, 2862: 8739, 3442: 8740, 3574: 8741, 3577: 8742, 3660: 8743, 3661: 8744, 3663: 8745, 3664: 8746, 3678: 8747, 3691: 8748, 5839: 8749, 5840: 8750, 6119: 8751, 26308: 8752, 31123: 8753, 37495: 8754, 38095: 8755, 48045: 8756, 54617: 8757, 59026: 8758, 68886: 8759, 73681: 8760, 81383: 8761, 96945: 8762, 105246: 8763, 109313: 8764, 111384: 8765, 130498: 8766, 142558: 8767, 148238: 8768, 148881: 8769, 154975: 8770, 6800: 8771, 105468: 8772, 168174: 8773, 4135: 8774, 26357: 8775, 27140: 8776, 27667: 8777, 73211: 8778, 99191: 8779, 100306: 8780, 43930: 8781, 44225: 8782, 47516: 8783, 61071: 8784, 62718: 8785, 70932: 8786, 72919: 8787, 74688: 8788, 77414: 8789, 78264: 8790, 80858: 8791, 82152: 8792, 90524: 8793, 94325: 8794, 95199: 8795, 96975: 8796, 100527: 8797, 115667: 8798, 128832: 8799, 139747: 8800, 50942: 8801, 5028: 8802, 8189: 8803, 8335: 8804, 8477: 8805, 25782: 8806, 26717: 8807, 26743: 8808, 40491: 8809, 51573: 8810, 57502: 8811, 70015: 8812, 71438: 8813, 81681: 8814, 82684: 8815, 92234: 8816, 92681: 8817, 99917: 8818, 101070: 8819, 102088: 8820, 102800: 8821, 104337: 8822, 104944: 8823, 109897: 8824, 110603: 8825, 113705: 8826, 114396: 8827, 114554: 8828, 114627: 8829, 117877: 8830, 122246: 8831, 132335: 8832, 134246: 8833, 135288: 8834, 136602: 8835, 141668: 8836, 142507: 8837, 150254: 8838, 151687: 8839, 152063: 8840, 152071: 8841, 153070: 8842, 166526: 8843, 166705: 8844, 170945: 8845, 176419: 8846, 179491: 8847, 179749: 8848, 179815: 8849, 1331: 8850, 1623: 8851, 1980: 8852, 2655: 8853, 2740: 8854, 2982: 8855, 3021: 8856, 3073: 8857, 430: 8858, 2538: 8859, 2623: 8860, 2629: 8861, 2415: 8862, 3143: 8863, 6751: 8864, 7395: 8865, 56389: 8866, 75446: 8867, 2965: 8868, 5767: 8869, 5828: 8870, 6342: 8871, 6583: 8872, 6692: 8873, 7349: 8874, 8092: 8875, 8236: 8876, 8427: 8877, 8494: 8878, 8800: 8879, 8844: 8880, 26819: 8881, 27373: 8882, 136556: 8883, 2738: 8884, 3403: 8885, 3414: 8886, 3449: 8887, 4710: 8888, 284: 8889, 1652: 8890, 2175: 8891, 2196: 8892, 2589: 8893, 3353: 8894, 4200: 8895, 4374: 8896, 4715: 8897, 4794: 8898, 4827: 8899, 5105: 8900, 5657: 8901, 6140: 8902, 6417: 8903, 6665: 8904, 6723: 8905, 6967: 8906, 6994: 8907, 7023: 8908, 7031: 8909, 7032: 8910, 7114: 8911, 7345: 8912, 7742: 8913, 7782: 8914, 8035: 8915, 8118: 8916, 8727: 8917, 2774: 8918, 3094: 8919, 4342: 8920, 6769: 8921, 7260: 8922, 7615: 8923, 27246: 8924, 32799: 8925, 33649: 8926, 43744: 8927, 55844: 8928, 59549: 8929, 59667: 8930, 68835: 8931, 69495: 8932, 70637: 8933, 92954: 8934, 111800: 8935, 111913: 8936, 113280: 8937, 120919: 8938, 128908: 8939, 129397: 8940, 132454: 8941, 133645: 8942, 151557: 8943, 163639: 8944, 168026: 8945, 171917: 8946, 176051: 8947, 178615: 8948, 182793: 8949, 183635: 8950, 184997: 8951, 615: 8952, 1112: 8953, 4424: 8954, 113829: 8955, 114265: 8956, 124851: 8957, 478: 8958, 806: 8959, 1114: 8960, 1426: 8961, 1794: 8962, 2281: 8963, 2292: 8964, 2339: 8965, 2586: 8966, 2698: 8967, 3379: 8968, 3571: 8969, 3669: 8970, 3700: 8971, 3709: 8972, 3962: 8973, 4197: 8974, 4240: 8975, 4394: 8976, 4490: 8977, 4504: 8978, 4511: 8979, 4568: 8980, 4574: 8981, 4593: 8982, 4594: 8983, 4597: 8984, 4603: 8985, 4670: 8986, 5053: 8987, 5054: 8988, 5096: 8989, 5111: 8990, 5136: 8991, 5198: 8992, 5221: 8993, 5268: 8994, 5442: 8995, 5591: 8996, 5596: 8997, 5597: 8998, 5689: 8999, 5768: 9000, 5961: 9001, 6204: 9002, 6267: 9003, 6310: 9004, 6506: 9005, 6557: 9006, 6587: 9007, 6691: 9008, 6722: 9009, 6734: 9010, 6804: 9011, 6860: 9012, 6882: 9013, 6998: 9014, 7005: 9015, 7041: 9016, 7047: 9017, 7108: 9018, 7125: 9019, 7191: 9020, 7307: 9021, 7443: 9022, 7657: 9023, 7704: 9024, 7707: 9025, 7986: 9026, 7988: 9027, 8043: 9028, 8045: 9029, 8380: 9030, 8425: 9031, 8500: 9032, 8720: 9033, 8755: 9034, 8905: 9035, 8934: 9036, 9004: 9037, 26142: 9038, 26159: 9039, 26176: 9040, 26195: 9041, 26283: 9042, 26285: 9043, 26344: 9044, 26365: 9045, 26413: 9046, 26453: 9047, 26467: 9048, 26510: 9049, 26539: 9050, 26542: 9051, 26547: 9052, 26562: 9053, 26567: 9054, 26590: 9055, 26593: 9056, 26612: 9057, 26622: 9058, 26630: 9059, 26676: 9060, 26696: 9061, 26701: 9062, 26726: 9063, 26741: 9064, 26745: 9065, 26782: 9066, 26797: 9067, 26828: 9068, 26854: 9069, 26861: 9070, 26913: 9071, 26940: 9072, 26947: 9073, 27002: 9074, 27008: 9075, 27032: 9076, 27074: 9077, 27105: 9078, 27124: 9079, 27155: 9080, 27306: 9081, 27420: 9082, 27441: 9083, 27549: 9084, 27595: 9085, 27722: 9086, 27762: 9087, 27769: 9088, 27784: 9089, 27829: 9090, 31367: 9091, 31553: 9092, 31664: 9093, 31921: 9094, 32058: 9095, 32440: 9096, 32442: 9097, 32515: 9098, 33126: 9099, 33294: 9100, 33435: 9101, 33629: 9102, 33801: 9103, 33966: 9104, 34292: 9105, 34800: 9106, 34811: 9107, 36850: 9108, 39801: 9109, 40578: 9110, 41627: 9111, 42559: 9112, 42638: 9113, 42943: 9114, 42946: 9115, 43419: 9116, 43677: 9117, 43908: 9118, 44238: 9119, 44241: 9120, 44243: 9121, 44849: 9122, 45183: 9123, 45648: 9124, 45969: 9125, 46367: 9126, 46574: 9127, 47721: 9128, 47793: 9129, 49110: 9130, 51545: 9131, 53022: 9132, 53143: 9133, 53161: 9134, 53450: 9135, 54274: 9136, 54908: 9137, 55036: 9138, 55061: 9139, 55205: 9140, 55207: 9141, 56022: 9142, 57499: 9143, 58306: 9144, 59016: 9145, 59336: 9146, 59947: 9147, 60365: 9148, 60803: 9149, 61073: 9150, 62662: 9151, 62970: 9152, 66915: 9153, 67193: 9154, 68552: 9155, 68650: 9156, 69131: 9157, 69227: 9158, 70703: 9159, 71327: 9160, 71484: 9161, 71550: 9162, 71810: 9163, 72479: 9164, 73569: 9165, 73808: 9166, 74095: 9167, 74696: 9168, 75416: 9169, 75947: 9170, 76030: 9171, 77201: 9172, 77709: 9173, 78959: 9174, 79895: 9175, 80083: 9176, 81791: 9177, 82534: 9178, 83086: 9179, 83796: 9180, 84523: 9181, 85438: 9182, 86286: 9183, 86355: 9184, 86864: 9185, 86898: 9186, 87197: 9187, 87960: 9188, 88593: 9189, 88697: 9190, 89085: 9191, 89862: 9192, 90243: 9193, 90428: 9194, 90945: 9195, 91571: 9196, 91981: 9197, 92309: 9198, 92674: 9199, 93208: 9200, 93502: 9201, 94122: 9202, 95145: 9203, 95163: 9204, 95165: 9205, 95499: 9206, 95519: 9207, 95717: 9208, 95771: 9209, 95780: 9210, 95839: 9211, 95965: 9212, 97230: 9213, 97950: 9214, 98499: 9215, 98503: 9216, 98623: 9217, 98697: 9218, 98799: 9219, 99638: 9220, 101074: 9221, 101423: 9222, 102590: 9223, 102735: 9224, 102749: 9225, 102852: 9226, 103027: 9227, 103245: 9228, 103366: 9229, 103609: 9230, 104017: 9231, 104837: 9232, 105020: 9233, 105720: 9234, 107999: 9235, 108090: 9236, 108192: 9237, 110541: 9238, 111785: 9239, 112326: 9240, 113849: 9241, 114126: 9242, 115819: 9243, 116044: 9244, 116169: 9245, 116941: 9246, 116963: 9247, 117630: 9248, 118290: 9249, 119218: 9250, 119828: 9251, 120827: 9252, 121035: 9253, 122260: 9254, 122433: 9255, 122627: 9256, 123310: 9257, 128197: 9258, 128736: 9259, 129779: 9260, 131578: 9261, 132362: 9262, 135787: 9263, 136012: 9264, 136297: 9265, 137218: 9266, 137345: 9267, 137859: 9268, 138702: 9269, 139130: 9270, 139859: 9271, 140852: 9272, 144522: 9273, 145724: 9274, 145745: 9275, 151479: 9276, 151781: 9277, 153236: 9278, 156675: 9279, 157865: 9280, 158388: 9281, 158874: 9282, 159061: 9283, 159403: 9284, 160978: 9285, 161032: 9286, 161044: 9287, 163809: 9288, 165529: 9289, 167706: 9290, 168608: 9291, 169670: 9292, 169904: 9293, 169958: 9294, 170297: 9295, 170551: 9296, 171695: 9297, 172229: 9298, 172233: 9299, 172253: 9300, 173873: 9301, 174727: 9302, 178129: 9303, 179053: 9304, 181315: 9305, 183301: 9306, 2800: 9307, 25905: 9308, 25923: 9309, 25947: 9310, 46664: 9311, 59131: 9312, 141846: 9313, 77: 9314, 108: 9315, 149: 9316, 184: 9317, 301: 9318, 320: 9319, 495: 9320, 506: 9321, 526: 9322, 602: 9323, 645: 9324, 649: 9325, 803: 9326, 1053: 9327, 1119: 9328, 1310: 9329, 1349: 9330, 1475: 9331, 1514: 9332, 1549: 9333, 1585: 9334, 1612: 9335, 1613: 9336, 1759: 9337, 2008: 9338, 2104: 9339, 2283: 9340, 2304: 9341, 2417: 9342, 2435: 9343, 2512: 9344, 2544: 9345, 2577: 9346, 2609: 9347, 2620: 9348, 2725: 9349, 2727: 9350, 2813: 9351, 2865: 9352, 2885: 9353, 2892: 9354, 2972: 9355, 3002: 9356, 3183: 9357, 3303: 9358, 3344: 9359, 3374: 9360, 3459: 9361, 3514: 9362, 3531: 9363, 3586: 9364, 3637: 9365, 3655: 9366, 3792: 9367, 4420: 9368, 4428: 9369, 4436: 9370, 4690: 9371, 4695: 9372, 4705: 9373, 4766: 9374, 4786: 9375, 4810: 9376, 117: 9377, 220: 9378, 285: 9379, 311: 9380, 636: 9381, 1654: 9382, 27036: 9383, 35347: 9384, 47384: 9385, 54686: 9386, 65359: 9387, 66240: 9388, 71160: 9389, 72165: 9390, 72982: 9391, 202: 9392, 263: 9393, 563: 9394, 573: 9395, 579: 9396, 583: 9397, 632: 9398, 961: 9399, 1117: 9400, 1156: 9401, 1493: 9402, 1857: 9403, 2156: 9404, 2207: 9405, 2388: 9406, 2481: 9407, 2503: 9408, 2897: 9409, 3010: 9410, 3289: 9411, 3295: 9412, 3640: 9413, 3808: 9414, 3920: 9415, 4357: 9416, 4395: 9417, 4615: 9418, 4653: 9419, 4671: 9420, 4689: 9421, 4828: 9422, 4840: 9423, 4883: 9424, 5269: 9425, 5372: 9426, 5503: 9427, 5550: 9428, 5614: 9429, 5720: 9430, 5733: 9431, 5741: 9432, 5742: 9433, 5849: 9434, 5856: 9435, 5922: 9436, 5929: 9437, 5975: 9438, 5990: 9439, 6070: 9440, 6107: 9441, 6111: 9442, 6182: 9443, 6202: 9444, 6237: 9445, 6415: 9446, 6449: 9447, 6516: 9448, 6553: 9449, 6573: 9450, 6578: 9451, 6644: 9452, 6671: 9453, 6782: 9454, 6789: 9455, 6803: 9456, 6961: 9457, 6973: 9458, 7037: 9459, 7109: 9460, 7131: 9461, 7292: 9462, 7344: 9463, 7487: 9464, 7916: 9465, 8391: 9466, 8454: 9467, 8456: 9468, 8601: 9469, 8685: 9470, 8713: 9471, 8933: 9472, 8964: 9473, 25805: 9474, 25833: 9475, 25946: 9476, 26038: 9477, 26394: 9478, 26527: 9479, 26599: 9480, 26777: 9481, 26796: 9482, 26875: 9483, 26985: 9484, 27178: 9485, 27255: 9486, 27627: 9487, 27644: 9488, 27744: 9489, 30890: 9490, 30994: 9491, 31309: 9492, 31973: 9493, 32234: 9494, 32600: 9495, 32620: 9496, 32649: 9497, 32728: 9498, 32862: 9499, 33237: 9500, 33310: 9501, 41014: 9502, 44189: 9503, 44301: 9504, 47202: 9505, 47538: 9506, 47774: 9507, 48032: 9508, 48214: 9509, 50354: 9510, 50356: 9511, 51314: 9512, 55805: 9513, 56333: 9514, 58783: 9515, 68480: 9516, 68872: 9517, 69224: 9518, 72603: 9519, 241: 9520, 2737: 9521, 5901: 9522, 7377: 9523, 8667: 9524, 32302: 9525, 51903: 9526, 137: 9527, 1054: 9528, 3945: 9529, 4497: 9530, 5275: 9531, 5953: 9532, 6009: 9533, 6095: 9534, 7202: 9535, 7562: 9536, 7984: 9537, 8840: 9538, 26169: 9539, 26391: 9540, 26399: 9541, 26401: 9542, 26498: 9543, 26603: 9544, 27426: 9545, 27480: 9546, 27491: 9547, 27746: 9548, 27778: 9549, 27905: 9550, 31086: 9551, 34450: 9552, 36931: 9553, 41712: 9554, 43289: 9555, 44597: 9556, 47937: 9557, 48150: 9558, 51666: 9559, 52831: 9560, 54910: 9561, 55067: 9562, 55492: 9563, 56620: 9564, 57421: 9565, 57637: 9566, 58826: 9567, 58964: 9568, 58975: 9569, 59915: 9570, 60303: 9571, 60471: 9572, 61262: 9573, 61319: 9574, 61692: 9575, 61818: 9576, 63179: 9577, 63768: 9578, 63826: 9579, 64010: 9580, 66310: 9581, 67168: 9582, 70206: 9583, 70208: 9584, 71341: 9585, 71910: 9586, 72142: 9587, 72424: 9588, 73676: 9589, 73741: 9590, 73876: 9591, 74370: 9592, 75389: 9593, 76091: 9594, 77893: 9595, 77931: 9596, 78626: 9597, 79501: 9598, 79868: 9599, 80094: 9600, 80162: 9601, 81520: 9602, 82366: 9603, 82641: 9604, 82765: 9605, 88327: 9606, 89072: 9607, 89281: 9608, 89837: 9609, 91233: 9610, 93193: 9611, 93598: 9612, 93819: 9613, 94867: 9614, 96832: 9615, 97188: 9616, 97285: 9617, 97701: 9618, 97988: 9619, 98061: 9620, 98633: 9621, 99030: 9622, 99721: 9623, 100159: 9624, 100397: 9625, 100579: 9626, 100906: 9627, 102066: 9628, 102070: 9629, 102338: 9630, 102760: 9631, 102802: 9632, 103085: 9633, 103219: 9634, 103483: 9635, 103685: 9636, 105801: 9637, 107436: 9638, 107447: 9639, 107462: 9640, 107771: 9641, 110281: 9642, 110286: 9643, 110591: 9644, 110746: 9645, 111551: 9646, 112727: 9647, 113159: 9648, 113313: 9649, 113565: 9650, 113780: 9651, 113862: 9652, 114044: 9653, 114670: 9654, 114707: 9655, 115727: 9656, 117867: 9657, 118082: 9658, 128838: 9659, 129313: 9660, 130050: 9661, 130052: 9662, 130840: 9663, 133832: 9664, 135534: 9665, 135803: 9666, 135815: 9667, 138610: 9668, 138632: 9669, 139511: 9670, 139655: 9671, 140267: 9672, 141400: 9673, 141799: 9674, 142366: 9675, 142598: 9676, 145951: 9677, 146309: 9678, 147657: 9679, 147662: 9680, 148166: 9681, 149011: 9682, 152372: 9683, 158721: 9684, 160341: 9685, 160527: 9686, 160836: 9687, 163937: 9688, 163981: 9689}\n",
            "encoded angka ke moviesID:  {0: 1, 1: 3, 2: 6, 3: 47, 4: 50, 5: 70, 6: 101, 7: 110, 8: 151, 9: 157, 10: 163, 11: 216, 12: 223, 13: 231, 14: 235, 15: 260, 16: 296, 17: 316, 18: 333, 19: 349, 20: 356, 21: 362, 22: 367, 23: 423, 24: 441, 25: 457, 26: 480, 27: 500, 28: 527, 29: 543, 30: 552, 31: 553, 32: 590, 33: 592, 34: 593, 35: 596, 36: 608, 37: 648, 38: 661, 39: 673, 40: 733, 41: 736, 42: 780, 43: 804, 44: 919, 45: 923, 46: 940, 47: 943, 48: 954, 49: 1009, 50: 1023, 51: 1024, 52: 1025, 53: 1029, 54: 1030, 55: 1031, 56: 1032, 57: 1042, 58: 1049, 59: 1060, 60: 1073, 61: 1080, 62: 1089, 63: 1090, 64: 1092, 65: 1097, 66: 1127, 67: 1136, 68: 1196, 69: 1197, 70: 1198, 71: 1206, 72: 1208, 73: 1210, 74: 1213, 75: 1214, 76: 1219, 77: 1220, 78: 1222, 79: 1224, 80: 1226, 81: 1240, 82: 1256, 83: 1258, 84: 1265, 85: 1270, 86: 1275, 87: 1278, 88: 1282, 89: 1291, 90: 1298, 91: 1348, 92: 1377, 93: 1396, 94: 1408, 95: 1445, 96: 1473, 97: 1500, 98: 1517, 99: 1552, 100: 1573, 101: 1580, 102: 1587, 103: 1617, 104: 1620, 105: 1625, 106: 1644, 107: 1676, 108: 1732, 109: 1777, 110: 1793, 111: 1804, 112: 1805, 113: 1920, 114: 1927, 115: 1954, 116: 1967, 117: 2000, 118: 2005, 119: 2012, 120: 2018, 121: 2028, 122: 2033, 123: 2046, 124: 2048, 125: 2054, 126: 2058, 127: 2078, 128: 2090, 129: 2093, 130: 2094, 131: 2096, 132: 2099, 133: 2105, 134: 2115, 135: 2116, 136: 2137, 137: 2139, 138: 2141, 139: 2143, 140: 2161, 141: 2174, 142: 2193, 143: 2253, 144: 2268, 145: 2273, 146: 2291, 147: 2329, 148: 2338, 149: 2353, 150: 2366, 151: 2387, 152: 2389, 153: 2395, 154: 2406, 155: 2414, 156: 2427, 157: 2450, 158: 2459, 159: 2470, 160: 2478, 161: 2492, 162: 2502, 163: 2528, 164: 2529, 165: 2542, 166: 2571, 167: 2580, 168: 2596, 169: 2616, 170: 2617, 171: 2628, 172: 2640, 173: 2641, 174: 2644, 175: 2648, 176: 2654, 177: 2657, 178: 2692, 179: 2700, 180: 2716, 181: 2761, 182: 2797, 183: 2826, 184: 2858, 185: 2872, 186: 2899, 187: 2916, 188: 2944, 189: 2947, 190: 2948, 191: 2949, 192: 2959, 193: 2985, 194: 2987, 195: 2991, 196: 2993, 197: 2997, 198: 3033, 199: 3034, 200: 3052, 201: 3053, 202: 3062, 203: 3147, 204: 3168, 205: 3176, 206: 3243, 207: 3247, 208: 3253, 209: 3273, 210: 3386, 211: 3439, 212: 3440, 213: 3441, 214: 3448, 215: 3450, 216: 3479, 217: 3489, 218: 3527, 219: 3578, 220: 3617, 221: 3639, 222: 3671, 223: 3702, 224: 3703, 225: 3729, 226: 3740, 227: 3744, 228: 3793, 229: 3809, 230: 4006, 231: 5060, 232: 318, 233: 1704, 234: 6874, 235: 8798, 236: 46970, 237: 48516, 238: 58559, 239: 60756, 240: 68157, 241: 71535, 242: 74458, 243: 77455, 244: 79132, 245: 80489, 246: 80906, 247: 86345, 248: 89774, 249: 91529, 250: 91658, 251: 99114, 252: 106782, 253: 109487, 254: 112552, 255: 114060, 256: 115713, 257: 122882, 258: 131724, 259: 31, 260: 647, 261: 688, 262: 720, 263: 849, 264: 914, 265: 1093, 266: 1124, 267: 1263, 268: 1272, 269: 1302, 270: 1371, 271: 2080, 272: 2288, 273: 2424, 274: 2851, 275: 3024, 276: 3210, 277: 3949, 278: 4518, 279: 5048, 280: 5181, 281: 5746, 282: 5764, 283: 5919, 284: 6238, 285: 6835, 286: 7899, 287: 7991, 288: 26409, 289: 70946, 290: 72378, 291: 21, 292: 32, 293: 45, 294: 52, 295: 58, 296: 106, 297: 125, 298: 126, 299: 162, 300: 171, 301: 176, 302: 190, 303: 215, 304: 222, 305: 232, 306: 247, 307: 265, 308: 319, 309: 342, 310: 345, 311: 348, 312: 351, 313: 357, 314: 368, 315: 417, 316: 450, 317: 475, 318: 492, 319: 509, 320: 538, 321: 539, 322: 588, 323: 595, 324: 599, 325: 708, 326: 759, 327: 800, 328: 892, 329: 898, 330: 899, 331: 902, 332: 904, 333: 908, 334: 910, 335: 912, 336: 920, 337: 930, 338: 937, 339: 1046, 340: 1057, 341: 1077, 342: 1079, 343: 1084, 344: 1086, 345: 1094, 346: 1103, 347: 1179, 348: 1183, 349: 1188, 350: 1199, 351: 1203, 352: 1211, 353: 1225, 354: 1250, 355: 1259, 356: 1266, 357: 1279, 358: 1283, 359: 1288, 360: 1304, 361: 1391, 362: 1449, 363: 1466, 364: 1597, 365: 1641, 366: 1719, 367: 1733, 368: 1734, 369: 1834, 370: 1860, 371: 1883, 372: 1885, 373: 1892, 374: 1895, 375: 1907, 376: 1914, 377: 1916, 378: 1923, 379: 1947, 380: 1966, 381: 1968, 382: 2019, 383: 2076, 384: 2109, 385: 2145, 386: 2150, 387: 2186, 388: 2203, 389: 2204, 390: 2282, 391: 2324, 392: 2336, 393: 2351, 394: 2359, 395: 2390, 396: 2467, 397: 2583, 398: 2599, 399: 2683, 400: 2712, 401: 2762, 402: 2763, 403: 2770, 404: 2791, 405: 2843, 406: 2874, 407: 2921, 408: 2926, 409: 2973, 410: 3044, 411: 3060, 412: 3079, 413: 3083, 414: 3160, 415: 3175, 416: 3204, 417: 3255, 418: 3317, 419: 3358, 420: 3365, 421: 3408, 422: 3481, 423: 3508, 424: 3538, 425: 3591, 426: 3788, 427: 3851, 428: 3897, 429: 3911, 430: 3967, 431: 3996, 432: 4002, 433: 4014, 434: 4020, 435: 4021, 436: 4027, 437: 4029, 438: 4033, 439: 4034, 440: 4074, 441: 4121, 442: 4144, 443: 4166, 444: 4226, 445: 4239, 446: 4246, 447: 4252, 448: 4260, 449: 4273, 450: 4308, 451: 4347, 452: 4381, 453: 4641, 454: 4741, 455: 4765, 456: 4881, 457: 4896, 458: 4902, 459: 4967, 460: 34, 461: 36, 462: 39, 463: 150, 464: 153, 465: 253, 466: 261, 467: 266, 468: 290, 469: 300, 470: 344, 471: 364, 472: 380, 473: 410, 474: 474, 475: 515, 476: 531, 477: 534, 478: 589, 479: 594, 480: 597, 481: 2, 482: 4, 483: 5, 484: 7, 485: 8, 486: 10, 487: 11, 488: 13, 489: 15, 490: 16, 491: 17, 492: 19, 493: 22, 494: 24, 495: 25, 496: 26, 497: 27, 498: 41, 499: 43, 500: 46, 501: 54, 502: 60, 503: 61, 504: 62, 505: 65, 506: 66, 507: 76, 508: 79, 509: 86, 510: 87, 511: 88, 512: 89, 513: 92, 514: 93, 515: 95, 516: 100, 517: 102, 518: 104, 519: 105, 520: 112, 521: 113, 522: 135, 523: 140, 524: 141, 525: 145, 526: 146, 527: 158, 528: 159, 529: 160, 530: 161, 531: 165, 532: 168, 533: 170, 534: 174, 535: 177, 536: 179, 537: 180, 538: 181, 539: 185, 540: 186, 541: 189, 542: 191, 543: 195, 544: 196, 545: 201, 546: 204, 547: 205, 548: 207, 549: 208, 550: 209, 551: 210, 552: 212, 553: 217, 554: 218, 555: 219, 556: 224, 557: 225, 558: 230, 559: 234, 560: 236, 561: 237, 562: 239, 563: 240, 564: 243, 565: 248, 566: 250, 567: 251, 568: 252, 569: 254, 570: 256, 571: 257, 572: 258, 573: 262, 574: 267, 575: 270, 576: 271, 577: 273, 578: 274, 579: 276, 580: 277, 581: 279, 582: 281, 583: 282, 584: 288, 585: 289, 586: 291, 587: 292, 588: 293, 589: 302, 590: 303, 591: 304, 592: 310, 593: 312, 594: 313, 595: 314, 596: 315, 597: 317, 598: 327, 599: 329, 600: 330, 601: 332, 602: 336, 603: 337, 604: 339, 605: 340, 606: 343, 607: 347, 608: 350, 609: 352, 610: 353, 611: 354, 612: 355, 613: 358, 614: 359, 615: 360, 616: 361, 617: 366, 618: 370, 619: 371, 620: 374, 621: 377, 622: 378, 623: 381, 624: 382, 625: 383, 626: 405, 627: 412, 628: 415, 629: 416, 630: 419, 631: 426, 632: 432, 633: 434, 634: 435, 635: 437, 636: 440, 637: 445, 638: 454, 639: 455, 640: 458, 641: 460, 642: 466, 643: 468, 644: 469, 645: 472, 646: 477, 647: 485, 648: 489, 649: 490, 650: 491, 651: 493, 652: 494, 653: 497, 654: 502, 655: 505, 656: 508, 657: 510, 658: 516, 659: 520, 660: 524, 661: 532, 662: 536, 663: 537, 664: 540, 665: 542, 666: 546, 667: 548, 668: 569, 669: 575, 670: 587, 671: 606, 672: 609, 673: 616, 674: 628, 675: 631, 676: 637, 677: 640, 678: 662, 679: 667, 680: 694, 681: 697, 682: 700, 683: 704, 684: 709, 685: 710, 686: 711, 687: 719, 688: 747, 689: 762, 690: 765, 691: 775, 692: 783, 693: 795, 694: 799, 695: 801, 696: 802, 697: 818, 698: 830, 699: 835, 700: 837, 701: 838, 702: 839, 703: 842, 704: 848, 705: 852, 706: 867, 707: 880, 708: 881, 709: 888, 710: 891, 711: 979, 712: 981, 713: 986, 714: 991, 715: 996, 716: 999, 717: 1004, 718: 1006, 719: 1061, 720: 1064, 721: 1082, 722: 750, 723: 924, 724: 1101, 725: 1246, 726: 1584, 727: 1610, 728: 1682, 729: 1784, 730: 1917, 731: 2671, 732: 2688, 733: 2701, 734: 2717, 735: 3114, 736: 3354, 737: 3623, 738: 3869, 739: 3916, 740: 3977, 741: 3994, 742: 4018, 743: 4223, 744: 4306, 745: 4310, 746: 4370, 747: 4643, 748: 4700, 749: 4844, 750: 4874, 751: 4886, 752: 4963, 753: 4993, 754: 4995, 755: 5218, 756: 5349, 757: 5378, 758: 5445, 759: 5459, 760: 5464, 761: 5502, 762: 5618, 763: 5816, 764: 5952, 765: 5989, 766: 5991, 767: 6333, 768: 6365, 769: 6534, 770: 6539, 771: 6863, 772: 6934, 773: 7143, 774: 7153, 775: 7155, 776: 7445, 777: 8207, 778: 8360, 779: 8368, 780: 8373, 781: 8528, 782: 8636, 783: 8665, 784: 8666, 785: 8783, 786: 8808, 787: 8865, 788: 8870, 789: 8907, 790: 8908, 791: 8949, 792: 8957, 793: 8958, 794: 8961, 795: 8965, 796: 8970, 797: 8972, 798: 8984, 799: 27741, 800: 30812, 801: 30816, 802: 31878, 803: 32029, 804: 32031, 805: 32296, 806: 32587, 807: 33162, 808: 33493, 809: 33794, 810: 33836, 811: 34048, 812: 34319, 813: 37741, 814: 38388, 815: 42002, 816: 45499, 817: 45517, 818: 45668, 819: 45730, 820: 46530, 821: 48783, 822: 48997, 823: 49272, 824: 49278, 825: 49286, 826: 49824, 827: 586, 828: 187, 829: 627, 830: 922, 831: 1037, 832: 1095, 833: 1674, 834: 1987, 835: 2011, 836: 2023, 837: 2300, 838: 2877, 839: 2901, 840: 3173, 841: 3328, 842: 3735, 843: 4131, 844: 4558, 845: 5447, 846: 5451, 847: 5481, 848: 5507, 849: 5841, 850: 5843, 851: 5872, 852: 5890, 853: 5891, 854: 5893, 855: 5902, 856: 5956, 857: 5962, 858: 5965, 859: 5988, 860: 6001, 861: 6044, 862: 1028, 863: 1088, 864: 1247, 865: 1307, 866: 3882, 867: 4447, 868: 5066, 869: 5377, 870: 5620, 871: 5943, 872: 5957, 873: 6155, 874: 6266, 875: 6377, 876: 6535, 877: 6942, 878: 7149, 879: 7151, 880: 7154, 881: 7169, 882: 7293, 883: 7375, 884: 7451, 885: 7458, 886: 8529, 887: 8533, 888: 8869, 889: 8969, 890: 30749, 891: 31433, 892: 31685, 893: 33145, 894: 33679, 895: 40629, 896: 40819, 897: 41285, 898: 47099, 899: 51662, 900: 51705, 901: 51834, 902: 54286, 903: 56367, 904: 56949, 905: 58047, 906: 59333, 907: 59421, 908: 60397, 909: 60950, 910: 61250, 911: 63113, 912: 63992, 913: 64969, 914: 66203, 915: 68954, 916: 69406, 917: 69844, 918: 70183, 919: 70293, 920: 71579, 921: 72011, 922: 72330, 923: 72407, 924: 72720, 925: 72737, 926: 72998, 927: 73017, 928: 74450, 929: 77841, 930: 78772, 931: 79091, 932: 80549, 933: 81784, 934: 81845, 935: 81847, 936: 82167, 937: 82499, 938: 84374, 939: 86548, 940: 87222, 941: 88163, 942: 88810, 943: 91104, 944: 92259, 945: 94070, 946: 95167, 947: 95449, 948: 95510, 949: 95543, 950: 96079, 951: 97024, 952: 97938, 953: 98203, 954: 103335, 955: 103339, 956: 104374, 957: 105211, 958: 106489, 959: 106696, 960: 107141, 961: 109374, 962: 109853, 963: 112006, 964: 113275, 965: 113394, 966: 119145, 967: 129428, 968: 136020, 969: 137595, 970: 140110, 971: 44, 972: 376, 973: 511, 974: 529, 975: 1100, 976: 1358, 977: 1370, 978: 1385, 979: 1438, 980: 1518, 981: 1586, 982: 1604, 983: 1608, 984: 1616, 985: 1687, 986: 1693, 987: 1721, 988: 1840, 989: 1882, 990: 1918, 991: 2002, 992: 2027, 993: 1357, 994: 1405, 995: 1876, 996: 2072, 997: 2100, 998: 2421, 999: 2485, 1000: 2572, 1001: 2581, 1002: 2694, 1003: 3668, 1004: 305, 1005: 1173, 1006: 1590, 1007: 1619, 1008: 1639, 1009: 2541, 1010: 3300, 1011: 3409, 1012: 3513, 1013: 3624, 1014: 3717, 1015: 3753, 1016: 3798, 1017: 3827, 1018: 3863, 1019: 3893, 1020: 3952, 1021: 4011, 1022: 4148, 1023: 193, 1024: 448, 1025: 784, 1026: 172, 1027: 858, 1028: 1200, 1029: 1347, 1030: 1527, 1031: 1653, 1032: 1909, 1033: 2001, 1034: 2081, 1035: 2085, 1036: 2278, 1037: 3156, 1038: 3499, 1039: 3510, 1040: 3535, 1041: 3555, 1042: 4022, 1043: 4720, 1044: 5971, 1045: 6502, 1046: 7254, 1047: 7438, 1048: 8644, 1049: 48304, 1050: 48774, 1051: 48780, 1052: 50872, 1053: 56174, 1054: 59315, 1055: 60069, 1056: 63859, 1057: 64614, 1058: 68237, 1059: 69757, 1060: 70286, 1061: 71057, 1062: 71264, 1063: 84152, 1064: 84954, 1065: 85414, 1066: 89745, 1067: 91500, 1068: 94864, 1069: 96610, 1070: 101864, 1071: 103249, 1072: 104841, 1073: 105504, 1074: 110102, 1075: 111759, 1076: 112556, 1077: 112852, 1078: 115149, 1079: 120466, 1080: 122886, 1081: 122904, 1082: 122922, 1083: 122924, 1084: 134130, 1085: 134853, 1086: 143385, 1087: 152077, 1088: 152081, 1089: 158872, 1090: 160980, 1091: 166528, 1092: 166635, 1093: 111, 1094: 541, 1095: 678, 1096: 745, 1097: 913, 1098: 1147, 1099: 1148, 1100: 1186, 1101: 1193, 1102: 1201, 1103: 1207, 1104: 1223, 1105: 1230, 1106: 1252, 1107: 1260, 1108: 1261, 1109: 1267, 1110: 1276, 1111: 1281, 1112: 1299, 1113: 1680, 1114: 2490, 1115: 2707, 1116: 2723, 1117: 3000, 1118: 3022, 1119: 3108, 1120: 3174, 1121: 3429, 1122: 3683, 1123: 3741, 1124: 4878, 1125: 4973, 1126: 5782, 1127: 6350, 1128: 7099, 1129: 7361, 1130: 27611, 1131: 27773, 1132: 48394, 1133: 78499, 1134: 1036, 1135: 1209, 1136: 1221, 1137: 1228, 1138: 1234, 1139: 1375, 1140: 2194, 1141: 3039, 1142: 3263, 1143: 3435, 1144: 3681, 1145: 4571, 1146: 6016, 1147: 6870, 1148: 7482, 1149: 31658, 1150: 64839, 1151: 68358, 1152: 80463, 1153: 81932, 1154: 82459, 1155: 431, 1156: 442, 1157: 555, 1158: 653, 1159: 778, 1160: 1020, 1161: 1059, 1162: 1212, 1163: 1227, 1164: 1245, 1165: 1356, 1166: 1374, 1167: 1544, 1168: 1729, 1169: 1924, 1170: 1961, 1171: 2184, 1172: 2409, 1173: 2410, 1174: 2411, 1175: 2412, 1176: 2420, 1177: 2422, 1178: 2706, 1179: 2918, 1180: 2951, 1181: 2953, 1182: 3081, 1183: 3257, 1184: 3275, 1185: 3462, 1186: 3751, 1187: 3785, 1188: 3896, 1189: 4007, 1190: 4262, 1191: 4327, 1192: 4383, 1193: 4728, 1194: 4816, 1195: 5008, 1196: 5120, 1197: 5266, 1198: 5418, 1199: 5574, 1200: 5608, 1201: 5669, 1202: 5679, 1203: 5903, 1204: 5944, 1205: 5995, 1206: 6287, 1207: 6300, 1208: 6373, 1209: 6378, 1210: 6440, 1211: 6548, 1212: 6709, 1213: 6787, 1214: 6807, 1215: 6888, 1216: 7018, 1217: 7147, 1218: 7317, 1219: 7318, 1220: 7323, 1221: 7373, 1222: 7753, 1223: 7843, 1224: 8117, 1225: 8361, 1226: 8641, 1227: 8784, 1228: 8917, 1229: 8950, 1230: 26444, 1231: 26614, 1232: 27689, 1233: 27716, 1234: 27831, 1235: 27878, 1236: 30793, 1237: 32460, 1238: 33004, 1239: 33615, 1240: 34150, 1241: 34405, 1242: 36519, 1243: 36529, 1244: 37386, 1245: 37729, 1246: 37733, 1247: 38038, 1248: 38061, 1249: 44022, 1250: 44191, 1251: 44199, 1252: 44555, 1253: 44665, 1254: 45722, 1255: 46578, 1256: 46965, 1257: 47200, 1258: 47491, 1259: 49651, 1260: 51357, 1261: 51540, 1262: 52604, 1263: 53125, 1264: 53129, 1265: 53318, 1266: 53464, 1267: 53972, 1268: 53996, 1269: 54272, 1270: 55118, 1271: 55247, 1272: 55276, 1273: 55290, 1274: 55765, 1275: 56757, 1276: 57528, 1277: 57640, 1278: 57669, 1279: 58295, 1280: 58299, 1281: 59615, 1282: 59784, 1283: 60040, 1284: 60074, 1285: 60684, 1286: 62434, 1287: 63131, 1288: 64197, 1289: 64957, 1290: 65596, 1291: 66934, 1292: 67255, 1293: 68073, 1294: 68159, 1295: 68319, 1296: 69122, 1297: 69640, 1298: 69951, 1299: 71108, 1300: 71156, 1301: 71899, 1302: 73268, 1303: 73321, 1304: 73323, 1305: 73499, 1306: 74510, 1307: 74789, 1308: 74948, 1309: 76077, 1310: 76175, 1311: 76251, 1312: 77561, 1313: 78469, 1314: 79293, 1315: 79592, 1316: 79695, 1317: 79702, 1318: 80219, 1319: 81788, 1320: 83349, 1321: 84392, 1322: 85354, 1323: 86190, 1324: 86332, 1325: 86628, 1326: 86880, 1327: 87232, 1328: 88094, 1329: 88129, 1330: 88140, 1331: 90600, 1332: 91485, 1333: 91542, 1334: 92094, 1335: 95441, 1336: 96432, 1337: 96488, 1338: 96655, 1339: 97752, 1340: 98124, 1341: 98585, 1342: 98809, 1343: 99728, 1344: 99813, 1345: 102125, 1346: 102445, 1347: 102903, 1348: 103253, 1349: 103772, 1350: 104241, 1351: 104879, 1352: 106072, 1353: 106487, 1354: 106839, 1355: 107846, 1356: 111362, 1357: 112183, 1358: 112334, 1359: 112421, 1360: 114066, 1361: 116797, 1362: 116823, 1363: 117176, 1364: 118900, 1365: 122892, 1366: 122900, 1367: 122918, 1368: 122920, 1369: 122926, 1370: 128620, 1371: 135569, 1372: 139385, 1373: 140289, 1374: 141688, 1375: 142488, 1376: 144210, 1377: 145283, 1378: 148626, 1379: 150548, 1380: 155168, 1381: 157108, 1382: 157110, 1383: 158238, 1384: 158972, 1385: 159093, 1386: 160438, 1387: 161582, 1388: 162350, 1389: 162606, 1390: 164179, 1391: 166015, 1392: 168252, 1393: 171023, 1394: 176101, 1395: 177593, 1396: 180095, 1397: 180777, 1398: 185135, 1399: 12, 1400: 48, 1401: 64, 1402: 107, 1403: 118, 1404: 173, 1405: 295, 1406: 325, 1407: 328, 1408: 338, 1409: 372, 1410: 379, 1411: 407, 1412: 414, 1413: 420, 1414: 422, 1415: 427, 1416: 486, 1417: 512, 1418: 513, 1419: 551, 1420: 558, 1421: 610, 1422: 611, 1423: 671, 1424: 674, 1425: 724, 1426: 742, 1427: 743, 1428: 761, 1429: 785, 1430: 788, 1431: 798, 1432: 810, 1433: 829, 1434: 832, 1435: 866, 1436: 879, 1437: 903, 1438: 906, 1439: 911, 1440: 915, 1441: 921, 1442: 931, 1443: 933, 1444: 965, 1445: 984, 1446: 1016, 1447: 1021, 1448: 1047, 1449: 1081, 1450: 1129, 1451: 1215, 1452: 1238, 1453: 1257, 1454: 1269, 1455: 1285, 1456: 1297, 1457: 1322, 1458: 1324, 1459: 1330, 1460: 1333, 1461: 1339, 1462: 1342, 1463: 1345, 1464: 1346, 1465: 1355, 1466: 1359, 1467: 1367, 1468: 1372, 1469: 1373, 1470: 1376, 1471: 1378, 1472: 1379, 1473: 1380, 1474: 1394, 1475: 1407, 1476: 1409, 1477: 1427, 1478: 1441, 1479: 1456, 1480: 1457, 1481: 1461, 1482: 1474, 1483: 1479, 1484: 1485, 1485: 1489, 1486: 1499, 1487: 1542, 1488: 1550, 1489: 1551, 1490: 1556, 1491: 1562, 1492: 1566, 1493: 1569, 1494: 1583, 1495: 1588, 1496: 1591, 1497: 1593, 1498: 1603, 1499: 1614, 1500: 1645, 1501: 1648, 1502: 1658, 1503: 1663, 1504: 1665, 1505: 1679, 1506: 1681, 1507: 1688, 1508: 1689, 1509: 1690, 1510: 1702, 1511: 1717, 1512: 1718, 1513: 1722, 1514: 1747, 1515: 1748, 1516: 1754, 1517: 1779, 1518: 1783, 1519: 1798, 1520: 1806, 1521: 1812, 1522: 1816, 1523: 1831, 1524: 1845, 1525: 1848, 1526: 1855, 1527: 1862, 1528: 1881, 1529: 1888, 1530: 1891, 1531: 1894, 1532: 1906, 1533: 1911, 1534: 1919, 1535: 1921, 1536: 1963, 1537: 1970, 1538: 1971, 1539: 1972, 1540: 1973, 1541: 1991, 1542: 1994, 1543: 2003, 1544: 2004, 1545: 2014, 1546: 2015, 1547: 2016, 1548: 2026, 1549: 2034, 1550: 2036, 1551: 2037, 1552: 2040, 1553: 2041, 1554: 2044, 1555: 2052, 1556: 2053, 1557: 2060, 1558: 2065, 1559: 2082, 1560: 2088, 1561: 2092, 1562: 2097, 1563: 2108, 1564: 2110, 1565: 2111, 1566: 2118, 1567: 2123, 1568: 2133, 1569: 2134, 1570: 2140, 1571: 2144, 1572: 2148, 1573: 2153, 1574: 2167, 1575: 2169, 1576: 2171, 1577: 2206, 1578: 2227, 1579: 2232, 1580: 2243, 1581: 2244, 1582: 2245, 1583: 2248, 1584: 2249, 1585: 2255, 1586: 2261, 1587: 2263, 1588: 2266, 1589: 2267, 1590: 2279, 1591: 2287, 1592: 2294, 1593: 2302, 1594: 2315, 1595: 2320, 1596: 2321, 1597: 2328, 1598: 2335, 1599: 2354, 1600: 2355, 1601: 2369, 1602: 2371, 1603: 2372, 1604: 2374, 1605: 2375, 1606: 2393, 1607: 2394, 1608: 2396, 1609: 2407, 1610: 2413, 1611: 2416, 1612: 2418, 1613: 2423, 1614: 2428, 1615: 2446, 1616: 2453, 1617: 2455, 1618: 2458, 1619: 2463, 1620: 2465, 1621: 2468, 1622: 2491, 1623: 2496, 1624: 2513, 1625: 2518, 1626: 2539, 1627: 2548, 1628: 2550, 1629: 2555, 1630: 2558, 1631: 2605, 1632: 2606, 1633: 2614, 1634: 2622, 1635: 2642, 1636: 2643, 1637: 2668, 1638: 2672, 1639: 2687, 1640: 2699, 1641: 2709, 1642: 2710, 1643: 2719, 1644: 2720, 1645: 2722, 1646: 2733, 1647: 2746, 1648: 2754, 1649: 2788, 1650: 2793, 1651: 2802, 1652: 2804, 1653: 2806, 1654: 2808, 1655: 2822, 1656: 2836, 1657: 2840, 1658: 2857, 1659: 2860, 1660: 2867, 1661: 2870, 1662: 2883, 1663: 2888, 1664: 2898, 1665: 2900, 1666: 2915, 1667: 2936, 1668: 2968, 1669: 2995, 1670: 3005, 1671: 3016, 1672: 3017, 1673: 3031, 1674: 3032, 1675: 3035, 1676: 3040, 1677: 3048, 1678: 3056, 1679: 3063, 1680: 3064, 1681: 3070, 1682: 3072, 1683: 3082, 1684: 3087, 1685: 3101, 1686: 3104, 1687: 3113, 1688: 3146, 1689: 3190, 1690: 3203, 1691: 3213, 1692: 3219, 1693: 3225, 1694: 3238, 1695: 3248, 1696: 3254, 1697: 3258, 1698: 3264, 1699: 3269, 1700: 3301, 1701: 3308, 1702: 3316, 1703: 3324, 1704: 3355, 1705: 3361, 1706: 3370, 1707: 3387, 1708: 3393, 1709: 3394, 1710: 3395, 1711: 3396, 1712: 3397, 1713: 3398, 1714: 3400, 1715: 3401, 1716: 3418, 1717: 3421, 1718: 3424, 1719: 3454, 1720: 3466, 1721: 3471, 1722: 3476, 1723: 3477, 1724: 3483, 1725: 3484, 1726: 3497, 1727: 3500, 1728: 3501, 1729: 3505, 1730: 3515, 1731: 3526, 1732: 3534, 1733: 3536, 1734: 3548, 1735: 3550, 1736: 3551, 1737: 3584, 1738: 3594, 1739: 3608, 1740: 3622, 1741: 3662, 1742: 3685, 1743: 3686, 1744: 3692, 1745: 3693, 1746: 3698, 1747: 3699, 1748: 3701, 1749: 3704, 1750: 3705, 1751: 3706, 1752: 3708, 1753: 3712, 1754: 3743, 1755: 3745, 1756: 3752, 1757: 3754, 1758: 3763, 1759: 3770, 1760: 3784, 1761: 3797, 1762: 3802, 1763: 3825, 1764: 3826, 1765: 3835, 1766: 3837, 1767: 3839, 1768: 1010, 1769: 1012, 1770: 1013, 1771: 1015, 1772: 1018, 1773: 1022, 1774: 1035, 1775: 1547, 1776: 2006, 1777: 2059, 1778: 2083, 1779: 2087, 1780: 2089, 1781: 2135, 1782: 2430, 1783: 2565, 1784: 2941, 1785: 3157, 1786: 3159, 1787: 3189, 1788: 3410, 1789: 3438, 1790: 3512, 1791: 3549, 1792: 3565, 1793: 3615, 1794: 3755, 1795: 3852, 1796: 3948, 1797: 3972, 1798: 3986, 1799: 3988, 1800: 3990, 1801: 3999, 1802: 4016, 1803: 4019, 1804: 4025, 1805: 4039, 1806: 4054, 1807: 4090, 1808: 4154, 1809: 4161, 1810: 4232, 1811: 4270, 1812: 4299, 1813: 4344, 1814: 4366, 1815: 4367, 1816: 4369, 1817: 4378, 1818: 4446, 1819: 4449, 1820: 4519, 1821: 4638, 1822: 4718, 1823: 4734, 1824: 4776, 1825: 4783, 1826: 4821, 1827: 4846, 1828: 4848, 1829: 4865, 1830: 4901, 1831: 4979, 1832: 4990, 1833: 5013, 1834: 5014, 1835: 5015, 1836: 5103, 1837: 5110, 1838: 5171, 1839: 5254, 1840: 5293, 1841: 5299, 1842: 5313, 1843: 5364, 1844: 5388, 1845: 5419, 1846: 5463, 1847: 5504, 1848: 5630, 1849: 5693, 1850: 5785, 1851: 6143, 1852: 6156, 1853: 6157, 1854: 6166, 1855: 6170, 1856: 6297, 1857: 6345, 1858: 6358, 1859: 38, 1860: 2376, 1861: 2378, 1862: 2402, 1863: 2403, 1864: 2724, 1865: 2989, 1866: 2990, 1867: 3633, 1868: 3635, 1869: 3638, 1870: 3697, 1871: 3868, 1872: 3984, 1873: 4005, 1874: 4040, 1875: 4085, 1876: 4489, 1877: 4545, 1878: 4621, 1879: 4701, 1880: 5219, 1881: 5796, 1882: 6503, 1883: 7569, 1884: 7570, 1885: 7573, 1886: 7701, 1887: 8574, 1888: 8946, 1889: 26340, 1890: 30825, 1891: 34162, 1892: 39715, 1893: 40815, 1894: 41566, 1895: 45186, 1896: 45447, 1897: 45672, 1898: 46972, 1899: 47566, 1900: 47997, 1901: 50189, 1902: 51084, 1903: 52730, 1904: 52973, 1905: 53121, 1906: 53322, 1907: 54276, 1908: 56775, 1909: 58025, 1910: 58998, 1911: 59369, 1912: 59429, 1913: 59900, 1914: 61160, 1915: 63082, 1916: 64032, 1917: 68791, 1918: 68793, 1919: 69526, 1920: 69644, 1921: 72641, 1922: 73106, 1923: 73319, 1924: 73858, 1925: 76093, 1926: 78637, 1927: 79134, 1928: 79185, 1929: 80166, 1930: 81229, 1931: 81564, 1932: 81591, 1933: 81834, 1934: 82202, 1935: 85259, 1936: 86068, 1937: 87520, 1938: 88125, 1939: 88405, 1940: 88744, 1941: 90249, 1942: 91535, 1943: 91630, 1944: 93510, 1945: 94503, 1946: 94677, 1947: 94777, 1948: 95067, 1949: 95170, 1950: 95738, 1951: 96004, 1952: 96588, 1953: 97913, 1954: 99532, 1955: 102481, 1956: 102716, 1957: 102993, 1958: 103141, 1959: 103228, 1960: 103372, 1961: 103384, 1962: 103801, 1963: 103810, 1964: 103819, 1965: 103883, 1966: 104211, 1967: 105213, 1968: 105653, 1969: 105844, 1970: 105954, 1971: 106491, 1972: 106540, 1973: 106916, 1974: 106918, 1975: 106920, 1976: 107013, 1977: 107449, 1978: 108156, 1979: 108190, 1980: 108932, 1981: 108945, 1982: 109576, 1983: 109723, 1984: 109864, 1985: 110130, 1986: 110553, 1987: 111113, 1988: 111617, 1989: 111743, 1990: 111781, 1991: 111844, 1992: 112138, 1993: 112175, 1994: 114180, 1995: 114818, 1996: 115502, 1997: 115617, 1998: 115877, 1999: 117368, 2000: 117529, 2001: 117572, 2002: 117590, 2003: 117851, 2004: 117922, 2005: 119141, 2006: 119155, 2007: 119964, 2008: 126548, 2009: 130450, 2010: 132157, 2011: 133419, 2012: 134368, 2013: 134393, 2014: 135133, 2015: 135536, 2016: 135861, 2017: 135887, 2018: 136016, 2019: 138036, 2020: 138186, 2021: 139642, 2022: 139717, 2023: 139915, 2024: 140301, 2025: 142536, 2026: 143245, 2027: 148675, 2028: 149380, 2029: 160565, 2030: 160872, 2031: 164909, 2032: 166492, 2033: 167036, 2034: 168248, 2035: 173307, 2036: 1952, 2037: 1953, 2038: 2160, 2039: 3006, 2040: 4017, 2041: 4036, 2042: 4903, 2043: 5617, 2044: 5673, 2045: 6711, 2046: 8464, 2047: 8622, 2048: 30707, 2049: 31410, 2050: 34437, 2051: 39183, 2052: 41997, 2053: 46976, 2054: 52281, 2055: 53519, 2056: 54503, 2057: 55820, 2058: 56171, 2059: 56782, 2060: 56788, 2061: 60766, 2062: 61323, 2063: 64575, 2064: 66097, 2065: 68536, 2066: 71464, 2067: 29, 2068: 175, 2069: 272, 2070: 334, 2071: 741, 2072: 1050, 2073: 1175, 2074: 1217, 2075: 1218, 2076: 1232, 2077: 1233, 2078: 1237, 2079: 1243, 2080: 1248, 2081: 1249, 2082: 1274, 2083: 1284, 2084: 1425, 2085: 1464, 2086: 1711, 2087: 1809, 2088: 1859, 2089: 1884, 2090: 1960, 2091: 2579, 2092: 2686, 2093: 2726, 2094: 2730, 2095: 2912, 2096: 3030, 2097: 3181, 2098: 3265, 2099: 3822, 2100: 4235, 2101: 5333, 2102: 6234, 2103: 6387, 2104: 6721, 2105: 6773, 2106: 6790, 2107: 6857, 2108: 6920, 2109: 6989, 2110: 7064, 2111: 7069, 2112: 7123, 2113: 7587, 2114: 7924, 2115: 7932, 2116: 8012, 2117: 8228, 2118: 8370, 2119: 2405, 2120: 3556, 2121: 4855, 2122: 5064, 2123: 5791, 2124: 31696, 2125: 35836, 2126: 47610, 2127: 57368, 2128: 61024, 2129: 61132, 2130: 86882, 2131: 102407, 2132: 132660, 2133: 122912, 2134: 122916, 2135: 176371, 2136: 187541, 2137: 187593, 2138: 238, 2139: 421, 2140: 808, 2141: 969, 2142: 1083, 2143: 1262, 2144: 1287, 2145: 1387, 2146: 1592, 2147: 2032, 2148: 2142, 2149: 2151, 2150: 2311, 2151: 2530, 2152: 2532, 2153: 2876, 2154: 2886, 2155: 3037, 2156: 3350, 2157: 3451, 2158: 3519, 2159: 3654, 2160: 3791, 2161: 3836, 2162: 23, 2163: 147, 2164: 211, 2165: 428, 2166: 456, 2167: 481, 2168: 507, 2169: 635, 2170: 714, 2171: 851, 2172: 1120, 2173: 1171, 2174: 1253, 2175: 1271, 2176: 1303, 2177: 1459, 2178: 1480, 2179: 1678, 2180: 1785, 2181: 2021, 2182: 2231, 2183: 2272, 2184: 2358, 2185: 2618, 2186: 2841, 2187: 2908, 2188: 2952, 2189: 3020, 2190: 3100, 2191: 3105, 2192: 3107, 2193: 3169, 2194: 3178, 2195: 3198, 2196: 3246, 2197: 3250, 2198: 3252, 2199: 3256, 2200: 3260, 2201: 3271, 2202: 3272, 2203: 3360, 2204: 3543, 2205: 3783, 2206: 3950, 2207: 3980, 2208: 4047, 2209: 4211, 2210: 4238, 2211: 4251, 2212: 4343, 2213: 4626, 2214: 4688, 2215: 4772, 2216: 4787, 2217: 5009, 2218: 5010, 2219: 5055, 2220: 5152, 2221: 5267, 2222: 5292, 2223: 5329, 2224: 5446, 2225: 5577, 2226: 5632, 2227: 5682, 2228: 5747, 2229: 5945, 2230: 5955, 2231: 6281, 2232: 6428, 2233: 6537, 2234: 6552, 2235: 6565, 2236: 6617, 2237: 6796, 2238: 6817, 2239: 6867, 2240: 6884, 2241: 6947, 2242: 6953, 2243: 6957, 2244: 6974, 2245: 6993, 2246: 6997, 2247: 7009, 2248: 7025, 2249: 7090, 2250: 7263, 2251: 7481, 2252: 7649, 2253: 7706, 2254: 7841, 2255: 7842, 2256: 7884, 2257: 8010, 2258: 8132, 2259: 8378, 2260: 8493, 2261: 8495, 2262: 8633, 2263: 8810, 2264: 8874, 2265: 8914, 2266: 8937, 2267: 8951, 2268: 8977, 2269: 8982, 2270: 8983, 2271: 26649, 2272: 26695, 2273: 26750, 2274: 26812, 2275: 26901, 2276: 27408, 2277: 27450, 2278: 27788, 2279: 27793, 2280: 31101, 2281: 31116, 2282: 31225, 2283: 31420, 2284: 33166, 2285: 33558, 2286: 33660, 2287: 34536, 2288: 36517, 2289: 36527, 2290: 37731, 2291: 37739, 2292: 38886, 2293: 39381, 2294: 39444, 2295: 40278, 2296: 40414, 2297: 40583, 2298: 41569, 2299: 41863, 2300: 42004, 2301: 43396, 2302: 43921, 2303: 43928, 2304: 43936, 2305: 44195, 2306: 44204, 2307: 44761, 2308: 45658, 2309: 46723, 2310: 47629, 2311: 47644, 2312: 47894, 2313: 48326, 2314: 48385, 2315: 48738, 2316: 48879, 2317: 49265, 2318: 49530, 2319: 49822, 2320: 49961, 2321: 50068, 2322: 50442, 2323: 51080, 2324: 51255, 2325: 51471, 2326: 51935, 2327: 52042, 2328: 52241, 2329: 52328, 2330: 52952, 2331: 53123, 2332: 53550, 2333: 53953, 2334: 54736, 2335: 54962, 2336: 54997, 2337: 55080, 2338: 55094, 2339: 55116, 2340: 55274, 2341: 55363, 2342: 55721, 2343: 55908, 2344: 56145, 2345: 56587, 2346: 56607, 2347: 56921, 2348: 58293, 2349: 58803, 2350: 59018, 2351: 59129, 2352: 59387, 2353: 60046, 2354: 60389, 2355: 60647, 2356: 60674, 2357: 60735, 2358: 60753, 2359: 60941, 2360: 60943, 2361: 61011, 2362: 61167, 2363: 61210, 2364: 61236, 2365: 61248, 2366: 61350, 2367: 61352, 2368: 61628, 2369: 61986, 2370: 62374, 2371: 62376, 2372: 62394, 2373: 62792, 2374: 62799, 2375: 62849, 2376: 63033, 2377: 63062, 2378: 63433, 2379: 64030, 2380: 64497, 2381: 64716, 2382: 64983, 2383: 64997, 2384: 65216, 2385: 65682, 2386: 65982, 2387: 67534, 2388: 68205, 2389: 69849, 2390: 70336, 2391: 71106, 2392: 71135, 2393: 953, 2394: 1204, 2395: 1242, 2396: 1772, 2397: 1792, 2398: 1939, 2399: 1945, 2400: 2301, 2401: 3363, 2402: 4980, 2403: 7156, 2404: 7379, 2405: 26554, 2406: 26729, 2407: 64620, 2408: 87306, 2409: 98961, 2410: 96821, 2411: 605, 2412: 612, 2413: 1099, 2414: 1231, 2415: 1353, 2416: 1361, 2417: 1363, 2418: 1393, 2419: 74, 2420: 78, 2421: 194, 2422: 203, 2423: 246, 2424: 471, 2425: 786, 2426: 1104, 2427: 1429, 2428: 1458, 2429: 28, 2430: 94, 2431: 249, 2432: 307, 2433: 308, 2434: 322, 2435: 385, 2436: 446, 2437: 452, 2438: 562, 2439: 580, 2440: 613, 2441: 715, 2442: 805, 2443: 994, 2444: 1027, 2445: 1056, 2446: 1177, 2447: 1280, 2448: 1365, 2449: 1399, 2450: 1446, 2451: 1476, 2452: 1487, 2453: 1537, 2454: 1545, 2455: 1621, 2456: 1633, 2457: 1643, 2458: 1672, 2459: 1673, 2460: 1799, 2461: 1801, 2462: 1841, 2463: 2112, 2464: 2310, 2465: 2333, 2466: 2357, 2467: 2391, 2468: 2443, 2469: 2501, 2470: 2690, 2471: 2875, 2472: 2943, 2473: 3997, 2474: 5146, 2475: 5449, 2476: 6242, 2477: 6567, 2478: 6618, 2479: 26606, 2480: 27193, 2481: 27728, 2482: 27801, 2483: 31184, 2484: 44974, 2485: 544, 2486: 2269, 2487: 2735, 2488: 2794, 2489: 3066, 2490: 3270, 2491: 3347, 2492: 3362, 2493: 3766, 2494: 3861, 2495: 4220, 2496: 5093, 2497: 5312, 2498: 6662, 2499: 585, 2500: 2342, 2501: 3019, 2502: 82, 2503: 121, 2504: 199, 2505: 228, 2506: 306, 2507: 514, 2508: 685, 2509: 3285, 2510: 3968, 2511: 4890, 2512: 6708, 2513: 6763, 2514: 7173, 2515: 7444, 2516: 8981, 2517: 54001, 2518: 55280, 2519: 56941, 2520: 59725, 2521: 61240, 2522: 65230, 2523: 71033, 2524: 85774, 2525: 86781, 2526: 87869, 2527: 89759, 2528: 93840, 2529: 96829, 2530: 97921, 2531: 100714, 2532: 101525, 2533: 103980, 2534: 111659, 2535: 111921, 2536: 112290, 2537: 115569, 2538: 116897, 2539: 125916, 2540: 128360, 2541: 136864, 2542: 122, 2543: 144, 2544: 227, 2545: 408, 2546: 413, 2547: 418, 2548: 424, 2549: 433, 2550: 436, 2551: 459, 2552: 550, 2553: 639, 2554: 782, 2555: 1191, 2556: 1343, 2557: 1431, 2558: 1453, 2559: 1468, 2560: 1488, 2561: 1513, 2562: 1667, 2563: 1726, 2564: 1810, 2565: 1835, 2566: 1975, 2567: 1976, 2568: 2146, 2569: 2155, 2570: 2236, 2571: 2297, 2572: 2306, 2573: 2352, 2574: 2404, 2575: 2433, 2576: 2497, 2577: 2500, 2578: 2505, 2579: 2568, 2580: 2574, 2581: 2598, 2582: 2702, 2583: 2713, 2584: 2771, 2585: 2795, 2586: 2796, 2587: 2805, 2588: 2827, 2589: 2861, 2590: 2871, 2591: 2890, 2592: 2906, 2593: 3098, 2594: 3120, 2595: 3142, 2596: 3177, 2597: 3186, 2598: 3208, 2599: 3259, 2600: 3261, 2601: 3298, 2602: 3326, 2603: 3502, 2604: 3552, 2605: 3646, 2606: 3694, 2607: 3695, 2608: 3764, 2609: 3824, 2610: 3841, 2611: 3946, 2612: 3987, 2613: 4008, 2614: 4041, 2615: 4062, 2616: 4067, 2617: 4084, 2618: 4102, 2619: 4132, 2620: 4153, 2621: 4155, 2622: 4207, 2623: 4280, 2624: 4293, 2625: 4317, 2626: 4321, 2627: 4322, 2628: 4333, 2629: 4349, 2630: 4351, 2631: 4359, 2632: 4361, 2633: 4396, 2634: 4442, 2635: 4466, 2636: 4477, 2637: 4482, 2638: 4487, 2639: 4509, 2640: 4516, 2641: 4541, 2642: 4564, 2643: 4565, 2644: 4577, 2645: 4623, 2646: 4629, 2647: 4654, 2648: 4679, 2649: 4686, 2650: 57, 2651: 259, 2652: 484, 2653: 519, 2654: 828, 2655: 1105, 2656: 18, 2657: 663, 2658: 737, 2659: 833, 2660: 836, 2661: 889, 2662: 69, 2663: 934, 2664: 1005, 2665: 1033, 2666: 1390, 2667: 1442, 2668: 1615, 2669: 1642, 2670: 1753, 2671: 1769, 2672: 1863, 2673: 1866, 2674: 1934, 2675: 2042, 2676: 2064, 2677: 2106, 2678: 2124, 2679: 2195, 2680: 2431, 2681: 2504, 2682: 2718, 2683: 2731, 2684: 3004, 2685: 3196, 2686: 3249, 2687: 3268, 2688: 3274, 2689: 3385, 2690: 4104, 2691: 4502, 2692: 4929, 2693: 4958, 2694: 4974, 2695: 5151, 2696: 5220, 2697: 5283, 2698: 5307, 2699: 5308, 2700: 5500, 2701: 5528, 2702: 5568, 2703: 5582, 2704: 5585, 2705: 5589, 2706: 7294, 2707: 33495, 2708: 53993, 2709: 391, 2710: 2121, 2711: 2942, 2712: 3844, 2713: 3969, 2714: 4474, 2715: 4975, 2716: 5108, 2717: 6765, 2718: 7160, 2719: 8966, 2720: 45950, 2721: 47423, 2722: 51931, 2723: 53894, 2724: 63876, 2725: 68932, 2726: 69712, 2727: 72395, 2728: 79242, 2729: 82767, 2730: 96567, 2731: 96811, 2732: 97923, 2733: 100383, 2734: 106100, 2735: 108729, 2736: 112804, 2737: 117881, 2738: 132424, 2739: 137337, 2740: 140174, 2741: 140247, 2742: 140715, 2743: 145839, 2744: 146656, 2745: 159817, 2746: 163645, 2747: 166643, 2748: 171011, 2749: 1320, 2750: 5882, 2751: 8371, 2752: 909, 2753: 1251, 2754: 1273, 2755: 1289, 2756: 2164, 2757: 2553, 2758: 2732, 2759: 2925, 2760: 3221, 2761: 3415, 2762: 3730, 2763: 4282, 2764: 4399, 2765: 4658, 2766: 4914, 2767: 4928, 2768: 5004, 2769: 5021, 2770: 5810, 2771: 5932, 2772: 6239, 2773: 6663, 2774: 6666, 2775: 6975, 2776: 7063, 2777: 7206, 2778: 7247, 2779: 7327, 2780: 7396, 2781: 7700, 2782: 7748, 2783: 8143, 2784: 8157, 2785: 8235, 2786: 8253, 2787: 8379, 2788: 8879, 2789: 8928, 2790: 8974, 2791: 26258, 2792: 26326, 2793: 26422, 2794: 27156, 2795: 27513, 2796: 32657, 2797: 32659, 2798: 32875, 2799: 32898, 2800: 33781, 2801: 37545, 2802: 44719, 2803: 45880, 2804: 46062, 2805: 46862, 2806: 52885, 2807: 62336, 2808: 62644, 2809: 63312, 2810: 64278, 2811: 66335, 2812: 79224, 2813: 81018, 2814: 81562, 2815: 82848, 2816: 85796, 2817: 88911, 2818: 90522, 2819: 90746, 2820: 91094, 2821: 92046, 2822: 92427, 2823: 92475, 2824: 93114, 2825: 93326, 2826: 96606, 2827: 97225, 2828: 97304, 2829: 100498, 2830: 101072, 2831: 103171, 2832: 104283, 2833: 104913, 2834: 105250, 2835: 107338, 2836: 107565, 2837: 111732, 2838: 113374, 2839: 115203, 2840: 122898, 2841: 127146, 2842: 128695, 2843: 134170, 2844: 134515, 2845: 135143, 2846: 135456, 2847: 136018, 2848: 136305, 2849: 136564, 2850: 137857, 2851: 138208, 2852: 139644, 2853: 140928, 2854: 142074, 2855: 142448, 2856: 142602, 2857: 142961, 2858: 142997, 2859: 143859, 2860: 143969, 2861: 149406, 2862: 151759, 2863: 156607, 2864: 160569, 2865: 164280, 2866: 165969, 2867: 167370, 2868: 168254, 2869: 168492, 2870: 170705, 2871: 170875, 2872: 171701, 2873: 171759, 2874: 172013, 2875: 172461, 2876: 174055, 2877: 174141, 2878: 174737, 2879: 175485, 2880: 175661, 2881: 175693, 2882: 175705, 2883: 175707, 2884: 175743, 2885: 175781, 2886: 179073, 2887: 188301, 2888: 190183, 2889: 387, 2890: 479, 2891: 482, 2892: 522, 2893: 781, 2894: 1011, 2895: 1014, 2896: 1235, 2897: 1244, 2898: 1301, 2899: 1350, 2900: 1873, 2901: 1997, 2902: 1999, 2903: 2159, 2904: 2183, 2905: 2265, 2906: 2322, 2907: 2356, 2908: 2363, 2909: 2379, 2910: 2380, 2911: 2408, 2912: 2454, 2913: 2524, 2914: 2533, 2915: 2554, 2916: 2587, 2917: 2613, 2918: 2615, 2919: 2634, 2920: 2661, 2921: 2664, 2922: 2752, 2923: 2978, 2924: 3115, 2925: 3148, 2926: 3388, 2927: 3430, 2928: 3614, 2929: 3799, 2930: 3814, 2931: 3917, 2932: 3918, 2933: 3959, 2934: 4215, 2935: 4241, 2936: 4255, 2937: 4267, 2938: 4291, 2939: 4340, 2940: 4437, 2941: 4464, 2942: 4496, 2943: 4508, 2944: 4591, 2945: 4713, 2946: 4876, 2947: 4971, 2948: 4992, 2949: 5040, 2950: 5339, 2951: 5505, 2952: 5672, 2953: 5712, 2954: 6323, 2955: 6371, 2956: 6659, 2957: 6786, 2958: 6793, 2959: 6873, 2960: 6880, 2961: 7000, 2962: 7004, 2963: 7007, 2964: 7040, 2965: 7163, 2966: 7757, 2967: 7983, 2968: 8623, 2969: 26680, 2970: 34338, 2971: 39414, 2972: 42723, 2973: 45666, 2974: 48877, 2975: 52722, 2976: 57532, 2977: 59306, 2978: 60487, 2979: 33646, 2980: 50794, 2981: 51077, 2982: 52245, 2983: 54995, 2984: 54999, 2985: 56801, 2986: 65514, 2987: 69481, 2988: 86892, 2989: 93721, 2990: 93838, 2991: 110501, 2992: 748, 2993: 916, 2994: 1125, 2995: 1982, 2996: 1293, 2997: 198, 2998: 473, 2999: 518, 3000: 707, 3001: 728, 3002: 861, 3003: 897, 3004: 942, 3005: 951, 3006: 955, 3007: 1184, 3008: 1254, 3009: 1268, 3010: 1277, 3011: 1388, 3012: 1416, 3013: 1498, 3014: 1564, 3015: 1646, 3016: 1670, 3017: 1858, 3018: 1912, 3019: 2009, 3020: 2067, 3021: 2102, 3022: 2202, 3023: 2289, 3024: 2429, 3025: 2476, 3026: 2681, 3027: 2759, 3028: 2917, 3029: 2922, 3030: 2935, 3031: 2961, 3032: 3045, 3033: 3334, 3034: 3426, 3035: 3446, 3036: 3494, 3037: 3507, 3038: 3593, 3039: 3628, 3040: 3632, 3041: 3643, 3042: 3769, 3043: 3773, 3044: 3774, 3045: 3811, 3046: 3901, 3047: 3937, 3048: 280, 3049: 928, 3050: 1151, 3051: 1428, 3052: 1631, 3053: 1696, 3054: 1797, 3055: 1944, 3056: 2020, 3057: 2075, 3058: 3075, 3059: 3230, 3060: 3461, 3061: 3498, 3062: 3504, 3063: 6460, 3064: 2739, 3065: 6058, 3066: 6541, 3067: 6564, 3068: 27660, 3069: 27706, 3070: 27808, 3071: 48043, 3072: 49130, 3073: 49649, 3074: 50804, 3075: 51086, 3076: 59501, 3077: 60072, 3078: 60126, 3079: 63072, 3080: 67734, 3081: 68554, 3082: 68848, 3083: 74228, 3084: 78105, 3085: 79357, 3086: 80693, 3087: 82461, 3088: 83369, 3089: 86911, 3090: 87430, 3091: 89492, 3092: 89864, 3093: 90866, 3094: 96861, 3095: 99149, 3096: 102123, 3097: 103042, 3098: 103341, 3099: 104863, 3100: 106002, 3101: 107348, 3102: 107406, 3103: 111360, 3104: 113741, 3105: 114662, 3106: 114678, 3107: 114935, 3108: 115210, 3109: 115680, 3110: 118696, 3111: 128512, 3112: 135518, 3113: 142222, 3114: 143355, 3115: 158966, 3116: 161131, 3117: 166534, 3118: 168250, 3119: 170827, 3120: 171763, 3121: 173925, 3122: 174053, 3123: 175303, 3124: 179401, 3125: 179819, 3126: 182715, 3127: 183611, 3128: 184471, 3129: 185031, 3130: 187595, 3131: 1202, 3132: 1965, 3133: 3088, 3134: 4105, 3135: 6104, 3136: 7022, 3137: 7132, 3138: 7387, 3139: 7980, 3140: 8376, 3141: 8873, 3142: 27846, 3143: 27904, 3144: 30810, 3145: 33779, 3146: 45728, 3147: 53000, 3148: 54259, 3149: 64285, 3150: 67997, 3151: 77800, 3152: 86290, 3153: 86504, 3154: 89753, 3155: 89904, 3156: 92494, 3157: 92535, 3158: 95858, 3159: 98491, 3160: 102217, 3161: 104069, 3162: 365, 3163: 968, 3164: 1096, 3165: 1762, 3166: 1889, 3167: 2313, 3168: 2905, 3169: 3041, 3170: 4023, 3171: 4128, 3172: 4380, 3173: 4448, 3174: 4773, 3175: 4964, 3176: 5026, 3177: 5225, 3178: 5291, 3179: 5417, 3180: 5690, 3181: 5878, 3182: 5954, 3183: 6188, 3184: 6214, 3185: 6218, 3186: 6296, 3187: 6331, 3188: 6385, 3189: 6936, 3190: 6944, 3191: 7139, 3192: 7162, 3193: 7235, 3194: 7360, 3195: 7411, 3196: 7743, 3197: 7930, 3198: 7982, 3199: 8014, 3200: 8093, 3201: 8645, 3202: 8795, 3203: 8832, 3204: 26504, 3205: 27020, 3206: 27266, 3207: 27523, 3208: 27869, 3209: 33683, 3210: 34072, 3211: 42632, 3212: 255, 3213: 523, 3214: 535, 3215: 1216, 3216: 1326, 3217: 1382, 3218: 1541, 3219: 1956, 3220: 2257, 3221: 2312, 3222: 2316, 3223: 2401, 3224: 2956, 3225: 2966, 3226: 3029, 3227: 3074, 3228: 3201, 3229: 3262, 3230: 3444, 3231: 4079, 3232: 4149, 3233: 4158, 3234: 4203, 3235: 4231, 3236: 4465, 3237: 4499, 3238: 4537, 3239: 4572, 3240: 4581, 3241: 4585, 3242: 4611, 3243: 4616, 3244: 5023, 3245: 5265, 3246: 5548, 3247: 5644, 3248: 6022, 3249: 6025, 3250: 6124, 3251: 6313, 3252: 6636, 3253: 6754, 3254: 6832, 3255: 6979, 3256: 6996, 3257: 7015, 3258: 7027, 3259: 7028, 3260: 7046, 3261: 7048, 3262: 7127, 3263: 7325, 3264: 7493, 3265: 7624, 3266: 7647, 3267: 7766, 3268: 8024, 3269: 8158, 3270: 5628, 3271: 8604, 3272: 8605, 3273: 875, 3274: 932, 3275: 1017, 3276: 1019, 3277: 1292, 3278: 1381, 3279: 1515, 3280: 1635, 3281: 1703, 3282: 2125, 3283: 2334, 3284: 2340, 3285: 2385, 3286: 2471, 3287: 2560, 3288: 2567, 3289: 2662, 3290: 2728, 3291: 2803, 3292: 2881, 3293: 2950, 3294: 3077, 3295: 3452, 3296: 3553, 3297: 3554, 3298: 3653, 3299: 3675, 3300: 3707, 3301: 3786, 3302: 3978, 3303: 3981, 3304: 4015, 3305: 4068, 3306: 4069, 3307: 4124, 3308: 4141, 3309: 4326, 3310: 4356, 3311: 4372, 3312: 4387, 3313: 4388, 3314: 4639, 3315: 4677, 3316: 4681, 3317: 4823, 3318: 4877, 3319: 4969, 3320: 5049, 3321: 5400, 3322: 5444, 3323: 5541, 3324: 5553, 3325: 6193, 3326: 6383, 3327: 6595, 3328: 6707, 3329: 6753, 3330: 6755, 3331: 6879, 3332: 6893, 3333: 6939, 3334: 7010, 3335: 7137, 3336: 7256, 3337: 7320, 3338: 7346, 3339: 7454, 3340: 7541, 3341: 7566, 3342: 8366, 3343: 8677, 3344: 8781, 3345: 8807, 3346: 8861, 3347: 8866, 3348: 8910, 3349: 8947, 3350: 8968, 3351: 8985, 3352: 26712, 3353: 26778, 3354: 26871, 3355: 27473, 3356: 27539, 3357: 27705, 3358: 30822, 3359: 31049, 3360: 32598, 3361: 33154, 3362: 33437, 3363: 33672, 3364: 34153, 3365: 34542, 3366: 40732, 3367: 40959, 3368: 41571, 3369: 41573, 3370: 41724, 3371: 42018, 3372: 42718, 3373: 42738, 3374: 44004, 3375: 44709, 3376: 44788, 3377: 45431, 3378: 45501, 3379: 45720, 3380: 45726, 3381: 45928, 3382: 46322, 3383: 46948, 3384: 47970, 3385: 47978, 3386: 47999, 3387: 48342, 3388: 48696, 3389: 49274, 3390: 49772, 3391: 50658, 3392: 50685, 3393: 50740, 3394: 50806, 3395: 51709, 3396: 51884, 3397: 52287, 3398: 52435, 3399: 52458, 3400: 52767, 3401: 52975, 3402: 53435, 3403: 54004, 3404: 54116, 3405: 54121, 3406: 54281, 3407: 54734, 3408: 54881, 3409: 55052, 3410: 55112, 3411: 55190, 3412: 55232, 3413: 55253, 3414: 55267, 3415: 55282, 3416: 55620, 3417: 55830, 3418: 56152, 3419: 56251, 3420: 56336, 3421: 56339, 3422: 56379, 3423: 57951, 3424: 58078, 3425: 58107, 3426: 58162, 3427: 58347, 3428: 58839, 3429: 59126, 3430: 59220, 3431: 59258, 3432: 59440, 3433: 59731, 3434: 60363, 3435: 60514, 3436: 62155, 3437: 62293, 3438: 62956, 3439: 62999, 3440: 64622, 3441: 65188, 3442: 66198, 3443: 66665, 3444: 67087, 3445: 67267, 3446: 67408, 3447: 67618, 3448: 68659, 3449: 68952, 3450: 69069, 3451: 69394, 3452: 69524, 3453: 69784, 3454: 69904, 3455: 70492, 3456: 70521, 3457: 70990, 3458: 71282, 3459: 72167, 3460: 72489, 3461: 72591, 3462: 73023, 3463: 74154, 3464: 74508, 3465: 74668, 3466: 74946, 3467: 76751, 3468: 78467, 3469: 78703, 3470: 79057, 3471: 80860, 3472: 81910, 3473: 83134, 3474: 83803, 3475: 84772, 3476: 85780, 3477: 86293, 3478: 86377, 3479: 86833, 3480: 89087, 3481: 89470, 3482: 90576, 3483: 92420, 3484: 93287, 3485: 94959, 3486: 95218, 3487: 95624, 3488: 95875, 3489: 96110, 3490: 114762, 3491: 4744, 3492: 4880, 3493: 1172, 3494: 1300, 3495: 1955, 3496: 1959, 3497: 1962, 3498: 3152, 3499: 3359, 3500: 3468, 3501: 91077, 3502: 2136, 3503: 44193, 3504: 45221, 3505: 47122, 3506: 47518, 3507: 48414, 3508: 50601, 3509: 53460, 3510: 55768, 3511: 68135, 3512: 69278, 3513: 71518, 3514: 72226, 3515: 74647, 3516: 75805, 3517: 76293, 3518: 87485, 3519: 92509, 3520: 93272, 3521: 99106, 3522: 101612, 3523: 105037, 3524: 109483, 3525: 111320, 3526: 112450, 3527: 112788, 3528: 113378, 3529: 114074, 3530: 123947, 3531: 127202, 3532: 128520, 3533: 131013, 3534: 138204, 3535: 149354, 3536: 151739, 3537: 926, 3538: 949, 3539: 1041, 3540: 1185, 3541: 2010, 3542: 2360, 3543: 2594, 3544: 3089, 3545: 3307, 3546: 4103, 3547: 4427, 3548: 4546, 3549: 5300, 3550: 5304, 3551: 5341, 3552: 5434, 3553: 5812, 3554: 5867, 3555: 6235, 3556: 6244, 3557: 6270, 3558: 6301, 3559: 6305, 3560: 6591, 3561: 6791, 3562: 6852, 3563: 6858, 3564: 7087, 3565: 7158, 3566: 7234, 3567: 7419, 3568: 7889, 3569: 8154, 3570: 8183, 3571: 8340, 3572: 8341, 3573: 8804, 3574: 8838, 3575: 26350, 3576: 26578, 3577: 27721, 3578: 31522, 3579: 39292, 3580: 44937, 3581: 48698, 3582: 50274, 3583: 52967, 3584: 55069, 3585: 55444, 3586: 55814, 3587: 57147, 3588: 58103, 3589: 58154, 3590: 6303, 3591: 7001, 3592: 2318, 3593: 7669, 3594: 39446, 3595: 55577, 3596: 63436, 3597: 72129, 3598: 81535, 3599: 20, 3600: 2792, 3601: 164, 3602: 1189, 3603: 1192, 3604: 2659, 3605: 3197, 3606: 3266, 3607: 3425, 3608: 3576, 3609: 4887, 3610: 6059, 3611: 6952, 3612: 60030, 3613: 69654, 3614: 75395, 3615: 78266, 3616: 78349, 3617: 80363, 3618: 80831, 3619: 81417, 3620: 82041, 3621: 84189, 3622: 84601, 3623: 85397, 3624: 90405, 3625: 90469, 3626: 91974, 3627: 93297, 3628: 96691, 3629: 96917, 3630: 98361, 3631: 100810, 3632: 103075, 3633: 103688, 3634: 2381, 3635: 2383, 3636: 2384, 3637: 4386, 3638: 4989, 3639: 5065, 3640: 5094, 3641: 5106, 3642: 5296, 3643: 5414, 3644: 5803, 3645: 5874, 3646: 5900, 3647: 6006, 3648: 6014, 3649: 6249, 3650: 6338, 3651: 6484, 3652: 6536, 3653: 6550, 3654: 6566, 3655: 6586, 3656: 6593, 3657: 6686, 3658: 6687, 3659: 6702, 3660: 6750, 3661: 6752, 3662: 6764, 3663: 6886, 3664: 6887, 3665: 6946, 3666: 6949, 3667: 6958, 3668: 7142, 3669: 3155, 3670: 27397, 3671: 55442, 3672: 58303, 3673: 14, 3674: 55, 3675: 154, 3676: 214, 3677: 287, 3678: 299, 3679: 321, 3680: 324, 3681: 326, 3682: 331, 3683: 369, 3684: 406, 3685: 691, 3686: 722, 3687: 726, 3688: 900, 3689: 948, 3690: 971, 3691: 987, 3692: 1091, 3693: 1131, 3694: 1132, 3695: 1135, 3696: 1187, 3697: 1190, 3698: 1194, 3699: 1286, 3700: 1290, 3701: 1295, 3702: 1296, 3703: 1305, 3704: 1395, 3705: 1414, 3706: 53, 3707: 1140, 3708: 1519, 3709: 1596, 3710: 1624, 3711: 1683, 3712: 1694, 3713: 1730, 3714: 72356, 3715: 74553, 3716: 3910, 3717: 6464, 3718: 7312, 3719: 26974, 3720: 74795, 3721: 83177, 3722: 901, 3723: 905, 3724: 918, 3725: 936, 3726: 945, 3727: 946, 3728: 947, 3729: 950, 3730: 3061, 3731: 3097, 3732: 3315, 3733: 3599, 3734: 3604, 3735: 3606, 3736: 3991, 3737: 4300, 3738: 4899, 3739: 5092, 3740: 5480, 3741: 5529, 3742: 5621, 3743: 6271, 3744: 6402, 3745: 6604, 3746: 6650, 3747: 6783, 3748: 7067, 3749: 7209, 3750: 7297, 3751: 7381, 3752: 8238, 3753: 8372, 3754: 8814, 3755: 8978, 3756: 25887, 3757: 26183, 3758: 26184, 3759: 26265, 3760: 26429, 3761: 26645, 3762: 27619, 3763: 27826, 3764: 31851, 3765: 31925, 3766: 32060, 3767: 32243, 3768: 32596, 3769: 33090, 3770: 33830, 3771: 34312, 3772: 34332, 3773: 35807, 3774: 37384, 3775: 37444, 3776: 40339, 3777: 40962, 3778: 41828, 3779: 42013, 3780: 42725, 3781: 42761, 3782: 44773, 3783: 44777, 3784: 44851, 3785: 46105, 3786: 47725, 3787: 47736, 3788: 48520, 3789: 48649, 3790: 48982, 3791: 49013, 3792: 49735, 3793: 50613, 3794: 50999, 3795: 51167, 3796: 51575, 3797: 53280, 3798: 53355, 3799: 53578, 3800: 55269, 3801: 58291, 3802: 60289, 3803: 60737, 3804: 62008, 3805: 64116, 3806: 65588, 3807: 66798, 3808: 66943, 3809: 67888, 3810: 69211, 3811: 69304, 3812: 69469, 3813: 69720, 3814: 70697, 3815: 72178, 3816: 72624, 3817: 72692, 3818: 72701, 3819: 73015, 3820: 73042, 3821: 73160, 3822: 73822, 3823: 74342, 3824: 74683, 3825: 74698, 3826: 76143, 3827: 76301, 3828: 77688, 3829: 78142, 3830: 78620, 3831: 79684, 3832: 79897, 3833: 80727, 3834: 81087, 3835: 81537, 3836: 82854, 3837: 83910, 3838: 83969, 3839: 84246, 3840: 84512, 3841: 84944, 3842: 85295, 3843: 85881, 3844: 86059, 3845: 86298, 3846: 87834, 3847: 88069, 3848: 88746, 3849: 88785, 3850: 88812, 3851: 89898, 3852: 90717, 3853: 91355, 3854: 91386, 3855: 91666, 3856: 92643, 3857: 93006, 3858: 93022, 3859: 94661, 3860: 95633, 3861: 95843, 3862: 96608, 3863: 96935, 3864: 97836, 3865: 98279, 3866: 99117, 3867: 99122, 3868: 99130, 3869: 99853, 3870: 100390, 3871: 100507, 3872: 101283, 3873: 102378, 3874: 102686, 3875: 102747, 3876: 102984, 3877: 103602, 3878: 104339, 3879: 104875, 3880: 105540, 3881: 105746, 3882: 106594, 3883: 106927, 3884: 107951, 3885: 108078, 3886: 108949, 3887: 109241, 3888: 109596, 3889: 111146, 3890: 113252, 3891: 113453, 3892: 115111, 3893: 116718, 3894: 116738, 3895: 116817, 3896: 117109, 3897: 118270, 3898: 118530, 3899: 118572, 3900: 118834, 3901: 118862, 3902: 118894, 3903: 119714, 3904: 120813, 3905: 121007, 3906: 121097, 3907: 121338, 3908: 121342, 3909: 121469, 3910: 121781, 3911: 122092, 3912: 124273, 3913: 124404, 3914: 125970, 3915: 125974, 3916: 126088, 3917: 126577, 3918: 126921, 3919: 127052, 3920: 127134, 3921: 128087, 3922: 128089, 3923: 128366, 3924: 128594, 3925: 128852, 3926: 128944, 3927: 128968, 3928: 129011, 3929: 129354, 3930: 130452, 3931: 130518, 3932: 130520, 3933: 131098, 3934: 131104, 3935: 131130, 3936: 131439, 3937: 131610, 3938: 131826, 3939: 132153, 3940: 132422, 3941: 132496, 3942: 132584, 3943: 132800, 3944: 133712, 3945: 133867, 3946: 133879, 3947: 134004, 3948: 134334, 3949: 134847, 3950: 135777, 3951: 135937, 3952: 136341, 3953: 136353, 3954: 136355, 3955: 136359, 3956: 136503, 3957: 136834, 3958: 139157, 3959: 139640, 3960: 139994, 3961: 140133, 3962: 140481, 3963: 140541, 3964: 140561, 3965: 140711, 3966: 141513, 3967: 141544, 3968: 141646, 3969: 141830, 3970: 141928, 3971: 142196, 3972: 142444, 3973: 142550, 3974: 142831, 3975: 143031, 3976: 143559, 3977: 144222, 3978: 145491, 3979: 146244, 3980: 146684, 3981: 146986, 3982: 147410, 3983: 147936, 3984: 148632, 3985: 148775, 3986: 149350, 3987: 149352, 3988: 149508, 3989: 149566, 3990: 150554, 3991: 153386, 3992: 153408, 3993: 156025, 3994: 156781, 3995: 157296, 3996: 157775, 3997: 158398, 3998: 158882, 3999: 159069, 4000: 160567, 4001: 163527, 4002: 164200, 4003: 164226, 4004: 164707, 4005: 167018, 4006: 167380, 4007: 167772, 4008: 167854, 4009: 169912, 4010: 170837, 4011: 170993, 4012: 171751, 4013: 171811, 4014: 172321, 4015: 173253, 4016: 174681, 4017: 176621, 4018: 176805, 4019: 177185, 4020: 177765, 4021: 179211, 4022: 181065, 4023: 182293, 4024: 182297, 4025: 182299, 4026: 182731, 4027: 184349, 4028: 184791, 4029: 68, 4030: 81, 4031: 85, 4032: 116, 4033: 581, 4034: 617, 4035: 735, 4036: 766, 4037: 791, 4038: 896, 4039: 1034, 4040: 1116, 4041: 1137, 4042: 1144, 4043: 1366, 4044: 1411, 4045: 1417, 4046: 384, 4047: 464, 4048: 533, 4049: 1241, 4050: 1321, 4051: 1337, 4052: 1340, 4053: 1760, 4054: 1771, 4055: 1974, 4056: 1981, 4057: 2117, 4058: 2122, 4059: 2138, 4060: 2298, 4061: 2419, 4062: 2456, 4063: 2522, 4064: 2625, 4065: 2651, 4066: 2782, 4067: 2784, 4068: 2790, 4069: 2817, 4070: 2868, 4071: 2992, 4072: 3013, 4073: 3018, 4074: 3153, 4075: 3182, 4076: 3267, 4077: 3563, 4078: 3727, 4079: 3768, 4080: 3810, 4081: 3840, 4082: 4092, 4083: 4109, 4084: 4214, 4085: 4254, 4086: 4304, 4087: 4316, 4088: 4438, 4089: 4587, 4090: 4599, 4091: 4624, 4092: 4645, 4093: 4661, 4094: 4678, 4095: 4774, 4096: 4800, 4097: 4850, 4098: 4909, 4099: 4987, 4100: 5165, 4101: 5294, 4102: 5346, 4103: 5438, 4104: 5479, 4105: 5588, 4106: 5640, 4107: 5650, 4108: 5749, 4109: 6203, 4110: 6219, 4111: 6283, 4112: 6327, 4113: 6375, 4114: 6395, 4115: 6461, 4116: 6620, 4117: 6629, 4118: 6638, 4119: 6678, 4120: 6731, 4121: 6744, 4122: 6820, 4123: 6963, 4124: 7118, 4125: 7308, 4126: 7492, 4127: 7561, 4128: 7650, 4129: 7802, 4130: 8016, 4131: 8147, 4132: 8266, 4133: 8426, 4134: 8501, 4135: 8507, 4136: 8581, 4137: 27317, 4138: 27873, 4139: 2114, 4140: 2398, 4141: 54190, 4142: 1606, 4143: 2103, 4144: 1529, 4145: 1659, 4146: 2280, 4147: 2600, 4148: 3071, 4149: 3690, 4150: 4126, 4151: 4732, 4152: 4954, 4153: 5027, 4154: 5072, 4155: 5246, 4156: 5247, 4157: 5619, 4158: 5792, 4159: 6051, 4160: 6288, 4161: 6367, 4162: 1942, 4163: 3819, 4164: 5109, 4165: 5420, 4166: 71745, 4167: 79139, 4168: 1958, 4169: 2262, 4170: 3244, 4171: 5380, 4172: 6183, 4173: 6785, 4174: 233, 4175: 2337, 4176: 3179, 4177: 4873, 4178: 7367, 4179: 50912, 4180: 57522, 4181: 58972, 4182: 59022, 4183: 62553, 4184: 64114, 4185: 65088, 4186: 65577, 4187: 65802, 4188: 69140, 4189: 70728, 4190: 77206, 4191: 77427, 4192: 79572, 4193: 80572, 4194: 80586, 4195: 81156, 4196: 81819, 4197: 86014, 4198: 86815, 4199: 87194, 4200: 88108, 4201: 90890, 4202: 91126, 4203: 91653, 4204: 91671, 4205: 91976, 4206: 96728, 4207: 99764, 4208: 106766, 4209: 116799, 4210: 132046, 4211: 134881, 4212: 938, 4213: 1833, 4214: 2325, 4215: 2551, 4216: 2837, 4217: 3163, 4218: 3325, 4219: 3719, 4220: 3746, 4221: 4476, 4222: 4663, 4223: 4676, 4224: 4740, 4225: 4912, 4226: 4941, 4227: 5460, 4228: 6012, 4229: 6030, 4230: 6060, 4231: 6169, 4232: 6579, 4233: 7034, 4234: 7036, 4235: 7050, 4236: 7380, 4237: 8643, 4238: 8796, 4239: 25937, 4240: 32300, 4241: 45175, 4242: 53466, 4243: 54780, 4244: 69988, 4245: 80584, 4246: 85401, 4247: 93805, 4248: 94015, 4249: 94150, 4250: 94833, 4251: 213, 4252: 665, 4253: 935, 4254: 1111, 4255: 1178, 4256: 1354, 4257: 2131, 4258: 2495, 4259: 2931, 4260: 3306, 4261: 3310, 4262: 3592, 4263: 3629, 4264: 3677, 4265: 3687, 4266: 3742, 4267: 3821, 4268: 4325, 4269: 4788, 4270: 5373, 4271: 5888, 4272: 5889, 4273: 5912, 4274: 6187, 4275: 6433, 4276: 6643, 4277: 6777, 4278: 6985, 4279: 7347, 4280: 7371, 4281: 8025, 4282: 8033, 4283: 8197, 4284: 8511, 4285: 8638, 4286: 8656, 4287: 9010, 4288: 26082, 4289: 26150, 4290: 26236, 4291: 26237, 4292: 26347, 4293: 26471, 4294: 26587, 4295: 26662, 4296: 26849, 4297: 26903, 4298: 27134, 4299: 27803, 4300: 27815, 4301: 27834, 4302: 30803, 4303: 32892, 4304: 33124, 4305: 36363, 4306: 36401, 4307: 38159, 4308: 42191, 4309: 48872, 4310: 56060, 4311: 57183, 4312: 57504, 4313: 58425, 4314: 58554, 4315: 60904, 4316: 63515, 4317: 64993, 4318: 66371, 4319: 67923, 4320: 69134, 4321: 69529, 4322: 69685, 4323: 72104, 4324: 73881, 4325: 74324, 4326: 74727, 4327: 75341, 4328: 79333, 4329: 80124, 4330: 84156, 4331: 84844, 4332: 85316, 4333: 85736, 4334: 86066, 4335: 86320, 4336: 86347, 4337: 88235, 4338: 88345, 4339: 91261, 4340: 93790, 4341: 95175, 4342: 95311, 4343: 95313, 4344: 95377, 4345: 95654, 4346: 96020, 4347: 96373, 4348: 98604, 4349: 99145, 4350: 100302, 4351: 100553, 4352: 101088, 4353: 101962, 4354: 102602, 4355: 102666, 4356: 103235, 4357: 104780, 4358: 105593, 4359: 107159, 4360: 107408, 4361: 107410, 4362: 107412, 4363: 108540, 4364: 108727, 4365: 108981, 4366: 109633, 4367: 110586, 4368: 111622, 4369: 116411, 4370: 117444, 4371: 118166, 4372: 118888, 4373: 118896, 4374: 118985, 4375: 120138, 4376: 120478, 4377: 120625, 4378: 126090, 4379: 126426, 4380: 126430, 4381: 127098, 4382: 129514, 4383: 130970, 4384: 130976, 4385: 130978, 4386: 131237, 4387: 133716, 4388: 134041, 4389: 134095, 4390: 134109, 4391: 134184, 4392: 134252, 4393: 134326, 4394: 134849, 4395: 136445, 4396: 136447, 4397: 138835, 4398: 140038, 4399: 140265, 4400: 141810, 4401: 141816, 4402: 141818, 4403: 141820, 4404: 141836, 4405: 141844, 4406: 142020, 4407: 143511, 4408: 145994, 4409: 146028, 4410: 147196, 4411: 147282, 4412: 147286, 4413: 147300, 4414: 147326, 4415: 147328, 4416: 147330, 4417: 151769, 4418: 152591, 4419: 158402, 4420: 159811, 4421: 163072, 4422: 163112, 4423: 163134, 4424: 163386, 4425: 163925, 4426: 165959, 4427: 166183, 4428: 170411, 4429: 170597, 4430: 170777, 4431: 172577, 4432: 172583, 4433: 172585, 4434: 172587, 4435: 172589, 4436: 172637, 4437: 172793, 4438: 172825, 4439: 172909, 4440: 173351, 4441: 173355, 4442: 173619, 4443: 173963, 4444: 174551, 4445: 175293, 4446: 175387, 4447: 175397, 4448: 175401, 4449: 175431, 4450: 175435, 4451: 178613, 4452: 179133, 4453: 99636, 4454: 156, 4455: 1684, 4456: 2585, 4457: 3795, 4458: 4024, 4459: 4159, 4460: 4889, 4461: 4976, 4462: 4994, 4463: 5011, 4464: 5034, 4465: 5051, 4466: 5135, 4467: 5303, 4468: 5309, 4469: 5316, 4470: 5391, 4471: 5450, 4472: 5466, 4473: 5881, 4474: 6049, 4475: 283, 4476: 346, 4477: 528, 4478: 7096, 4479: 26171, 4480: 40870, 4481: 1856, 4482: 2447, 4483: 3979, 4484: 4228, 4485: 4247, 4486: 4649, 4487: 4900, 4488: 5025, 4489: 5363, 4490: 5501, 4491: 5524, 4492: 5564, 4493: 5942, 4494: 6003, 4495: 6482, 4496: 7225, 4497: 7285, 4498: 7439, 4499: 8531, 4500: 32298, 4501: 34520, 4502: 34530, 4503: 40581, 4504: 42007, 4505: 44840, 4506: 44972, 4507: 47640, 4508: 48322, 4509: 49396, 4510: 54732, 4511: 55245, 4512: 55261, 4513: 55872, 4514: 56805, 4515: 58156, 4516: 59143, 4517: 61255, 4518: 62439, 4519: 63479, 4520: 65585, 4521: 69436, 4522: 70565, 4523: 70641, 4524: 71205, 4525: 71668, 4526: 71838, 4527: 73929, 4528: 74275, 4529: 74532, 4530: 78174, 4531: 78209, 4532: 79428, 4533: 80139, 4534: 82852, 4535: 85022, 4536: 85367, 4537: 87483, 4538: 87529, 4539: 87867, 4540: 91323, 4541: 92264, 4542: 93270, 4543: 93443, 4544: 93831, 4545: 94478, 4546: 94953, 4547: 95720, 4548: 96616, 4549: 97172, 4550: 98083, 4551: 99007, 4552: 100083, 4553: 100194, 4554: 101142, 4555: 102720, 4556: 104218, 4557: 104644, 4558: 104925, 4559: 109282, 4560: 110669, 4561: 110771, 4562: 110773, 4563: 111375, 4564: 112497, 4565: 116977, 4566: 118930, 4567: 119153, 4568: 121372, 4569: 121374, 4570: 121715, 4571: 123200, 4572: 127116, 4573: 127152, 4574: 127390, 4575: 128097, 4576: 128099, 4577: 128914, 4578: 128975, 4579: 129737, 4580: 130087, 4581: 135137, 4582: 135436, 4583: 136443, 4584: 136471, 4585: 136511, 4586: 136598, 4587: 142422, 4588: 144606, 4589: 148652, 4590: 148956, 4591: 155509, 4592: 155812, 4593: 156609, 4594: 157312, 4595: 157699, 4596: 158813, 4597: 159441, 4598: 159755, 4599: 160080, 4600: 160271, 4601: 160289, 4602: 161024, 4603: 161580, 4604: 162344, 4605: 162478, 4606: 162602, 4607: 165103, 4608: 165483, 4609: 165645, 4610: 165671, 4611: 165843, 4612: 165947, 4613: 166461, 4614: 167634, 4615: 167746, 4616: 168144, 4617: 168326, 4618: 168418, 4619: 168632, 4620: 168846, 4621: 170357, 4622: 170399, 4623: 170401, 4624: 170813, 4625: 170817, 4626: 170897, 4627: 170937, 4628: 170957, 4629: 171251, 4630: 171867, 4631: 172215, 4632: 172547, 4633: 173255, 4634: 174045, 4635: 174815, 4636: 175577, 4637: 176329, 4638: 178323, 4639: 179427, 4640: 179953, 4641: 180265, 4642: 181139, 4643: 181659, 4644: 182749, 4645: 183197, 4646: 183227, 4647: 183959, 4648: 184015, 4649: 184257, 4650: 71, 4651: 779, 4652: 1043, 4653: 1589, 4654: 1600, 4655: 1735, 4656: 1829, 4657: 1897, 4658: 2132, 4659: 2166, 4660: 2331, 4661: 2475, 4662: 2749, 4663: 2764, 4664: 2844, 4665: 2969, 4666: 3099, 4667: 3103, 4668: 3217, 4669: 3251, 4670: 3296, 4671: 3537, 4672: 3546, 4673: 3831, 4674: 4003, 4675: 4063, 4676: 4083, 4677: 4130, 4678: 127198, 4679: 141718, 4680: 167732, 4681: 487, 4682: 2772, 4683: 4792, 4684: 62383, 4685: 73, 4686: 656, 4687: 46337, 4688: 66511, 4689: 85020, 4690: 95105, 4691: 99112, 4692: 103984, 4693: 108689, 4694: 109846, 4695: 110718, 4696: 110730, 4697: 112868, 4698: 114184, 4699: 114795, 4700: 117533, 4701: 117887, 4702: 120635, 4703: 127184, 4704: 128488, 4705: 130578, 4706: 131023, 4707: 131714, 4708: 135532, 4709: 136562, 4710: 136666, 4711: 138210, 4712: 141004, 4713: 165551, 4714: 52319, 4715: 70599, 4716: 71530, 4717: 77866, 4718: 95088, 4719: 96737, 4720: 97306, 4721: 112515, 4722: 115122, 4723: 121231, 4724: 144976, 4725: 69306, 4726: 81782, 4727: 112171, 4728: 143458, 4729: 501, 4730: 1844, 4731: 3342, 4732: 4082, 4733: 4738, 4734: 4864, 4735: 5088, 4736: 6902, 4737: 7008, 4738: 7265, 4739: 8254, 4740: 26681, 4741: 27022, 4742: 27482, 4743: 33201, 4744: 40148, 4745: 43836, 4746: 45440, 4747: 50842, 4748: 55278, 4749: 58301, 4750: 63276, 4751: 65130, 4752: 65642, 4753: 67695, 4754: 69516, 4755: 71304, 4756: 71429, 4757: 71520, 4758: 73488, 4759: 75985, 4760: 78218, 4761: 79553, 4762: 84952, 4763: 86721, 4764: 89190, 4765: 90403, 4766: 91470, 4767: 91690, 4768: 91947, 4769: 92694, 4770: 93855, 4771: 94931, 4772: 95690, 4773: 95761, 4774: 98607, 4775: 99437, 4776: 100882, 4777: 101112, 4778: 107630, 4779: 110330, 4780: 110882, 4781: 112623, 4782: 117466, 4783: 122890, 4784: 127096, 4785: 130490, 4786: 131749, 4787: 131920, 4788: 133217, 4789: 133771, 4790: 135567, 4791: 139855, 4792: 141408, 4793: 142420, 4794: 142509, 4795: 147142, 4796: 149144, 4797: 149146, 4798: 149830, 4799: 149902, 4800: 151455, 4801: 151695, 4802: 152083, 4803: 152091, 4804: 152284, 4805: 152970, 4806: 155064, 4807: 156371, 4808: 156387, 4809: 158783, 4810: 159415, 4811: 159717, 4812: 160563, 4813: 161634, 4814: 161966, 4815: 162082, 4816: 162578, 4817: 164881, 4818: 167790, 4819: 168266, 4820: 1066, 4821: 5159, 4822: 6093, 4823: 37830, 4824: 5959, 4825: 390, 4826: 567, 4827: 1318, 4828: 1554, 4829: 2729, 4830: 3067, 4831: 4168, 4832: 5284, 4833: 5508, 4834: 5969, 4835: 5970, 4836: 5992, 4837: 6251, 4838: 6291, 4839: 6774, 4840: 7773, 4841: 8973, 4842: 26776, 4843: 27731, 4844: 44694, 4845: 48082, 4846: 393, 4847: 893, 4848: 1422, 4849: 1483, 4850: 2798, 4851: 3102, 4852: 3327, 4853: 3812, 4854: 4037, 4855: 4066, 4856: 4467, 4857: 4553, 4858: 4613, 4859: 4634, 4860: 4812, 4861: 132, 4862: 188, 4863: 1949, 4864: 2330, 4865: 2940, 4866: 3679, 4867: 5177, 4868: 5385, 4869: 6986, 4870: 6987, 4871: 7171, 4872: 7762, 4873: 26084, 4874: 2582, 4875: 2924, 4876: 59103, 4877: 8640, 4878: 373, 4879: 1344, 4880: 1401, 4881: 1465, 4882: 1661, 4883: 1727, 4884: 1950, 4885: 1957, 4886: 2070, 4887: 2077, 4888: 2344, 4889: 2561, 4890: 2590, 4891: 2682, 4892: 2775, 4893: 2819, 4894: 2889, 4895: 2996, 4896: 3011, 4897: 3055, 4898: 3093, 4899: 3117, 4900: 3185, 4901: 3372, 4902: 3557, 4903: 3597, 4904: 3684, 4905: 3737, 4906: 3873, 4907: 3906, 4908: 3983, 4909: 3985, 4910: 3998, 4911: 4031, 4912: 4035, 4913: 4042, 4914: 4056, 4915: 4167, 4916: 4187, 4917: 4225, 4918: 4234, 4919: 4243, 4920: 4259, 4921: 4265, 4922: 4337, 4923: 4339, 4924: 4368, 4925: 4534, 4926: 4535, 4927: 4703, 4928: 4719, 4929: 4727, 4930: 4736, 4931: 4795, 4932: 4799, 4933: 4822, 4934: 4836, 4935: 4857, 4936: 4866, 4937: 4921, 4938: 4991, 4939: 5016, 4940: 5102, 4941: 5107, 4942: 5187, 4943: 5256, 4944: 5282, 4945: 5338, 4946: 5357, 4947: 5358, 4948: 5435, 4949: 5506, 4950: 5563, 4951: 5611, 4952: 5699, 4953: 5873, 4954: 5879, 4955: 5899, 4956: 5947, 4957: 6185, 4958: 6213, 4959: 6246, 4960: 6279, 4961: 6299, 4962: 6386, 4963: 6448, 4964: 6669, 4965: 6808, 4966: 6950, 4967: 7076, 4968: 7161, 4969: 7324, 4970: 8121, 4971: 8199, 4972: 26172, 4973: 26865, 4974: 27821, 4975: 31700, 4976: 32017, 4977: 34334, 4978: 34534, 4979: 37727, 4980: 39307, 4981: 42009, 4982: 42730, 4983: 43917, 4984: 44399, 4985: 47044, 4986: 49524, 4987: 49910, 4988: 6332, 4989: 6619, 4990: 7255, 4991: 7316, 4992: 8827, 4993: 32289, 4994: 36525, 4995: 78316, 4996: 103606, 4997: 27416, 4998: 98243, 4999: 160718, 5000: 1334, 5001: 2038, 5002: 2091, 5003: 9, 5004: 75, 5005: 634, 5006: 813, 5007: 840, 5008: 885, 5009: 1432, 5010: 36535, 5011: 56715, 5012: 64034, 5013: 81456, 5014: 85885, 5015: 100843, 5016: 101973, 5017: 105355, 5018: 112454, 5019: 133780, 5020: 138396, 5021: 152270, 5022: 173145, 5023: 177615, 5024: 179709, 5025: 86644, 5026: 130634, 5027: 1516, 5028: 2879, 5029: 2880, 5030: 3286, 5031: 3287, 5032: 3618, 5033: 425, 5034: 764, 5035: 869, 5036: 1078, 5037: 1162, 5038: 1264, 5039: 1836, 5040: 1948, 5041: 2130, 5042: 2239, 5043: 2247, 5044: 2290, 5045: 2349, 5046: 2361, 5047: 2511, 5048: 2734, 5049: 2750, 5050: 2779, 5051: 2863, 5052: 2946, 5053: 2970, 5054: 3028, 5055: 3076, 5056: 3096, 5057: 3130, 5058: 3134, 5059: 3141, 5060: 3167, 5061: 3200, 5062: 3223, 5063: 3224, 5064: 3283, 5065: 3341, 5066: 3467, 5067: 3473, 5068: 3492, 5069: 3503, 5070: 3506, 5071: 4205, 5072: 4784, 5073: 5637, 5074: 5788, 5075: 5847, 5076: 6509, 5077: 6658, 5078: 6684, 5079: 7089, 5080: 7107, 5081: 8128, 5082: 8571, 5083: 8614, 5084: 26313, 5085: 31038, 5086: 2392, 5087: 27674, 5088: 55391, 5089: 66320, 5090: 242, 5091: 718, 5092: 990, 5093: 1107, 5094: 1163, 5095: 1627, 5096: 1713, 5097: 1969, 5098: 1979, 5099: 2051, 5100: 2126, 5101: 2162, 5102: 2210, 5103: 2252, 5104: 2314, 5105: 2364, 5106: 2367, 5107: 2531, 5108: 2745, 5109: 2748, 5110: 2769, 5111: 2789, 5112: 2818, 5113: 2977, 5114: 2986, 5115: 3357, 5116: 3572, 5117: 3616, 5118: 3649, 5119: 3858, 5120: 3864, 5121: 3877, 5122: 4055, 5123: 4450, 5124: 4735, 5125: 6250, 5126: 6319, 5127: 6322, 5128: 6538, 5129: 5643, 5130: 45732, 5131: 1821, 5132: 1837, 5133: 3404, 5134: 4440, 5135: 5415, 5136: 5485, 5137: 5527, 5138: 5530, 5139: 5993, 5140: 6480, 5141: 4406, 5142: 7333, 5143: 7934, 5144: 26078, 5145: 26131, 5146: 33564, 5147: 2017, 5148: 2084, 5149: 4142, 5150: 4193, 5151: 4373, 5152: 4867, 5153: 4936, 5154: 4951, 5155: 5222, 5156: 5472, 5157: 5941, 5158: 6005, 5159: 6252, 5160: 6324, 5161: 6339, 5162: 6568, 5163: 7045, 5164: 7060, 5165: 7080, 5166: 7614, 5167: 8008, 5168: 1051, 5169: 1454, 5170: 2526, 5171: 5410, 5172: 7259, 5173: 8362, 5174: 8911, 5175: 33880, 5176: 39427, 5177: 43904, 5178: 44613, 5179: 47382, 5180: 1929, 5181: 1931, 5182: 1936, 5183: 1938, 5184: 2013, 5185: 2176, 5186: 2847, 5187: 3364, 5188: 3564, 5189: 3801, 5190: 3909, 5191: 3964, 5192: 4920, 5193: 5264, 5194: 5387, 5195: 6212, 5196: 6412, 5197: 6429, 5198: 6483, 5199: 6624, 5200: 6856, 5201: 7054, 5202: 7065, 5203: 7078, 5204: 7121, 5205: 7164, 5206: 7215, 5207: 7222, 5208: 7243, 5209: 7302, 5210: 7366, 5211: 7369, 5212: 7728, 5213: 8600, 5214: 8609, 5215: 8695, 5216: 8718, 5217: 8860, 5218: 8948, 5219: 9008, 5220: 25746, 5221: 25750, 5222: 25771, 5223: 25797, 5224: 25827, 5225: 25856, 5226: 25906, 5227: 27772, 5228: 31297, 5229: 33499, 5230: 33669, 5231: 34336, 5232: 35957, 5233: 39449, 5234: 40826, 5235: 42011, 5236: 42015, 5237: 43560, 5238: 45081, 5239: 46974, 5240: 48412, 5241: 48593, 5242: 49389, 5243: 51925, 5244: 51939, 5245: 52694, 5246: 56176, 5247: 60161, 5248: 61406, 5249: 63853, 5250: 65261, 5251: 66297, 5252: 67788, 5253: 70159, 5254: 71970, 5255: 72731, 5256: 72733, 5257: 77846, 5258: 78574, 5259: 80126, 5260: 83132, 5261: 86487, 5262: 89804, 5263: 89939, 5264: 90647, 5265: 93008, 5266: 95558, 5267: 98154, 5268: 123545, 5269: 5665, 5270: 6380, 5271: 33903, 5272: 725, 5273: 169, 5274: 453, 5275: 97, 5276: 166, 5277: 600, 5278: 760, 5279: 1437, 5280: 1447, 5281: 1546, 5282: 1598, 5283: 1611, 5284: 1649, 5285: 1695, 5286: 1827, 5287: 1941, 5288: 2022, 5289: 2025, 5290: 2181, 5291: 2295, 5292: 2474, 5293: 2563, 5294: 2607, 5295: 2691, 5296: 2696, 5297: 2765, 5298: 2971, 5299: 2976, 5300: 3003, 5301: 3078, 5302: 3150, 5303: 3158, 5304: 3323, 5305: 3474, 5306: 3521, 5307: 3598, 5308: 3747, 5309: 3761, 5310: 3862, 5311: 3879, 5312: 3888, 5313: 3895, 5314: 3915, 5315: 3925, 5316: 3947, 5317: 3955, 5318: 3992, 5319: 3993, 5320: 4032, 5321: 4052, 5322: 4133, 5323: 4146, 5324: 4152, 5325: 4157, 5326: 4160, 5327: 4178, 5328: 4275, 5329: 4305, 5330: 4307, 5331: 4313, 5332: 4350, 5333: 4389, 5334: 4407, 5335: 4439, 5336: 4452, 5337: 4628, 5338: 4640, 5339: 4642, 5340: 4644, 5341: 4699, 5342: 4723, 5343: 4770, 5344: 4811, 5345: 4815, 5346: 4826, 5347: 4849, 5348: 4879, 5349: 4888, 5350: 4898, 5351: 4911, 5352: 4919, 5353: 4959, 5354: 4978, 5355: 5046, 5356: 5062, 5357: 5083, 5358: 5095, 5359: 5131, 5360: 5155, 5361: 5298, 5362: 5323, 5363: 5325, 5364: 5347, 5365: 5379, 5366: 5421, 5367: 5423, 5368: 5425, 5369: 5427, 5370: 5486, 5371: 5498, 5372: 5522, 5373: 5609, 5374: 5612, 5375: 5615, 5376: 5646, 5377: 5666, 5378: 5668, 5379: 5680, 5380: 5684, 5381: 5772, 5382: 5809, 5383: 5818, 5384: 5999, 5385: 6002, 5386: 6041, 5387: 6062, 5388: 6067, 5389: 6192, 5390: 6215, 5391: 6217, 5392: 6264, 5393: 6285, 5394: 6294, 5395: 6330, 5396: 6334, 5397: 6335, 5398: 6341, 5399: 6551, 5400: 6571, 5401: 6572, 5402: 6588, 5403: 6645, 5404: 6679, 5405: 6688, 5406: 6881, 5407: 6890, 5408: 6932, 5409: 6969, 5410: 6971, 5411: 6978, 5412: 7038, 5413: 7264, 5414: 7299, 5415: 7352, 5416: 7354, 5417: 7449, 5418: 7698, 5419: 8042, 5420: 1582, 5421: 2457, 5422: 2534, 5423: 3573, 5424: 3726, 5425: 68959, 5426: 70533, 5427: 74754, 5428: 84187, 5429: 103210, 5430: 104303, 5431: 106873, 5432: 109578, 5433: 109848, 5434: 117895, 5435: 122906, 5436: 127212, 5437: 148978, 5438: 157369, 5439: 158035, 5440: 161594, 5441: 162968, 5442: 162982, 5443: 164917, 5444: 165635, 5445: 165639, 5446: 166291, 5447: 168090, 5448: 168218, 5449: 170907, 5450: 172705, 5451: 173235, 5452: 174479, 5453: 175475, 5454: 175585, 5455: 177285, 5456: 177939, 5457: 178111, 5458: 178827, 5459: 180297, 5460: 180497, 5461: 180985, 5462: 180987, 5463: 183911, 5464: 184641, 5465: 189333, 5466: 191005, 5467: 193565, 5468: 193567, 5469: 193571, 5470: 193573, 5471: 193579, 5472: 193581, 5473: 193583, 5474: 193585, 5475: 193587, 5476: 1685, 5477: 1767, 5478: 2799, 5479: 5804, 5480: 952, 5481: 2035, 5482: 2208, 5483: 2346, 5484: 2527, 5485: 3068, 5486: 3516, 5487: 3711, 5488: 3927, 5489: 4813, 5490: 5039, 5491: 5214, 5492: 5493, 5493: 5497, 5494: 5499, 5495: 5540, 5496: 2557, 5497: 2810, 5498: 3091, 5499: 3627, 5500: 4785, 5501: 5244, 5502: 5570, 5503: 5909, 5504: 6368, 5505: 7044, 5506: 7844, 5507: 7976, 5508: 7981, 5509: 8491, 5510: 8582, 5511: 8607, 5512: 25788, 5513: 25825, 5514: 26122, 5515: 26840, 5516: 27592, 5517: 27850, 5518: 27865, 5519: 27879, 5520: 27912, 5521: 31364, 5522: 32387, 5523: 33138, 5524: 33421, 5525: 33896, 5526: 37240, 5527: 39869, 5528: 46572, 5529: 49263, 5530: 49932, 5531: 1951, 5532: 2436, 5533: 2967, 5534: 3469, 5535: 72, 5536: 99, 5537: 148, 5538: 155, 5539: 178, 5540: 229, 5541: 269, 5542: 496, 5543: 668, 5544: 26116, 5545: 1392, 5546: 1502, 5547: 1755, 5548: 1306, 5549: 2575, 5550: 2744, 5551: 3436, 5552: 3894, 5553: 3932, 5554: 4174, 5555: 4808, 5556: 4932, 5557: 5607, 5558: 698, 5559: 731, 5560: 1055, 5561: 2165, 5562: 2670, 5563: 2674, 5564: 2815, 5565: 3129, 5566: 4608, 5567: 5670, 5568: 8532, 5569: 8833, 5570: 45210, 5571: 56274, 5572: 57243, 5573: 4722, 5574: 5139, 5575: 5610, 5576: 27685, 5577: 34321, 5578: 45106, 5579: 50802, 5580: 62299, 5581: 49, 5582: 461, 5583: 574, 5584: 679, 5585: 1176, 5586: 1312, 5587: 2024, 5588: 2147, 5589: 2983, 5590: 3036, 5591: 3138, 5592: 3194, 5593: 3214, 5594: 3329, 5595: 3402, 5596: 3445, 5597: 3470, 5598: 3528, 5599: 3682, 5600: 3724, 5601: 3725, 5602: 3834, 5603: 5949, 5604: 8815, 5605: 27075, 5606: 27368, 5607: 54372, 5608: 58332, 5609: 59604, 5610: 67295, 5611: 79008, 5612: 81132, 5613: 83601, 5614: 71462, 5615: 179817, 5616: 140956, 5617: 185029, 5618: 4625, 5619: 7810, 5620: 7811, 5621: 7812, 5622: 34397, 5623: 40697, 5624: 51562, 5625: 56915, 5626: 62834, 5627: 62836, 5628: 65651, 5629: 77795, 5630: 100611, 5631: 106642, 5632: 117192, 5633: 117646, 5634: 119167, 5635: 123553, 5636: 128842, 5637: 130444, 5638: 140359, 5639: 146662, 5640: 147372, 5641: 147374, 5642: 147376, 5643: 147378, 5644: 147380, 5645: 147382, 5646: 147384, 5647: 150596, 5648: 166203, 5649: 179511, 5650: 180031, 5651: 184053, 5652: 189547, 5653: 87192, 5654: 87234, 5655: 92439, 5656: 106144, 5657: 107314, 5658: 113573, 5659: 161922, 5660: 168366, 5661: 170697, 5662: 174909, 5663: 175197, 5664: 182823, 5665: 183897, 5666: 188751, 5667: 43679, 5668: 57274, 5669: 86142, 5670: 89582, 5671: 83, 5672: 55451, 5673: 927, 5674: 3422, 5675: 3963, 5676: 275, 5677: 429, 5678: 438, 5679: 444, 5680: 504, 5681: 517, 5682: 564, 5683: 692, 5684: 809, 5685: 870, 5686: 1007, 5687: 1085, 5688: 1126, 5689: 1581, 5690: 1599, 5691: 1602, 5692: 1626, 5693: 1671, 5694: 1677, 5695: 1686, 5696: 1731, 5697: 1867, 5698: 1875, 5699: 1937, 5700: 2056, 5701: 2152, 5702: 2350, 5703: 2373, 5704: 2382, 5705: 2473, 5706: 2477, 5707: 2525, 5708: 2535, 5709: 2537, 5710: 2741, 5711: 2786, 5712: 2816, 5713: 3014, 5714: 3132, 5715: 3165, 5716: 3389, 5717: 3392, 5718: 3406, 5719: 3417, 5720: 3431, 5721: 3432, 5722: 3433, 5723: 3434, 5724: 3524, 5725: 3529, 5726: 6425, 5727: 1752, 5728: 2296, 5729: 3054, 5730: 4749, 5731: 5047, 5732: 7319, 5733: 8880, 5734: 31221, 5735: 36708, 5736: 37380, 5737: 41716, 5738: 46335, 5739: 46850, 5740: 54768, 5741: 55020, 5742: 55292, 5743: 56156, 5744: 61246, 5745: 61348, 5746: 1430, 5747: 4219, 5748: 60937, 5749: 62344, 5750: 62437, 5751: 63540, 5752: 64231, 5753: 2469, 5754: 3090, 5755: 3095, 5756: 4338, 5757: 4605, 5758: 5248, 5759: 5382, 5760: 6306, 5761: 6639, 5762: 6724, 5763: 7013, 5764: 7056, 5765: 7072, 5766: 7216, 5767: 7311, 5768: 8044, 5769: 8364, 5770: 9018, 5771: 25773, 5772: 25841, 5773: 26375, 5774: 27768, 5775: 27776, 5776: 27820, 5777: 27882, 5778: 27899, 5779: 30818, 5780: 30846, 5781: 31437, 5782: 31610, 5783: 31692, 5784: 31702, 5785: 32022, 5786: 32584, 5787: 32632, 5788: 32770, 5789: 2205, 5790: 5523, 5791: 5710, 5792: 6290, 5793: 8363, 5794: 26322, 5795: 26732, 5796: 59014, 5797: 62250, 5798: 66744, 5799: 81831, 5800: 91483, 5801: 91628, 5802: 95307, 5803: 95949, 5804: 96448, 5805: 97168, 5806: 97860, 5807: 101531, 5808: 103137, 5809: 2747, 5810: 55854, 5811: 3496, 5812: 1130, 5813: 2327, 5814: 2633, 5815: 3042, 5816: 63, 5817: 1236, 5818: 1655, 5819: 1887, 5820: 2432, 5821: 2514, 5822: 2515, 5823: 2984, 5824: 3688, 5825: 3843, 5826: 4229, 5827: 4233, 5828: 4544, 5829: 4782, 5830: 5456, 5831: 5584, 5832: 6298, 5833: 6523, 5834: 6625, 5835: 6695, 5836: 6938, 5837: 7103, 5838: 7448, 5839: 32666, 5840: 37720, 5841: 45028, 5842: 51088, 5843: 38304, 5844: 85342, 5845: 8626, 5846: 34330, 5847: 52715, 5848: 55241, 5849: 55553, 5850: 4789, 5851: 5458, 5852: 5478, 5853: 5572, 5854: 5573, 5855: 6013, 5856: 6040, 5857: 6057, 5858: 6186, 5859: 6374, 5860: 6615, 5861: 6862, 5862: 6951, 5863: 6959, 5864: 7150, 5865: 7257, 5866: 7258, 5867: 7261, 5868: 7262, 5869: 7376, 5870: 7440, 5871: 8369, 5872: 8530, 5873: 8799, 5874: 8830, 5875: 8835, 5876: 8836, 5877: 8864, 5878: 8912, 5879: 8916, 5880: 8918, 5881: 8939, 5882: 27434, 5883: 27790, 5884: 27816, 5885: 27837, 5886: 27839, 5887: 30883, 5888: 30894, 5889: 31114, 5890: 31223, 5891: 31427, 5892: 31431, 5893: 31445, 5894: 31867, 5895: 32009, 5896: 32011, 5897: 32019, 5898: 32589, 5899: 33148, 5900: 33158, 5901: 33164, 5902: 33639, 5903: 33815, 5904: 34129, 5905: 34271, 5906: 34532, 5907: 36509, 5908: 36533, 5909: 37477, 5910: 37853, 5911: 38798, 5912: 39231, 5913: 39435, 5914: 40851, 5915: 40946, 5916: 41769, 5917: 42728, 5918: 42732, 5919: 43556, 5920: 43871, 5921: 43919, 5922: 43932, 5923: 44397, 5924: 44731, 5925: 45208, 5926: 45442, 5927: 45662, 5928: 48161, 5929: 48596, 5930: 49220, 5931: 49276, 5932: 49284, 5933: 49793, 5934: 50005, 5935: 50158, 5936: 50445, 5937: 50798, 5938: 50923, 5939: 51082, 5940: 51412, 5941: 51698, 5942: 51933, 5943: 51937, 5944: 52283, 5945: 52712, 5946: 53127, 5947: 54256, 5948: 55995, 5949: 57326, 5950: 57526, 5951: 58105, 5952: 58627, 5953: 58876, 5954: 59985, 5955: 61705, 5956: 62081, 5957: 62511, 5958: 66509, 5959: 67186, 5960: 67197, 5961: 70301, 5962: 70334, 5963: 71252, 5964: 71254, 5965: 71823, 5966: 73515, 5967: 78893, 5968: 81512, 5969: 78103, 5970: 118198, 5971: 134214, 5972: 136912, 5973: 162600, 5974: 178061, 5975: 183011, 5976: 42, 5977: 577, 5978: 917, 5979: 1460, 5980: 1495, 5981: 1707, 5982: 1826, 5983: 2050, 5984: 2566, 5985: 3672, 5986: 1998, 5987: 4329, 5988: 4498, 5989: 4803, 5990: 4852, 5991: 4916, 5992: 4917, 5993: 4945, 5994: 4946, 5995: 4947, 5996: 4957, 5997: 81786, 5998: 118700, 5999: 547, 6000: 2919, 6001: 3566, 6002: 3106, 6003: 123, 6004: 757, 6005: 4956, 6006: 5279, 6007: 7486, 6008: 8327, 6009: 27320, 6010: 61026, 6011: 68486, 6012: 80615, 6013: 80969, 6014: 83613, 6015: 90888, 6016: 82169, 6017: 120799, 6018: 151763, 6019: 4470, 6020: 4531, 6021: 5784, 6022: 7016, 6023: 26686, 6024: 27478, 6025: 32213, 6026: 33085, 6027: 38294, 6028: 39400, 6029: 47254, 6030: 47810, 6031: 51037, 6032: 58315, 6033: 65810, 6034: 66171, 6035: 69606, 6036: 70361, 6037: 72605, 6038: 73431, 6039: 75813, 6040: 77667, 6041: 78039, 6042: 78088, 6043: 80862, 6044: 82053, 6045: 84637, 6046: 84942, 6047: 85056, 6048: 85131, 6049: 85510, 6050: 86295, 6051: 86835, 6052: 86960, 6053: 87298, 6054: 88699, 6055: 88954, 6056: 89047, 6057: 89840, 6058: 90057, 6059: 90430, 6060: 90439, 6061: 90531, 6062: 91622, 6063: 91978, 6064: 92008, 6065: 92507, 6066: 93363, 6067: 93512, 6068: 93563, 6069: 93766, 6070: 94266, 6071: 94780, 6072: 95207, 6073: 95309, 6074: 95583, 6075: 95873, 6076: 96411, 6077: 96417, 6078: 98239, 6079: 99750, 6080: 99910, 6081: 100163, 6082: 101025, 6083: 101076, 6084: 101362, 6085: 102033, 6086: 102684, 6087: 103539, 6088: 103624, 6089: 103655, 6090: 104243, 6091: 105351, 6092: 107953, 6093: 108928, 6094: 109042, 6095: 109673, 6096: 110297, 6097: 110350, 6098: 111364, 6099: 112070, 6100: 143365, 6101: 143367, 6102: 146210, 6103: 148888, 6104: 160954, 6105: 169984, 6106: 173941, 6107: 175569, 6108: 184253, 6109: 185435, 6110: 6983, 6111: 142115, 6112: 4217, 6113: 26366, 6114: 26524, 6115: 44633, 6116: 58309, 6117: 5319, 6118: 44929, 6119: 48883, 6120: 1739, 6121: 2907, 6122: 3929, 6123: 4480, 6124: 121171, 6125: 131656, 6126: 140725, 6127: 146024, 6128: 128, 6129: 2348, 6130: 2766, 6131: 2859, 6132: 4529, 6133: 4711, 6134: 5137, 6135: 5820, 6136: 6027, 6137: 6337, 6138: 6370, 6139: 6713, 6140: 7564, 6141: 7815, 6142: 8011, 6143: 8015, 6144: 294, 6145: 988, 6146: 1415, 6147: 7879, 6148: 8535, 6149: 7303, 6150: 388, 6151: 1807, 6152: 2240, 6153: 2377, 6154: 2445, 6155: 3733, 6156: 3807, 6157: 476, 6158: 2812, 6159: 1791, 6160: 1964, 6161: 2178, 6162: 2182, 6163: 2593, 6164: 2630, 6165: 2829, 6166: 619, 6167: 886, 6168: 1255, 6169: 1327, 6170: 1497, 6171: 1503, 6172: 1992, 6173: 1993, 6174: 2170, 6175: 2448, 6176: 2498, 6177: 2517, 6178: 2846, 6179: 2974, 6180: 3235, 6181: 3511, 6182: 3652, 6183: 3676, 6184: 3696, 6185: 3857, 6186: 3908, 6187: 3938, 6188: 4030, 6189: 4143, 6190: 4224, 6191: 4248, 6192: 4533, 6193: 4683, 6194: 4748, 6195: 4771, 6196: 5076, 6197: 5080, 6198: 5127, 6199: 5401, 6200: 5452, 6201: 5556, 6202: 5569, 6203: 5667, 6204: 5833, 6205: 5853, 6206: 6196, 6207: 6220, 6208: 6379, 6209: 6405, 6210: 6559, 6211: 6664, 6212: 6715, 6213: 6794, 6214: 6868, 6215: 6872, 6216: 7024, 6217: 7117, 6218: 7228, 6219: 7236, 6220: 7321, 6221: 7362, 6222: 7368, 6223: 7646, 6224: 7845, 6225: 7846, 6226: 7894, 6227: 8142, 6228: 8225, 6229: 8241, 6230: 8578, 6231: 8831, 6232: 8906, 6233: 8967, 6234: 26242, 6235: 26492, 6236: 26523, 6237: 26629, 6238: 26736, 6239: 26870, 6240: 27311, 6241: 27604, 6242: 27618, 6243: 27822, 6244: 30745, 6245: 31193, 6246: 31909, 6247: 33132, 6248: 33834, 6249: 34323, 6250: 37382, 6251: 37475, 6252: 38992, 6253: 40723, 6254: 42285, 6255: 43549, 6256: 44828, 6257: 45361, 6258: 50147, 6259: 50440, 6260: 50800, 6261: 51091, 6262: 51498, 6263: 53468, 6264: 54648, 6265: 54785, 6266: 56012, 6267: 57536, 6268: 57910, 6269: 58870, 6270: 59727, 6271: 60037, 6272: 60291, 6273: 60522, 6274: 60538, 6275: 60979, 6276: 65126, 6277: 66427, 6278: 66783, 6279: 69251, 6280: 69275, 6281: 70994, 6282: 71211, 6283: 71379, 6284: 71500, 6285: 74075, 6286: 74685, 6287: 74851, 6288: 77364, 6289: 78041, 6290: 79274, 6291: 80846, 6292: 298, 6293: 556, 6294: 1123, 6295: 1406, 6296: 1533, 6297: 1571, 6298: 1574, 6299: 1594, 6300: 1904, 6301: 2069, 6302: 2073, 6303: 2212, 6304: 2323, 6305: 2624, 6306: 2824, 6307: 2937, 6308: 2964, 6309: 3038, 6310: 3046, 6311: 3192, 6312: 3302, 6313: 3384, 6314: 3480, 6315: 3728, 6316: 3794, 6317: 3914, 6318: 4061, 6319: 4116, 6320: 4285, 6321: 4334, 6322: 4345, 6323: 4384, 6324: 4809, 6325: 5147, 6326: 5241, 6327: 5258, 6328: 5272, 6329: 5603, 6330: 5723, 6331: 5745, 6332: 5884, 6333: 5938, 6334: 6122, 6335: 6254, 6336: 1167, 6337: 107069, 6338: 60293, 6339: 70984, 6340: 71619, 6341: 73266, 6342: 86817, 6343: 91079, 6344: 4091, 6345: 113207, 6346: 6086, 6347: 5876, 6348: 963, 6349: 1008, 6350: 1128, 6351: 1389, 6352: 1660, 6353: 1983, 6354: 1984, 6355: 1995, 6356: 2043, 6357: 2055, 6358: 2057, 6359: 2095, 6360: 2098, 6361: 2120, 6362: 2163, 6363: 2241, 6364: 2259, 6365: 2286, 6366: 2347, 6367: 2365, 6368: 2400, 6369: 2460, 6370: 2462, 6371: 2852, 6372: 2866, 6373: 2902, 6374: 2903, 6375: 3015, 6376: 3161, 6377: 3313, 6378: 3331, 6379: 3345, 6380: 3368, 6381: 3525, 6382: 3689, 6383: 3767, 6384: 3771, 6385: 3806, 6386: 3833, 6387: 3846, 6388: 3926, 6389: 3928, 6390: 3930, 6391: 3957, 6392: 3971, 6393: 3974, 6394: 4000, 6395: 4009, 6396: 4010, 6397: 4043, 6398: 4110, 6399: 4412, 6400: 4443, 6401: 4459, 6402: 4473, 6403: 4492, 6404: 4506, 6405: 4522, 6406: 4709, 6407: 4953, 6408: 4966, 6409: 5428, 6410: 5462, 6411: 5543, 6412: 5544, 6413: 5638, 6414: 7619, 6415: 8959, 6416: 31923, 6417: 34528, 6418: 37736, 6419: 42418, 6420: 43460, 6421: 43869, 6422: 46967, 6423: 47261, 6424: 47950, 6425: 48416, 6426: 60760, 6427: 6125, 6428: 6453, 6429: 26704, 6430: 129, 6431: 341, 6432: 1699, 6433: 2066, 6434: 2439, 6435: 2494, 6436: 2549, 6437: 2660, 6438: 2932, 6439: 2988, 6440: 3007, 6441: 3559, 6442: 3634, 6443: 3713, 6444: 3738, 6445: 3849, 6446: 102007, 6447: 2828, 6448: 3086, 6449: 3871, 6450: 4830, 6451: 7720, 6452: 8383, 6453: 33677, 6454: 68597, 6455: 80839, 6456: 87522, 6457: 92192, 6458: 96121, 6459: 97470, 6460: 113345, 6461: 115231, 6462: 127323, 6463: 129937, 6464: 130576, 6465: 165549, 6466: 278, 6467: 470, 6468: 499, 6469: 998, 6470: 1440, 6471: 2149, 6472: 2736, 6473: 3043, 6474: 3412, 6475: 3544, 6476: 3667, 6477: 3710, 6478: 160848, 6479: 171765, 6480: 1439, 6481: 1526, 6482: 1746, 6483: 4733, 6484: 4757, 6485: 4845, 6486: 5128, 6487: 6554, 6488: 6811, 6489: 7460, 6490: 7926, 6491: 26887, 6492: 34523, 6493: 36537, 6494: 50610, 6495: 54745, 6496: 54934, 6497: 58655, 6498: 58806, 6499: 61729, 6500: 62113, 6501: 67799, 6502: 68600, 6503: 70663, 6504: 71248, 6505: 72405, 6506: 74452, 6507: 74916, 6508: 76060, 6509: 84615, 6510: 90376, 6511: 91128, 6512: 103048, 6513: 109895, 6514: 112370, 6515: 112911, 6516: 116138, 6517: 127108, 6518: 134528, 6519: 134783, 6520: 134808, 6521: 136449, 6522: 138798, 6523: 8261, 6524: 944, 6525: 6818, 6526: 26249, 6527: 49347, 6528: 60516, 6529: 64499, 6530: 64501, 6531: 72294, 6532: 74624, 6533: 74868, 6534: 79251, 6535: 80590, 6536: 85788, 6537: 89118, 6538: 91842, 6539: 94018, 6540: 105197, 6541: 105585, 6542: 106441, 6543: 106785, 6544: 109850, 6545: 112818, 6546: 112897, 6547: 114246, 6548: 118706, 6549: 131796, 6550: 132796, 6551: 140627, 6552: 145418, 6553: 148671, 6554: 158027, 6555: 160400, 6556: 163985, 6557: 177763, 6558: 185585, 6559: 92391, 6560: 104908, 6561: 105731, 6562: 115664, 6563: 122884, 6564: 140016, 6565: 149334, 6566: 156726, 6567: 158528, 6568: 159858, 6569: 175199, 6570: 183295, 6571: 409, 6572: 1323, 6573: 1325, 6574: 1328, 6575: 1490, 6576: 2154, 6577: 2190, 6578: 2332, 6579: 2506, 6580: 2516, 6581: 2559, 6582: 2639, 6583: 2787, 6584: 2962, 6585: 3051, 6586: 3145, 6587: 3280, 6588: 3423, 6589: 3478, 6590: 3830, 6591: 3943, 6592: 4127, 6593: 4181, 6594: 4371, 6595: 4403, 6596: 4520, 6597: 4584, 6598: 4602, 6599: 4619, 6600: 4662, 6601: 4673, 6602: 4697, 6603: 4750, 6604: 4835, 6605: 4862, 6606: 4885, 6607: 4893, 6608: 4915, 6609: 5099, 6610: 5170, 6611: 5255, 6612: 5361, 6613: 5443, 6614: 5454, 6615: 5538, 6616: 5539, 6617: 5590, 6618: 5664, 6619: 5696, 6620: 5735, 6621: 5736, 6622: 5883, 6623: 5927, 6624: 6153, 6625: 6265, 6626: 6316, 6627: 6558, 6628: 6705, 6629: 6827, 6630: 6850, 6631: 6999, 6632: 7026, 6633: 7030, 6634: 7282, 6635: 7636, 6636: 7708, 6637: 7781, 6638: 8169, 6639: 8402, 6640: 8506, 6641: 9005, 6642: 26133, 6643: 26792, 6644: 27555, 6645: 27838, 6646: 30848, 6647: 31422, 6648: 31424, 6649: 33171, 6650: 33681, 6651: 34143, 6652: 34326, 6653: 37857, 6654: 39234, 6655: 48142, 6656: 48518, 6657: 48678, 6658: 49314, 6659: 52375, 6660: 52867, 6661: 53956, 6662: 53974, 6663: 55272, 6664: 55729, 6665: 56003, 6666: 58287, 6667: 65601, 6668: 65738, 6669: 65740, 6670: 65882, 6671: 973, 6672: 1946, 6673: 3171, 6674: 3872, 6675: 4432, 6676: 5398, 6677: 6452, 6678: 6706, 6679: 7218, 6680: 7943, 6681: 25886, 6682: 3330, 6683: 4483, 6684: 6410, 6685: 7184, 6686: 7305, 6687: 40, 6688: 6561, 6689: 680, 6690: 3732, 6691: 4117, 6692: 4754, 6693: 5433, 6694: 5925, 6695: 2275, 6696: 3889, 6697: 4180, 6698: 4210, 6699: 618, 6700: 703, 6701: 2896, 6702: 74545, 6703: 81158, 6704: 82667, 6705: 104272, 6706: 110387, 6707: 121253, 6708: 133115, 6709: 773, 6710: 823, 6711: 1419, 6712: 3569, 6713: 3736, 6714: 3845, 6715: 4256, 6716: 4612, 6717: 4708, 6718: 4825, 6719: 5202, 6720: 5238, 6721: 5475, 6722: 5838, 6723: 6197, 6724: 6241, 6725: 6329, 6726: 7071, 6727: 7124, 6728: 7238, 6729: 7459, 6730: 7979, 6731: 8190, 6732: 8484, 6733: 8724, 6734: 8748, 6735: 26003, 6736: 26048, 6737: 26059, 6738: 26073, 6739: 26158, 6740: 26225, 6741: 26317, 6742: 26713, 6743: 26928, 6744: 27003, 6745: 27176, 6746: 27186, 6747: 27328, 6748: 31545, 6749: 31952, 6750: 32511, 6751: 32554, 6752: 32906, 6753: 32917, 6754: 40955, 6755: 42176, 6756: 44931, 6757: 47446, 6758: 48001, 6759: 48638, 6760: 49917, 6761: 51174, 6762: 53574, 6763: 53883, 6764: 54185, 6765: 54354, 6766: 57772, 6767: 58376, 6768: 60408, 6769: 60885, 6770: 61394, 6771: 62208, 6772: 64167, 6773: 65037, 6774: 65225, 6775: 65631, 6776: 67508, 6777: 68444, 6778: 69746, 6779: 69953, 6780: 71131, 6781: 71147, 6782: 71453, 6783: 71468, 6784: 71494, 6785: 71867, 6786: 72171, 6787: 72714, 6788: 72921, 6789: 74089, 6790: 74226, 6791: 74791, 6792: 76054, 6793: 76173, 6794: 76738, 6795: 77191, 6796: 77233, 6797: 78836, 6798: 79073, 6799: 80478, 6800: 80553, 6801: 81191, 6802: 83827, 6803: 83976, 6804: 84273, 6805: 84716, 6806: 85213, 6807: 86237, 6808: 86279, 6809: 86922, 6810: 87304, 6811: 87444, 6812: 87660, 6813: 89030, 6814: 89945, 6815: 90245, 6816: 90357, 6817: 90528, 6818: 90630, 6819: 90769, 6820: 91784, 6821: 91860, 6822: 92422, 6823: 92637, 6824: 94735, 6825: 96084, 6826: 97904, 6827: 100044, 6828: 100106, 6829: 100277, 6830: 101741, 6831: 102742, 6832: 102823, 6833: 105254, 6834: 106648, 6835: 109187, 6836: 109383, 6837: 109968, 6838: 111817, 6839: 113348, 6840: 114847, 6841: 116505, 6842: 117364, 6843: 117531, 6844: 117545, 6845: 117849, 6846: 118784, 6847: 118880, 6848: 120761, 6849: 121169, 6850: 124853, 6851: 127114, 6852: 127172, 6853: 127180, 6854: 127204, 6855: 127298, 6856: 128900, 6857: 128902, 6858: 128991, 6859: 133802, 6860: 134019, 6861: 134796, 6862: 136024, 6863: 138966, 6864: 140162, 6865: 140737, 6866: 140816, 6867: 143525, 6868: 143896, 6869: 144478, 6870: 145080, 6871: 147002, 6872: 148424, 6873: 150696, 6874: 152065, 6875: 155774, 6876: 158842, 6877: 159976, 6878: 160684, 6879: 168612, 6880: 170355, 6881: 173197, 6882: 173291, 6883: 173317, 6884: 179135, 6885: 184245, 6886: 188675, 6887: 188833, 6888: 189381, 6889: 26555, 6890: 2882, 6891: 110127, 6892: 111443, 6893: 3884, 6894: 3899, 6895: 3912, 6896: 30, 6897: 80, 6898: 183, 6899: 2425, 6900: 2848, 6901: 2894, 6902: 4086, 6903: 4263, 6904: 4294, 6905: 4471, 6906: 4500, 6907: 4523, 6908: 4714, 6909: 4717, 6910: 4927, 6911: 5033, 6912: 5075, 6913: 5980, 6914: 27866, 6915: 70451, 6916: 73344, 6917: 81257, 6918: 84240, 6919: 102194, 6920: 165101, 6921: 130482, 6922: 136850, 6923: 26528, 6924: 193609, 6925: 3420, 6926: 5226, 6927: 7925, 6928: 26564, 6929: 80917, 6930: 92938, 6931: 93610, 6932: 97757, 6933: 3567, 6934: 3580, 6935: 30850, 6936: 47404, 6937: 59118, 6938: 189043, 6939: 189111, 6940: 190207, 6941: 190209, 6942: 190213, 6943: 190215, 6944: 190219, 6945: 190221, 6946: 6869, 6947: 56869, 6948: 58842, 6949: 77177, 6950: 82378, 6951: 90345, 6952: 92243, 6953: 109687, 6954: 115969, 6955: 141749, 6956: 141890, 6957: 156783, 6958: 166946, 6959: 176751, 6960: 94405, 6961: 2188, 6962: 2370, 6963: 2676, 6964: 2975, 6965: 4195, 6966: 4419, 6967: 5404, 6968: 5707, 6969: 27751, 6970: 38164, 6971: 521, 6972: 1572, 6973: 2442, 6974: 4297, 6975: 4404, 6976: 4422, 6977: 5951, 6978: 6023, 6979: 6286, 6980: 6530, 6981: 7084, 6982: 7115, 6983: 7178, 6984: 7179, 6985: 7820, 6986: 7937, 6987: 7940, 6988: 8405, 6989: 32179, 6990: 6223, 6991: 6263, 6992: 40412, 6993: 52579, 6994: 54787, 6995: 55555, 6996: 57843, 6997: 60857, 6998: 60894, 6999: 88179, 7000: 88272, 7001: 88932, 7002: 89028, 7003: 89761, 7004: 90353, 7005: 90471, 7006: 92048, 7007: 5074, 7008: 7122, 7009: 34164, 7010: 44889, 7011: 48744, 7012: 58492, 7013: 59141, 7014: 1996, 7015: 4354, 7016: 4622, 7017: 6612, 7018: 8580, 7019: 8998, 7020: 27329, 7021: 53024, 7022: 59810, 7023: 73854, 7024: 74282, 7025: 93040, 7026: 96563, 7027: 2226, 7028: 26095, 7029: 65350, 7030: 70687, 7031: 85334, 7032: 87028, 7033: 89386, 7034: 26472, 7035: 1647, 7036: 161127, 7037: 176389, 7038: 176579, 7039: 96964, 7040: 101415, 7041: 106062, 7042: 107997, 7043: 109569, 7044: 113604, 7045: 114494, 7046: 132888, 7047: 145935, 7048: 148172, 7049: 155288, 7050: 155820, 7051: 1565, 7052: 2695, 7053: 3299, 7054: 3453, 7055: 4053, 7056: 4078, 7057: 4505, 7058: 4517, 7059: 2307, 7060: 2399, 7061: 3127, 7062: 3162, 7063: 3545, 7064: 3716, 7065: 3731, 7066: 3758, 7067: 3922, 7068: 33312, 7069: 55167, 7070: 112512, 7071: 335, 7072: 882, 7073: 1351, 7074: 1352, 7075: 1601, 7076: 3648, 7077: 4434, 7078: 4942, 7079: 5113, 7080: 5288, 7081: 5468, 7082: 5706, 7083: 5979, 7084: 6021, 7085: 6654, 7086: 6656, 7087: 6836, 7088: 6899, 7089: 7104, 7090: 7304, 7091: 7756, 7092: 7834, 7093: 8138, 7094: 8610, 7095: 25959, 7096: 27692, 7097: 32139, 7098: 42556, 7099: 56837, 7100: 71302, 7101: 71999, 7102: 80748, 7103: 84799, 7104: 87287, 7105: 92760, 7106: 94262, 7107: 152, 7108: 2656, 7109: 4444, 7110: 4814, 7111: 5134, 7112: 5476, 7113: 6889, 7114: 7310, 7115: 8526, 7116: 26585, 7117: 26999, 7118: 27584, 7119: 27683, 7120: 27802, 7121: 31698, 7122: 31804, 7123: 32456, 7124: 32743, 7125: 33644, 7126: 40614, 7127: 40617, 7128: 44020, 7129: 47124, 7130: 51927, 7131: 52950, 7132: 58404, 7133: 60818, 7134: 63222, 7135: 64249, 7136: 65133, 7137: 68194, 7138: 71129, 7139: 72601, 7140: 74750, 7141: 77798, 7142: 82744, 7143: 84414, 7144: 88515, 7145: 90603, 7146: 94160, 7147: 94985, 7148: 95004, 7149: 95147, 7150: 95149, 7151: 95182, 7152: 95473, 7153: 95475, 7154: 95497, 7155: 96007, 7156: 96815, 7157: 97643, 7158: 97785, 7159: 101739, 7160: 102058, 7161: 102084, 7162: 103233, 7163: 103449, 7164: 104141, 7165: 104419, 7166: 104457, 7167: 107723, 7168: 108795, 7169: 113278, 7170: 134524, 7171: 137863, 7172: 152173, 7173: 161354, 7174: 162598, 7175: 163056, 7176: 166558, 7177: 169982, 7178: 172875, 7179: 172881, 7180: 172887, 7181: 176935, 7182: 179119, 7183: 182639, 7184: 31435, 7185: 43376, 7186: 45074, 7187: 53326, 7188: 55259, 7189: 63808, 7190: 1003, 7191: 4580, 7192: 4632, 7193: 8387, 7194: 26764, 7195: 26765, 7196: 46865, 7197: 47952, 7198: 48598, 7199: 49647, 7200: 50003, 7201: 52279, 7202: 65685, 7203: 72696, 7204: 88356, 7205: 91660, 7206: 93139, 7207: 95796, 7208: 100737, 7209: 104074, 7210: 104076, 7211: 112460, 7212: 114713, 7213: 116887, 7214: 122902, 7215: 126482, 7216: 130686, 7217: 131934, 7218: 142372, 7219: 152079, 7220: 158254, 7221: 170289, 7222: 2546, 7223: 2669, 7224: 2856, 7225: 4276, 7226: 4323, 7227: 4355, 7228: 206, 7229: 363, 7230: 841, 7231: 1161, 7232: 1329, 7233: 1662, 7234: 1770, 7235: 1977, 7236: 2071, 7237: 2074, 7238: 2303, 7239: 2488, 7240: 2632, 7241: 3455, 7242: 3587, 7243: 3680, 7244: 3765, 7245: 3813, 7246: 3838, 7247: 3865, 7248: 3919, 7249: 4064, 7250: 4065, 7251: 4191, 7252: 4278, 7253: 4289, 7254: 4298, 7255: 4390, 7256: 4392, 7257: 4393, 7258: 4408, 7259: 4409, 7260: 4426, 7261: 4429, 7262: 4441, 7263: 4527, 7264: 4552, 7265: 4563, 7266: 4614, 7267: 4687, 7268: 4833, 7269: 4985, 7270: 4988, 7271: 5121, 7272: 5156, 7273: 5397, 7274: 5465, 7275: 5489, 7276: 5515, 7277: 5531, 7278: 5780, 7279: 5974, 7280: 5984, 7281: 6035, 7282: 6063, 7283: 6100, 7284: 6123, 7285: 6184, 7286: 6465, 7287: 6533, 7288: 6577, 7289: 6710, 7290: 6748, 7291: 6885, 7292: 6918, 7293: 6981, 7294: 7088, 7295: 7091, 7296: 7102, 7297: 7116, 7298: 7205, 7299: 7301, 7300: 7328, 7301: 7336, 7302: 7386, 7303: 7394, 7304: 7450, 7305: 7581, 7306: 7616, 7307: 7745, 7308: 7749, 7309: 7895, 7310: 7936, 7311: 7938, 7312: 7939, 7313: 7951, 7314: 7987, 7315: 7993, 7316: 8188, 7317: 8195, 7318: 8196, 7319: 8239, 7320: 8270, 7321: 8290, 7322: 8512, 7323: 8542, 7324: 8596, 7325: 8670, 7326: 25898, 7327: 25963, 7328: 26002, 7329: 26052, 7330: 26124, 7331: 26151, 7332: 26231, 7333: 26303, 7334: 26694, 7335: 31590, 7336: 31737, 7337: 32314, 7338: 32392, 7339: 33188, 7340: 40966, 7341: 41617, 7342: 44657, 7343: 44759, 7344: 44864, 7345: 46772, 7346: 47465, 7347: 52462, 7348: 52644, 7349: 6158, 7350: 63239, 7351: 104245, 7352: 6344, 7353: 7208, 7354: 27695, 7355: 44943, 7356: 59995, 7357: 695, 7358: 1150, 7359: 1900, 7360: 2708, 7361: 4237, 7362: 4562, 7363: 4965, 7364: 5470, 7365: 5477, 7366: 5537, 7367: 5575, 7368: 130842, 7369: 1701, 7370: 6408, 7371: 8738, 7372: 26147, 7373: 26631, 7374: 60333, 7375: 42734, 7376: 170939, 7377: 61465, 7378: 61697, 7379: 7134, 7380: 26810, 7381: 27664, 7382: 59814, 7383: 70708, 7384: 77266, 7385: 6776, 7386: 70305, 7387: 85412, 7388: 87785, 7389: 103596, 7390: 136540, 7391: 3590, 7392: 3760, 7393: 389, 7394: 549, 7395: 670, 7396: 824, 7397: 3823, 7398: 3855, 7399: 4077, 7400: 4175, 7401: 4268, 7402: 119, 7403: 386, 7404: 650, 7405: 1040, 7406: 1121, 7407: 1332, 7408: 1484, 7409: 1605, 7410: 1609, 7411: 1656, 7412: 1870, 7413: 1922, 7414: 2007, 7415: 2119, 7416: 2172, 7417: 2260, 7418: 2264, 7419: 2271, 7420: 2472, 7421: 2482, 7422: 2552, 7423: 2570, 7424: 2751, 7425: 2835, 7426: 2884, 7427: 2891, 7428: 2893, 7429: 2928, 7430: 2979, 7431: 3008, 7432: 3111, 7433: 3206, 7434: 3378, 7435: 3391, 7436: 3539, 7437: 3581, 7438: 3625, 7439: 3790, 7440: 3847, 7441: 3898, 7442: 3900, 7443: 3951, 7444: 3953, 7445: 4012, 7446: 4081, 7447: 4089, 7448: 4115, 7449: 4123, 7450: 4125, 7451: 4138, 7452: 4139, 7453: 4147, 7454: 4221, 7455: 4242, 7456: 4290, 7457: 4312, 7458: 4353, 7459: 4451, 7460: 4458, 7461: 4462, 7462: 4463, 7463: 4475, 7464: 4478, 7465: 4488, 7466: 4524, 7467: 4573, 7468: 4583, 7469: 4595, 7470: 4600, 7471: 4610, 7472: 4617, 7473: 4636, 7474: 4666, 7475: 4672, 7476: 4675, 7477: 4721, 7478: 4745, 7479: 4777, 7480: 4780, 7481: 4818, 7482: 4847, 7483: 4926, 7484: 4961, 7485: 4962, 7486: 5068, 7487: 5071, 7488: 5073, 7489: 5081, 7490: 5112, 7491: 5178, 7492: 5209, 7493: 5237, 7494: 5240, 7495: 5278, 7496: 5285, 7497: 5297, 7498: 5321, 7499: 5322, 7500: 5324, 7501: 5328, 7502: 5337, 7503: 5345, 7504: 5390, 7505: 5416, 7506: 5422, 7507: 5424, 7508: 5437, 7509: 5461, 7510: 5471, 7511: 5483, 7512: 5521, 7513: 5562, 7514: 5625, 7515: 5633, 7516: 5635, 7517: 5636, 7518: 5663, 7519: 5678, 7520: 5685, 7521: 5688, 7522: 5817, 7523: 5829, 7524: 5880, 7525: 5896, 7526: 5968, 7527: 5994, 7528: 6033, 7529: 6036, 7530: 6039, 7531: 6078, 7532: 6116, 7533: 6141, 7534: 6159, 7535: 6162, 7536: 6195, 7537: 6216, 7538: 6222, 7539: 6268, 7540: 6269, 7541: 6280, 7542: 6295, 7543: 6308, 7544: 6314, 7545: 6315, 7546: 6349, 7547: 6442, 7548: 6493, 7549: 6510, 7550: 6517, 7551: 6542, 7552: 6547, 7553: 6549, 7554: 6560, 7555: 6563, 7556: 6574, 7557: 6582, 7558: 6598, 7559: 6616, 7560: 6628, 7561: 6631, 7562: 6670, 7563: 6689, 7564: 6696, 7565: 6699, 7566: 6718, 7567: 6720, 7568: 6780, 7569: 6797, 7570: 6809, 7571: 6810, 7572: 6812, 7573: 6816, 7574: 6851, 7575: 6883, 7576: 6898, 7577: 6954, 7578: 7033, 7579: 7165, 7580: 7175, 7581: 7176, 7582: 7193, 7583: 7248, 7584: 7251, 7585: 7315, 7586: 7340, 7587: 7348, 7588: 7364, 7589: 7390, 7590: 8119, 7591: 8587, 7592: 8915, 7593: 8919, 7594: 8952, 7595: 8954, 7596: 25834, 7597: 30820, 7598: 31162, 7599: 32116, 7600: 33725, 7601: 33826, 7602: 33838, 7603: 34540, 7604: 41527, 7605: 42602, 7606: 43912, 7607: 45062, 7608: 45635, 7609: 46347, 7610: 46559, 7611: 48319, 7612: 48560, 7613: 49132, 7614: 49280, 7615: 49957, 7616: 50792, 7617: 51694, 7618: 52299, 7619: 52668, 7620: 52724, 7621: 52784, 7622: 53447, 7623: 54771, 7624: 55110, 7625: 55250, 7626: 56908, 7627: 58879, 7628: 59037, 7629: 60128, 7630: 60141, 7631: 61401, 7632: 70862, 7633: 76763, 7634: 95135, 7635: 112940, 7636: 115828, 7637: 127130, 7638: 154358, 7639: 166568, 7640: 169992, 7641: 173205, 7642: 173209, 7643: 176423, 7644: 180045, 7645: 90374, 7646: 1412, 7647: 2807, 7648: 4093, 7649: 27704, 7650: 50851, 7651: 69860, 7652: 79677, 7653: 85394, 7654: 86668, 7655: 89580, 7656: 90943, 7657: 97866, 7658: 6210, 7659: 8337, 7660: 8577, 7661: 26693, 7662: 59295, 7663: 2665, 7664: 3447, 7665: 3973, 7666: 4190, 7667: 4802, 7668: 4925, 7669: 4939, 7670: 5063, 7671: 136469, 7672: 91325, 7673: 6055, 7674: 6347, 7675: 6348, 7676: 6597, 7677: 5532, 7678: 7306, 7679: 8588, 7680: 27708, 7681: 33893, 7682: 45503, 7683: 66090, 7684: 68347, 7685: 71902, 7686: 80880, 7687: 89208, 7688: 92348, 7689: 568, 7690: 1675, 7691: 2540, 7692: 4453, 7693: 4743, 7694: 5409, 7695: 5580, 7696: 5675, 7697: 5787, 7698: 6992, 7699: 7017, 7700: 7192, 7701: 8782, 7702: 30898, 7703: 36276, 7704: 43708, 7705: 8690, 7706: 4402, 7707: 96430, 7708: 941, 7709: 1839, 7710: 2368, 7711: 2520, 7712: 2521, 7713: 2523, 7714: 2693, 7715: 2887, 7716: 3057, 7717: 3276, 7718: 3284, 7719: 3390, 7720: 3596, 7721: 3933, 7722: 4051, 7723: 4156, 7724: 4198, 7725: 4212, 7726: 4397, 7727: 4526, 7728: 4630, 7729: 4660, 7730: 4756, 7731: 4775, 7732: 4952, 7733: 4981, 7734: 5250, 7735: 5334, 7736: 5356, 7737: 5490, 7738: 5700, 7739: 5752, 7740: 5779, 7741: 5915, 7742: 6302, 7743: 6424, 7744: 6427, 7745: 6476, 7746: 6514, 7747: 6760, 7748: 6798, 7749: 6814, 7750: 7101, 7751: 7245, 7752: 7372, 7753: 8136, 7754: 8137, 7755: 8447, 7756: 8743, 7757: 26152, 7758: 26386, 7759: 26464, 7760: 26700, 7761: 31000, 7762: 32291, 7763: 34018, 7764: 37211, 7765: 43558, 7766: 48262, 7767: 49688, 7768: 50064, 7769: 53453, 7770: 53808, 7771: 55294, 7772: 58351, 7773: 61123, 7774: 61289, 7775: 63393, 7776: 65135, 7777: 66785, 7778: 67361, 7779: 69118, 7780: 69453, 7781: 69604, 7782: 70545, 7783: 71466, 7784: 71732, 7785: 72224, 7786: 72694, 7787: 73386, 7788: 75803, 7789: 75816, 7790: 77421, 7791: 78034, 7792: 78116, 7793: 79259, 7794: 79590, 7795: 79879, 7796: 79946, 7797: 80241, 7798: 80864, 7799: 81949, 7800: 82093, 7801: 82095, 7802: 82527, 7803: 83374, 7804: 84696, 7805: 84950, 7806: 85025, 7807: 85399, 7808: 86028, 7809: 86593, 7810: 87876, 7811: 88672, 7812: 89305, 7813: 89343, 7814: 89388, 7815: 89427, 7816: 90343, 7817: 90719, 7818: 90738, 7819: 91273, 7820: 91688, 7821: 91873, 7822: 91935, 7823: 92198, 7824: 92665, 7825: 93242, 7826: 93980, 7827: 93982, 7828: 94011, 7829: 94323, 7830: 94494, 7831: 94896, 7832: 94919, 7833: 95201, 7834: 95508, 7835: 95744, 7836: 96114, 7837: 96281, 7838: 96530, 7839: 96726, 7840: 97328, 7841: 97742, 7842: 97858, 7843: 97870, 7844: 97936, 7845: 98160, 7846: 98175, 7847: 98230, 7848: 98296, 7849: 98836, 7850: 98908, 7851: 99005, 7852: 99415, 7853: 99574, 7854: 99846, 7855: 99992, 7856: 100226, 7857: 100304, 7858: 100326, 7859: 100487, 7860: 101360, 7861: 101529, 7862: 101577, 7863: 101884, 7864: 101895, 7865: 102025, 7866: 102165, 7867: 102278, 7868: 102819, 7869: 102880, 7870: 103221, 7871: 103502, 7872: 103543, 7873: 103755, 7874: 103865, 7875: 104078, 7876: 104129, 7877: 104760, 7878: 104906, 7879: 105121, 7880: 105755, 7881: 106330, 7882: 106438, 7883: 106542, 7884: 106883, 7885: 107702, 7886: 107945, 7887: 107962, 7888: 108188, 7889: 108601, 7890: 108715, 7891: 109183, 7892: 109191, 7893: 109295, 7894: 109317, 7895: 109372, 7896: 109416, 7897: 110611, 7898: 110655, 7899: 110826, 7900: 111663, 7901: 111680, 7902: 111795, 7903: 112303, 7904: 112749, 7905: 113186, 7906: 113225, 7907: 113350, 7908: 113416, 7909: 113532, 7910: 114028, 7911: 114601, 7912: 114925, 7913: 115151, 7914: 115170, 7915: 115216, 7916: 116207, 7917: 116413, 7918: 116419, 7919: 116849, 7920: 116985, 7921: 117107, 7922: 117511, 7923: 118248, 7924: 118326, 7925: 118354, 7926: 118512, 7927: 118702, 7928: 118814, 7929: 118924, 7930: 118997, 7931: 119068, 7932: 119655, 7933: 120637, 7934: 120783, 7935: 122490, 7936: 122932, 7937: 124859, 7938: 125221, 7939: 126420, 7940: 127132, 7941: 127136, 7942: 127194, 7943: 127319, 7944: 128592, 7945: 129333, 7946: 129657, 7947: 129659, 7948: 130083, 7949: 131480, 7950: 132333, 7951: 132462, 7952: 132488, 7953: 132618, 7954: 133195, 7955: 133281, 7956: 133365, 7957: 133377, 7958: 133545, 7959: 133782, 7960: 133798, 7961: 134021, 7962: 134158, 7963: 134859, 7964: 136654, 7965: 136664, 7966: 136778, 7967: 136786, 7968: 136800, 7969: 136816, 7970: 136859, 7971: 137517, 7972: 138546, 7973: 139052, 7974: 139415, 7975: 139857, 7976: 140237, 7977: 140525, 7978: 140850, 7979: 141422, 7980: 142424, 7981: 143001, 7982: 143255, 7983: 143257, 7984: 143472, 7985: 144262, 7986: 144620, 7987: 144714, 7988: 144716, 7989: 145150, 7990: 146688, 7991: 146730, 7992: 148482, 7993: 148592, 7994: 148709, 7995: 149590, 7996: 149612, 7997: 150401, 7998: 150604, 7999: 151315, 8000: 151317, 8001: 151501, 8002: 151559, 8003: 151653, 8004: 151745, 8005: 151777, 8006: 152085, 8007: 152105, 8008: 152658, 8009: 154065, 8010: 155358, 8011: 155659, 8012: 155743, 8013: 155892, 8014: 156553, 8015: 156706, 8016: 157122, 8017: 157130, 8018: 157172, 8019: 157200, 8020: 157270, 8021: 157340, 8022: 157407, 8023: 157432, 8024: 158022, 8025: 158956, 8026: 159077, 8027: 159193, 8028: 159690, 8029: 160440, 8030: 160573, 8031: 160646, 8032: 160730, 8033: 161290, 8034: 161830, 8035: 161918, 8036: 162828, 8037: 164375, 8038: 164647, 8039: 164753, 8040: 165075, 8041: 165139, 8042: 165343, 8043: 165347, 8044: 168350, 8045: 168456, 8046: 169180, 8047: 173751, 8048: 3568, 8049: 2839, 8050: 3240, 8051: 3241, 8052: 3756, 8053: 3787, 8054: 1341, 8055: 706, 8056: 89039, 8057: 1757, 8058: 2677, 8059: 3859, 8060: 3989, 8061: 4236, 8062: 4863, 8063: 4977, 8064: 5205, 8065: 5212, 8066: 5224, 8067: 5239, 8068: 5986, 8069: 6064, 8070: 6466, 8071: 6528, 8072: 6611, 8073: 6775, 8074: 6935, 8075: 6945, 8076: 6966, 8077: 7181, 8078: 7620, 8079: 7767, 8080: 7786, 8081: 7920, 8082: 8620, 8083: 8848, 8084: 26359, 8085: 26838, 8086: 27563, 8087: 32582, 8088: 38198, 8089: 45382, 8090: 46855, 8091: 55156, 8092: 58191, 8093: 67665, 8094: 71640, 8095: 82857, 8096: 89090, 8097: 100556, 8098: 103107, 8099: 105835, 8100: 109161, 8101: 148982, 8102: 151311, 8103: 152711, 8104: 160644, 8105: 162414, 8106: 164655, 8107: 167064, 8108: 179813, 8109: 183199, 8110: 183317, 8111: 184721, 8112: 187717, 8113: 188189, 8114: 189713, 8115: 56169, 8116: 59738, 8117: 60832, 8118: 74530, 8119: 74580, 8120: 90384, 8121: 3723, 8122: 2493, 8123: 451, 8124: 1180, 8125: 3405, 8126: 3619, 8127: 3658, 8128: 3832, 8129: 96, 8130: 488, 8131: 638, 8132: 907, 8133: 929, 8134: 956, 8135: 959, 8136: 970, 8137: 976, 8138: 982, 8139: 993, 8140: 1068, 8141: 1398, 8142: 1413, 8143: 1423, 8144: 1496, 8145: 1507, 8146: 1629, 8147: 1650, 8148: 1893, 8149: 1902, 8150: 1913, 8151: 1926, 8152: 1928, 8153: 1932, 8154: 1933, 8155: 1940, 8156: 2177, 8157: 2179, 8158: 2180, 8159: 2185, 8160: 2187, 8161: 2201, 8162: 2211, 8163: 2611, 8164: 2612, 8165: 2652, 8166: 2697, 8167: 2743, 8168: 2757, 8169: 2801, 8170: 2927, 8171: 2929, 8172: 2930, 8173: 3109, 8174: 3112, 8175: 3125, 8176: 3135, 8177: 3211, 8178: 3281, 8179: 3475, 8180: 3609, 8181: 3641, 8182: 3714, 8183: 3715, 8184: 3739, 8185: 3789, 8186: 3816, 8187: 3870, 8188: 3965, 8189: 3966, 8190: 4046, 8191: 4080, 8192: 4113, 8193: 4129, 8194: 4164, 8195: 4171, 8196: 4184, 8197: 4189, 8198: 4204, 8199: 4218, 8200: 4292, 8201: 4296, 8202: 4433, 8203: 4484, 8204: 4495, 8205: 4521, 8206: 4578, 8207: 4589, 8208: 4635, 8209: 4704, 8210: 4769, 8211: 4796, 8212: 4798, 8213: 4801, 8214: 4804, 8215: 4860, 8216: 4871, 8217: 4970, 8218: 4998, 8219: 5007, 8220: 5012, 8221: 5077, 8222: 5114, 8223: 5116, 8224: 5168, 8225: 5213, 8226: 5231, 8227: 5311, 8228: 5353, 8229: 5375, 8230: 5384, 8231: 5440, 8232: 5455, 8233: 5512, 8234: 5525, 8235: 5581, 8236: 5601, 8237: 5602, 8238: 5604, 8239: 5629, 8240: 5649, 8241: 5694, 8242: 5755, 8243: 5771, 8244: 5799, 8245: 5801, 8246: 5802, 8247: 5826, 8248: 5836, 8249: 5863, 8250: 5875, 8251: 5963, 8252: 6020, 8253: 6031, 8254: 6042, 8255: 6090, 8256: 6101, 8257: 6163, 8258: 6178, 8259: 6181, 8260: 6201, 8261: 6225, 8262: 6228, 8263: 6232, 8264: 6245, 8265: 6273, 8266: 6289, 8267: 6336, 8268: 6357, 8269: 6376, 8270: 6382, 8271: 6390, 8272: 6400, 8273: 6407, 8274: 6422, 8275: 6434, 8276: 6454, 8277: 6477, 8278: 6515, 8279: 6527, 8280: 6545, 8281: 6581, 8282: 6584, 8283: 6592, 8284: 6603, 8285: 6609, 8286: 6614, 8287: 6660, 8288: 6667, 8289: 6732, 8290: 6768, 8291: 6770, 8292: 6772, 8293: 6788, 8294: 6837, 8295: 6909, 8296: 6911, 8297: 6912, 8298: 6948, 8299: 6962, 8300: 6965, 8301: 6970, 8302: 6982, 8303: 6984, 8304: 6990, 8305: 7012, 8306: 7019, 8307: 7049, 8308: 7051, 8309: 7052, 8310: 7053, 8311: 7055, 8312: 7057, 8313: 7058, 8314: 7059, 8315: 7061, 8316: 7062, 8317: 7070, 8318: 7073, 8319: 7074, 8320: 7075, 8321: 7079, 8322: 7082, 8323: 7083, 8324: 7085, 8325: 7086, 8326: 7092, 8327: 7093, 8328: 7141, 8329: 7167, 8330: 7177, 8331: 7190, 8332: 7211, 8333: 7212, 8334: 7217, 8335: 7219, 8336: 7223, 8337: 7326, 8338: 7357, 8339: 7382, 8340: 7414, 8341: 7479, 8342: 7560, 8343: 7572, 8344: 7579, 8345: 7584, 8346: 7618, 8347: 7702, 8348: 7705, 8349: 7713, 8350: 7714, 8351: 7716, 8352: 7727, 8353: 7772, 8354: 7789, 8355: 7822, 8356: 7826, 8357: 7831, 8358: 7832, 8359: 7833, 8360: 7835, 8361: 7839, 8362: 7840, 8363: 7882, 8364: 7883, 8365: 7888, 8366: 7896, 8367: 7900, 8368: 7944, 8369: 8019, 8370: 8057, 8371: 8094, 8372: 8125, 8373: 8153, 8374: 8167, 8375: 8191, 8376: 8232, 8377: 8275, 8378: 8293, 8379: 8302, 8380: 8331, 8381: 8336, 8382: 8338, 8383: 8375, 8384: 8382, 8385: 8385, 8386: 8410, 8387: 8424, 8388: 8446, 8389: 8450, 8390: 8451, 8391: 8458, 8392: 8459, 8393: 8461, 8394: 8462, 8395: 8463, 8396: 8465, 8397: 8481, 8398: 8482, 8399: 8487, 8400: 8492, 8401: 8502, 8402: 8518, 8403: 8521, 8404: 8534, 8405: 8575, 8406: 8591, 8407: 8611, 8408: 8617, 8409: 8650, 8410: 8684, 8411: 8711, 8412: 8712, 8413: 8714, 8414: 8730, 8415: 8753, 8416: 8754, 8417: 8771, 8418: 8773, 8419: 8774, 8420: 8778, 8421: 8809, 8422: 8813, 8423: 8875, 8424: 8920, 8425: 8921, 8426: 8938, 8427: 8943, 8428: 8955, 8429: 8979, 8430: 8987, 8431: 8989, 8432: 25752, 8433: 25753, 8434: 25757, 8435: 25769, 8436: 25795, 8437: 25826, 8438: 25850, 8439: 25865, 8440: 25870, 8441: 25927, 8442: 25940, 8443: 25952, 8444: 25962, 8445: 25996, 8446: 25999, 8447: 26791, 8448: 26965, 8449: 31030, 8450: 31083, 8451: 31260, 8452: 31694, 8453: 31903, 8454: 34359, 8455: 35015, 8456: 42740, 8457: 43333, 8458: 44511, 8459: 48741, 8460: 49666, 8461: 50160, 8462: 50514, 8463: 53921, 8464: 55071, 8465: 55687, 8466: 56563, 8467: 3720, 8468: 4454, 8469: 4557, 8470: 4725, 8471: 5069, 8472: 5348, 8473: 6148, 8474: 7335, 8475: 8126, 8476: 27537, 8477: 31660, 8478: 42422, 8479: 68945, 8480: 72308, 8481: 78746, 8482: 82242, 8483: 2362, 8484: 3428, 8485: 4111, 8486: 4410, 8487: 4831, 8488: 5197, 8489: 5365, 8490: 5389, 8491: 5448, 8492: 5651, 8493: 5773, 8494: 6436, 8495: 6853, 8496: 8131, 8497: 27830, 8498: 32294, 8499: 36477, 8500: 37844, 8501: 43914, 8502: 44197, 8503: 47646, 8504: 2068, 8505: 6320, 8506: 8268, 8507: 2483, 8508: 8632, 8509: 27370, 8510: 31617, 8511: 36397, 8512: 68522, 8513: 72554, 8514: 88448, 8515: 89586, 8516: 90863, 8517: 91890, 8518: 93723, 8519: 94810, 8520: 95939, 8521: 96283, 8522: 97665, 8523: 99087, 8524: 100068, 8525: 101765, 8526: 105325, 8527: 109941, 8528: 109971, 8529: 112316, 8530: 115065, 8531: 4759, 8532: 5786, 8533: 8593, 8534: 71268, 8535: 93320, 8536: 26900, 8537: 40597, 8538: 54796, 8539: 72874, 8540: 73501, 8541: 77881, 8542: 79299, 8543: 79536, 8544: 80454, 8545: 80551, 8546: 84553, 8547: 86000, 8548: 87413, 8549: 91488, 8550: 92730, 8551: 94130, 8552: 50954, 8553: 78160, 8554: 78544, 8555: 180231, 8556: 103, 8557: 467, 8558: 876, 8559: 1170, 8560: 73290, 8561: 140523, 8562: 131739, 8563: 56286, 8564: 449, 8565: 1824, 8566: 1910, 8567: 7455, 8568: 32914, 8569: 46231, 8570: 79798, 8571: 6596, 8572: 6927, 8573: 68269, 8574: 5613, 8575: 26958, 8576: 50796, 8577: 65193, 8578: 74677, 8579: 80834, 8580: 82088, 8581: 84847, 8582: 89678, 8583: 90809, 8584: 91266, 8585: 91337, 8586: 93134, 8587: 93988, 8588: 94799, 8589: 95193, 8590: 110781, 8591: 117133, 8592: 126142, 8593: 129229, 8594: 130073, 8595: 136838, 8596: 136840, 8597: 34148, 8598: 6145, 8599: 1335, 8600: 1978, 8601: 2878, 8602: 3294, 8603: 4202, 8604: 5041, 8605: 5189, 8606: 5704, 8607: 5797, 8608: 6746, 8609: 6821, 8610: 7477, 8611: 7730, 8612: 7891, 8613: 8894, 8614: 26198, 8615: 31150, 8616: 38583, 8617: 40478, 8618: 62586, 8619: 124484, 8620: 135216, 8621: 136958, 8622: 141994, 8623: 158830, 8624: 159510, 8625: 160571, 8626: 167538, 8627: 168358, 8628: 180263, 8629: 184931, 8630: 184987, 8631: 185033, 8632: 185473, 8633: 186587, 8634: 187031, 8635: 188797, 8636: 4646, 8637: 8772, 8638: 26761, 8639: 83270, 8640: 88267, 8641: 91414, 8642: 93740, 8643: 96471, 8644: 96518, 8645: 96520, 8646: 97194, 8647: 107780, 8648: 121099, 8649: 144352, 8650: 160422, 8651: 162590, 8652: 7266, 8653: 32469, 8654: 27006, 8655: 27369, 8656: 66544, 8657: 79006, 8658: 120130, 8659: 8264, 8660: 91869, 8661: 96150, 8662: 98122, 8663: 106889, 8664: 120807, 8665: 127164, 8666: 134248, 8667: 146682, 8668: 148667, 8669: 159849, 8670: 163653, 8671: 164540, 8672: 39516, 8673: 135198, 8674: 176413, 8675: 176415, 8676: 2742, 8677: 3673, 8678: 3674, 8679: 4445, 8680: 5560, 8681: 4284, 8682: 125914, 8683: 27251, 8684: 36289, 8685: 51024, 8686: 53138, 8687: 53140, 8688: 58297, 8689: 64695, 8690: 69805, 8691: 73804, 8692: 76743, 8693: 83480, 8694: 85179, 8695: 85261, 8696: 91353, 8697: 112580, 8698: 116529, 8699: 116668, 8700: 116724, 8701: 128542, 8702: 134775, 8703: 135885, 8704: 144734, 8705: 150993, 8706: 164367, 8707: 2573, 8708: 55946, 8709: 121129, 8710: 2107, 8711: 626, 8712: 1986, 8713: 1990, 8714: 3626, 8715: 3939, 8716: 3940, 8717: 3941, 8718: 3942, 8719: 3958, 8720: 1477, 8721: 168712, 8722: 142056, 8723: 167296, 8724: 1825, 8725: 5059, 8726: 5513, 8727: 7457, 8728: 43684, 8729: 61257, 8730: 2820, 8731: 633, 8732: 790, 8733: 1336, 8734: 1397, 8735: 1985, 8736: 2256, 8737: 2451, 8738: 2597, 8739: 2862, 8740: 3442, 8741: 3574, 8742: 3577, 8743: 3660, 8744: 3661, 8745: 3663, 8746: 3664, 8747: 3678, 8748: 3691, 8749: 5839, 8750: 5840, 8751: 6119, 8752: 26308, 8753: 31123, 8754: 37495, 8755: 38095, 8756: 48045, 8757: 54617, 8758: 59026, 8759: 68886, 8760: 73681, 8761: 81383, 8762: 96945, 8763: 105246, 8764: 109313, 8765: 111384, 8766: 130498, 8767: 142558, 8768: 148238, 8769: 148881, 8770: 154975, 8771: 6800, 8772: 105468, 8773: 168174, 8774: 4135, 8775: 26357, 8776: 27140, 8777: 27667, 8778: 73211, 8779: 99191, 8780: 100306, 8781: 43930, 8782: 44225, 8783: 47516, 8784: 61071, 8785: 62718, 8786: 70932, 8787: 72919, 8788: 74688, 8789: 77414, 8790: 78264, 8791: 80858, 8792: 82152, 8793: 90524, 8794: 94325, 8795: 95199, 8796: 96975, 8797: 100527, 8798: 115667, 8799: 128832, 8800: 139747, 8801: 50942, 8802: 5028, 8803: 8189, 8804: 8335, 8805: 8477, 8806: 25782, 8807: 26717, 8808: 26743, 8809: 40491, 8810: 51573, 8811: 57502, 8812: 70015, 8813: 71438, 8814: 81681, 8815: 82684, 8816: 92234, 8817: 92681, 8818: 99917, 8819: 101070, 8820: 102088, 8821: 102800, 8822: 104337, 8823: 104944, 8824: 109897, 8825: 110603, 8826: 113705, 8827: 114396, 8828: 114554, 8829: 114627, 8830: 117877, 8831: 122246, 8832: 132335, 8833: 134246, 8834: 135288, 8835: 136602, 8836: 141668, 8837: 142507, 8838: 150254, 8839: 151687, 8840: 152063, 8841: 152071, 8842: 153070, 8843: 166526, 8844: 166705, 8845: 170945, 8846: 176419, 8847: 179491, 8848: 179749, 8849: 179815, 8850: 1331, 8851: 1623, 8852: 1980, 8853: 2655, 8854: 2740, 8855: 2982, 8856: 3021, 8857: 3073, 8858: 430, 8859: 2538, 8860: 2623, 8861: 2629, 8862: 2415, 8863: 3143, 8864: 6751, 8865: 7395, 8866: 56389, 8867: 75446, 8868: 2965, 8869: 5767, 8870: 5828, 8871: 6342, 8872: 6583, 8873: 6692, 8874: 7349, 8875: 8092, 8876: 8236, 8877: 8427, 8878: 8494, 8879: 8800, 8880: 8844, 8881: 26819, 8882: 27373, 8883: 136556, 8884: 2738, 8885: 3403, 8886: 3414, 8887: 3449, 8888: 4710, 8889: 284, 8890: 1652, 8891: 2175, 8892: 2196, 8893: 2589, 8894: 3353, 8895: 4200, 8896: 4374, 8897: 4715, 8898: 4794, 8899: 4827, 8900: 5105, 8901: 5657, 8902: 6140, 8903: 6417, 8904: 6665, 8905: 6723, 8906: 6967, 8907: 6994, 8908: 7023, 8909: 7031, 8910: 7032, 8911: 7114, 8912: 7345, 8913: 7742, 8914: 7782, 8915: 8035, 8916: 8118, 8917: 8727, 8918: 2774, 8919: 3094, 8920: 4342, 8921: 6769, 8922: 7260, 8923: 7615, 8924: 27246, 8925: 32799, 8926: 33649, 8927: 43744, 8928: 55844, 8929: 59549, 8930: 59667, 8931: 68835, 8932: 69495, 8933: 70637, 8934: 92954, 8935: 111800, 8936: 111913, 8937: 113280, 8938: 120919, 8939: 128908, 8940: 129397, 8941: 132454, 8942: 133645, 8943: 151557, 8944: 163639, 8945: 168026, 8946: 171917, 8947: 176051, 8948: 178615, 8949: 182793, 8950: 183635, 8951: 184997, 8952: 615, 8953: 1112, 8954: 4424, 8955: 113829, 8956: 114265, 8957: 124851, 8958: 478, 8959: 806, 8960: 1114, 8961: 1426, 8962: 1794, 8963: 2281, 8964: 2292, 8965: 2339, 8966: 2586, 8967: 2698, 8968: 3379, 8969: 3571, 8970: 3669, 8971: 3700, 8972: 3709, 8973: 3962, 8974: 4197, 8975: 4240, 8976: 4394, 8977: 4490, 8978: 4504, 8979: 4511, 8980: 4568, 8981: 4574, 8982: 4593, 8983: 4594, 8984: 4597, 8985: 4603, 8986: 4670, 8987: 5053, 8988: 5054, 8989: 5096, 8990: 5111, 8991: 5136, 8992: 5198, 8993: 5221, 8994: 5268, 8995: 5442, 8996: 5591, 8997: 5596, 8998: 5597, 8999: 5689, 9000: 5768, 9001: 5961, 9002: 6204, 9003: 6267, 9004: 6310, 9005: 6506, 9006: 6557, 9007: 6587, 9008: 6691, 9009: 6722, 9010: 6734, 9011: 6804, 9012: 6860, 9013: 6882, 9014: 6998, 9015: 7005, 9016: 7041, 9017: 7047, 9018: 7108, 9019: 7125, 9020: 7191, 9021: 7307, 9022: 7443, 9023: 7657, 9024: 7704, 9025: 7707, 9026: 7986, 9027: 7988, 9028: 8043, 9029: 8045, 9030: 8380, 9031: 8425, 9032: 8500, 9033: 8720, 9034: 8755, 9035: 8905, 9036: 8934, 9037: 9004, 9038: 26142, 9039: 26159, 9040: 26176, 9041: 26195, 9042: 26283, 9043: 26285, 9044: 26344, 9045: 26365, 9046: 26413, 9047: 26453, 9048: 26467, 9049: 26510, 9050: 26539, 9051: 26542, 9052: 26547, 9053: 26562, 9054: 26567, 9055: 26590, 9056: 26593, 9057: 26612, 9058: 26622, 9059: 26630, 9060: 26676, 9061: 26696, 9062: 26701, 9063: 26726, 9064: 26741, 9065: 26745, 9066: 26782, 9067: 26797, 9068: 26828, 9069: 26854, 9070: 26861, 9071: 26913, 9072: 26940, 9073: 26947, 9074: 27002, 9075: 27008, 9076: 27032, 9077: 27074, 9078: 27105, 9079: 27124, 9080: 27155, 9081: 27306, 9082: 27420, 9083: 27441, 9084: 27549, 9085: 27595, 9086: 27722, 9087: 27762, 9088: 27769, 9089: 27784, 9090: 27829, 9091: 31367, 9092: 31553, 9093: 31664, 9094: 31921, 9095: 32058, 9096: 32440, 9097: 32442, 9098: 32515, 9099: 33126, 9100: 33294, 9101: 33435, 9102: 33629, 9103: 33801, 9104: 33966, 9105: 34292, 9106: 34800, 9107: 34811, 9108: 36850, 9109: 39801, 9110: 40578, 9111: 41627, 9112: 42559, 9113: 42638, 9114: 42943, 9115: 42946, 9116: 43419, 9117: 43677, 9118: 43908, 9119: 44238, 9120: 44241, 9121: 44243, 9122: 44849, 9123: 45183, 9124: 45648, 9125: 45969, 9126: 46367, 9127: 46574, 9128: 47721, 9129: 47793, 9130: 49110, 9131: 51545, 9132: 53022, 9133: 53143, 9134: 53161, 9135: 53450, 9136: 54274, 9137: 54908, 9138: 55036, 9139: 55061, 9140: 55205, 9141: 55207, 9142: 56022, 9143: 57499, 9144: 58306, 9145: 59016, 9146: 59336, 9147: 59947, 9148: 60365, 9149: 60803, 9150: 61073, 9151: 62662, 9152: 62970, 9153: 66915, 9154: 67193, 9155: 68552, 9156: 68650, 9157: 69131, 9158: 69227, 9159: 70703, 9160: 71327, 9161: 71484, 9162: 71550, 9163: 71810, 9164: 72479, 9165: 73569, 9166: 73808, 9167: 74095, 9168: 74696, 9169: 75416, 9170: 75947, 9171: 76030, 9172: 77201, 9173: 77709, 9174: 78959, 9175: 79895, 9176: 80083, 9177: 81791, 9178: 82534, 9179: 83086, 9180: 83796, 9181: 84523, 9182: 85438, 9183: 86286, 9184: 86355, 9185: 86864, 9186: 86898, 9187: 87197, 9188: 87960, 9189: 88593, 9190: 88697, 9191: 89085, 9192: 89862, 9193: 90243, 9194: 90428, 9195: 90945, 9196: 91571, 9197: 91981, 9198: 92309, 9199: 92674, 9200: 93208, 9201: 93502, 9202: 94122, 9203: 95145, 9204: 95163, 9205: 95165, 9206: 95499, 9207: 95519, 9208: 95717, 9209: 95771, 9210: 95780, 9211: 95839, 9212: 95965, 9213: 97230, 9214: 97950, 9215: 98499, 9216: 98503, 9217: 98623, 9218: 98697, 9219: 98799, 9220: 99638, 9221: 101074, 9222: 101423, 9223: 102590, 9224: 102735, 9225: 102749, 9226: 102852, 9227: 103027, 9228: 103245, 9229: 103366, 9230: 103609, 9231: 104017, 9232: 104837, 9233: 105020, 9234: 105720, 9235: 107999, 9236: 108090, 9237: 108192, 9238: 110541, 9239: 111785, 9240: 112326, 9241: 113849, 9242: 114126, 9243: 115819, 9244: 116044, 9245: 116169, 9246: 116941, 9247: 116963, 9248: 117630, 9249: 118290, 9250: 119218, 9251: 119828, 9252: 120827, 9253: 121035, 9254: 122260, 9255: 122433, 9256: 122627, 9257: 123310, 9258: 128197, 9259: 128736, 9260: 129779, 9261: 131578, 9262: 132362, 9263: 135787, 9264: 136012, 9265: 136297, 9266: 137218, 9267: 137345, 9268: 137859, 9269: 138702, 9270: 139130, 9271: 139859, 9272: 140852, 9273: 144522, 9274: 145724, 9275: 145745, 9276: 151479, 9277: 151781, 9278: 153236, 9279: 156675, 9280: 157865, 9281: 158388, 9282: 158874, 9283: 159061, 9284: 159403, 9285: 160978, 9286: 161032, 9287: 161044, 9288: 163809, 9289: 165529, 9290: 167706, 9291: 168608, 9292: 169670, 9293: 169904, 9294: 169958, 9295: 170297, 9296: 170551, 9297: 171695, 9298: 172229, 9299: 172233, 9300: 172253, 9301: 173873, 9302: 174727, 9303: 178129, 9304: 179053, 9305: 181315, 9306: 183301, 9307: 2800, 9308: 25905, 9309: 25923, 9310: 25947, 9311: 46664, 9312: 59131, 9313: 141846, 9314: 77, 9315: 108, 9316: 149, 9317: 184, 9318: 301, 9319: 320, 9320: 495, 9321: 506, 9322: 526, 9323: 602, 9324: 645, 9325: 649, 9326: 803, 9327: 1053, 9328: 1119, 9329: 1310, 9330: 1349, 9331: 1475, 9332: 1514, 9333: 1549, 9334: 1585, 9335: 1612, 9336: 1613, 9337: 1759, 9338: 2008, 9339: 2104, 9340: 2283, 9341: 2304, 9342: 2417, 9343: 2435, 9344: 2512, 9345: 2544, 9346: 2577, 9347: 2609, 9348: 2620, 9349: 2725, 9350: 2727, 9351: 2813, 9352: 2865, 9353: 2885, 9354: 2892, 9355: 2972, 9356: 3002, 9357: 3183, 9358: 3303, 9359: 3344, 9360: 3374, 9361: 3459, 9362: 3514, 9363: 3531, 9364: 3586, 9365: 3637, 9366: 3655, 9367: 3792, 9368: 4420, 9369: 4428, 9370: 4436, 9371: 4690, 9372: 4695, 9373: 4705, 9374: 4766, 9375: 4786, 9376: 4810, 9377: 117, 9378: 220, 9379: 285, 9380: 311, 9381: 636, 9382: 1654, 9383: 27036, 9384: 35347, 9385: 47384, 9386: 54686, 9387: 65359, 9388: 66240, 9389: 71160, 9390: 72165, 9391: 72982, 9392: 202, 9393: 263, 9394: 563, 9395: 573, 9396: 579, 9397: 583, 9398: 632, 9399: 961, 9400: 1117, 9401: 1156, 9402: 1493, 9403: 1857, 9404: 2156, 9405: 2207, 9406: 2388, 9407: 2481, 9408: 2503, 9409: 2897, 9410: 3010, 9411: 3289, 9412: 3295, 9413: 3640, 9414: 3808, 9415: 3920, 9416: 4357, 9417: 4395, 9418: 4615, 9419: 4653, 9420: 4671, 9421: 4689, 9422: 4828, 9423: 4840, 9424: 4883, 9425: 5269, 9426: 5372, 9427: 5503, 9428: 5550, 9429: 5614, 9430: 5720, 9431: 5733, 9432: 5741, 9433: 5742, 9434: 5849, 9435: 5856, 9436: 5922, 9437: 5929, 9438: 5975, 9439: 5990, 9440: 6070, 9441: 6107, 9442: 6111, 9443: 6182, 9444: 6202, 9445: 6237, 9446: 6415, 9447: 6449, 9448: 6516, 9449: 6553, 9450: 6573, 9451: 6578, 9452: 6644, 9453: 6671, 9454: 6782, 9455: 6789, 9456: 6803, 9457: 6961, 9458: 6973, 9459: 7037, 9460: 7109, 9461: 7131, 9462: 7292, 9463: 7344, 9464: 7487, 9465: 7916, 9466: 8391, 9467: 8454, 9468: 8456, 9469: 8601, 9470: 8685, 9471: 8713, 9472: 8933, 9473: 8964, 9474: 25805, 9475: 25833, 9476: 25946, 9477: 26038, 9478: 26394, 9479: 26527, 9480: 26599, 9481: 26777, 9482: 26796, 9483: 26875, 9484: 26985, 9485: 27178, 9486: 27255, 9487: 27627, 9488: 27644, 9489: 27744, 9490: 30890, 9491: 30994, 9492: 31309, 9493: 31973, 9494: 32234, 9495: 32600, 9496: 32620, 9497: 32649, 9498: 32728, 9499: 32862, 9500: 33237, 9501: 33310, 9502: 41014, 9503: 44189, 9504: 44301, 9505: 47202, 9506: 47538, 9507: 47774, 9508: 48032, 9509: 48214, 9510: 50354, 9511: 50356, 9512: 51314, 9513: 55805, 9514: 56333, 9515: 58783, 9516: 68480, 9517: 68872, 9518: 69224, 9519: 72603, 9520: 241, 9521: 2737, 9522: 5901, 9523: 7377, 9524: 8667, 9525: 32302, 9526: 51903, 9527: 137, 9528: 1054, 9529: 3945, 9530: 4497, 9531: 5275, 9532: 5953, 9533: 6009, 9534: 6095, 9535: 7202, 9536: 7562, 9537: 7984, 9538: 8840, 9539: 26169, 9540: 26391, 9541: 26399, 9542: 26401, 9543: 26498, 9544: 26603, 9545: 27426, 9546: 27480, 9547: 27491, 9548: 27746, 9549: 27778, 9550: 27905, 9551: 31086, 9552: 34450, 9553: 36931, 9554: 41712, 9555: 43289, 9556: 44597, 9557: 47937, 9558: 48150, 9559: 51666, 9560: 52831, 9561: 54910, 9562: 55067, 9563: 55492, 9564: 56620, 9565: 57421, 9566: 57637, 9567: 58826, 9568: 58964, 9569: 58975, 9570: 59915, 9571: 60303, 9572: 60471, 9573: 61262, 9574: 61319, 9575: 61692, 9576: 61818, 9577: 63179, 9578: 63768, 9579: 63826, 9580: 64010, 9581: 66310, 9582: 67168, 9583: 70206, 9584: 70208, 9585: 71341, 9586: 71910, 9587: 72142, 9588: 72424, 9589: 73676, 9590: 73741, 9591: 73876, 9592: 74370, 9593: 75389, 9594: 76091, 9595: 77893, 9596: 77931, 9597: 78626, 9598: 79501, 9599: 79868, 9600: 80094, 9601: 80162, 9602: 81520, 9603: 82366, 9604: 82641, 9605: 82765, 9606: 88327, 9607: 89072, 9608: 89281, 9609: 89837, 9610: 91233, 9611: 93193, 9612: 93598, 9613: 93819, 9614: 94867, 9615: 96832, 9616: 97188, 9617: 97285, 9618: 97701, 9619: 97988, 9620: 98061, 9621: 98633, 9622: 99030, 9623: 99721, 9624: 100159, 9625: 100397, 9626: 100579, 9627: 100906, 9628: 102066, 9629: 102070, 9630: 102338, 9631: 102760, 9632: 102802, 9633: 103085, 9634: 103219, 9635: 103483, 9636: 103685, 9637: 105801, 9638: 107436, 9639: 107447, 9640: 107462, 9641: 107771, 9642: 110281, 9643: 110286, 9644: 110591, 9645: 110746, 9646: 111551, 9647: 112727, 9648: 113159, 9649: 113313, 9650: 113565, 9651: 113780, 9652: 113862, 9653: 114044, 9654: 114670, 9655: 114707, 9656: 115727, 9657: 117867, 9658: 118082, 9659: 128838, 9660: 129313, 9661: 130050, 9662: 130052, 9663: 130840, 9664: 133832, 9665: 135534, 9666: 135803, 9667: 135815, 9668: 138610, 9669: 138632, 9670: 139511, 9671: 139655, 9672: 140267, 9673: 141400, 9674: 141799, 9675: 142366, 9676: 142598, 9677: 145951, 9678: 146309, 9679: 147657, 9680: 147662, 9681: 148166, 9682: 149011, 9683: 152372, 9684: 158721, 9685: 160341, 9686: 160527, 9687: 160836, 9688: 163937, 9689: 163981}\n"
          ]
        }
      ],
      "source": [
        "# Mengubah placeID menjadi list tanpa nilai yang sama\n",
        "movies_ids = clean_ratings_encode['movieId'].unique().tolist()\n",
        "print('list moviesID: ', movies_ids)\n",
        "\n",
        "# Melakukan proses encoding placeID\n",
        "movies_to_movies_encoded = {x: i for i, x in enumerate(movies_ids)}\n",
        "print('encoded moviesID : ', movies_to_movies_encoded)\n",
        "\n",
        "# Melakukan proses encoding angka ke placeID\n",
        "movies_encoded_to_movies = {i: x for i, x in enumerate(movies_ids)}\n",
        "print('encoded angka ke moviesID: ', movies_encoded_to_movies)"
      ]
    },
    {
      "cell_type": "code",
      "execution_count": null,
      "metadata": {
        "colab": {
          "base_uri": "https://localhost:8080/",
          "height": 206
        },
        "id": "9sB31r5FhJmY",
        "outputId": "db7accde-0509-4d4a-cc5c-cf6fe04ae77a"
      },
      "outputs": [
        {
          "data": {
            "text/html": [
              "<div>\n",
              "<style scoped>\n",
              "    .dataframe tbody tr th:only-of-type {\n",
              "        vertical-align: middle;\n",
              "    }\n",
              "\n",
              "    .dataframe tbody tr th {\n",
              "        vertical-align: top;\n",
              "    }\n",
              "\n",
              "    .dataframe thead th {\n",
              "        text-align: right;\n",
              "    }\n",
              "</style>\n",
              "<table border=\"1\" class=\"dataframe\">\n",
              "  <thead>\n",
              "    <tr style=\"text-align: right;\">\n",
              "      <th></th>\n",
              "      <th>userId</th>\n",
              "      <th>movieId</th>\n",
              "      <th>rating</th>\n",
              "      <th>user</th>\n",
              "      <th>movies</th>\n",
              "    </tr>\n",
              "  </thead>\n",
              "  <tbody>\n",
              "    <tr>\n",
              "      <th>0</th>\n",
              "      <td>1</td>\n",
              "      <td>1</td>\n",
              "      <td>4.0</td>\n",
              "      <td>0</td>\n",
              "      <td>0</td>\n",
              "    </tr>\n",
              "    <tr>\n",
              "      <th>1</th>\n",
              "      <td>1</td>\n",
              "      <td>3</td>\n",
              "      <td>4.0</td>\n",
              "      <td>0</td>\n",
              "      <td>1</td>\n",
              "    </tr>\n",
              "    <tr>\n",
              "      <th>2</th>\n",
              "      <td>1</td>\n",
              "      <td>6</td>\n",
              "      <td>4.0</td>\n",
              "      <td>0</td>\n",
              "      <td>2</td>\n",
              "    </tr>\n",
              "    <tr>\n",
              "      <th>3</th>\n",
              "      <td>1</td>\n",
              "      <td>47</td>\n",
              "      <td>5.0</td>\n",
              "      <td>0</td>\n",
              "      <td>3</td>\n",
              "    </tr>\n",
              "    <tr>\n",
              "      <th>4</th>\n",
              "      <td>1</td>\n",
              "      <td>50</td>\n",
              "      <td>5.0</td>\n",
              "      <td>0</td>\n",
              "      <td>4</td>\n",
              "    </tr>\n",
              "  </tbody>\n",
              "</table>\n",
              "</div>"
            ],
            "text/plain": [
              "   userId  movieId  rating  user  movies\n",
              "0       1        1     4.0     0       0\n",
              "1       1        3     4.0     0       1\n",
              "2       1        6     4.0     0       2\n",
              "3       1       47     5.0     0       3\n",
              "4       1       50     5.0     0       4"
            ]
          },
          "execution_count": 27,
          "metadata": {},
          "output_type": "execute_result"
        }
      ],
      "source": [
        "# Mapping userID ke dataframe user\n",
        "clean_ratings_encode['user'] = clean_ratings_encode['userId'].map(user_to_user_encoded)\n",
        "\n",
        "# Mapping placeID ke dataframe resto\n",
        "clean_ratings_encode['movies'] = clean_ratings_encode['movieId'].map(movies_to_movies_encoded)\n",
        "clean_ratings_encode.head()"
      ]
    },
    {
      "cell_type": "code",
      "execution_count": null,
      "metadata": {
        "colab": {
          "base_uri": "https://localhost:8080/"
        },
        "id": "bJTK6CSuhJmY",
        "outputId": "f398fe1e-4b77-422d-bcee-317527501be4"
      },
      "outputs": [
        {
          "name": "stdout",
          "output_type": "stream",
          "text": [
            "610\n",
            "9690\n",
            "Number of User: 610, Number of movies: 9690, Min Rating: 0.5, Max Rating: 5.0\n"
          ]
        }
      ],
      "source": [
        "# Mendapatkan jumlah user\n",
        "jumlah_users = len(user_to_user_encoded)\n",
        "print(jumlah_users)\n",
        "\n",
        "# Mendapatkan jumlah resto\n",
        "jumlah_movies = len(movies_encoded_to_movies)\n",
        "print(jumlah_movies)\n",
        "\n",
        "# Mengubah rating menjadi nilai float\n",
        "clean_ratings_encode['rating'] = clean_ratings_encode['rating'].values.astype(np.float32)\n",
        "\n",
        "# Nilai minimum rating\n",
        "min_rating = min(clean_ratings_encode['rating'])\n",
        "\n",
        "# Nilai maksimal rating\n",
        "max_rating = max(clean_ratings_encode['rating'])\n",
        "\n",
        "print('Number of User: {}, Number of movies: {}, Min Rating: {}, Max Rating: {}'.format(\n",
        "    jumlah_users, jumlah_movies, min_rating, max_rating\n",
        "))"
      ]
    },
    {
      "cell_type": "markdown",
      "metadata": {
        "id": "prVFFicqhJmZ"
      },
      "source": [
        "## Data Splitting"
      ]
    },
    {
      "cell_type": "markdown",
      "metadata": {
        "id": "mgN2cWGzhJma"
      },
      "source": [
        "Mengacak data ratings terlebih dahulu agar distribusinya menjadi random"
      ]
    },
    {
      "cell_type": "code",
      "execution_count": null,
      "metadata": {
        "colab": {
          "base_uri": "https://localhost:8080/",
          "height": 423
        },
        "id": "0krV2z2AhJma",
        "outputId": "2174e089-cda2-4220-fd9f-28f0bdd31975"
      },
      "outputs": [
        {
          "data": {
            "text/html": [
              "<div>\n",
              "<style scoped>\n",
              "    .dataframe tbody tr th:only-of-type {\n",
              "        vertical-align: middle;\n",
              "    }\n",
              "\n",
              "    .dataframe tbody tr th {\n",
              "        vertical-align: top;\n",
              "    }\n",
              "\n",
              "    .dataframe thead th {\n",
              "        text-align: right;\n",
              "    }\n",
              "</style>\n",
              "<table border=\"1\" class=\"dataframe\">\n",
              "  <thead>\n",
              "    <tr style=\"text-align: right;\">\n",
              "      <th></th>\n",
              "      <th>userId</th>\n",
              "      <th>movieId</th>\n",
              "      <th>rating</th>\n",
              "      <th>user</th>\n",
              "      <th>movies</th>\n",
              "    </tr>\n",
              "  </thead>\n",
              "  <tbody>\n",
              "    <tr>\n",
              "      <th>980</th>\n",
              "      <td>7</td>\n",
              "      <td>8665</td>\n",
              "      <td>3.5</td>\n",
              "      <td>6</td>\n",
              "      <td>783</td>\n",
              "    </tr>\n",
              "    <tr>\n",
              "      <th>64486</th>\n",
              "      <td>414</td>\n",
              "      <td>42728</td>\n",
              "      <td>3.5</td>\n",
              "      <td>413</td>\n",
              "      <td>5917</td>\n",
              "    </tr>\n",
              "    <tr>\n",
              "      <th>80543</th>\n",
              "      <td>509</td>\n",
              "      <td>6377</td>\n",
              "      <td>3.5</td>\n",
              "      <td>508</td>\n",
              "      <td>875</td>\n",
              "    </tr>\n",
              "    <tr>\n",
              "      <th>50593</th>\n",
              "      <td>326</td>\n",
              "      <td>85342</td>\n",
              "      <td>4.5</td>\n",
              "      <td>325</td>\n",
              "      <td>5844</td>\n",
              "    </tr>\n",
              "    <tr>\n",
              "      <th>64557</th>\n",
              "      <td>414</td>\n",
              "      <td>48304</td>\n",
              "      <td>4.0</td>\n",
              "      <td>413</td>\n",
              "      <td>1049</td>\n",
              "    </tr>\n",
              "    <tr>\n",
              "      <th>...</th>\n",
              "      <td>...</td>\n",
              "      <td>...</td>\n",
              "      <td>...</td>\n",
              "      <td>...</td>\n",
              "      <td>...</td>\n",
              "    </tr>\n",
              "    <tr>\n",
              "      <th>7665</th>\n",
              "      <td>51</td>\n",
              "      <td>3814</td>\n",
              "      <td>5.0</td>\n",
              "      <td>50</td>\n",
              "      <td>2930</td>\n",
              "    </tr>\n",
              "    <tr>\n",
              "      <th>100551</th>\n",
              "      <td>610</td>\n",
              "      <td>93819</td>\n",
              "      <td>3.5</td>\n",
              "      <td>609</td>\n",
              "      <td>9613</td>\n",
              "    </tr>\n",
              "    <tr>\n",
              "      <th>22510</th>\n",
              "      <td>153</td>\n",
              "      <td>8464</td>\n",
              "      <td>1.0</td>\n",
              "      <td>152</td>\n",
              "      <td>2046</td>\n",
              "    </tr>\n",
              "    <tr>\n",
              "      <th>80475</th>\n",
              "      <td>509</td>\n",
              "      <td>3034</td>\n",
              "      <td>3.0</td>\n",
              "      <td>508</td>\n",
              "      <td>199</td>\n",
              "    </tr>\n",
              "    <tr>\n",
              "      <th>61377</th>\n",
              "      <td>404</td>\n",
              "      <td>272</td>\n",
              "      <td>3.0</td>\n",
              "      <td>403</td>\n",
              "      <td>2069</td>\n",
              "    </tr>\n",
              "  </tbody>\n",
              "</table>\n",
              "<p>10079 rows × 5 columns</p>\n",
              "</div>"
            ],
            "text/plain": [
              "        userId  movieId  rating  user  movies\n",
              "980          7     8665     3.5     6     783\n",
              "64486      414    42728     3.5   413    5917\n",
              "80543      509     6377     3.5   508     875\n",
              "50593      326    85342     4.5   325    5844\n",
              "64557      414    48304     4.0   413    1049\n",
              "...        ...      ...     ...   ...     ...\n",
              "7665        51     3814     5.0    50    2930\n",
              "100551     610    93819     3.5   609    9613\n",
              "22510      153     8464     1.0   152    2046\n",
              "80475      509     3034     3.0   508     199\n",
              "61377      404      272     3.0   403    2069\n",
              "\n",
              "[10079 rows x 5 columns]"
            ]
          },
          "execution_count": 29,
          "metadata": {},
          "output_type": "execute_result"
        }
      ],
      "source": [
        "clean_ratings_random = clean_ratings_encode.sample(frac=0.1, random_state=42)\n",
        "clean_ratings_random"
      ]
    },
    {
      "cell_type": "markdown",
      "metadata": {
        "id": "vwiUj0m4hJmb"
      },
      "source": [
        "Membagi data menjadi variabel X dan y dan menerapkan normalisasi untuk data rating"
      ]
    },
    {
      "cell_type": "code",
      "execution_count": null,
      "metadata": {
        "id": "vH3EAC77hJmc"
      },
      "outputs": [],
      "source": [
        "X = clean_ratings_random[['user', 'movies']].values\n",
        "\n",
        "y = clean_ratings_random['rating'].apply(lambda x: (x - min_rating) / (max_rating - min_rating)).values"
      ]
    },
    {
      "cell_type": "code",
      "execution_count": null,
      "metadata": {
        "colab": {
          "base_uri": "https://localhost:8080/"
        },
        "id": "hB122TSihJmc",
        "outputId": "952ba140-7f7d-48c1-bf5c-fde8caff67b9"
      },
      "outputs": [
        {
          "name": "stdout",
          "output_type": "stream",
          "text": [
            "[[   6  783]\n",
            " [ 413 5917]\n",
            " [ 508  875]\n",
            " ...\n",
            " [ 152 2046]\n",
            " [ 508  199]\n",
            " [ 403 2069]] [0.66666667 0.66666667 0.66666667 ... 0.11111111 0.55555556 0.55555556]\n"
          ]
        }
      ],
      "source": [
        "train_indices = int(0.8 * clean_ratings_random.shape[0])\n",
        "x_train, x_val, y_train, y_val = (\n",
        "    X[:train_indices],\n",
        "    X[train_indices:],\n",
        "    y[:train_indices],\n",
        "    y[train_indices:]\n",
        ")\n",
        "\n",
        "print(X, y)"
      ]
    },
    {
      "cell_type": "code",
      "execution_count": null,
      "metadata": {
        "id": "dOCldU6shJmd"
      },
      "outputs": [],
      "source": []
    },
    {
      "cell_type": "markdown",
      "metadata": {
        "id": "A401sn4hhJmd"
      },
      "source": [
        "# Modelling"
      ]
    },
    {
      "cell_type": "markdown",
      "metadata": {
        "id": "lWny9DVghJme"
      },
      "source": [
        "## Content-Based Filtering Model"
      ]
    },
    {
      "cell_type": "markdown",
      "metadata": {
        "id": "--SmD2mTBOJ-"
      },
      "source": [
        "Membuat fungsi pembuatan sistem rekomendasi berbasis CBF"
      ]
    },
    {
      "cell_type": "code",
      "execution_count": null,
      "metadata": {
        "id": "ZAE5EP0UhJme"
      },
      "outputs": [],
      "source": [
        "def movies_recommendations(nama_movies, similarity_data=genre_cosin_df, items=clean_movies[['title', 'genres']], k=5):\n",
        "    \"\"\"\n",
        "    Rekomendasi movies berdasarkan kemiripan dataframe\n",
        "\n",
        "    Parameter:\n",
        "    ---\n",
        "    nama_movies : tipe data string (str)\n",
        "                Nama movies (index kemiripan dataframe)\n",
        "    similarity_data : tipe data pd.DataFrame (object)\n",
        "                      Kesamaan dataframe, simetrik, dengan movies sebagai\n",
        "                      indeks dan kolom\n",
        "    items : tipe data pd.DataFrame (object)\n",
        "            Mengandung kedua nama dan fitur lainnya yang digunakan untuk mendefinisikan kemiripan\n",
        "    k : tipe data integer (int)\n",
        "        Banyaknya jumlah rekomendasi yang diberikan\n",
        "    ---\n",
        "\n",
        "\n",
        "    Pada index ini, kita mengambil k dengan nilai similarity terbesar\n",
        "    pada index matrix yang diberikan (i).\n",
        "    \"\"\"\n",
        "\n",
        "\n",
        "    # Mengambil data dengan menggunakan argpartition untuk melakukan partisi secara tidak langsung sepanjang sumbu yang diberikan\n",
        "    # Dataframe diubah menjadi numpy\n",
        "    # Range(start, stop, step)\n",
        "    index = similarity_data.loc[:,nama_movies].to_numpy().argpartition(\n",
        "        range(-1, -k, -1))\n",
        "\n",
        "    # Mengambil data dengan similarity terbesar dari index yang ada\n",
        "    closest = similarity_data.columns[index[-1:-(k+2):-1]]\n",
        "\n",
        "    # Drop nama_movies agar nama movies yang dicari tidak muncul dalam daftar rekomendasi\n",
        "    closest = closest.drop(nama_movies, errors='ignore')\n",
        "\n",
        "    return pd.DataFrame(closest).merge(items).head(k)"
      ]
    },
    {
      "cell_type": "markdown",
      "metadata": {
        "id": "9XS0wd45BOJ_"
      },
      "source": [
        "Memeriksa data yang akan digunakan untuk menguji sistem rekomendasi"
      ]
    },
    {
      "cell_type": "code",
      "execution_count": null,
      "metadata": {
        "colab": {
          "base_uri": "https://localhost:8080/",
          "height": 81
        },
        "id": "x_493qUrhJme",
        "outputId": "6ef58bb6-a450-4af5-b833-f01834d00f10"
      },
      "outputs": [
        {
          "data": {
            "text/html": [
              "<div>\n",
              "<style scoped>\n",
              "    .dataframe tbody tr th:only-of-type {\n",
              "        vertical-align: middle;\n",
              "    }\n",
              "\n",
              "    .dataframe tbody tr th {\n",
              "        vertical-align: top;\n",
              "    }\n",
              "\n",
              "    .dataframe thead th {\n",
              "        text-align: right;\n",
              "    }\n",
              "</style>\n",
              "<table border=\"1\" class=\"dataframe\">\n",
              "  <thead>\n",
              "    <tr style=\"text-align: right;\">\n",
              "      <th></th>\n",
              "      <th>movieId</th>\n",
              "      <th>title</th>\n",
              "      <th>genres</th>\n",
              "    </tr>\n",
              "  </thead>\n",
              "  <tbody>\n",
              "    <tr>\n",
              "      <th>0</th>\n",
              "      <td>1</td>\n",
              "      <td>Toy Story (1995)</td>\n",
              "      <td>Adventure</td>\n",
              "    </tr>\n",
              "  </tbody>\n",
              "</table>\n",
              "</div>"
            ],
            "text/plain": [
              "   movieId             title     genres\n",
              "0        1  Toy Story (1995)  Adventure"
            ]
          },
          "execution_count": 33,
          "metadata": {},
          "output_type": "execute_result"
        }
      ],
      "source": [
        "clean_movies[clean_movies['title'] == 'Toy Story (1995)']"
      ]
    },
    {
      "cell_type": "markdown",
      "metadata": {
        "id": "3iAPJ2osBOJ_"
      },
      "source": [
        "Menguji dan menjalankan sistem rekomendasi"
      ]
    },
    {
      "cell_type": "code",
      "execution_count": null,
      "metadata": {
        "colab": {
          "base_uri": "https://localhost:8080/",
          "height": 206
        },
        "id": "ENyZcOAchJme",
        "outputId": "1d3c23bd-95ac-43e5-f2bf-4dac69adee37"
      },
      "outputs": [
        {
          "data": {
            "text/html": [
              "<div>\n",
              "<style scoped>\n",
              "    .dataframe tbody tr th:only-of-type {\n",
              "        vertical-align: middle;\n",
              "    }\n",
              "\n",
              "    .dataframe tbody tr th {\n",
              "        vertical-align: top;\n",
              "    }\n",
              "\n",
              "    .dataframe thead th {\n",
              "        text-align: right;\n",
              "    }\n",
              "</style>\n",
              "<table border=\"1\" class=\"dataframe\">\n",
              "  <thead>\n",
              "    <tr style=\"text-align: right;\">\n",
              "      <th></th>\n",
              "      <th>title</th>\n",
              "      <th>genres</th>\n",
              "    </tr>\n",
              "  </thead>\n",
              "  <tbody>\n",
              "    <tr>\n",
              "      <th>0</th>\n",
              "      <td>Touching the Void (2003)</td>\n",
              "      <td>Adventure</td>\n",
              "    </tr>\n",
              "    <tr>\n",
              "      <th>1</th>\n",
              "      <td>Over the Hedge (2006)</td>\n",
              "      <td>Adventure</td>\n",
              "    </tr>\n",
              "    <tr>\n",
              "      <th>2</th>\n",
              "      <td>RV (2006)</td>\n",
              "      <td>Adventure</td>\n",
              "    </tr>\n",
              "    <tr>\n",
              "      <th>3</th>\n",
              "      <td>Shaggy Dog, The (2006)</td>\n",
              "      <td>Adventure</td>\n",
              "    </tr>\n",
              "    <tr>\n",
              "      <th>4</th>\n",
              "      <td>Pink Panther, The (2006)</td>\n",
              "      <td>Adventure</td>\n",
              "    </tr>\n",
              "  </tbody>\n",
              "</table>\n",
              "</div>"
            ],
            "text/plain": [
              "                      title     genres\n",
              "0  Touching the Void (2003)  Adventure\n",
              "1     Over the Hedge (2006)  Adventure\n",
              "2                 RV (2006)  Adventure\n",
              "3    Shaggy Dog, The (2006)  Adventure\n",
              "4  Pink Panther, The (2006)  Adventure"
            ]
          },
          "execution_count": 34,
          "metadata": {},
          "output_type": "execute_result"
        }
      ],
      "source": [
        "movies_recommendations('Toy Story (1995)')"
      ]
    },
    {
      "cell_type": "markdown",
      "metadata": {
        "id": "ugv6M_4gBOKA"
      },
      "source": [
        "Perhitungan performa model sistem rekomendasi CBF:\n",
        "\n",
        "$$\n",
        "\\text{Precision@5} = \\frac{\\text{Jumlah film relevan}}{\\text{Jumlah film yang direkomendasikan}} = \\frac{5}{5} = 1\n",
        "$$"
      ]
    },
    {
      "cell_type": "markdown",
      "metadata": {
        "id": "Z7WLV7bXhJme"
      },
      "source": [
        "## Collaborative Filtering Model"
      ]
    },
    {
      "cell_type": "markdown",
      "metadata": {
        "id": "agUrPvpNBOKA"
      },
      "source": [
        "### Inisiasi Arsitektur Model RecommenderNet"
      ]
    },
    {
      "cell_type": "code",
      "execution_count": null,
      "metadata": {
        "id": "sz7DPC7KhJme"
      },
      "outputs": [],
      "source": [
        "class RecommenderNet(tf.keras.Model):\n",
        "\n",
        "  # Insialisasi fungsi\n",
        "  def __init__(self, num_users, num_movies, embedding_size, **kwargs):\n",
        "    super(RecommenderNet, self).__init__(**kwargs)\n",
        "    self.num_users = num_users\n",
        "    self.num_movies = num_movies\n",
        "    self.embedding_size = embedding_size\n",
        "    self.user_embedding = layers.Embedding( # layer embedding user\n",
        "        num_users,\n",
        "        embedding_size,\n",
        "        embeddings_initializer = 'he_normal',\n",
        "        embeddings_regularizer = keras.regularizers.l2(1e-6)\n",
        "    )\n",
        "    self.user_bias = layers.Embedding(num_users, 1) # layer embedding user bias\n",
        "    self.movies_embedding = layers.Embedding( # layer embeddings movies\n",
        "        num_movies,\n",
        "        embedding_size,\n",
        "        embeddings_initializer = 'he_normal',\n",
        "        embeddings_regularizer = keras.regularizers.l2(1e-6)\n",
        "    )\n",
        "    self.movies_bias = layers.Embedding(num_movies, 1) # layer embedding movies bias\n",
        "\n",
        "  def call(self, inputs):\n",
        "    user_vector = self.user_embedding(inputs[:,0]) # memanggil layer embedding 1\n",
        "    user_bias = self.user_bias(inputs[:, 0]) # memanggil layer embedding 2\n",
        "    movies_vector = self.movies_embedding(inputs[:, 1]) # memanggil layer embedding 3\n",
        "    movies_bias = self.movies_bias(inputs[:, 1]) # memanggil layer embedding 4\n",
        "\n",
        "    dot_user_movies = tf.tensordot(user_vector, movies_vector, 2)\n",
        "\n",
        "    x = dot_user_movies + user_bias + movies_bias\n",
        "\n",
        "    return tf.nn.sigmoid(x) # activation sigmoid"
      ]
    },
    {
      "cell_type": "markdown",
      "metadata": {
        "id": "DH7SuSHGBOKB"
      },
      "source": [
        "### Inisiasi Model"
      ]
    },
    {
      "cell_type": "code",
      "execution_count": null,
      "metadata": {
        "id": "y1phlET0hJmf"
      },
      "outputs": [],
      "source": [
        "model = RecommenderNet(jumlah_users, jumlah_movies, 50) # inisialisasi model\n",
        "\n",
        "# model compile\n",
        "model.compile(\n",
        "    loss = tf.keras.losses.BinaryCrossentropy(),\n",
        "    optimizer = keras.optimizers.Adam(learning_rate=0.001),\n",
        "    metrics=[tf.keras.metrics.RootMeanSquaredError()]\n",
        ")"
      ]
    },
    {
      "cell_type": "markdown",
      "metadata": {
        "id": "nMJu0vw5BOKB"
      },
      "source": [
        "Proses Training Model"
      ]
    },
    {
      "cell_type": "code",
      "execution_count": null,
      "metadata": {
        "colab": {
          "base_uri": "https://localhost:8080/"
        },
        "id": "Mio4hzU0hJmf",
        "outputId": "9daa295c-70c5-4b4b-a33e-331b7d91a3e4"
      },
      "outputs": [
        {
          "name": "stdout",
          "output_type": "stream",
          "text": [
            "Epoch 1/30\n",
            "1008/1008 [==============================] - 12s 10ms/step - loss: 0.6807 - root_mean_squared_error: 0.2751 - val_loss: 0.6656 - val_root_mean_squared_error: 0.2599\n",
            "Epoch 2/30\n",
            "1008/1008 [==============================] - 10s 10ms/step - loss: 0.6273 - root_mean_squared_error: 0.2231 - val_loss: 0.6473 - val_root_mean_squared_error: 0.2420\n",
            "Epoch 3/30\n",
            "1008/1008 [==============================] - 9s 9ms/step - loss: 0.6160 - root_mean_squared_error: 0.2118 - val_loss: 0.6480 - val_root_mean_squared_error: 0.2427\n",
            "Epoch 4/30\n",
            "1008/1008 [==============================] - 9s 9ms/step - loss: 0.6088 - root_mean_squared_error: 0.2040 - val_loss: 0.6429 - val_root_mean_squared_error: 0.2377\n",
            "Epoch 5/30\n",
            "1008/1008 [==============================] - 9s 9ms/step - loss: 0.6032 - root_mean_squared_error: 0.1980 - val_loss: 0.6409 - val_root_mean_squared_error: 0.2357\n",
            "Epoch 6/30\n",
            "1008/1008 [==============================] - 11s 11ms/step - loss: 0.5979 - root_mean_squared_error: 0.1922 - val_loss: 0.6370 - val_root_mean_squared_error: 0.2319\n",
            "Epoch 7/30\n",
            "1008/1008 [==============================] - 11s 11ms/step - loss: 0.5941 - root_mean_squared_error: 0.1877 - val_loss: 0.6370 - val_root_mean_squared_error: 0.2321\n",
            "Epoch 8/30\n",
            "1008/1008 [==============================] - 9s 9ms/step - loss: 0.5899 - root_mean_squared_error: 0.1829 - val_loss: 0.6340 - val_root_mean_squared_error: 0.2292\n",
            "Epoch 9/30\n",
            "1008/1008 [==============================] - 9s 9ms/step - loss: 0.5872 - root_mean_squared_error: 0.1799 - val_loss: 0.6333 - val_root_mean_squared_error: 0.2286\n",
            "Epoch 10/30\n",
            "1008/1008 [==============================] - 18s 17ms/step - loss: 0.5845 - root_mean_squared_error: 0.1767 - val_loss: 0.6325 - val_root_mean_squared_error: 0.2279\n",
            "Epoch 11/30\n",
            "1008/1008 [==============================] - 19s 19ms/step - loss: 0.5820 - root_mean_squared_error: 0.1737 - val_loss: 0.6315 - val_root_mean_squared_error: 0.2270\n",
            "Epoch 12/30\n",
            "1008/1008 [==============================] - 19s 19ms/step - loss: 0.5800 - root_mean_squared_error: 0.1713 - val_loss: 0.6318 - val_root_mean_squared_error: 0.2274\n",
            "Epoch 13/30\n",
            "1008/1008 [==============================] - 17s 17ms/step - loss: 0.5784 - root_mean_squared_error: 0.1691 - val_loss: 0.6319 - val_root_mean_squared_error: 0.2276\n",
            "Epoch 14/30\n",
            "1008/1008 [==============================] - 9s 9ms/step - loss: 0.5765 - root_mean_squared_error: 0.1671 - val_loss: 0.6315 - val_root_mean_squared_error: 0.2273\n",
            "Epoch 15/30\n",
            "1008/1008 [==============================] - 8s 8ms/step - loss: 0.5752 - root_mean_squared_error: 0.1654 - val_loss: 0.6301 - val_root_mean_squared_error: 0.2260\n",
            "Epoch 16/30\n",
            "1008/1008 [==============================] - 9s 9ms/step - loss: 0.5729 - root_mean_squared_error: 0.1625 - val_loss: 0.6299 - val_root_mean_squared_error: 0.2258\n",
            "Epoch 17/30\n",
            "1008/1008 [==============================] - 9s 9ms/step - loss: 0.5717 - root_mean_squared_error: 0.1608 - val_loss: 0.6299 - val_root_mean_squared_error: 0.2260\n",
            "Epoch 18/30\n",
            "1008/1008 [==============================] - 10s 10ms/step - loss: 0.5710 - root_mean_squared_error: 0.1599 - val_loss: 0.6299 - val_root_mean_squared_error: 0.2261\n",
            "Epoch 19/30\n",
            "1008/1008 [==============================] - 18s 18ms/step - loss: 0.5696 - root_mean_squared_error: 0.1583 - val_loss: 0.6301 - val_root_mean_squared_error: 0.2263\n",
            "Epoch 20/30\n",
            "1008/1008 [==============================] - 19s 19ms/step - loss: 0.5679 - root_mean_squared_error: 0.1562 - val_loss: 0.6302 - val_root_mean_squared_error: 0.2264\n",
            "Epoch 21/30\n",
            "1008/1008 [==============================] - 19s 19ms/step - loss: 0.5668 - root_mean_squared_error: 0.1545 - val_loss: 0.6301 - val_root_mean_squared_error: 0.2264\n",
            "Epoch 22/30\n",
            "1008/1008 [==============================] - 21s 21ms/step - loss: 0.5656 - root_mean_squared_error: 0.1532 - val_loss: 0.6305 - val_root_mean_squared_error: 0.2267\n",
            "Epoch 23/30\n",
            "1008/1008 [==============================] - 13s 13ms/step - loss: 0.5657 - root_mean_squared_error: 0.1529 - val_loss: 0.6297 - val_root_mean_squared_error: 0.2259\n",
            "Epoch 24/30\n",
            "1008/1008 [==============================] - 9s 9ms/step - loss: 0.5643 - root_mean_squared_error: 0.1514 - val_loss: 0.6306 - val_root_mean_squared_error: 0.2269\n",
            "Epoch 25/30\n",
            "1008/1008 [==============================] - 9s 9ms/step - loss: 0.5632 - root_mean_squared_error: 0.1500 - val_loss: 0.6294 - val_root_mean_squared_error: 0.2256\n",
            "Epoch 26/30\n",
            "1008/1008 [==============================] - 9s 9ms/step - loss: 0.5634 - root_mean_squared_error: 0.1503 - val_loss: 0.6303 - val_root_mean_squared_error: 0.2267\n",
            "Epoch 27/30\n",
            "1008/1008 [==============================] - 9s 9ms/step - loss: 0.5626 - root_mean_squared_error: 0.1490 - val_loss: 0.6299 - val_root_mean_squared_error: 0.2261\n",
            "Epoch 28/30\n",
            "1008/1008 [==============================] - 9s 9ms/step - loss: 0.5618 - root_mean_squared_error: 0.1481 - val_loss: 0.6304 - val_root_mean_squared_error: 0.2266\n",
            "Epoch 29/30\n",
            "1008/1008 [==============================] - 9s 9ms/step - loss: 0.5611 - root_mean_squared_error: 0.1469 - val_loss: 0.6315 - val_root_mean_squared_error: 0.2278\n",
            "Epoch 30/30\n",
            "1008/1008 [==============================] - 10s 10ms/step - loss: 0.5603 - root_mean_squared_error: 0.1461 - val_loss: 0.6305 - val_root_mean_squared_error: 0.2266\n"
          ]
        }
      ],
      "source": [
        "# Memulai training\n",
        "\n",
        "history = model.fit(\n",
        "    x = x_train,\n",
        "    y = y_train,\n",
        "    batch_size = 8,\n",
        "    epochs = 30,\n",
        "    validation_data = (x_val, y_val)\n",
        ")"
      ]
    },
    {
      "cell_type": "markdown",
      "metadata": {
        "id": "-aESj0mMBOKB"
      },
      "source": [
        "Menampilkan Learning Curve dari proses Training Model"
      ]
    },
    {
      "cell_type": "code",
      "execution_count": null,
      "metadata": {
        "id": "E_YWCBNjBOKC",
        "outputId": "9ae6cd82-a434-4684-9b07-da9e9e101421"
      },
      "outputs": [
        {
          "data": {
            "image/png": "[encoded data removed]",
            "text/plain": [
              "<Figure size 640x480 with 1 Axes>"
            ]
          },
          "metadata": {},
          "output_type": "display_data"
        }
      ],
      "source": [
        "plt.plot(history.history['root_mean_squared_error'])\n",
        "plt.plot(history.history['val_root_mean_squared_error'])\n",
        "plt.title('model_metrics')\n",
        "plt.ylabel('root_mean_squared_error')\n",
        "plt.xlabel('epoch')\n",
        "plt.legend(['train', 'test'], loc='upper left')\n",
        "plt.show()"
      ]
    },
    {
      "cell_type": "markdown",
      "metadata": {
        "id": "FkK-ThQhhJmg"
      },
      "source": [
        "### Pengujian Model"
      ]
    },
    {
      "cell_type": "markdown",
      "metadata": {
        "id": "5aq2yFmhBOKC"
      },
      "source": [
        "Melakukan inisiasi data film yang belum pernah dilihat atau dirating oleh pengguna"
      ]
    },
    {
      "cell_type": "code",
      "execution_count": null,
      "metadata": {
        "id": "yxffvbA0hJmg"
      },
      "outputs": [],
      "source": [
        "df = clean_ratings.copy()\n",
        "movies_df = clean_movies.copy()\n",
        "movies_df['genres'] = movies_df['genres'].str.split('|').str[0]\n",
        "user_id = df.userId.sample(1).iloc[0]\n",
        "movies_viewed_by_user = df[df.userId == user_id]\n",
        "\n",
        "# Operator bitwise (~), bisa diketahui di sini https://docs.python.org/3/reference/expressions.html\n",
        "movies_not_viewed = movies_df[~movies_df['movieId'].isin(movies_viewed_by_user.movieId.values)]['movieId']\n",
        "movies_not_viewed = list(\n",
        "    set(movies_not_viewed)\n",
        "    .intersection(set(movies_to_movies_encoded.keys()))\n",
        ")\n",
        "\n",
        "movies_not_viewed = [[movies_to_movies_encoded.get(x)] for x in movies_not_viewed]\n",
        "user_encoder = user_to_user_encoded.get(user_id)\n",
        "movies_array = np.hstack(\n",
        "    ([[user_encoder]] * len(movies_not_viewed), movies_not_viewed)\n",
        ")"
      ]
    },
    {
      "cell_type": "markdown",
      "metadata": {
        "id": "1vFitpHuBOKC"
      },
      "source": [
        "Membuat fungsi untuk menjalankan model sistem rekomendasi"
      ]
    },
    {
      "cell_type": "code",
      "execution_count": null,
      "metadata": {
        "id": "lcgQK0GyBOKD"
      },
      "outputs": [],
      "source": [
        "def run_recommendation_system(user_id, top_user_rated=5, n_recommendations=10):\n",
        "    user_encoder = user_to_user_encoded.get(user_id)\n",
        "    if user_encoder is None:\n",
        "        print(f\"User ID {user_id} tidak ditemukan.\")\n",
        "        return\n",
        "\n",
        "    # Membuat array input untuk prediksi\n",
        "    movies_array = np.hstack(\n",
        "        ([[user_encoder]] * len(movies_not_viewed), movies_not_viewed)\n",
        "    )\n",
        "    n_recommendations = n_recommendations + 3\n",
        "    # Prediksi rating untuk film yang belum ditonton\n",
        "    ratings = model.predict(movies_array).flatten()\n",
        "\n",
        "    # Ambil indeks top-N rekomendasi tertinggi\n",
        "    top_ratings_indices = ratings.argsort()[-n_recommendations:][::-1]\n",
        "    recommended_movies_ids = [\n",
        "        movies_not_viewed[x][0] for x in top_ratings_indices\n",
        "    ]\n",
        "\n",
        "    print('Showing recommendations for user:', user_id)\n",
        "    print('===' * 13)\n",
        "    print('Movies with high ratings from user')\n",
        "    print('----' * 8)\n",
        "\n",
        "    # Ambil top-N film yang diberi rating tinggi oleh user\n",
        "    top_movies_user = (\n",
        "        movies_viewed_by_user\n",
        "        .sort_values(by='rating', ascending=False)\n",
        "        .head(top_user_rated)\n",
        "        .movieId.values\n",
        "    )\n",
        "\n",
        "    movies_df_rows = movies_df[movies_df['movieId'].isin(top_movies_user)]\n",
        "    for row in movies_df_rows.itertuples():\n",
        "        print(row.title, ':', row.genres)\n",
        "\n",
        "    print('----' * 8)\n",
        "    print(f'Top {n_recommendations-3} movie recommendations')\n",
        "    print('----' * 8)\n",
        "\n",
        "    recommended_movies = movies_df[movies_df['movieId'].isin(recommended_movies_ids)]\n",
        "    for row in recommended_movies.itertuples():\n",
        "        print(row.title, ':', row.genres)\n"
      ]
    },
    {
      "cell_type": "markdown",
      "metadata": {
        "id": "8yrxtClvBOKD"
      },
      "source": [
        "Menjalankan model sistem rekomendasi"
      ]
    },
    {
      "cell_type": "code",
      "execution_count": null,
      "metadata": {
        "id": "2ALTsaogBOKD",
        "outputId": "94c57a80-63b7-4d3c-ba51-bae7e1875925"
      },
      "outputs": [
        {
          "name": "stdout",
          "output_type": "stream",
          "text": [
            "273/273 [==============================] - 0s 1ms/step\n",
            "Showing recommendations for user: 4\n",
            "=======================================\n",
            "Movies with high ratings from user\n",
            "--------------------------------\n",
            "Fargo (1996) : Comedy\n",
            "8 1/2 (8½) (1963) : Drama\n",
            "Peter's Friends (1992) : Comedy\n",
            "Catch-22 (1970) : Comedy\n",
            "Lost and Delirious (2001) : Drama\n",
            "--------------------------------\n",
            "Top 10 movie recommendations\n",
            "--------------------------------\n",
            "Baby-Sitters Club, The (1995) : Children\n",
            "'Til There Was You (1997) : Drama\n",
            "First Wives Club, The (1996) : Comedy\n",
            "Breakfast at Tiffany's (1961) : Drama\n",
            "Cat from Outer Space, The (1978) : Children\n",
            "Incredible Journey, The (1963) : Adventure\n",
            "Trip to Bountiful, The (1985) : Drama\n",
            "Weird Science (1985) : Comedy\n",
            "Bachelor, The (1999) : Comedy\n",
            "Stuart Little (1999) : Children\n"
          ]
        }
      ],
      "source": [
        "run_recommendation_system(4, top_user_rated=5, n_recommendations=10)"
      ]
    }
  ],
  "metadata": {
    "colab": {
      "provenance": [],
      "toc_visible": true
    },
    "kernelspec": {
      "display_name": "keras_venv",
      "language": "python",
      "name": "python3"
    },
    "language_info": {
      "codemirror_mode": {
        "name": "ipython",
        "version": 3
      },
      "file_extension": ".py",
      "mimetype": "text/x-python",
      "name": "python",
      "nbconvert_exporter": "python",
      "pygments_lexer": "ipython3",
      "version": "3.10.13"
    }
  },
  "nbformat": 4,
  "nbformat_minor": 0
}